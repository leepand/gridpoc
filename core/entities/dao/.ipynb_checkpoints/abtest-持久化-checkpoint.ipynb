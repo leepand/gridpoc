{
 "cells": [
  {
   "cell_type": "code",
   "execution_count": 23,
   "metadata": {},
   "outputs": [
    {
     "name": "stdout",
     "output_type": "stream",
     "text": [
      "Writing Arthur_Abtesting_dao.py\n"
     ]
    }
   ],
   "source": [
    "%%file Arthur_Abtesting_dao.py\n",
    "# -*- coding: utf-8 -*-\n",
    "\n",
    "# author: leepand\n",
    "# time: 2019-01-15\n",
    "# desc: AB Testing信息持久化\n",
    "\n",
    "'''\n",
    "# 用户操作\n",
    "DROP TABLE IF EXISTS `tb_user_abtesting`;\n",
    "CREATE TABLE `tb_user_abtesting` (\n",
    "`abid` int(10) NOT NULL AUTO_INCREMENT,\n",
    "`uid` int(10) NOT NULL,\n",
    "`abname` varchar(50) NOT NULL,\n",
    "PRIMARY KEY (`abid`),\n",
    "KEY `uid` (`uid`),\n",
    "CONSTRAINT `tb_abtesting_ibfk_1` FOREIGN KEY (`uid`) REFERENCES `tb_user` (`uid`)\n",
    ") ENGINE=InnoDB DEFAULT CHARSET=utf8;\n",
    "'''\n",
    "\n",
    "if __name__ == \"__main__\":\n",
    "    import sys\n",
    "\n",
    "    sys.path.append(\"..\")\n",
    "    sys.path.append(\"../base\")\n",
    "\n",
    "from hjs_cfg import *\n",
    "from bs_util import *\n",
    "from bs_database_pid import *\n",
    "class ArthurAbTestingDao:\n",
    "    @staticmethod\n",
    "    def insert_node(uId, abname):\n",
    "\n",
    "        dataBase = DataBase()\n",
    "        sql = \"insert into tb_user_abtesting(uid, abname) values(%s, %s)\"\n",
    "        param = (uId, abname)\n",
    "\n",
    "        bRet, sRet = dataBase.insert_data(sql, param)\n",
    "        return bRet, sRet\n",
    "    @staticmethod\n",
    "    def delete_node_user_ab(abid):\n",
    "        dataBase = DataBase()\n",
    "        sql = \"delete from tb_user_abtesting where abid = %s\"\n",
    "        param = (abid, )\n",
    "\n",
    "        bRet, sRet = dataBase.delete_data(sql, param)\n",
    "        if not bRet:\n",
    "            return False, sRet\n",
    "        \n",
    "        return True, sRet\n",
    "    @staticmethod\n",
    "    def query_node_ab_list_by_uid(uid):\n",
    "        dataBase = DataBase()\n",
    "        sql = \"select * from tb_user_abtesting where uid = %s\"\n",
    "        param = (uid, )\n",
    "\n",
    "        bRet, sRet = dataBase.query_data(sql, param)\n",
    "        if not bRet:\n",
    "            return False, sRet\n",
    "\n",
    "        return True, sRet\n",
    "    \n",
    "    @staticmethod\n",
    "    def query_node_ab_list():\n",
    "        dataBase = DataBase()\n",
    "        sql = \"select * from tb_user_abtesting\"\n",
    "\n",
    "        bRet, sRet = dataBase.query_data(sql, None)\n",
    "        if not bRet:\n",
    "            return False, sRet\n",
    "        \n",
    "        return True, sRet\n",
    "    @staticmethod\n",
    "    def query_node_by_abname(abName):\n",
    "        dataBase = DataBase()\n",
    "        sql = \"select * from tb_user_abtesting where abname = %s\"\n",
    "        param = (abName, )\n",
    "\n",
    "        bRet, sRet = dataBase.query_data(sql, param)\n",
    "        if not bRet:\n",
    "            return False, sRet\n",
    "        if len(sRet)>0:\n",
    "            return True, sRet[0]\n",
    "        else:\n",
    "            return True, {}\n",
    "    \n",
    "\n",
    "if __name__ == \"__main__\":\n",
    "    uId=1\n",
    "    abname='layerui2'\n",
    "    ArthurAbTestingDao.insert_node(uId,abname)\n",
    "    ArthurAbTestingDao.query_node_ab_list_by_uid(1)\n",
    "    print ArthurAbTestingDao.query_node_by_abname('layui')"
   ]
  },
  {
   "cell_type": "code",
   "execution_count": 22,
   "metadata": {},
   "outputs": [
    {
     "name": "stderr",
     "output_type": "stream",
     "text": [
      "[15/01/2019 11:33:50][DEBUG]../base/bs_database_pid.py::_exec_cmdstr(106): select * from tb_user_abtesting where uid = %s\t[2]\n",
      "[15/01/2019 11:33:50][DEBUG]../base/bs_database_pid.py::_new_conn(31): conn(host: 127.0.0.1, port: 3306, user: root, passwd: , db: Arthur_manage)\n",
      "[15/01/2019 11:33:51][DEBUG]../base/bs_database_pid.py::_exec_cmdstr(106): select * from tb_user_abtesting\tNone\n",
      "[15/01/2019 11:33:51][DEBUG]../base/bs_database_pid.py::_new_conn(31): conn(host: 127.0.0.1, port: 3306, user: root, passwd: , db: Arthur_manage)\n"
     ]
    },
    {
     "name": "stdout",
     "output_type": "stream",
     "text": [
      "(True, [])\n",
      "(True, [{'abname': 'layerui', 'uid': 1L, 'abid': 2L}, {'abname': 'layerui', 'uid': 1L, 'abid': 3L}, {'abname': 'layerui', 'uid': 1L, 'abid': 4L}, {'abname': 'layerui2', 'uid': 1L, 'abid': 5L}, {'abname': 'layerui2', 'uid': 1L, 'abid': 6L}, {'abname': 'layerui2', 'uid': 1L, 'abid': 7L}, {'abname': 'layerui2', 'uid': 1L, 'abid': 8L}, {'abname': 'layerui2', 'uid': 1L, 'abid': 9L}, {'abname': 'layerui2', 'uid': 1L, 'abid': 10L}])\n"
     ]
    }
   ],
   "source": [
    "print ArthurAbTestingDao.query_node_ab_list_by_uid(2)\n",
    "print ArthurAbTestingDao.query_node_ab_list()"
   ]
  },
  {
   "cell_type": "code",
   "execution_count": 18,
   "metadata": {},
   "outputs": [
    {
     "name": "stderr",
     "output_type": "stream",
     "text": [
      "[15/01/2019 11:30:43][DEBUG]../base/bs_database_pid.py::_exec_cmdstr(106): select * from tb_user_abtesting where abname = %s\t['layerui2']\n",
      "[15/01/2019 11:30:43][DEBUG]../base/bs_database_pid.py::_new_conn(31): conn(host: 127.0.0.1, port: 3306, user: root, passwd: , db: Arthur_manage)\n"
     ]
    },
    {
     "name": "stdout",
     "output_type": "stream",
     "text": [
      "(True, {'abname': 'layerui2', 'uid': 1L, 'abid': 5L})\n"
     ]
    }
   ],
   "source": [
    "print ArthurAbTestingDao.query_node_by_abname('layerui2')"
   ]
  },
  {
   "cell_type": "code",
   "execution_count": 25,
   "metadata": {},
   "outputs": [
    {
     "data": {
      "text/plain": [
       "1"
      ]
     },
     "execution_count": 25,
     "metadata": {},
     "output_type": "execute_result"
    }
   ],
   "source": [
    "len({'1':1})"
   ]
  },
  {
   "cell_type": "code",
   "execution_count": 27,
   "metadata": {},
   "outputs": [
    {
     "name": "stderr",
     "output_type": "stream",
     "text": [
      "[15/01/2019 15:47:53][DEBUG]../base/bs_database_pid.py::_exec_cmdstr(106): select * from tb_user_abtesting where uid = %s\t[1]\n",
      "[15/01/2019 15:47:53][DEBUG]../base/bs_database_pid.py::_new_conn(31): conn(host: 127.0.0.1, port: 3306, user: root, passwd: , db: Arthur_manage)\n"
     ]
    }
   ],
   "source": [
    "x,y= ArthurAbTestingDao.query_node_ab_list_by_uid(1)"
   ]
  },
  {
   "cell_type": "code",
   "execution_count": 28,
   "metadata": {},
   "outputs": [
    {
     "name": "stdout",
     "output_type": "stream",
     "text": [
      "{'abname': 'layerui', 'uid': 1L, 'abid': 2L}\n",
      "{'abname': 'layerui', 'uid': 1L, 'abid': 3L}\n",
      "{'abname': 'layerui', 'uid': 1L, 'abid': 4L}\n",
      "{'abname': 'layerui2', 'uid': 1L, 'abid': 5L}\n",
      "{'abname': 'layerui2', 'uid': 1L, 'abid': 6L}\n",
      "{'abname': 'layerui2', 'uid': 1L, 'abid': 7L}\n",
      "{'abname': 'layerui2', 'uid': 1L, 'abid': 8L}\n",
      "{'abname': 'layerui2', 'uid': 1L, 'abid': 9L}\n",
      "{'abname': 'layerui2', 'uid': 1L, 'abid': 10L}\n"
     ]
    }
   ],
   "source": [
    "for j in y:\n",
    "    print j"
   ]
  },
  {
   "cell_type": "code",
   "execution_count": null,
   "metadata": {},
   "outputs": [],
   "source": [
    "4*8 5*7 6*18\n",
    "3*2 2*9\n",
    "1*19 \n",
    "0*10\n"
   ]
  },
  {
   "cell_type": "code",
   "execution_count": 41,
   "metadata": {},
   "outputs": [],
   "source": [
    "def deep(x0,x1,x2,x3,x4,x5,x6):\n",
    "    z=(1*x1+2*x2+3*x3+4*x4+5*x5+6*x6)/(x0+x1+x2+x3+x4+x5+x6)\n",
    "    return round(z,2)"
   ]
  },
  {
   "cell_type": "code",
   "execution_count": 43,
   "metadata": {},
   "outputs": [],
   "source": [
    "de1=deep(10,19,9,2,8,7,18)"
   ]
  },
  {
   "cell_type": "code",
   "execution_count": 44,
   "metadata": {},
   "outputs": [],
   "source": [
    "de2=deep(100,10,17,20,2,3,8)"
   ]
  },
  {
   "cell_type": "code",
   "execution_count": null,
   "metadata": {},
   "outputs": [],
   "source": [
    "4*2 5*3 6*8\n",
    "3*20 2*17\n",
    "1*10 \n",
    "0*100"
   ]
  },
  {
   "cell_type": "code",
   "execution_count": 45,
   "metadata": {},
   "outputs": [
    {
     "data": {
      "text/plain": [
       "-1.0"
      ]
     },
     "execution_count": 45,
     "metadata": {},
     "output_type": "execute_result"
    }
   ],
   "source": [
    "de2-de1"
   ]
  },
  {
   "cell_type": "code",
   "execution_count": 38,
   "metadata": {},
   "outputs": [
    {
     "data": {
      "text/plain": [
       "2"
      ]
     },
     "execution_count": 38,
     "metadata": {},
     "output_type": "execute_result"
    }
   ],
   "source": [
    "de1"
   ]
  },
  {
   "cell_type": "code",
   "execution_count": null,
   "metadata": {},
   "outputs": [],
   "source": [
    "4*2 5*3 6*8\n",
    "3*20 2*17\n",
    "1*10 \n",
    "0*1000"
   ]
  },
  {
   "cell_type": "code",
   "execution_count": 65,
   "metadata": {},
   "outputs": [
    {
     "data": {
      "text/plain": [
       "1.0"
      ]
     },
     "execution_count": 65,
     "metadata": {},
     "output_type": "execute_result"
    }
   ],
   "source": [
    "deep(2,100000,199999,20,20,300,8011)"
   ]
  },
  {
   "cell_type": "code",
   "execution_count": 47,
   "metadata": {},
   "outputs": [
    {
     "data": {
      "text/plain": [
       "0.0"
      ]
     },
     "execution_count": 47,
     "metadata": {},
     "output_type": "execute_result"
    }
   ],
   "source": [
    "de3"
   ]
  },
  {
   "cell_type": "code",
   "execution_count": 66,
   "metadata": {},
   "outputs": [
    {
     "data": {
      "text/plain": [
       "179076"
      ]
     },
     "execution_count": 66,
     "metadata": {},
     "output_type": "execute_result"
    }
   ],
   "source": [
    "import random\n",
    "random.randint(1,200054)"
   ]
  },
  {
   "cell_type": "code",
   "execution_count": 67,
   "metadata": {},
   "outputs": [
    {
     "ename": "NameError",
     "evalue": "name 'x2' is not defined",
     "output_type": "error",
     "traceback": [
      "\u001b[0;31m----------------------------------------------------------------\u001b[0m",
      "\u001b[0;31mNameError\u001b[0m                      Traceback (most recent call last)",
      "\u001b[0;32m<ipython-input-67-0d243ee7e62e>\u001b[0m in \u001b[0;36m<module>\u001b[0;34m()\u001b[0m\n\u001b[1;32m      6\u001b[0m     \u001b[0mx5\u001b[0m\u001b[0;34m=\u001b[0m\u001b[0mrandom\u001b[0m\u001b[0;34m.\u001b[0m\u001b[0mrandint\u001b[0m\u001b[0;34m(\u001b[0m\u001b[0;36m1\u001b[0m\u001b[0;34m,\u001b[0m\u001b[0;36m200054\u001b[0m\u001b[0;34m)\u001b[0m\u001b[0;34m\u001b[0m\u001b[0m\n\u001b[1;32m      7\u001b[0m     \u001b[0mx6\u001b[0m\u001b[0;34m=\u001b[0m\u001b[0mrandom\u001b[0m\u001b[0;34m.\u001b[0m\u001b[0mrandint\u001b[0m\u001b[0;34m(\u001b[0m\u001b[0;36m1\u001b[0m\u001b[0;34m,\u001b[0m\u001b[0;36m200054\u001b[0m\u001b[0;34m)\u001b[0m\u001b[0;34m\u001b[0m\u001b[0m\n\u001b[0;32m----> 8\u001b[0;31m     \u001b[0;32mprint\u001b[0m \u001b[0;34m(\u001b[0m\u001b[0mx0\u001b[0m\u001b[0;34m,\u001b[0m\u001b[0mx1\u001b[0m\u001b[0;34m,\u001b[0m\u001b[0mx2\u001b[0m\u001b[0;34m,\u001b[0m\u001b[0mx3\u001b[0m\u001b[0;34m,\u001b[0m\u001b[0mx4\u001b[0m\u001b[0;34m,\u001b[0m\u001b[0mx5\u001b[0m\u001b[0;34m,\u001b[0m\u001b[0mx6\u001b[0m\u001b[0;34m)\u001b[0m\u001b[0;34m\u001b[0m\u001b[0m\n\u001b[0m",
      "\u001b[0;31mNameError\u001b[0m: name 'x2' is not defined"
     ]
    }
   ],
   "source": [
    "for i in range(100):\n",
    "    x0=random.randint(1,200054)\n",
    "    x1=random.randint(1,200054)\n",
    "    x2=random.randint(1,200054)\n",
    "    x3=random.randint(1,200054)\n",
    "    x4=random.randint(1,200054)\n",
    "    x5=random.randint(1,200054)\n",
    "    x6=random.randint(1,200054)\n",
    "    print (x0,x1,x2,x3,x4,x5,x6)"
   ]
  },
  {
   "cell_type": "code",
   "execution_count": null,
   "metadata": {},
   "outputs": [],
   "source": []
  }
 ],
 "metadata": {
  "kernelspec": {
   "display_name": "Python 2",
   "language": "python",
   "name": "python2"
  },
  "language_info": {
   "codemirror_mode": {
    "name": "ipython",
    "version": 2
   },
   "file_extension": ".py",
   "mimetype": "text/x-python",
   "name": "python",
   "nbconvert_exporter": "python",
   "pygments_lexer": "ipython2",
   "version": "2.7.13"
  }
 },
 "nbformat": 4,
 "nbformat_minor": 2
}
