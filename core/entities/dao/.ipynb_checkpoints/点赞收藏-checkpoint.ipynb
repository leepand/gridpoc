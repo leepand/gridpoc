{
 "cells": [
  {
   "cell_type": "code",
   "execution_count": 43,
   "metadata": {},
   "outputs": [
    {
     "name": "stdout",
     "output_type": "stream",
     "text": [
      "Overwriting Arthur_AlgoStar_dao.py\n"
     ]
    }
   ],
   "source": [
    "%%file Arthur_AlgoStar_dao.py\n",
    "# -*- coding: utf-8 -*-\n",
    "# author: leepand\n",
    "# time: 2019-01-09\n",
    "# desc: 点赞、收藏等信息持久化\n",
    "\n",
    "\n",
    "'''\n",
    "#点赞、收藏等信息持久化\n",
    "DROP TABLE IF EXISTS `tb_algo_star_thumb`;\n",
    "CREATE TABLE `tb_algo_star_thumb` (\n",
    "`sid` int(10) NOT NULL AUTO_INCREMENT,\n",
    "`algouid` int(10) NOT NULL,\n",
    "`uid` int(10) NOT NULL,\n",
    "`algoname` varchar(50) NOT NULL,\n",
    "`star_cnt` int(30) DEFAULT 1,\n",
    "`thumb_cnt` int(30) DEFAULT 1,\n",
    "`star_status` enum('star','nostar') DEFAULT 'nostar',\n",
    "`thumb_status` enum('thumb','nothumb') DEFAULT 'nothumb',\n",
    "`insert_tm` datetime NOT NULL,\n",
    "PRIMARY KEY (`sid`),\n",
    "KEY `uid` (`uid`),\n",
    "CONSTRAINT `tb_star_ibfk_1` FOREIGN KEY (`uid`) REFERENCES `tb_user` (`uid`)\n",
    ") ENGINE=InnoDB DEFAULT CHARSET=utf8;\n",
    "'''\n",
    "\n",
    "\n",
    "\n",
    "if __name__ == \"__main__\":\n",
    "    import sys\n",
    "    sys.path.append(\"..\")\n",
    "    sys.path.append(\"../base\")\n",
    "\n",
    "from hjs_cfg import *\n",
    "from bs_util import *\n",
    "from bs_database_pid import *\n",
    "from bs_time import *\n",
    "\n",
    "class ArthurAlgoStarDao:\n",
    "\n",
    "    @staticmethod\n",
    "    def insert_node(algouid, uid,algoname,star_status,thumb_status):\n",
    "\n",
    "        dataBase = DataBase()\n",
    "        sql = \"insert into tb_algo_star_thumb(algouid, uid,algoname,star_status,thumb_status,insert_tm) \" \\\n",
    "              \"values(%s, %s, %s, %s, %s, %s)\"\n",
    "        param = (algouid, uid,algoname,star_status,thumb_status, get_cur_time())\n",
    "\n",
    "        bRet, sRet = dataBase.insert_data(sql, param)\n",
    "        return bRet, sRet\n",
    "\n",
    "\n",
    "    @staticmethod\n",
    "    def update_node_status(algouid, uid,algoname,star_status,thumb_status):\n",
    "        dataBase = DataBase()\n",
    "        updatetime=get_cur_day(0, format=\"%Y-%m-%d %H:%M:%S\")\n",
    "        _bRet,status_cnt_list = ArthurAlgoStarDao.query_status_cnt_by_algo(algouid,algoname)\n",
    "        star_cnt_old = status_cnt_list[0]['star_cnt_algo']\n",
    "        thumb_cnt_old = status_cnt_list[0]['thumb_cnt_algo']\n",
    "        if thumb_status=='nothumb':\n",
    "            thumb_cnt_new=thumb_cnt_old-1\n",
    "        elif thumb_status=='thumb':\n",
    "            thumb_cnt_new=thumb_cnt_old+1\n",
    "        else:\n",
    "            thumb_cnt_new=thumb_cnt_old\n",
    "\n",
    "        if star_status=='nostar':\n",
    "            star_cnt_new=star_cnt_old-1\n",
    "        elif star_status=='star':\n",
    "            star_cnt_new=star_cnt_old+1\n",
    "        else:\n",
    "            star_cnt_new=star_cnt_old\n",
    "        sql = \"update tb_algo_star_thumb set star_cnt = %s ,thumb_cnt = %s,star_status = %s, thumb_status = %s, insert_tm = %s\" \\\n",
    "              \" where algouid = %s and uid = %s and algoname = %s\"\n",
    "        param = (star_cnt_new,thumb_cnt_new,star_status,thumb_status,updatetime,algouid,uid,algoname)\n",
    "        bRet, sRet = dataBase.update_data(sql, param)\n",
    "        if not bRet:\n",
    "            return False, sRet\n",
    "\n",
    "        return True, sRet\n",
    "    @staticmethod\n",
    "    def query_status_cnt_by_algo(algouid,algoname):\n",
    "        dataBase = DataBase()\n",
    "        sql = \"select sum(star_cnt) as star_cnt_algo,sum(thumb_cnt) as thumb_cnt_algo from tb_algo_star_thumb where algouid =%s and algoname =%s\"\n",
    "        param = [algouid,algoname]\n",
    "        param = tuple(param)\n",
    "        bRet, sRet = dataBase.query_data(sql, param)\n",
    "        if not bRet:\n",
    "            return False, sRet\n",
    "\n",
    "        return True, sRet\n",
    "\n",
    "    @staticmethod\n",
    "    def query_node_by_uid_algo_algouid(uid,algouid, algoname):\n",
    "        dataBase = DataBase()\n",
    "        sql = \"select * from tb_algo_star_thumb where uid=%s and algouid = %s and algoname = %s\"\n",
    "        param = [uid,algouid, algoname]\n",
    "\n",
    "        param = tuple(param)\n",
    "        bRet, sRet = dataBase.query_data(sql, param)\n",
    "        if not bRet:\n",
    "            return False, sRet\n",
    "\n",
    "        return True, sRet\n",
    "\n",
    "\n",
    "    @staticmethod\n",
    "    def query_node_list(offset, limit, status, search):\n",
    "        dataBase = DataBase()\n",
    "        sql = \"select * from tb_algo where 1=1 \"\n",
    "        param = []\n",
    "        if status and status != 'all':\n",
    "            sql += \"and status = %s \"\n",
    "            param.append(status)\n",
    "        if search:\n",
    "            search = \"%%%s%%\" % (search)\n",
    "            sql += \"and (uid like %s or algoname like %s)\"\n",
    "            param.append(search)\n",
    "            param.append(search)\n",
    "\n",
    "        sql += \"order by aid desc limit %s, %s\"\n",
    "        param.append(offset)\n",
    "        param.append(limit)\n",
    "\n",
    "        param = tuple(param)\n",
    "        bRet, sRet = dataBase.query_data(sql, param)\n",
    "        if not bRet:\n",
    "            return False, sRet\n",
    "\n",
    "        return True, sRet\n",
    "\n",
    "\n",
    "    @staticmethod\n",
    "    def query_node_count(status=None, search=None):\n",
    "        dataBase = DataBase()\n",
    "        sql = \"select count(*) as cnt from tb_algo where 1=1 \"\n",
    "        param = []\n",
    "\n",
    "        if status and status != 'all':\n",
    "            sql += \"and status = %s\"\n",
    "            param.append(status)\n",
    "        if search:\n",
    "            search = \"%%%s%%\" % (search)\n",
    "            sql += \"and (uid like %s or algoname like %s)\"\n",
    "            param.append(search)\n",
    "            param.append(search)\n",
    "\n",
    "        param = tuple(param)\n",
    "        bRet, sRet = dataBase.query_data(sql, param)\n",
    "        if not bRet:\n",
    "            return False, sRet\n",
    "        if len(sRet) !=1:\n",
    "            return True, 0\n",
    "\n",
    "        return True, sRet[0]['cnt']\n",
    "    #用户的服务list查询\n",
    "    @staticmethod\n",
    "    def query_node_list_by_uid(uId,offset, limit, status, search):\n",
    "        dataBase = DataBase()\n",
    "        sql = \"select * from tb_algo where uid=%s \"\n",
    "        param = [uId]\n",
    "        if status and status != 'all':\n",
    "            sql += \"and status = %s \"\n",
    "            param.append(status)\n",
    "        if search:\n",
    "            search = \"%%%s%%\" % (search)\n",
    "            sql += \"and (uid like %s or algoname like %s)\"\n",
    "            param.append(search)\n",
    "            param.append(search)\n",
    "\n",
    "        sql += \"order by aid desc limit %s, %s\"\n",
    "        param.append(offset)\n",
    "        param.append(limit)\n",
    "\n",
    "        param = tuple(param)\n",
    "        bRet, sRet = dataBase.query_data(sql, param)\n",
    "        if not bRet:\n",
    "            return False, sRet\n",
    "\n",
    "        return True, sRet\n",
    "    #用户的服务list查询\n",
    "    @staticmethod\n",
    "    def query_node_count_by_uid(uId,status=None, search=None):\n",
    "        dataBase = DataBase()\n",
    "        sql = \"select count(*) as cnt from tb_algo where uid=%s \"\n",
    "        param = [uId]\n",
    "\n",
    "        if status and status != 'all':\n",
    "            sql += \"and status = %s\"\n",
    "            param.append(status)\n",
    "        if search:\n",
    "            search = \"%%%s%%\" % (search)\n",
    "            sql += \"and (uid like %s or algoname like %s)\"\n",
    "            param.append(search)\n",
    "            param.append(search)\n",
    "\n",
    "        param = tuple(param)\n",
    "        bRet, sRet = dataBase.query_data(sql, param)\n",
    "        if not bRet:\n",
    "            return False, sRet\n",
    "        if len(sRet) !=1:\n",
    "            return True, 0\n",
    "\n",
    "        return True, sRet[0]['cnt']\n",
    "    #aid的服务list查询,服务于发布\n",
    "    @staticmethod\n",
    "    def query_node_by_aid(aId):\n",
    "        dataBase = DataBase()\n",
    "        sql = \"select * from tb_algo where aid = %s\"\n",
    "        param = (aId, )\n",
    "\n",
    "        bRet, sRet = dataBase.query_data(sql, param)\n",
    "        if (not bRet) or (len(sRet) != 1):\n",
    "            return False, sRet\n",
    "        \n",
    "        return True, sRet[0]\n",
    "    #aid的服务info查询,服务于服务详情页\n",
    "    @staticmethod\n",
    "    def query_node_by_proj_uid(uId,AlgoName):\n",
    "        dataBase = DataBase()\n",
    "        sql = \"select * from tb_algo where uid = %s and algoname = %s\"\n",
    "        param = (uId, AlgoName)\n",
    "\n",
    "        bRet, sRet = dataBase.query_data(sql, param)\n",
    "        if (not bRet) or (len(sRet) != 1):\n",
    "            return False, sRet\n",
    "        \n",
    "        return True, sRet[0]\n",
    "\n",
    "    @staticmethod\n",
    "    def query_node_by_status(status):\n",
    "        dataBase = DataBase()\n",
    "        sql = \"select count(*) as cnt from tb_order where 1=1 \"\n",
    "        param = []\n",
    "\n",
    "        if status == 'all':\n",
    "            pass\n",
    "        else:\n",
    "            sql += 'and status = %s'\n",
    "            param.append(status)\n",
    "        \n",
    "        param = tuple(param)\n",
    "        bRet, sRet = dataBase.query_data(sql, param)\n",
    "        if not bRet:\n",
    "            return False, sRet\n",
    "        if len(sRet) != 1:\n",
    "            return True, 0\n",
    "        \n",
    "        return True, sRet[0]['cnt']\n",
    "\n",
    "        \n",
    "    @staticmethod\n",
    "    def query_node_by_days(days):\n",
    "        dataBase = DataBase()\n",
    "        sql = \"select oid, cid, name, date_format(order_tm, '%%Y-%%m-%%d') as end_tm from tb_order \" \\\n",
    "              \"where order_tm >= curdate() and order_tm < curdate() + %s\"\n",
    "        param = (days, )\n",
    "\n",
    "        bRet, sRet = dataBase.query_data(sql, param)\n",
    "        if not bRet:\n",
    "            return False, sRet\n",
    "        \n",
    "        return True, sRet\n",
    "\n",
    "    \n",
    "    @staticmethod\n",
    "    def query_node_by_date(status, tg_date):\n",
    "        dataBase = DataBase()\n",
    "        #sql = \"select * from tb_algo where status = %s and algo_tm <= %s and algo_tm >= %s\"\n",
    "        sql = \"select * from tb_algo where status = %s and insert_tm <= %s and insert_tm >= %s\"\n",
    "        sql_stop = \"select * from tb_algo where status = %s and insert_tm <= %s and insert_tm >= %s\"\n",
    "        param = (status,tg_date,get_cur_day(0, format=\"%Y-%m-%d\"))\n",
    "        if status=='normal':\n",
    "            bRet, sRet = dataBase.query_data(sql, param)\n",
    "        else:\n",
    "            bRet, sRet = dataBase.query_data(sql_stop, param)\n",
    "        if not bRet:\n",
    "            return False, sRet\n",
    "\n",
    "        return True, sRet\n",
    "\n",
    "    @staticmethod\n",
    "    def query_node_cnt_by_date(status, tg_date):\n",
    "        dataBase = DataBase()\n",
    "        sql = \"select count(*) as cnt from tb_algo where status = %s and algo_tm <= %s and algo_tm >= %s\"\n",
    "        sql_stop = \"select count(*) as cnt from tb_algo where status = %s and insert_tm <= %s and insert_tm >= %s\"\n",
    "        param = (status, tg_date,get_cur_day(0, format=\"%Y-%m-%d\"))\n",
    "\n",
    "        if status=='normal':\n",
    "            bRet, sRet = dataBase.query_data(sql, param)\n",
    "        elif status=='stop':\n",
    "            bRet, sRet = dataBase.query_data(sql_stop, param)\n",
    "        else:\n",
    "            bRet, sRet = dataBase.query_data(sql, param)\n",
    "        if not bRet:\n",
    "            return False, sRet\n",
    "        if len(sRet) != 1:\n",
    "            return True, 0\n",
    "        \n",
    "        return True, sRet[0]['cnt']\n",
    "\n",
    "if __name__ == \"__main__\":\n",
    "    #print HjsOrderDao.query_node_by_status('stop')\n",
    "    algouid=1\n",
    "    uid=2\n",
    "    algoname='test_algo'\n",
    "    star_status='star'\n",
    "    thumb_status='nothumb'\n",
    "    ArthurAlgoStarDao.insert_node(algouid, uid,algoname,star_status,thumb_status)\n",
    "    #print HjsOrderDao.insert_node(cId, name, otype, order_tm, remark)\n",
    "    #print HjsOrderDao.query_node_by_date2('normal', '2019-01-02')\n",
    "    #ArthurAlgoDao.insert_node(uId, algoname,algodesc,token,pyfile,funcslist,tags,field,host,port,atype, algo_tm, is_email,remark)\n",
    "\n",
    "#uId, algoname,algodesc,token,pyfile,funcslist,tags,field,host,port,atype, algo_tm, is_email,remark\n",
    "\n",
    "#uId, algoname,algodesc,token,pyfile,funcslist,tags,host,port,atype, algo_tm, is_email,remark"
   ]
  },
  {
   "cell_type": "code",
   "execution_count": 23,
   "metadata": {},
   "outputs": [
    {
     "name": "stderr",
     "output_type": "stream",
     "text": [
      "[09/01/2019 14:03:41][DEBUG]../base/bs_database_pid.py::_exec_cmdstr(106): select star_cnt,thumb_cnt from tb_algo_star_thumb where algouid =%s and  uid =%s and algoname =%s\t[1, 2, 'test_algo']\n",
      "[09/01/2019 14:03:41][DEBUG]../base/bs_database_pid.py::_new_conn(31): conn(host: 127.0.0.1, port: 3306, user: root, passwd: , db: Arthur_manage)\n",
      "[09/01/2019 14:03:41][DEBUG]../base/bs_database_pid.py::_exec_cmdstr(106): update tb_algo_star_thumb set star_cnt = %s ,thumb_cnt = %s,star_status = %s, thumb_status = %s, insert_tm = %s where algouid = %s and uid = %s and algoname = %s\t[3L, 3L, 'star', 'thumb', '2019-01-09 14:03:41', 1, 2, 'test_algo']\n",
      "[09/01/2019 14:03:41][DEBUG]../base/bs_database_pid.py::_new_conn(31): conn(host: 127.0.0.1, port: 3306, user: root, passwd: , db: Arthur_manage)\n"
     ]
    },
    {
     "data": {
      "text/plain": [
       "(True, 3L)"
      ]
     },
     "execution_count": 23,
     "metadata": {},
     "output_type": "execute_result"
    }
   ],
   "source": [
    "algouid=1\n",
    "uid=2\n",
    "algoname='test_algo'\n",
    "star_status='star'\n",
    "thumb_status='thumb'\n",
    "ArthurAlgoStarDao.update_node_status(algouid, uid,algoname,star_status,thumb_status)"
   ]
  },
  {
   "cell_type": "code",
   "execution_count": 36,
   "metadata": {},
   "outputs": [
    {
     "name": "stderr",
     "output_type": "stream",
     "text": [
      "[09/01/2019 16:12:59][DEBUG]../base/bs_database_pid.py::_exec_cmdstr(106): select sum(star_cnt) as star_cnt_algo,sum(thumb_cnt) as thumb_cnt_algo from tb_algo_star_thumb where algouid =%s and algoname =%s\t[1, 'test_algo']\n",
      "[09/01/2019 16:12:59][DEBUG]../base/bs_database_pid.py::_new_conn(31): conn(host: 127.0.0.1, port: 3306, user: root, passwd: , db: Arthur_manage)\n"
     ]
    }
   ],
   "source": [
    "_s,x = ArthurAlgoStarDao.query_status_cnt_by_algo(algouid,algoname)"
   ]
  },
  {
   "cell_type": "code",
   "execution_count": 53,
   "metadata": {},
   "outputs": [
    {
     "name": "stderr",
     "output_type": "stream",
     "text": [
      "[10/01/2019 10:16:14][DEBUG]../base/bs_database_pid.py::_exec_cmdstr(106): select sum(star_cnt) as star_cnt_algo,sum(thumb_cnt) as thumb_cnt_algo from tb_algo_star_thumb where algouid =%s and algoname =%s\t[1, 'test_algo']\n",
      "[10/01/2019 10:16:14][DEBUG]../base/bs_database_pid.py::_new_conn(31): conn(host: 127.0.0.1, port: 3306, user: root, passwd: , db: Arthur_manage)\n"
     ]
    },
    {
     "data": {
      "text/plain": [
       "(True, 11)"
      ]
     },
     "execution_count": 53,
     "metadata": {},
     "output_type": "execute_result"
    }
   ],
   "source": [
    "_s,x = ArthurAlgoStarDao.query_status_cnt_by_algo(algouid,algoname)\n",
    "_s,int(x[0]['star_cnt_algo'])"
   ]
  },
  {
   "cell_type": "code",
   "execution_count": 37,
   "metadata": {},
   "outputs": [
    {
     "data": {
      "text/plain": [
       "{'star_cnt_algo': Decimal('11'), 'thumb_cnt_algo': Decimal('11')}"
      ]
     },
     "execution_count": 37,
     "metadata": {},
     "output_type": "execute_result"
    }
   ],
   "source": [
    "x[0]"
   ]
  },
  {
   "cell_type": "code",
   "execution_count": 27,
   "metadata": {},
   "outputs": [
    {
     "data": {
      "text/plain": [
       "[{'star_cnt_algo': Decimal('10'), 'thumb_cnt_algo': Decimal('10')}]"
      ]
     },
     "execution_count": 27,
     "metadata": {},
     "output_type": "execute_result"
    }
   ],
   "source": [
    "x[0]['star_cnt_algo']"
   ]
  },
  {
   "cell_type": "code",
   "execution_count": 30,
   "metadata": {},
   "outputs": [
    {
     "name": "stdout",
     "output_type": "stream",
     "text": [
      "10\n"
     ]
    }
   ],
   "source": [
    "x[0]['star_cnt_algo']"
   ]
  },
  {
   "cell_type": "code",
   "execution_count": 38,
   "metadata": {},
   "outputs": [
    {
     "name": "stderr",
     "output_type": "stream",
     "text": [
      "[09/01/2019 16:13:37][DEBUG]../base/bs_database_pid.py::_exec_cmdstr(106): select * from tb_algo_star_thumb where uid=%s and algouid = %s and algoname = %s\t[2, 1, 'test_algo']\n",
      "[09/01/2019 16:13:37][DEBUG]../base/bs_database_pid.py::_new_conn(31): conn(host: 127.0.0.1, port: 3306, user: root, passwd: , db: Arthur_manage)\n"
     ]
    }
   ],
   "source": [
    "_s,y = ArthurAlgoStarDao.query_node_by_uid_algo_algouid(uid,algouid, algoname)"
   ]
  },
  {
   "cell_type": "code",
   "execution_count": 39,
   "metadata": {},
   "outputs": [
    {
     "data": {
      "text/plain": [
       "[{'algoname': 'test_algo',\n",
       "  'algouid': 1L,\n",
       "  'insert_tm': datetime.datetime(2019, 1, 9, 14, 3, 41),\n",
       "  'sid': 1L,\n",
       "  'star_cnt': 3L,\n",
       "  'star_status': 'star',\n",
       "  'thumb_cnt': 3L,\n",
       "  'thumb_status': 'thumb',\n",
       "  'uid': 2L},\n",
       " {'algoname': 'test_algo',\n",
       "  'algouid': 1L,\n",
       "  'insert_tm': datetime.datetime(2019, 1, 9, 14, 3, 41),\n",
       "  'sid': 2L,\n",
       "  'star_cnt': 3L,\n",
       "  'star_status': 'star',\n",
       "  'thumb_cnt': 3L,\n",
       "  'thumb_status': 'thumb',\n",
       "  'uid': 2L},\n",
       " {'algoname': 'test_algo',\n",
       "  'algouid': 1L,\n",
       "  'insert_tm': datetime.datetime(2019, 1, 9, 14, 3, 41),\n",
       "  'sid': 3L,\n",
       "  'star_cnt': 3L,\n",
       "  'star_status': 'star',\n",
       "  'thumb_cnt': 3L,\n",
       "  'thumb_status': 'thumb',\n",
       "  'uid': 2L},\n",
       " {'algoname': 'test_algo',\n",
       "  'algouid': 1L,\n",
       "  'insert_tm': datetime.datetime(2019, 1, 9, 16, 0, 17),\n",
       "  'sid': 4L,\n",
       "  'star_cnt': 1L,\n",
       "  'star_status': 'star',\n",
       "  'thumb_cnt': 1L,\n",
       "  'thumb_status': 'nothumb',\n",
       "  'uid': 2L},\n",
       " {'algoname': 'test_algo',\n",
       "  'algouid': 1L,\n",
       "  'insert_tm': datetime.datetime(2019, 1, 9, 16, 12, 44),\n",
       "  'sid': 5L,\n",
       "  'star_cnt': 1L,\n",
       "  'star_status': 'star',\n",
       "  'thumb_cnt': 1L,\n",
       "  'thumb_status': 'nothumb',\n",
       "  'uid': 2L}]"
      ]
     },
     "execution_count": 39,
     "metadata": {},
     "output_type": "execute_result"
    }
   ],
   "source": [
    "y"
   ]
  },
  {
   "cell_type": "code",
   "execution_count": 40,
   "metadata": {},
   "outputs": [
    {
     "name": "stderr",
     "output_type": "stream",
     "text": [
      "[09/01/2019 16:13:57][DEBUG]../base/bs_database_pid.py::_exec_cmdstr(106): select * from tb_algo_star_thumb where uid=%s and algouid = %s and algoname = %s\t[2, 1, 'algoname']\n",
      "[09/01/2019 16:13:57][DEBUG]../base/bs_database_pid.py::_new_conn(31): conn(host: 127.0.0.1, port: 3306, user: root, passwd: , db: Arthur_manage)\n"
     ]
    }
   ],
   "source": [
    "_s,y = ArthurAlgoStarDao.query_node_by_uid_algo_algouid(uid,algouid, 'algoname')"
   ]
  },
  {
   "cell_type": "code",
   "execution_count": 41,
   "metadata": {},
   "outputs": [
    {
     "data": {
      "text/plain": [
       "[]"
      ]
     },
     "execution_count": 41,
     "metadata": {},
     "output_type": "execute_result"
    }
   ],
   "source": [
    "y"
   ]
  },
  {
   "cell_type": "code",
   "execution_count": 42,
   "metadata": {},
   "outputs": [
    {
     "data": {
      "text/plain": [
       "True"
      ]
     },
     "execution_count": 42,
     "metadata": {},
     "output_type": "execute_result"
    }
   ],
   "source": [
    "_s"
   ]
  },
  {
   "cell_type": "code",
   "execution_count": 44,
   "metadata": {},
   "outputs": [
    {
     "name": "stderr",
     "output_type": "stream",
     "text": [
      "[09/01/2019 17:17:15][DEBUG]../base/bs_database_pid.py::_exec_cmdstr(106): select * from tb_algo_star_thumb where uid=%s and algouid = %s and algoname = %s\t[1, 1, 'online_off_test']\n",
      "[09/01/2019 17:17:15][DEBUG]../base/bs_database_pid.py::_new_conn(31): conn(host: 127.0.0.1, port: 3306, user: root, passwd: , db: Arthur_manage)\n"
     ]
    }
   ],
   "source": [
    "_s,y = ArthurAlgoStarDao.query_node_by_uid_algo_algouid(1 ,1 ,'online_off_test')"
   ]
  },
  {
   "cell_type": "code",
   "execution_count": 45,
   "metadata": {},
   "outputs": [
    {
     "data": {
      "text/plain": [
       "True"
      ]
     },
     "execution_count": 45,
     "metadata": {},
     "output_type": "execute_result"
    }
   ],
   "source": [
    "_s"
   ]
  },
  {
   "cell_type": "code",
   "execution_count": 46,
   "metadata": {},
   "outputs": [
    {
     "data": {
      "text/plain": [
       "[]"
      ]
     },
     "execution_count": 46,
     "metadata": {},
     "output_type": "execute_result"
    }
   ],
   "source": [
    "y"
   ]
  },
  {
   "cell_type": "code",
   "execution_count": 47,
   "metadata": {},
   "outputs": [
    {
     "name": "stdout",
     "output_type": "stream",
     "text": [
      "True {'star_cnt': 0, 'star_status': 'nostar'}\n"
     ]
    }
   ],
   "source": [
    "if len(y)<1:\n",
    "    print True,{'star_status':'nostar','star_cnt':0}"
   ]
  },
  {
   "cell_type": "code",
   "execution_count": 63,
   "metadata": {},
   "outputs": [
    {
     "name": "stderr",
     "output_type": "stream",
     "text": [
      "[10/01/2019 15:20:33][DEBUG]../base/bs_database_pid.py::_exec_cmdstr(106): select * from tb_algo_star_thumb where uid=%s and star_status = %s\t[2, 'star']\n",
      "[10/01/2019 15:20:33][DEBUG]../base/bs_database_pid.py::_new_conn(31): conn(host: 127.0.0.1, port: 3306, user: root, passwd: , db: Arthur_manage)\n"
     ]
    }
   ],
   "source": [
    "'''\n",
    "#点赞、收藏等信息持久化\n",
    "DROP TABLE IF EXISTS `tb_algo_star_thumb`;\n",
    "CREATE TABLE `tb_algo_star_thumb` (\n",
    "`sid` int(10) NOT NULL AUTO_INCREMENT,\n",
    "`algouid` int(10) NOT NULL,\n",
    "`uid` int(10) NOT NULL,\n",
    "`algoname` varchar(50) NOT NULL,\n",
    "`star_cnt` int(30) DEFAULT 1,\n",
    "`thumb_cnt` int(30) DEFAULT 1,\n",
    "`star_status` enum('star','nostar') DEFAULT 'nostar',\n",
    "`thumb_status` enum('thumb','nothumb') DEFAULT 'nothumb',\n",
    "`insert_tm` datetime NOT NULL,\n",
    "PRIMARY KEY (`sid`),\n",
    "KEY `uid` (`uid`),\n",
    "CONSTRAINT `tb_star_ibfk_1` FOREIGN KEY (`uid`) REFERENCES `tb_user` (`uid`)\n",
    ") ENGINE=InnoDB DEFAULT CHARSET=utf8;\n",
    "'''\n",
    "\n",
    "\n",
    "\n",
    "if __name__ == \"__main__\":\n",
    "    import sys\n",
    "    sys.path.append(\"..\")\n",
    "    sys.path.append(\"../base\")\n",
    "\n",
    "from hjs_cfg import *\n",
    "from bs_util import *\n",
    "from bs_database_pid import *\n",
    "from bs_time import *\n",
    "\n",
    "class ArthurAlgoStarDao:\n",
    "    @staticmethod\n",
    "    def query_algouid_by_uidstar(uid):\n",
    "        dataBase = DataBase()\n",
    "        star_status='star'\n",
    "        sql = \"select * from tb_algo_star_thumb where uid=%s and star_status = %s\"\n",
    "        param = [uid,star_status]\n",
    "\n",
    "        param = tuple(param)\n",
    "        bRet, sRet = dataBase.query_data(sql, param)\n",
    "        if not bRet:\n",
    "            return False, sRet\n",
    "\n",
    "        return True, sRet\n",
    "if __name__ == \"__main__\":\n",
    "    #print HjsOrderDao.query_node_by_status('stop')\n",
    "    algouid=1\n",
    "    uid=2\n",
    "    algoname='test_algo'\n",
    "    star_status='star'\n",
    "    thumb_status='nothumb'\n",
    "    x,y=ArthurAlgoStarDao.query_algouid_by_uidstar(2)"
   ]
  },
  {
   "cell_type": "code",
   "execution_count": 64,
   "metadata": {},
   "outputs": [
    {
     "data": {
      "text/plain": [
       "(True,\n",
       " [{'algoname': 'recom_new',\n",
       "   'algouid': 1L,\n",
       "   'insert_tm': datetime.datetime(2019, 1, 10, 10, 39, 50),\n",
       "   'sid': 5L,\n",
       "   'star_cnt': 1L,\n",
       "   'star_status': 'star',\n",
       "   'thumb_cnt': 1L,\n",
       "   'thumb_status': None,\n",
       "   'uid': 2L},\n",
       "  {'algoname': 'online_off_test',\n",
       "   'algouid': 1L,\n",
       "   'insert_tm': datetime.datetime(2019, 1, 10, 10, 40, 6),\n",
       "   'sid': 6L,\n",
       "   'star_cnt': 1L,\n",
       "   'star_status': 'star',\n",
       "   'thumb_cnt': 1L,\n",
       "   'thumb_status': None,\n",
       "   'uid': 2L}])"
      ]
     },
     "execution_count": 64,
     "metadata": {},
     "output_type": "execute_result"
    }
   ],
   "source": [
    "x,y"
   ]
  },
  {
   "cell_type": "code",
   "execution_count": 62,
   "metadata": {},
   "outputs": [
    {
     "name": "stdout",
     "output_type": "stream",
     "text": [
      "[]\n"
     ]
    }
   ],
   "source": [
    "print y"
   ]
  },
  {
   "cell_type": "code",
   "execution_count": 65,
   "metadata": {},
   "outputs": [
    {
     "name": "stdout",
     "output_type": "stream",
     "text": [
      "{'algoname': 'recom_new', 'star_cnt': 1L, 'uid': 2L, 'thumb_cnt': 1L, 'thumb_status': None, 'algouid': 1L, 'star_status': 'star', 'sid': 5L, 'insert_tm': datetime.datetime(2019, 1, 10, 10, 39, 50)}\n",
      "{'algoname': 'online_off_test', 'star_cnt': 1L, 'uid': 2L, 'thumb_cnt': 1L, 'thumb_status': None, 'algouid': 1L, 'star_status': 'star', 'sid': 6L, 'insert_tm': datetime.datetime(2019, 1, 10, 10, 40, 6)}\n"
     ]
    }
   ],
   "source": [
    "for i in y:\n",
    "    print i"
   ]
  },
  {
   "cell_type": "code",
   "execution_count": null,
   "metadata": {},
   "outputs": [],
   "source": []
  }
 ],
 "metadata": {
  "kernelspec": {
   "display_name": "Python 2",
   "language": "python",
   "name": "python2"
  },
  "language_info": {
   "codemirror_mode": {
    "name": "ipython",
    "version": 2
   },
   "file_extension": ".py",
   "mimetype": "text/x-python",
   "name": "python",
   "nbconvert_exporter": "python",
   "pygments_lexer": "ipython2",
   "version": "2.7.13"
  }
 },
 "nbformat": 4,
 "nbformat_minor": 2
}
