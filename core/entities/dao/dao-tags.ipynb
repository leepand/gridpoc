{
 "cells": [
  {
   "cell_type": "code",
   "execution_count": null,
   "metadata": {},
   "outputs": [],
   "source": [
    "\n",
    "\n",
    "\n",
    "\n",
    "select tags from tb_algo where locate(\"机器\",tags);"
   ]
  },
  {
   "cell_type": "code",
   "execution_count": 1,
   "metadata": {},
   "outputs": [
    {
     "name": "stdout",
     "output_type": "stream",
     "text": [
      "Writing Arthur_serviceTags_dao.py\n"
     ]
    }
   ],
   "source": [
    "%%file Arthur_serviceTags_dao.py\n",
    "from Arthur.core.entities.arthur_web_cfg import *\n",
    "from Arthur.core.entities.base.bs_util import *\n",
    "from Arthur.core.entities.base.bs_database_pid import DataBase\n",
    "from Arthur.core.entities.base.bs_time import get_cur_day,get_cur_time\n",
    "#2019-01-30 add\n",
    "class ArthurServTagsDao:\n",
    "    \n",
    "    #用户的tag service list\n",
    "    @staticmethod\n",
    "    def query_node_list_by_tag(status='normal', search=None):\n",
    "        dataBase = DataBase()\n",
    "        sql = \"select * from tb_algo where 1=1 \"\n",
    "        param = []\n",
    "        if status and status != 'all':\n",
    "            sql += \"and status = %s \"\n",
    "            param.append(status)\n",
    "        if search:\n",
    "            #search = \"%%%s%%\" % (search)           \n",
    "            sql += \"and locate(%s,tags)\"#tags like %s or algoname like %s\n",
    "            param.append(search)\n",
    "\n",
    "        \"\"\"sql += \"order by aid desc limit %s, %s\"\n",
    "        param.append(offset)\n",
    "        param.append(limit)\"\"\"\n",
    "\n",
    "        param = tuple(param)\n",
    "        bRet, sRet = dataBase.query_data(sql, param)\n",
    "        if not bRet:\n",
    "            return False, sRet\n",
    "\n",
    "        return True, sRet\n",
    "\n",
    "if __name__ == \"__main__\":\n",
    "\n",
    "    #ArthurAlgoStarDao.insert_node(algouid, uid,algoname,star_status,thumb_status)\n",
    "    ArthurServTagsDao.query_node_list_by_tag(search='机器')"
   ]
  },
  {
   "cell_type": "code",
   "execution_count": 2,
   "metadata": {},
   "outputs": [
    {
     "name": "stderr",
     "output_type": "stream",
     "text": [
      "[30/01/2019 19:53:43][DEBUG]/Users/leepand/anaconda2/lib/python2.7/site-packages/Arthur-2.0.1.dev1-py2.7.egg/Arthur/core/entities/base/bs_database_pid.py::_exec_cmdstr(106): select * from tb_algo where 1=1 and status = %s and locate(%s,tags)\t['normal', '\\xe6\\x9c\\xba\\xe5\\x99\\xa8']\n",
      "[30/01/2019 19:53:43][DEBUG]/Users/leepand/anaconda2/lib/python2.7/site-packages/Arthur-2.0.1.dev1-py2.7.egg/Arthur/core/entities/base/bs_database_pid.py::_new_conn(31): conn(host: 127.0.0.1, port: 3306, user: root, passwd: , db: Arthur_manage)\n"
     ]
    }
   ],
   "source": [
    "from Arthur.core.entities.arthur_web_cfg import *\n",
    "from Arthur.core.entities.base.bs_util import *\n",
    "from Arthur.core.entities.base.bs_database_pid import DataBase\n",
    "from Arthur.core.entities.base.bs_time import get_cur_day,get_cur_time\n",
    "#2019-01-30 add\n",
    "class ArthurServTagsDao:\n",
    "    \n",
    "    #用户的tag service list\n",
    "    @staticmethod\n",
    "    def query_node_list_by_tag(status='normal', search=None):\n",
    "        dataBase = DataBase()\n",
    "        sql = \"select * from tb_algo where 1=1 \"\n",
    "        param = []\n",
    "        if status and status != 'all':\n",
    "            sql += \"and status = %s \"\n",
    "            param.append(status)\n",
    "        if search:\n",
    "            #search = \"%%%s%%\" % (search)           \n",
    "            sql += \"and locate(%s,tags)\"#tags like %s or algoname like %s\n",
    "            param.append(search)\n",
    "\n",
    "        \"\"\"sql += \"order by aid desc limit %s, %s\"\n",
    "        param.append(offset)\n",
    "        param.append(limit)\"\"\"\n",
    "\n",
    "        param = tuple(param)\n",
    "        bRet, sRet = dataBase.query_data(sql, param)\n",
    "        if not bRet:\n",
    "            return False, sRet\n",
    "\n",
    "        return True, sRet\n",
    "\n",
    "if __name__ == \"__main__\":\n",
    "\n",
    "    #ArthurAlgoStarDao.insert_node(algouid, uid,algoname,star_status,thumb_status)\n",
    "    c,y = ArthurServTagsDao.query_node_list_by_tag(search='机器')"
   ]
  },
  {
   "cell_type": "code",
   "execution_count": 3,
   "metadata": {},
   "outputs": [
    {
     "data": {
      "text/plain": [
       "[{'aid': 34L,\n",
       "  'algo_tm': datetime.datetime(2019, 1, 28, 16, 34, 53),\n",
       "  'algodesc': '\\xe9\\x87\\x8d\\xe6\\x9e\\x84\\xe6\\xb5\\x8b\\xe8\\xaf\\x95',\n",
       "  'algoname': 'new_publish_mokuai',\n",
       "  'atype': 'REST',\n",
       "  'field': 2L,\n",
       "  'funcslist': 'fib.fib',\n",
       "  'host': '0.0.0.0',\n",
       "  'insert_tm': datetime.datetime(2019, 1, 28, 18, 25, 26),\n",
       "  'is_email': '\\xe6\\x98\\xaf',\n",
       "  'opertype': 'publish',\n",
       "  'port': 48137L,\n",
       "  'pyfile': 'arthur_runs/leepand6',\n",
       "  'remark': '{n:10}',\n",
       "  'status': 'normal',\n",
       "  'tags': '\\xe6\\x9c\\xba\\xe5\\x99\\xa8\\xe5\\xad\\xa6\\xe4\\xb9\\xa0',\n",
       "  'token': '20bf7679146eaef99136cde84ccc1eba',\n",
       "  'uid': 1L,\n",
       "  'version': 'v1.0.0'}]"
      ]
     },
     "execution_count": 3,
     "metadata": {},
     "output_type": "execute_result"
    }
   ],
   "source": [
    "y"
   ]
  },
  {
   "cell_type": "code",
   "execution_count": 9,
   "metadata": {},
   "outputs": [
    {
     "name": "stderr",
     "output_type": "stream",
     "text": [
      "[30/01/2019 23:09:17][DEBUG]/Users/leepand/anaconda2/lib/python2.7/site-packages/Arthur-2.0.1.dev1-py2.7.egg/Arthur/core/entities/base/bs_database_pid.py::_exec_cmdstr(106): select * from tb_algo where 1=1 and status = %s and locate(%s,tags)\t['normal', 'Machine Learning']\n",
      "[30/01/2019 23:09:18][DEBUG]/Users/leepand/anaconda2/lib/python2.7/site-packages/Arthur-2.0.1.dev1-py2.7.egg/Arthur/core/entities/base/bs_database_pid.py::_new_conn(31): conn(host: 127.0.0.1, port: 3306, user: root, passwd: , db: Arthur_manage)\n",
      "[30/01/2019 23:09:18][DEBUG]/Users/leepand/anaconda2/lib/python2.7/site-packages/Arthur-2.0.1.dev1-py2.7.egg/Arthur/core/entities/base/bs_database_pid.py::_exec_cmdstr(106): select * from tb_user where uid = %s\t[1L]\n",
      "[30/01/2019 23:09:18][DEBUG]/Users/leepand/anaconda2/lib/python2.7/site-packages/Arthur-2.0.1.dev1-py2.7.egg/Arthur/core/entities/base/bs_database_pid.py::_new_conn(31): conn(host: 127.0.0.1, port: 3306, user: root, passwd: , db: Arthur_manage)\n",
      "[30/01/2019 23:09:18][DEBUG]/Users/leepand/anaconda2/lib/python2.7/site-packages/Arthur-2.0.1.dev1-py2.7.egg/Arthur/core/entities/base/bs_database_pid.py::_exec_cmdstr(106): select * from tb_user where uid = %s\t[1L]\n",
      "[30/01/2019 23:09:18][DEBUG]/Users/leepand/anaconda2/lib/python2.7/site-packages/Arthur-2.0.1.dev1-py2.7.egg/Arthur/core/entities/base/bs_database_pid.py::_new_conn(31): conn(host: 127.0.0.1, port: 3306, user: root, passwd: , db: Arthur_manage)\n",
      "[30/01/2019 23:09:18][DEBUG]/Users/leepand/anaconda2/lib/python2.7/site-packages/Arthur-2.0.1.dev1-py2.7.egg/Arthur/core/entities/base/bs_database_pid.py::_exec_cmdstr(106): select * from tb_user where uid = %s\t[2L]\n",
      "[30/01/2019 23:09:18][DEBUG]/Users/leepand/anaconda2/lib/python2.7/site-packages/Arthur-2.0.1.dev1-py2.7.egg/Arthur/core/entities/base/bs_database_pid.py::_new_conn(31): conn(host: 127.0.0.1, port: 3306, user: root, passwd: , db: Arthur_manage)\n",
      "[30/01/2019 23:09:18][DEBUG]/Users/leepand/anaconda2/lib/python2.7/site-packages/Arthur-2.0.1.dev1-py2.7.egg/Arthur/core/entities/base/bs_database_pid.py::_exec_cmdstr(106): select * from tb_user where uid = %s\t[1L]\n",
      "[30/01/2019 23:09:18][DEBUG]/Users/leepand/anaconda2/lib/python2.7/site-packages/Arthur-2.0.1.dev1-py2.7.egg/Arthur/core/entities/base/bs_database_pid.py::_new_conn(31): conn(host: 127.0.0.1, port: 3306, user: root, passwd: , db: Arthur_manage)\n"
     ]
    },
    {
     "name": "stdout",
     "output_type": "stream",
     "text": [
      ">>>>  {'dt_algo_list': {'algo_list_bytime': [<Storage {'algoname': 'None', 'status': 'normal', 'remark': '\\xe8\\xaf\\xb7\\xe5\\x88\\xb0\\xe4\\xb8\\xbb\\xe9\\xa1\\xb5\\xe7\\xbc\\x96\\xe8\\xbe\\x91\\xe6\\xb7\\xbb\\xe5\\x8a\\xa0', 'insert_tm': '2019-01-29 08:27:11', 'uid': 1, 'atype': 'REST', 'token': '20bf7679146eaef99136cde84ccc1eba', 'field': 1L, 'algodesc': '\\xe6\\x9a\\x82\\xe6\\x97\\xa0\\xe6\\x8f\\x8f\\xe8\\xbf\\xb0\\xef\\xbc\\x8c\\xe8\\xaf\\xb7\\xe5\\x88\\xb0\\xe4\\xb8\\xbb\\xe9\\xa1\\xb5\\xe7\\xbc\\x96\\xe8\\xbe\\x91\\xe6\\xb7\\xbb\\xe5\\x8a\\xa0', 'host': '0.0.0.0', 'aid': 35, 'algo_tm': '2019-01-29', 'user_name': 'leepand6', 'port': 48322L}>, <Storage {'algoname': 'leepand13', 'status': 'normal', 'remark': '\\xe8\\xaf\\xb7\\xe5\\x88\\xb0\\xe4\\xb8\\xbb\\xe9\\xa1\\xb5\\xe7\\xbc\\x96\\xe8\\xbe\\x91\\xe6\\xb7\\xbb\\xe5\\x8a\\xa0', 'insert_tm': '2019-01-28 14:51:57', 'uid': 2, 'atype': 'REST', 'token': '2a9f9670106e9ef9d456491840cc9eba', 'field': 1L, 'algodesc': '\\xe6\\x9a\\x82\\xe6\\x97\\xa0\\xe6\\x8f\\x8f\\xe8\\xbf\\xb0\\xef\\xbc\\x8c\\xe8\\xaf\\xb7\\xe5\\x88\\xb0\\xe4\\xb8\\xbb\\xe9\\xa1\\xb5\\xe7\\xbc\\x96\\xe8\\xbe\\x91\\xe6\\xb7\\xbb\\xe5\\x8a\\xa0', 'host': '0.0.0.0', 'aid': 33, 'algo_tm': '2019-01-28', 'user_name': 'Boris', 'port': 33520L}>, <Storage {'algoname': 'leepand13', 'status': 'normal', 'remark': '\\xe8\\xaf\\xb7\\xe5\\x88\\xb0\\xe4\\xb8\\xbb\\xe9\\xa1\\xb5\\xe7\\xbc\\x96\\xe8\\xbe\\x91\\xe6\\xb7\\xbb\\xe5\\x8a\\xa0', 'insert_tm': '2019-01-28 14:34:57', 'uid': 1, 'atype': 'REST', 'token': '20bf7679146eaef99136cde84ccc1eba', 'field': 1L, 'algodesc': '\\xe6\\x9a\\x82\\xe6\\x97\\xa0\\xe6\\x8f\\x8f\\xe8\\xbf\\xb0\\xef\\xbc\\x8c\\xe8\\xaf\\xb7\\xe5\\x88\\xb0\\xe4\\xb8\\xbb\\xe9\\xa1\\xb5\\xe7\\xbc\\x96\\xe8\\xbe\\x91\\xe6\\xb7\\xbb\\xe5\\x8a\\xa0', 'host': '0.0.0.0', 'aid': 32, 'algo_tm': '2019-01-28', 'user_name': 'leepand6', 'port': 20981L}>, <Storage {'algoname': 'leepand10', 'status': 'normal', 'remark': '\\xe8\\xaf\\xb7\\xe5\\x88\\xb0\\xe4\\xb8\\xbb\\xe9\\xa1\\xb5\\xe7\\xbc\\x96\\xe8\\xbe\\x91\\xe6\\xb7\\xbb\\xe5\\x8a\\xa0', 'insert_tm': '2019-01-28 12:24:40', 'uid': 1, 'atype': 'REST', 'token': '20bf7679146eaef99136cde84ccc1eba', 'field': 1L, 'algodesc': '\\xe6\\x9a\\x82\\xe6\\x97\\xa0\\xe6\\x8f\\x8f\\xe8\\xbf\\xb0\\xef\\xbc\\x8c\\xe8\\xaf\\xb7\\xe5\\x88\\xb0\\xe4\\xb8\\xbb\\xe9\\xa1\\xb5\\xe7\\xbc\\x96\\xe8\\xbe\\x91\\xe6\\xb7\\xbb\\xe5\\x8a\\xa0', 'host': '0.0.0.0', 'aid': 31, 'algo_tm': '2019-01-28', 'user_name': 'leepand6', 'port': 22169L}>], 'algo_list': [<Storage {'algoname': 'leepand10', 'status': 'normal', 'remark': '\\xe8\\xaf\\xb7\\xe5\\x88\\xb0\\xe4\\xb8\\xbb\\xe9\\xa1\\xb5\\xe7\\xbc\\x96\\xe8\\xbe\\x91\\xe6\\xb7\\xbb\\xe5\\x8a\\xa0', 'insert_tm': '2019-01-28 12:24:40', 'uid': 1, 'atype': 'REST', 'token': '20bf7679146eaef99136cde84ccc1eba', 'field': 1L, 'algodesc': '\\xe6\\x9a\\x82\\xe6\\x97\\xa0\\xe6\\x8f\\x8f\\xe8\\xbf\\xb0\\xef\\xbc\\x8c\\xe8\\xaf\\xb7\\xe5\\x88\\xb0\\xe4\\xb8\\xbb\\xe9\\xa1\\xb5\\xe7\\xbc\\x96\\xe8\\xbe\\x91\\xe6\\xb7\\xbb\\xe5\\x8a\\xa0', 'host': '0.0.0.0', 'aid': 31, 'algo_tm': '2019-01-28', 'user_name': 'leepand6', 'port': 22169L}>, <Storage {'algoname': 'leepand13', 'status': 'normal', 'remark': '\\xe8\\xaf\\xb7\\xe5\\x88\\xb0\\xe4\\xb8\\xbb\\xe9\\xa1\\xb5\\xe7\\xbc\\x96\\xe8\\xbe\\x91\\xe6\\xb7\\xbb\\xe5\\x8a\\xa0', 'insert_tm': '2019-01-28 14:34:57', 'uid': 1, 'atype': 'REST', 'token': '20bf7679146eaef99136cde84ccc1eba', 'field': 1L, 'algodesc': '\\xe6\\x9a\\x82\\xe6\\x97\\xa0\\xe6\\x8f\\x8f\\xe8\\xbf\\xb0\\xef\\xbc\\x8c\\xe8\\xaf\\xb7\\xe5\\x88\\xb0\\xe4\\xb8\\xbb\\xe9\\xa1\\xb5\\xe7\\xbc\\x96\\xe8\\xbe\\x91\\xe6\\xb7\\xbb\\xe5\\x8a\\xa0', 'host': '0.0.0.0', 'aid': 32, 'algo_tm': '2019-01-28', 'user_name': 'leepand6', 'port': 20981L}>, <Storage {'algoname': 'leepand13', 'status': 'normal', 'remark': '\\xe8\\xaf\\xb7\\xe5\\x88\\xb0\\xe4\\xb8\\xbb\\xe9\\xa1\\xb5\\xe7\\xbc\\x96\\xe8\\xbe\\x91\\xe6\\xb7\\xbb\\xe5\\x8a\\xa0', 'insert_tm': '2019-01-28 14:51:57', 'uid': 2, 'atype': 'REST', 'token': '2a9f9670106e9ef9d456491840cc9eba', 'field': 1L, 'algodesc': '\\xe6\\x9a\\x82\\xe6\\x97\\xa0\\xe6\\x8f\\x8f\\xe8\\xbf\\xb0\\xef\\xbc\\x8c\\xe8\\xaf\\xb7\\xe5\\x88\\xb0\\xe4\\xb8\\xbb\\xe9\\xa1\\xb5\\xe7\\xbc\\x96\\xe8\\xbe\\x91\\xe6\\xb7\\xbb\\xe5\\x8a\\xa0', 'host': '0.0.0.0', 'aid': 33, 'algo_tm': '2019-01-28', 'user_name': 'Boris', 'port': 33520L}>, <Storage {'algoname': 'None', 'status': 'normal', 'remark': '\\xe8\\xaf\\xb7\\xe5\\x88\\xb0\\xe4\\xb8\\xbb\\xe9\\xa1\\xb5\\xe7\\xbc\\x96\\xe8\\xbe\\x91\\xe6\\xb7\\xbb\\xe5\\x8a\\xa0', 'insert_tm': '2019-01-29 08:27:11', 'uid': 1, 'atype': 'REST', 'token': '20bf7679146eaef99136cde84ccc1eba', 'field': 1L, 'algodesc': '\\xe6\\x9a\\x82\\xe6\\x97\\xa0\\xe6\\x8f\\x8f\\xe8\\xbf\\xb0\\xef\\xbc\\x8c\\xe8\\xaf\\xb7\\xe5\\x88\\xb0\\xe4\\xb8\\xbb\\xe9\\xa1\\xb5\\xe7\\xbc\\x96\\xe8\\xbe\\x91\\xe6\\xb7\\xbb\\xe5\\x8a\\xa0', 'host': '0.0.0.0', 'aid': 35, 'algo_tm': '2019-01-29', 'user_name': 'leepand6', 'port': 48322L}>]}}\n"
     ]
    }
   ],
   "source": [
    "# -*- coding: UTF-8 -*-\n",
    "# author: leepand\n",
    "# time: 2019-01-08\n",
    "# desc: Algo 数据展示(my/other/zoo)\n",
    "\n",
    "#update 2019-01-25\n",
    "\n",
    "import datetime\n",
    "from operator import itemgetter \n",
    "from Arthur.core.entities.bean.Arthur_service import ArthurService\n",
    "from Arthur.core.entities.dao.Arthur_AlgoStar_dao import ArthurAlgoStarDao\n",
    "#from Arthut.core.entities.dao.Arthur_serviceTags_dao import ArthurServTagsDao\n",
    "\n",
    "class ArthurAlgoList:\n",
    "\n",
    "    @staticmethod\n",
    "    def _get_algolist_byuid(uId):\n",
    "        #增加收藏的算法服务\n",
    "        bRet,uid_algouid_list = ArthurAlgoStarDao.query_algouid_by_uidstar(uId)\n",
    "        my_star_algo_list_all=[]\n",
    "        my_star_algo_list=[]\n",
    "        my_star_algo_list_dict=None\n",
    "        if len(uid_algouid_list)>0:\n",
    "            for algouid_algoname_dict in uid_algouid_list:\n",
    "                algouid=algouid_algoname_dict['algouid']\n",
    "                algoname = algouid_algoname_dict['algoname']\n",
    "                #过滤掉自己收藏自己的算法，避免重复\n",
    "                if int(algouid)-int(uId)==0:\n",
    "                    continue\n",
    "                bRet, my_star_algo_list_dict = ArthurService.service_user_list_filter(algouid,algoname,page=1,length=1000, status='normal', search=None)\n",
    "                #print 'my_star_algo_list_dict',my_star_algo_list_dict\n",
    "                if not bRet: my_star_algo_list = []\n",
    "                if my_star_algo_list_dict is not None and \"service_list\" in my_star_algo_list_dict:\n",
    "                    my_star_algo_list= my_star_algo_list_dict['service_list']\n",
    "                else:\n",
    "                    my_star_algo_list=[]\n",
    "                my_star_algo_list_all.extend(my_star_algo_list)\n",
    "    \n",
    "        bRet, my_algo_list_dict = ArthurService.service_user_list(uId,page=1,length=1000, status='normal', search=None)\n",
    "        if not bRet: my_algo_list = []\n",
    "        if my_algo_list_dict is not None and \"service_list\" in my_algo_list_dict:\n",
    "            my_algo_list= my_algo_list_dict['service_list']\n",
    "        else:\n",
    "            my_algo_list=[]\n",
    "        my_algo_list.extend(my_star_algo_list_all)\n",
    "        my_algo_list_new=my_algo_list\n",
    "        return  {\n",
    "            \"algo_list\": my_algo_list_new\n",
    "        }\n",
    "    \n",
    "    @staticmethod\n",
    "    def _get_algolist_zoo():\n",
    "        bRet, algo_list_zoo = ArthurService.service_zoo_list(page=1,length=1000, status='normal', search=None)\n",
    "        if not bRet: algo_list_zoo = []\n",
    "        if  algo_list_zoo is not None and \"service_list\" in algo_list_zoo:\n",
    "            serviceList=algo_list_zoo['service_list']\n",
    "            #serviceList_bystar = sorted(serviceList,key = itemgetter('star_cnt'),reverse = True)\n",
    "            serviceList_bytime = sorted(serviceList,key = itemgetter('insert_tm'),reverse = True)\n",
    "\n",
    "        else:\n",
    "            serviceList=[]\n",
    "            serviceList_bystar=[]\n",
    "            serviceList_bytime=[]\n",
    "        return {\n",
    "                \"algo_list\": serviceList,#serviceList\n",
    "                \"algo_list_bytime\":serviceList_bytime}\n",
    "    @staticmethod\n",
    "    def _get_tag_services(tag):\n",
    "        bRet, tag_services_list = ArthurService.service_tag_list(search=tag)\n",
    "        if not bRet: tag_services_list = []\n",
    "        if  len(tag_services_list)>0:\n",
    "            serviceList_bytime = sorted(tag_services_list,key = itemgetter('insert_tm'),reverse = True)\n",
    "\n",
    "        else:\n",
    "            tag_services_list=[]\n",
    "            serviceList_bytime=[]\n",
    "        return {\n",
    "                \"algo_list\": tag_services_list,#serviceList\n",
    "                \"algo_list_bytime\":serviceList_bytime}\n",
    "\n",
    "\n",
    "    @staticmethod\n",
    "    def data_show(uId,query_type,tag):\n",
    "        if query_type=='zoo':\n",
    "            datas = {\n",
    "                \"dt_algo_list\":ArthurAlgoList._get_algolist_zoo()\n",
    "            }\n",
    "        elif query_type=='user':\n",
    "            datas = {\n",
    "                \"dt_algo_list\":ArthurAlgoList._get_algolist_byuid(uId)\n",
    "            }\n",
    "        else:\n",
    "            datas = {\n",
    "                \"dt_algo_list\":ArthurAlgoList._get_tag_services(tag)\n",
    "            }\n",
    "        return True, datas\n",
    "    @staticmethod\n",
    "    def algo_list_forautocomplete():\n",
    "        bRet, sRet = ArthurAlgoList.data_show(1,'zoo')\n",
    "        new_serv_list=[]\n",
    "        try:\n",
    "            for _inter in sRet['dt_algo_list']['algo_list']:\n",
    "                new_serv_list.append(_inter['algoname'])\n",
    "        except:\n",
    "            pass\n",
    "        return True,new_serv_list\n",
    "\n",
    "if __name__ == \"__main__\":\n",
    "\n",
    "    bRet, sRet = ArthurAlgoList.data_show(1,'tag','Machine Learning')\n",
    "\n",
    "    print '>>>> ', sRet\n",
    "\n",
    "    #print HjsIndex._get_expire_order()\n"
   ]
  },
  {
   "cell_type": "code",
   "execution_count": 10,
   "metadata": {},
   "outputs": [
    {
     "data": {
      "text/plain": [
       "{'dt_algo_list': {'algo_list': [<Storage {'algoname': 'leepand10', 'status': 'normal', 'remark': '\\xe8\\xaf\\xb7\\xe5\\x88\\xb0\\xe4\\xb8\\xbb\\xe9\\xa1\\xb5\\xe7\\xbc\\x96\\xe8\\xbe\\x91\\xe6\\xb7\\xbb\\xe5\\x8a\\xa0', 'insert_tm': '2019-01-28 12:24:40', 'uid': 1, 'atype': 'REST', 'token': '20bf7679146eaef99136cde84ccc1eba', 'field': 1L, 'algodesc': '\\xe6\\x9a\\x82\\xe6\\x97\\xa0\\xe6\\x8f\\x8f\\xe8\\xbf\\xb0\\xef\\xbc\\x8c\\xe8\\xaf\\xb7\\xe5\\x88\\xb0\\xe4\\xb8\\xbb\\xe9\\xa1\\xb5\\xe7\\xbc\\x96\\xe8\\xbe\\x91\\xe6\\xb7\\xbb\\xe5\\x8a\\xa0', 'host': '0.0.0.0', 'aid': 31, 'algo_tm': '2019-01-28', 'user_name': 'leepand6', 'port': 22169L}>,\n",
       "   <Storage {'algoname': 'leepand13', 'status': 'normal', 'remark': '\\xe8\\xaf\\xb7\\xe5\\x88\\xb0\\xe4\\xb8\\xbb\\xe9\\xa1\\xb5\\xe7\\xbc\\x96\\xe8\\xbe\\x91\\xe6\\xb7\\xbb\\xe5\\x8a\\xa0', 'insert_tm': '2019-01-28 14:34:57', 'uid': 1, 'atype': 'REST', 'token': '20bf7679146eaef99136cde84ccc1eba', 'field': 1L, 'algodesc': '\\xe6\\x9a\\x82\\xe6\\x97\\xa0\\xe6\\x8f\\x8f\\xe8\\xbf\\xb0\\xef\\xbc\\x8c\\xe8\\xaf\\xb7\\xe5\\x88\\xb0\\xe4\\xb8\\xbb\\xe9\\xa1\\xb5\\xe7\\xbc\\x96\\xe8\\xbe\\x91\\xe6\\xb7\\xbb\\xe5\\x8a\\xa0', 'host': '0.0.0.0', 'aid': 32, 'algo_tm': '2019-01-28', 'user_name': 'leepand6', 'port': 20981L}>,\n",
       "   <Storage {'algoname': 'leepand13', 'status': 'normal', 'remark': '\\xe8\\xaf\\xb7\\xe5\\x88\\xb0\\xe4\\xb8\\xbb\\xe9\\xa1\\xb5\\xe7\\xbc\\x96\\xe8\\xbe\\x91\\xe6\\xb7\\xbb\\xe5\\x8a\\xa0', 'insert_tm': '2019-01-28 14:51:57', 'uid': 2, 'atype': 'REST', 'token': '2a9f9670106e9ef9d456491840cc9eba', 'field': 1L, 'algodesc': '\\xe6\\x9a\\x82\\xe6\\x97\\xa0\\xe6\\x8f\\x8f\\xe8\\xbf\\xb0\\xef\\xbc\\x8c\\xe8\\xaf\\xb7\\xe5\\x88\\xb0\\xe4\\xb8\\xbb\\xe9\\xa1\\xb5\\xe7\\xbc\\x96\\xe8\\xbe\\x91\\xe6\\xb7\\xbb\\xe5\\x8a\\xa0', 'host': '0.0.0.0', 'aid': 33, 'algo_tm': '2019-01-28', 'user_name': 'Boris', 'port': 33520L}>,\n",
       "   <Storage {'algoname': 'None', 'status': 'normal', 'remark': '\\xe8\\xaf\\xb7\\xe5\\x88\\xb0\\xe4\\xb8\\xbb\\xe9\\xa1\\xb5\\xe7\\xbc\\x96\\xe8\\xbe\\x91\\xe6\\xb7\\xbb\\xe5\\x8a\\xa0', 'insert_tm': '2019-01-29 08:27:11', 'uid': 1, 'atype': 'REST', 'token': '20bf7679146eaef99136cde84ccc1eba', 'field': 1L, 'algodesc': '\\xe6\\x9a\\x82\\xe6\\x97\\xa0\\xe6\\x8f\\x8f\\xe8\\xbf\\xb0\\xef\\xbc\\x8c\\xe8\\xaf\\xb7\\xe5\\x88\\xb0\\xe4\\xb8\\xbb\\xe9\\xa1\\xb5\\xe7\\xbc\\x96\\xe8\\xbe\\x91\\xe6\\xb7\\xbb\\xe5\\x8a\\xa0', 'host': '0.0.0.0', 'aid': 35, 'algo_tm': '2019-01-29', 'user_name': 'leepand6', 'port': 48322L}>],\n",
       "  'algo_list_bytime': [<Storage {'algoname': 'None', 'status': 'normal', 'remark': '\\xe8\\xaf\\xb7\\xe5\\x88\\xb0\\xe4\\xb8\\xbb\\xe9\\xa1\\xb5\\xe7\\xbc\\x96\\xe8\\xbe\\x91\\xe6\\xb7\\xbb\\xe5\\x8a\\xa0', 'insert_tm': '2019-01-29 08:27:11', 'uid': 1, 'atype': 'REST', 'token': '20bf7679146eaef99136cde84ccc1eba', 'field': 1L, 'algodesc': '\\xe6\\x9a\\x82\\xe6\\x97\\xa0\\xe6\\x8f\\x8f\\xe8\\xbf\\xb0\\xef\\xbc\\x8c\\xe8\\xaf\\xb7\\xe5\\x88\\xb0\\xe4\\xb8\\xbb\\xe9\\xa1\\xb5\\xe7\\xbc\\x96\\xe8\\xbe\\x91\\xe6\\xb7\\xbb\\xe5\\x8a\\xa0', 'host': '0.0.0.0', 'aid': 35, 'algo_tm': '2019-01-29', 'user_name': 'leepand6', 'port': 48322L}>,\n",
       "   <Storage {'algoname': 'leepand13', 'status': 'normal', 'remark': '\\xe8\\xaf\\xb7\\xe5\\x88\\xb0\\xe4\\xb8\\xbb\\xe9\\xa1\\xb5\\xe7\\xbc\\x96\\xe8\\xbe\\x91\\xe6\\xb7\\xbb\\xe5\\x8a\\xa0', 'insert_tm': '2019-01-28 14:51:57', 'uid': 2, 'atype': 'REST', 'token': '2a9f9670106e9ef9d456491840cc9eba', 'field': 1L, 'algodesc': '\\xe6\\x9a\\x82\\xe6\\x97\\xa0\\xe6\\x8f\\x8f\\xe8\\xbf\\xb0\\xef\\xbc\\x8c\\xe8\\xaf\\xb7\\xe5\\x88\\xb0\\xe4\\xb8\\xbb\\xe9\\xa1\\xb5\\xe7\\xbc\\x96\\xe8\\xbe\\x91\\xe6\\xb7\\xbb\\xe5\\x8a\\xa0', 'host': '0.0.0.0', 'aid': 33, 'algo_tm': '2019-01-28', 'user_name': 'Boris', 'port': 33520L}>,\n",
       "   <Storage {'algoname': 'leepand13', 'status': 'normal', 'remark': '\\xe8\\xaf\\xb7\\xe5\\x88\\xb0\\xe4\\xb8\\xbb\\xe9\\xa1\\xb5\\xe7\\xbc\\x96\\xe8\\xbe\\x91\\xe6\\xb7\\xbb\\xe5\\x8a\\xa0', 'insert_tm': '2019-01-28 14:34:57', 'uid': 1, 'atype': 'REST', 'token': '20bf7679146eaef99136cde84ccc1eba', 'field': 1L, 'algodesc': '\\xe6\\x9a\\x82\\xe6\\x97\\xa0\\xe6\\x8f\\x8f\\xe8\\xbf\\xb0\\xef\\xbc\\x8c\\xe8\\xaf\\xb7\\xe5\\x88\\xb0\\xe4\\xb8\\xbb\\xe9\\xa1\\xb5\\xe7\\xbc\\x96\\xe8\\xbe\\x91\\xe6\\xb7\\xbb\\xe5\\x8a\\xa0', 'host': '0.0.0.0', 'aid': 32, 'algo_tm': '2019-01-28', 'user_name': 'leepand6', 'port': 20981L}>,\n",
       "   <Storage {'algoname': 'leepand10', 'status': 'normal', 'remark': '\\xe8\\xaf\\xb7\\xe5\\x88\\xb0\\xe4\\xb8\\xbb\\xe9\\xa1\\xb5\\xe7\\xbc\\x96\\xe8\\xbe\\x91\\xe6\\xb7\\xbb\\xe5\\x8a\\xa0', 'insert_tm': '2019-01-28 12:24:40', 'uid': 1, 'atype': 'REST', 'token': '20bf7679146eaef99136cde84ccc1eba', 'field': 1L, 'algodesc': '\\xe6\\x9a\\x82\\xe6\\x97\\xa0\\xe6\\x8f\\x8f\\xe8\\xbf\\xb0\\xef\\xbc\\x8c\\xe8\\xaf\\xb7\\xe5\\x88\\xb0\\xe4\\xb8\\xbb\\xe9\\xa1\\xb5\\xe7\\xbc\\x96\\xe8\\xbe\\x91\\xe6\\xb7\\xbb\\xe5\\x8a\\xa0', 'host': '0.0.0.0', 'aid': 31, 'algo_tm': '2019-01-28', 'user_name': 'leepand6', 'port': 22169L}>]}}"
      ]
     },
     "execution_count": 10,
     "metadata": {},
     "output_type": "execute_result"
    }
   ],
   "source": [
    "sRet"
   ]
  },
  {
   "cell_type": "code",
   "execution_count": 4,
   "metadata": {},
   "outputs": [],
   "source": [
    "from Arthur.core.entities.dao.Arthur_AlgoStar_dao import ArthurAlgoStarDao"
   ]
  },
  {
   "cell_type": "code",
   "execution_count": null,
   "metadata": {},
   "outputs": [],
   "source": []
  }
 ],
 "metadata": {
  "kernelspec": {
   "display_name": "Python 2",
   "language": "python",
   "name": "python2"
  },
  "language_info": {
   "codemirror_mode": {
    "name": "ipython",
    "version": 2
   },
   "file_extension": ".py",
   "mimetype": "text/x-python",
   "name": "python",
   "nbconvert_exporter": "python",
   "pygments_lexer": "ipython2",
   "version": "2.7.13"
  }
 },
 "nbformat": 4,
 "nbformat_minor": 2
}
