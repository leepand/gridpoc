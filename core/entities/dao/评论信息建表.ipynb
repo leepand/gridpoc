{
 "cells": [
  {
   "cell_type": "code",
   "execution_count": 43,
   "metadata": {},
   "outputs": [
    {
     "name": "stdout",
     "output_type": "stream",
     "text": [
      "Overwriting Arthur_msg_dao.py\n"
     ]
    }
   ],
   "source": [
    "%%file Arthur_msg_dao.py\n",
    "# -*- coding: UTF-8 -*-\n",
    "\n",
    "# author: leepand\n",
    "# time: 2018-11-30\n",
    "# desc: model discussion\n",
    "'''\n",
    "#评论管理表\n",
    "DROP TABLE IF EXISTS `tb_discussion_msg`;\n",
    "CREATE TABLE `tb_discussion_msg` (\n",
    "`msgid` int(10) NOT NULL AUTO_INCREMENT,\n",
    "`id` varchar(50) NOT NULL,\n",
    "`username` varchar(50) NOT NULL,\n",
    "`projectname` varchar(50) NOT NULL,\n",
    "`creator` varchar(50) NOT NULL,\n",
    "`created` varchar(50) NOT NULL,\n",
    "`modified` varchar(50) NOT NULL,\n",
    "`parent` varchar(50),\n",
    "`content` text NOT NULL,\n",
    "`pings` varchar(50),\n",
    "`fullname` varchar(50) NOT NULL,\n",
    "`profile_picture_url` varchar(50) NOT NULL,\n",
    "`created_by_admin` enum('true','false') DEFAULT 'false',\n",
    "`created_by_current_user` enum('true','false') DEFAULT 'false',\n",
    "`user_has_upvoted` enum('true','false') DEFAULT 'false',\n",
    "`is_new` enum('true','false') DEFAULT 'false',\n",
    "`upvote_count` int(10) NOT NULL,\n",
    "PRIMARY KEY (`msgid`)\n",
    ") ENGINE=InnoDB DEFAULT CHARSET=utf8;\n",
    "'''\n",
    "if __name__ == \"__main__\":\n",
    "    import sys\n",
    "\n",
    "    sys.path.append(\"..\")\n",
    "    sys.path.append(\"../base\")\n",
    "\n",
    "from hjs_cfg import *\n",
    "from bs_util import *\n",
    "from bs_database_pid import *\n",
    "\n",
    "\n",
    "class ArthurMsg:\n",
    "    @staticmethod\n",
    "    def insert_node_user_msg(id, username,projectname,creator,created, modified, parent, content, pings,fullname,profile_picture_url,\\\n",
    "                created_by_admin,created_by_current_user,user_has_upvoted,is_new,upvote_count):\n",
    "        dataBase = DataBase()\n",
    "        sql = \"insert into tb_discussion_msg(id, username,projectname,creator, \\\n",
    "        created, modified, parent, content, pings,fullname,profile_picture_url,\\\n",
    "        created_by_admin,created_by_current_user,user_has_upvoted,is_new,upvote_count) \\\n",
    "        values(%s, %s, %s, %s, %s, %s, %s, %s,%s, %s, %s, %s,%s, %s, %s, %s)\"\n",
    "        param = (id, username,projectname,creator,created, modified, parent, content, pings,fullname,profile_picture_url,\\\n",
    "                created_by_admin,created_by_current_user,user_has_upvoted,is_new,upvote_count)\n",
    "\n",
    "        bRet, sRet = dataBase.insert_data(sql, param)\n",
    "        if not bRet:\n",
    "            return False, sRet\n",
    "        \n",
    "        return True, sRet\n",
    "    @staticmethod\n",
    "    def update_node_user_msg(Id, content, modified):\n",
    "        dataBase = DataBase()\n",
    "        sql = \"update tb_discussion_msg set content = %s, modified = %s where id = %s\"\n",
    "        param = (content, modified, Id)\n",
    "\n",
    "        bRet, sRet = dataBase.update_data(sql, param)\n",
    "        if not bRet:\n",
    "            return False, sRet\n",
    "        \n",
    "        return True, sRet\n",
    "\n",
    "    @staticmethod\n",
    "    def query_node_by_id(Id,uName,pName):\n",
    "        dataBase = DataBase()\n",
    "        sql = \"select * from tb_discussion_msg where id = %s and username=%s and projectname= %s \"\n",
    "        param = (Id, uName, pName)\n",
    "\n",
    "        bRet, sRet = dataBase.query_data(sql, param)\n",
    "        #print bRet,sRet\n",
    "        if not bRet:\n",
    "            return False, sRet\n",
    "        if len(sRet)>0:\n",
    "            msginfo=sRet[0]\n",
    "        else:\n",
    "            msginfo={}\n",
    "        return True, msginfo#sRet[0]\n",
    "    @staticmethod\n",
    "    def query_node_msg_list():\n",
    "        dataBase = DataBase()\n",
    "        sql = \"select * from tb_discussion_msg\"\n",
    "\n",
    "        bRet, sRet = dataBase.query_data(sql, None)\n",
    "        if not bRet:\n",
    "            return False, sRet\n",
    "        \n",
    "        return True, sRet\n",
    "    @staticmethod\n",
    "    def query_node_msg_list_by_usrproj(user,proj):\n",
    "        dataBase = DataBase()\n",
    "        sql = \"select * from tb_discussion_msg where username=%s and projectname=%s\"\n",
    "        param = (user,proj)\n",
    "        bRet, sRet = dataBase.query_data(sql, param)\n",
    "        if not bRet:\n",
    "            return False, sRet\n",
    "        \n",
    "        return True, sRet\n",
    "if __name__ == \"__main__\":\n",
    "    x={'username': 'leepand6', 'parent':'null', 'created': '2018-12-22T02:07:29.646Z', 'projectname': 'leepand', 'modified': '2018-12-22T02:07:29.646Z', 'content': '@leepand3 test you are best', 'pings': '34', 'profile_picture_url': '../static/images/user-icon.png', 'fullname': 'You', 'upvote_count': '1', 'user_has_upvoted': 'false', 'id': 'c12', 'created_by_current_user': 'true'}\n",
    "    id=x['id'] \n",
    "    username=x['username']\n",
    "    projectname=x['projectname']\n",
    "    creator=1\n",
    "    created= x['created']\n",
    "    modified = x['modified']\n",
    "    parent = 'null'\n",
    "    content='lepadada'\n",
    "    #pings=''\n",
    "    fullname='leepand'\n",
    "    profile_picture_url=x['profile_picture_url']\n",
    "    created_by_admin='false'\n",
    "    created_by_current_user=x['created_by_current_user']\n",
    "    user_has_upvoted=x['user_has_upvoted']\n",
    "    is_new=x.get('is_new','false')\n",
    "    upvote_count=x.get('upvote_count','false')\n",
    "    #ArthurMsg.insert_node_user_msg(id, username,projectname,creator,created, modified, parent, content, pings,fullname,profile_picture_url,\\\n",
    "    #            created_by_admin,created_by_current_user,user_has_upvoted,is_new,upvote_count)\n",
    "    #yy=ArthurMsg.query_node_by_id('c13')\n",
    "    #zz=ArthurMsg.query_node_msg_list()\n",
    "    #ArthurMsg.update_node_user_msg('c12','hahhhhha','2018-12-29')\n",
    "    #fdf=ArthurMsg.query_node_msg_list_by_usrproj('leepand6','leepand3')"
   ]
  },
  {
   "cell_type": "code",
   "execution_count": 38,
   "metadata": {},
   "outputs": [
    {
     "data": {
      "text/plain": [
       "(True, [])"
      ]
     },
     "execution_count": 38,
     "metadata": {},
     "output_type": "execute_result"
    }
   ],
   "source": [
    "fdf"
   ]
  },
  {
   "cell_type": "code",
   "execution_count": 46,
   "metadata": {},
   "outputs": [
    {
     "data": {
      "text/plain": [
       "['18']"
      ]
     },
     "execution_count": 46,
     "metadata": {},
     "output_type": "execute_result"
    }
   ],
   "source": [
    "aa=[]\n",
    "aa.append('18')\n",
    "aa"
   ]
  },
  {
   "cell_type": "code",
   "execution_count": 33,
   "metadata": {},
   "outputs": [
    {
     "data": {
      "text/plain": [
       "0"
      ]
     },
     "execution_count": 33,
     "metadata": {},
     "output_type": "execute_result"
    }
   ],
   "source": [
    "len(yy[1])"
   ]
  },
  {
   "cell_type": "code",
   "execution_count": 22,
   "metadata": {},
   "outputs": [
    {
     "data": {
      "text/plain": [
       "(True,\n",
       " [{'content': 'lepadada',\n",
       "   'created': '2018-12-22T02:07:29.646Z',\n",
       "   'created_by_admin': 'false',\n",
       "   'created_by_current_user': 'true',\n",
       "   'creator': '1',\n",
       "   'fullname': 'leepand',\n",
       "   'id': 'c12',\n",
       "   'is_new': 'false',\n",
       "   'modified': '2018-12-22T02:07:29.646Z',\n",
       "   'msgid': 1L,\n",
       "   'parent': 'null',\n",
       "   'pings': '',\n",
       "   'profile_picture_url': '../static/images/user-icon.png',\n",
       "   'projectname': 'leepand',\n",
       "   'upvote_count': 1L,\n",
       "   'user_has_upvoted': 'false',\n",
       "   'username': 'leepand6'},\n",
       "  {'content': 'lepadada',\n",
       "   'created': '2018-12-22T02:07:29.646Z',\n",
       "   'created_by_admin': 'false',\n",
       "   'created_by_current_user': 'true',\n",
       "   'creator': '1',\n",
       "   'fullname': 'leepand',\n",
       "   'id': 'c12',\n",
       "   'is_new': 'false',\n",
       "   'modified': '2018-12-22T02:07:29.646Z',\n",
       "   'msgid': 2L,\n",
       "   'parent': 'null',\n",
       "   'pings': '',\n",
       "   'profile_picture_url': '../static/images/user-icon.png',\n",
       "   'projectname': 'leepand',\n",
       "   'upvote_count': 1L,\n",
       "   'user_has_upvoted': 'false',\n",
       "   'username': 'leepand6'},\n",
       "  {'content': 'lepadada',\n",
       "   'created': '2018-12-22T02:07:29.646Z',\n",
       "   'created_by_admin': 'false',\n",
       "   'created_by_current_user': 'true',\n",
       "   'creator': '1',\n",
       "   'fullname': 'leepand',\n",
       "   'id': 'c12',\n",
       "   'is_new': 'false',\n",
       "   'modified': '2018-12-22T02:07:29.646Z',\n",
       "   'msgid': 3L,\n",
       "   'parent': 'null',\n",
       "   'pings': '',\n",
       "   'profile_picture_url': '../static/images/user-icon.png',\n",
       "   'projectname': 'leepand',\n",
       "   'upvote_count': 1L,\n",
       "   'user_has_upvoted': 'false',\n",
       "   'username': 'leepand6'}])"
      ]
     },
     "execution_count": 22,
     "metadata": {},
     "output_type": "execute_result"
    }
   ],
   "source": [
    "zz"
   ]
  },
  {
   "cell_type": "code",
   "execution_count": 8,
   "metadata": {},
   "outputs": [],
   "source": [
    "def yg_tm_str_int(strTm, format=\"%Y-%m-%d %H:%M:%S\"):\n",
    "    if type(strTm) == datetime.datetime:\n",
    "        strTm = strTm.strftime(format)\n",
    "    tmTuple = time.strptime(strTm, format)\n",
    "    return time.mktime(tmTuple)\n",
    "x=None"
   ]
  },
  {
   "cell_type": "code",
   "execution_count": null,
   "metadata": {},
   "outputs": [],
   "source": [
    "{'parent': '', \n",
    " 'created': '2018-12-21T08:40:25.692Z',\n",
    " 'modified': '2018-12-21T08:40:25.692Z', \n",
    " 'content': 'ddd', \n",
    " 'profile_picture_url': '../static/images/user-icon.png', \n",
    " 'fullname': 'You', \n",
    " 'upvote_count': '0', \n",
    " 'user_has_upvoted': 'false', \n",
    " 'id': 'c12', \n",
    " 'created_by_current_user': 'true'}"
   ]
  },
  {
   "cell_type": "code",
   "execution_count": null,
   "metadata": {},
   "outputs": [],
   "source": [
    "   \"id\": 3,\n",
    "   \"parent\": null,\n",
    "   \"created\": \"2015-01-03\",\n",
    "   \"modified\": \"2015-01-03\",\n",
    "   \"content\": \"@Hank Smith sed posuere interdum sem.\\nQuisque ligula eros ullamcorper https://www.google.com/ quis, lacinia quis facilisis sed sapien. Mauris varius diam vitae arcu. Sed arcu lectus auctor vitae, consectetuer et venenatis eget #velit.\",\n",
    "   \"pings\": [3],\n",
    "   \"creator\": 1,\n",
    "   \"fullname\": \"You\",\n",
    "   \"profile_picture_url\": \"https://viima-app.s3.amazonaws.com/media/public/defaults/user-icon.png\",\n",
    "   \"created_by_admin\": false,\n",
    "   \"created_by_current_user\": true,\n",
    "   \"upvote_count\": 2,\n",
    "   \"user_has_upvoted\": true,\n",
    "   \"is_new\": false"
   ]
  },
  {
   "cell_type": "code",
   "execution_count": 42,
   "metadata": {},
   "outputs": [
    {
     "data": {
      "text/plain": [
       "''"
      ]
     },
     "execution_count": 42,
     "metadata": {},
     "output_type": "execute_result"
    }
   ],
   "source": [
    "uu={'username': 'leepand6', 'parent': '', 'created': '2018-12-22T05:56:52.351Z', 'projectname': 'leepand', 'modified': '2018-12-22T05:56:52.351Z', 'content': '@leepand not ', 'profile_picture_url': '../static/images/user-icon.png', 'fullname': 'You', 'upvote_count': '0', 'user_has_upvoted': 'false', 'id': 'c1', 'created_by_current_user': 'true'}\n",
    "uu.get('parent','null')"
   ]
  },
  {
   "cell_type": "code",
   "execution_count": 1,
   "metadata": {},
   "outputs": [],
   "source": [
    "import fib"
   ]
  },
  {
   "cell_type": "code",
   "execution_count": null,
   "metadata": {},
   "outputs": [],
   "source": []
  }
 ],
 "metadata": {
  "kernelspec": {
   "display_name": "Python 2",
   "language": "python",
   "name": "python2"
  },
  "language_info": {
   "codemirror_mode": {
    "name": "ipython",
    "version": 2
   },
   "file_extension": ".py",
   "mimetype": "text/x-python",
   "name": "python",
   "nbconvert_exporter": "python",
   "pygments_lexer": "ipython2",
   "version": "2.7.13"
  }
 },
 "nbformat": 4,
 "nbformat_minor": 2
}
