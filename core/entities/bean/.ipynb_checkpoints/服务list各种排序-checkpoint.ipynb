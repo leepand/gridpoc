{
 "cells": [
  {
   "cell_type": "code",
   "execution_count": 6,
   "metadata": {},
   "outputs": [
    {
     "name": "stderr",
     "output_type": "stream",
     "text": [
      "[03/01/2019 19:04:00][DEBUG]../base/bs_database_pid.py::_exec_cmdstr(106): select count(*) as cnt from tb_algo where 1=1 and status = %s\t['normal']\n",
      "[03/01/2019 19:04:00][DEBUG]../base/bs_database_pid.py::_new_conn(31): conn(host: 127.0.0.1, port: 3306, user: root, passwd: , db: Arthur_manage)\n",
      "[03/01/2019 19:04:00][DEBUG]../base/bs_database_pid.py::_exec_cmdstr(106): select * from tb_algo where 1=1 and status = %s order by aid desc limit %s, %s\t['normal', 0, 1000]\n",
      "[03/01/2019 19:04:00][DEBUG]../base/bs_database_pid.py::_new_conn(31): conn(host: 127.0.0.1, port: 3306, user: root, passwd: , db: Arthur_manage)\n",
      "[03/01/2019 19:04:00][DEBUG]../base/bs_database_pid.py::_exec_cmdstr(106): select * from tb_user where uid = %s\t[18L]\n",
      "[03/01/2019 19:04:00][DEBUG]../base/bs_database_pid.py::_new_conn(31): conn(host: 127.0.0.1, port: 3306, user: root, passwd: , db: Arthur_manage)\n",
      "[03/01/2019 19:04:00][DEBUG]../base/bs_database_pid.py::_exec_cmdstr(106): select * from tb_user where uid = %s\t[35L]\n",
      "[03/01/2019 19:04:01][DEBUG]../base/bs_database_pid.py::_new_conn(31): conn(host: 127.0.0.1, port: 3306, user: root, passwd: , db: Arthur_manage)\n",
      "[03/01/2019 19:04:01][DEBUG]../base/bs_database_pid.py::_exec_cmdstr(106): select * from tb_user where uid = %s\t[35L]\n",
      "[03/01/2019 19:04:01][DEBUG]../base/bs_database_pid.py::_new_conn(31): conn(host: 127.0.0.1, port: 3306, user: root, passwd: , db: Arthur_manage)\n",
      "[03/01/2019 19:04:01][DEBUG]../base/bs_database_pid.py::_exec_cmdstr(106): select * from tb_user where uid = %s\t[35L]\n",
      "[03/01/2019 19:04:01][DEBUG]../base/bs_database_pid.py::_new_conn(31): conn(host: 127.0.0.1, port: 3306, user: root, passwd: , db: Arthur_manage)\n",
      "[03/01/2019 19:04:01][DEBUG]../base/bs_database_pid.py::_exec_cmdstr(106): select * from tb_user where uid = %s\t[18L]\n",
      "[03/01/2019 19:04:01][DEBUG]../base/bs_database_pid.py::_new_conn(31): conn(host: 127.0.0.1, port: 3306, user: root, passwd: , db: Arthur_manage)\n",
      "[03/01/2019 19:04:01][DEBUG]../base/bs_database_pid.py::_exec_cmdstr(106): select * from tb_user where uid = %s\t[35L]\n",
      "[03/01/2019 19:04:01][DEBUG]../base/bs_database_pid.py::_new_conn(31): conn(host: 127.0.0.1, port: 3306, user: root, passwd: , db: Arthur_manage)\n"
     ]
    }
   ],
   "source": [
    "from Arthur_service import ArthurService\n",
    "bRet, algoList=ArthurService.service_zoo_list(page=1,length=1000, status='normal', search=None)"
   ]
  },
  {
   "cell_type": "code",
   "execution_count": 8,
   "metadata": {},
   "outputs": [
    {
     "data": {
      "text/plain": [
       "[<Storage {'algoname': 'ctr_pred', 'status': 'normal', 'remark': 'pip install Arthur', 'insert_tm': '2019-01-03 14:33:59', 'uid': 18, 'atype': 'REST', 'token': '2d0fb950146e0ef999e69ee84cccfeba', 'field': 1L, 'algodesc': '\\xe5\\xae\\x9e\\xe6\\x97\\xb6\\xe7\\xab\\x9e\\xe4\\xbb\\xb7\\xe7\\x82\\xb9\\xe5\\x87\\xbb\\xe7\\x8e\\x87\\xe9\\xa2\\x84\\xe4\\xbc\\xb0', 'host': '0.0.0.0', 'aid': 13, 'algo_tm': '2018-11-30', 'user_name': 'Boris', 'port': 9009L}>,\n",
       " <Storage {'algoname': 'publish_3.0', 'status': 'normal', 'remark': 'pip install Arthur', 'insert_tm': '2018-12-29 14:28:19', 'uid': 35, 'atype': 'REST', 'token': '200fdc73140e98f9d6a61be64cac9eba', 'field': 0L, 'algodesc': 'machine learning', 'host': '0.0.0.0', 'aid': 12, 'algo_tm': '2018-12-29', 'user_name': 'leepand6', 'port': 9021L}>,\n",
       " <Storage {'algoname': 'model_publish', 'status': 'normal', 'remark': 'pip install Arthur', 'insert_tm': '2018-12-29 16:46:48', 'uid': 35, 'atype': 'REST', 'token': '200fdc73140e98f9d6a61be64cac9eba', 'field': 3L, 'algodesc': '\\xe6\\x9c\\xba\\xe5\\x99\\xa8\\xe5\\xad\\xa6\\xe4\\xb9\\xa0\\xe5\\x8f\\x91\\xe5\\xb8\\x83\\xe6\\xb5\\x8b\\xe8\\xaf\\x95', 'host': '0.0.0.0', 'aid': 11, 'algo_tm': '2018-12-29', 'user_name': 'leepand6', 'port': 9017L}>,\n",
       " <Storage {'algoname': 'leepand_test5', 'status': 'normal', 'remark': 'pip install Arthur', 'insert_tm': '2018-12-29 13:10:52', 'uid': 35, 'atype': 'REST', 'token': '200fdc73140e98f9d6a61be64cac9eba', 'field': 2L, 'algodesc': 'not', 'host': '0.0.0.0', 'aid': 10, 'algo_tm': '2018-11-30', 'user_name': 'leepand6', 'port': 9091L}>,\n",
       " <Storage {'algoname': 'xgboost', 'status': 'normal', 'remark': 'test', 'insert_tm': '2018-12-19 20:47:33', 'uid': 18, 'atype': 'REST', 'token': '2d0fb950146e0ef999e69ee84cccfeba', 'field': 1L, 'algodesc': '\\xe7\\x82\\xb9\\xe5\\x87\\xbb\\xe7\\x8e\\x87\\xe9\\xa2\\x84\\xe4\\xbc\\xb0', 'host': '0.0.0.0', 'aid': 9, 'algo_tm': '2018-11-11', 'user_name': 'Boris', 'port': 9002L}>,\n",
       " <Storage {'algoname': 'leepand', 'status': 'normal', 'remark': 'just test', 'insert_tm': '2018-12-19 13:24:14', 'uid': 35, 'atype': 'recom', 'token': 'sdksadfksdf', 'field': 42L, 'algodesc': 'text mining', 'host': '0.0.0.0', 'aid': 1, 'algo_tm': '2018-03-12', 'user_name': 'leepand6', 'port': 9000L}>]"
      ]
     },
     "execution_count": 8,
     "metadata": {},
     "output_type": "execute_result"
    }
   ],
   "source": [
    "algoList['service_list']"
   ]
  },
  {
   "cell_type": "code",
   "execution_count": 25,
   "metadata": {},
   "outputs": [],
   "source": [
    "lst=algoList['service_list']\n",
    "c= lst.sort(key=lambda k: (dict(k).get('insert_tm', 0)))"
   ]
  },
  {
   "cell_type": "code",
   "execution_count": 35,
   "metadata": {},
   "outputs": [
    {
     "name": "stdout",
     "output_type": "stream",
     "text": [
      "None\n",
      "[{'time': 5, 'star': 40, 'level': 20}, {'time': 4, 'star': 40, 'level': 20}, {'time': 3, 'star': 40, 'level': 20}, {'time': 2, 'star': 40, 'level': 20}, {'time': 1, 'star': 36, 'level': 19}, {'time': 1, 'star': 40, 'level': 18}]\n"
     ]
    }
   ],
   "source": [
    "# 复杂的dict，按照dict对象中某一个属性进行排序\n",
    "lst = [{'level': 19, 'star': 36, 'time': 1},\n",
    "       {'level': 20, 'star': 40, 'time': 2},\n",
    "       {'level': 20, 'star': 40, 'time': 3},\n",
    "       {'level': 20, 'star': 40, 'time': 4},\n",
    "       {'level': 20, 'star': 40, 'time': 5},\n",
    "       {'level': 18, 'star': 40, 'time': 1}]\n",
    "\n",
    "# 需求:\n",
    "# level越大越靠前;\n",
    "# level相同, star越大越靠前;\n",
    "# level和star相同, time越小越靠前;\n",
    "\n",
    "# 先按time排序\n",
    "print lst.sort(key=lambda k: (k.get('level', 0), k.get('star', 0)), reverse=True)#lst.sort(key=lambda k: (k.get('time', 0)))\n",
    "from operator import itemgetter\n",
    "trends = sorted(lst,key = itemgetter('time'),reverse = True)\n",
    "print trends"
   ]
  },
  {
   "cell_type": "code",
   "execution_count": 37,
   "metadata": {},
   "outputs": [
    {
     "data": {
      "text/plain": [
       "[<Storage {'algoname': 'ctr_pred', 'status': 'normal', 'remark': 'pip install Arthur', 'insert_tm': '2019-01-03 14:33:59', 'uid': 18, 'atype': 'REST', 'token': '2d0fb950146e0ef999e69ee84cccfeba', 'field': 1L, 'algodesc': '\\xe5\\xae\\x9e\\xe6\\x97\\xb6\\xe7\\xab\\x9e\\xe4\\xbb\\xb7\\xe7\\x82\\xb9\\xe5\\x87\\xbb\\xe7\\x8e\\x87\\xe9\\xa2\\x84\\xe4\\xbc\\xb0', 'host': '0.0.0.0', 'aid': 13, 'algo_tm': '2018-11-30', 'user_name': 'Boris', 'port': 9009L}>,\n",
       " <Storage {'algoname': 'model_publish', 'status': 'normal', 'remark': 'pip install Arthur', 'insert_tm': '2018-12-29 16:46:48', 'uid': 35, 'atype': 'REST', 'token': '200fdc73140e98f9d6a61be64cac9eba', 'field': 3L, 'algodesc': '\\xe6\\x9c\\xba\\xe5\\x99\\xa8\\xe5\\xad\\xa6\\xe4\\xb9\\xa0\\xe5\\x8f\\x91\\xe5\\xb8\\x83\\xe6\\xb5\\x8b\\xe8\\xaf\\x95', 'host': '0.0.0.0', 'aid': 11, 'algo_tm': '2018-12-29', 'user_name': 'leepand6', 'port': 9017L}>,\n",
       " <Storage {'algoname': 'publish_3.0', 'status': 'normal', 'remark': 'pip install Arthur', 'insert_tm': '2018-12-29 14:28:19', 'uid': 35, 'atype': 'REST', 'token': '200fdc73140e98f9d6a61be64cac9eba', 'field': 0L, 'algodesc': 'machine learning', 'host': '0.0.0.0', 'aid': 12, 'algo_tm': '2018-12-29', 'user_name': 'leepand6', 'port': 9021L}>,\n",
       " <Storage {'algoname': 'leepand_test5', 'status': 'normal', 'remark': 'pip install Arthur', 'insert_tm': '2018-12-29 13:10:52', 'uid': 35, 'atype': 'REST', 'token': '200fdc73140e98f9d6a61be64cac9eba', 'field': 2L, 'algodesc': 'not', 'host': '0.0.0.0', 'aid': 10, 'algo_tm': '2018-11-30', 'user_name': 'leepand6', 'port': 9091L}>,\n",
       " <Storage {'algoname': 'xgboost', 'status': 'normal', 'remark': 'test', 'insert_tm': '2018-12-19 20:47:33', 'uid': 18, 'atype': 'REST', 'token': '2d0fb950146e0ef999e69ee84cccfeba', 'field': 1L, 'algodesc': '\\xe7\\x82\\xb9\\xe5\\x87\\xbb\\xe7\\x8e\\x87\\xe9\\xa2\\x84\\xe4\\xbc\\xb0', 'host': '0.0.0.0', 'aid': 9, 'algo_tm': '2018-11-11', 'user_name': 'Boris', 'port': 9002L}>,\n",
       " <Storage {'algoname': 'leepand', 'status': 'normal', 'remark': 'just test', 'insert_tm': '2018-12-19 13:24:14', 'uid': 35, 'atype': 'recom', 'token': 'sdksadfksdf', 'field': 42L, 'algodesc': 'text mining', 'host': '0.0.0.0', 'aid': 1, 'algo_tm': '2018-03-12', 'user_name': 'leepand6', 'port': 9000L}>]"
      ]
     },
     "execution_count": 37,
     "metadata": {},
     "output_type": "execute_result"
    }
   ],
   "source": [
    "lst=algoList['service_list']\n",
    "from operator import itemgetter\n",
    "trends = sorted(lst,key = itemgetter('insert_tm'),reverse = True)\n",
    "trends"
   ]
  },
  {
   "cell_type": "code",
   "execution_count": 22,
   "metadata": {},
   "outputs": [
    {
     "name": "stdout",
     "output_type": "stream",
     "text": [
      "<class 'web.utils.Storage'> 2018-12-19 13:24:14\n",
      "<class 'web.utils.Storage'> 2018-12-19 20:47:33\n",
      "<class 'web.utils.Storage'> 2018-12-29 13:10:52\n",
      "<class 'web.utils.Storage'> 2018-12-29 14:28:19\n",
      "<class 'web.utils.Storage'> 2018-12-29 16:46:48\n",
      "<class 'web.utils.Storage'> 2019-01-03 14:33:59\n"
     ]
    }
   ],
   "source": [
    "for k in lst:\n",
    "    print type(k),dict(k).get('insert_tm',0)"
   ]
  },
  {
   "cell_type": "code",
   "execution_count": 12,
   "metadata": {},
   "outputs": [
    {
     "data": {
      "text/plain": [
       "<Storage {}>"
      ]
     },
     "execution_count": 12,
     "metadata": {},
     "output_type": "execute_result"
    }
   ],
   "source": [
    "algo_info = storage()\n",
    "algo_info"
   ]
  },
  {
   "cell_type": "code",
   "execution_count": 3,
   "metadata": {},
   "outputs": [
    {
     "ename": "ImportError",
     "evalue": "No module named hjs_cfg",
     "output_type": "error",
     "traceback": [
      "\u001b[0;31m----------------------------------------------------------------\u001b[0m",
      "\u001b[0;31mImportError\u001b[0m                    Traceback (most recent call last)",
      "\u001b[0;32m<ipython-input-3-2a36001c0314>\u001b[0m in \u001b[0;36m<module>\u001b[0;34m()\u001b[0m\n\u001b[1;32m     15\u001b[0m \u001b[0;34m\u001b[0m\u001b[0m\n\u001b[1;32m     16\u001b[0m \u001b[0;32mfrom\u001b[0m \u001b[0mweb\u001b[0m\u001b[0;34m.\u001b[0m\u001b[0mutils\u001b[0m \u001b[0;32mimport\u001b[0m \u001b[0;34m*\u001b[0m\u001b[0;34m\u001b[0m\u001b[0m\n\u001b[0;32m---> 17\u001b[0;31m \u001b[0;32mfrom\u001b[0m \u001b[0mhjs_cfg\u001b[0m \u001b[0;32mimport\u001b[0m \u001b[0;34m*\u001b[0m\u001b[0;34m\u001b[0m\u001b[0m\n\u001b[0m\u001b[1;32m     18\u001b[0m \u001b[0;32mfrom\u001b[0m \u001b[0mbs_util\u001b[0m \u001b[0;32mimport\u001b[0m \u001b[0;34m*\u001b[0m\u001b[0;34m\u001b[0m\u001b[0m\n\u001b[1;32m     19\u001b[0m \u001b[0;32mfrom\u001b[0m \u001b[0mbs_time\u001b[0m \u001b[0;32mimport\u001b[0m \u001b[0;34m*\u001b[0m\u001b[0;34m\u001b[0m\u001b[0m\n",
      "\u001b[0;31mImportError\u001b[0m: No module named hjs_cfg"
     ]
    }
   ],
   "source": [
    "# -*- coding: UTF-8 -*-\n",
    "\n",
    "# author: leepand\n",
    "# time: 2018-11-27\n",
    "# desc: service处理逻辑 \n",
    "\n",
    "\n",
    "if __name__ == \"__main__\":\n",
    "    import sys\n",
    "    import os\n",
    "\n",
    "    sys.path.append(\"..\")\n",
    "    sys.path.append(\"../base\")\n",
    "    sys.path.append(\"../dao\")\n",
    "\n",
    "from web.utils import *\n",
    "from hjs_cfg import *\n",
    "from bs_util import *\n",
    "from bs_time import *\n",
    "from hjs_user import *\n",
    "from hjs_user_dao import *\n",
    "from Arthur_service_dao import *\n",
    "from Arthur_ps_service_dao import *\n",
    "from Arthur_utils import Connector\n",
    "#from hjs_ps_order_dao import *\n",
    "#from hjs_custom_dao import *\n",
    "\n",
    "\n",
    "class ServiceStatus:\n",
    "    ALL    = 'all'\n",
    "    STOP   = 'stop'\n",
    "    NORMAL = 'normal'\n",
    "    DELETE = 'delete'\n",
    "    NOTPUBLISH = 'notpublish'\n",
    "\n",
    "\n",
    "class ArthurService:\n",
    "\n",
    "    @staticmethod\n",
    "    def _page_data(data_list, status, search, page):\n",
    "        if not isinstance(page, Page):\n",
    "            return data_list\n",
    "        return {\n",
    "            \"page_count\": page.page_count,\n",
    "            \"current\": page.page_index,\n",
    "            \"service_list\": data_list,\n",
    "            \"service_query\": {\"status\": status, \"search\": search}\n",
    "        }\n",
    "\n",
    "    @staticmethod\n",
    "    def service_zoo_list(page, length, status=None, search=None):\n",
    "        allow_status = [ServiceStatus.ALL, ServiceStatus.NORMAL, ServiceStatus.STOP, ServiceStatus.DELETE,ServiceStatus.NOTPUBLISH]\n",
    "        if status and (status not in allow_status):\n",
    "            return False, 'param(status) not define'\n",
    "\n",
    "        bRet, count = ArthurAlgoDao.query_node_count(status, search)\n",
    "        if not bRet:\n",
    "            return False, count\n",
    "\n",
    "        pg = Page(count, page, length)\n",
    "        bRet, sRet = ArthurAlgoDao.query_node_list(pg.offset, pg.limit, status, search)\n",
    "        if not bRet:\n",
    "            Log.err('list algo fail: %s' % str(sRet))\n",
    "            return False, sRet\n",
    "        if len(sRet) == 0:\n",
    "            return True, None\n",
    "        \n",
    "        algoList = list()\n",
    "        for item in sRet:\n",
    "            _bRet,uName=HjsUser.user_info(item['uid'])\n",
    "            if not _bRet:\n",
    "                uName=''\n",
    "            user_name= uName.username\n",
    "            algo_info = storage()\n",
    "            algo_info.aid = int(item['aid'])\n",
    "            algo_info.uid = int(item['uid'])\n",
    "            algo_info.user_name =str(user_name)\n",
    "            algo_info.algoname = item['algoname']\n",
    "            algo_info.algodesc = item['algodesc']\n",
    "            algo_info.atype = item['atype'];\n",
    "            algo_info.algo_tm = str(item['algo_tm'])[:10]\n",
    "            algo_info.token = item['token']\n",
    "            algo_info.host = item['host']\n",
    "            algo_info.port = item['port']\n",
    "            algo_info.field = item['field']\n",
    "            #order_info.start_tm = str(item['start_tm'])\n",
    "            #order_info.end_tm = str(item['end_tm'])\n",
    "            #order_info.amount = item['amount']\n",
    "            #order_info.cash = item['cash']\n",
    "            algo_info.status = item['status']\n",
    "            algo_info.remark = item['remark']\n",
    "            algo_info.insert_tm = str(item['insert_tm'])#[2:16]\n",
    "            algoList.append(algo_info)\n",
    "        return True, ArthurService._page_data(algoList, status, search, pg)\n",
    "    @staticmethod\n",
    "    def service_user_list(uid,page, length, status=None, search=None):\n",
    "        allow_status = [ServiceStatus.ALL, ServiceStatus.NORMAL, ServiceStatus.STOP, ServiceStatus.DELETE,ServiceStatus.NOTPUBLISH]\n",
    "        if status and (status not in allow_status):\n",
    "            return False, 'param(status) not define'\n",
    "\n",
    "        bRet, count = ArthurAlgoDao.query_node_count_by_uid(uid,status, search)\n",
    "        if not bRet:\n",
    "            return False, count\n",
    "\n",
    "        pg = Page(count, page, length)\n",
    "        bRet, sRet = ArthurAlgoDao.query_node_list_by_uid(uid,pg.offset, pg.limit, status, search)\n",
    "        if not bRet:\n",
    "            Log.err('list algo fail: %s' % str(sRet))\n",
    "            return False, sRet\n",
    "        if len(sRet) == 0:\n",
    "            return True, None\n",
    "        \n",
    "        algoList = list()\n",
    "        for item in sRet:\n",
    "            algo_info = storage()\n",
    "            algo_info.aid = int(item['aid'])\n",
    "            algo_info.uid = int(item['uid'])\n",
    "            algo_info.algoname = item['algoname']\n",
    "            algo_info.algodesc = item['algodesc']\n",
    "            algo_info.atype = item['atype'];\n",
    "            algo_info.algo_tm = str(item['algo_tm'])[:10]\n",
    "            algo_info.token = item['token']\n",
    "            algo_info.host = item['host']\n",
    "            algo_info.port = item['port']\n",
    "            algo_info.field = item['field']\n",
    "            #order_info.start_tm = str(item['start_tm'])\n",
    "            #order_info.end_tm = str(item['end_tm'])\n",
    "            #order_info.amount = item['amount']\n",
    "            #order_info.cash = item['cash']\n",
    "            algo_info.status = item['status']\n",
    "            algo_info.remark = item['remark']\n",
    "            algo_info.insert_tm = str(item['insert_tm'])#[2:16]\n",
    "            algoList.append(algo_info)\n",
    "        return True, ArthurService._page_data(algoList, status, search, pg)\n",
    "\n",
    "    @staticmethod\n",
    "    def service_today(status='normal', days=0):\n",
    "        tg_date = get_cur_day(days, format=\"%Y-%m-%d %H:%M:%S\")#\"%Y-%m-%d %H:%M:%S\" %Y-%m-%d\n",
    "        bRet, algoList_tmp = ArthurAlgoDao.query_node_by_date(status, tg_date)\n",
    "        if not bRet:\n",
    "            return False, algoList\n",
    "        \n",
    "        bRet, sRet = ArthurServicePauseDao.query_node_by_date(tg_date)\n",
    "        if not bRet:\n",
    "            return False, sRet\n",
    "        \n",
    "        pauseList = list()\n",
    "        for item in sRet:\n",
    "            if item.has_key('aid'):\n",
    "                pauseList.append(item['aid'])\n",
    "\n",
    "        algoList = list()\n",
    "        for item in algoList_tmp:\n",
    "            if item['aid'] in pauseList: continue\n",
    "            \n",
    "            algo_info = storage()\n",
    "            algo_info.aid = int(item['aid'])\n",
    "            algo_info.uid = int(item['uid'])\n",
    "            algo_info.algoname = item['algoname']\n",
    "            algo_info.algodesc = item['algodesc']\n",
    "            algo_info.atype = item['atype']\n",
    "            algo_info.algo_tm = str(item['algo_tm'])\n",
    "            algo_info.status = item['status']\n",
    "            algo_info.remark = item['remark']\n",
    "            algo_info.token = item['token']\n",
    "            algo_info.host = item['host']\n",
    "            algo_info.port = item['port']\n",
    "            algo_info.field = item['field']\n",
    "            #bRet, custom_info = HjsCustomDao.query_node_by_cid(order_info.cid)\n",
    "            #order_info.address = custom_info['address'] if bRet else '--'\n",
    "            #order_info.phone = custom_info['phone'] if bRet else '--'\n",
    "            #order_info.ctype = custom_info['ctype'] if bRet else '--'\n",
    "\n",
    "            algoList.append(algo_info)\n",
    "\n",
    "        return True, algoList\n",
    "\n",
    "\n",
    "\n",
    "    #(uId, algoname,algodesc,token,pyfile,funcslist,tags,field,host,port,atype, algo_tm,is_email, remark, get_cur_time())\n",
    "    @staticmethod\n",
    "    def service_add(uId, algoname, algodesc,opertype, pyfile,funcslist,tags,field,host,port,\n",
    "                   algo_tm,is_email, remark):\n",
    "        atype='REST'\n",
    "        Token_gen=Connector.encrypt_token( 1, str(uId), 'session_token')\n",
    "        Token_info=Token_gen['token']\n",
    "        return ArthurAlgoDao.insert_node(uId, algoname, algodesc,opertype,Token_info, pyfile,funcslist,tags,field,host,port,atype,\n",
    "                   algo_tm,is_email, remark)\n",
    "\n",
    "\n",
    "    #@staticmethod\n",
    "    #def order_update(oId, otype, order_tm, start_tm, end_tm, amount, cash, status, remark):\n",
    "    #    return HjsOrderDao.update_node(oId, otype, order_tm, start_tm, end_tm, amount, cash, status, remark)\n",
    "    #add 2018-12-29增加对服务状态的更新（发布时）\n",
    "    @staticmethod\n",
    "    def algo_publish_status_update(aId, status):\n",
    "        return ArthurAlgoDao.update_node_status(aId, status)\n",
    "    @staticmethod\n",
    "    def order_update(oId, otype, order_tm, status,remark):\n",
    "        return HjsOrderDao.update_node(oId, otype, order_tm, status,remark)\n",
    "\n",
    "    @staticmethod\n",
    "    def order_del(oId):\n",
    "        return HjsOrderDao.update_node_status(oId, 'stop')\n",
    "\n",
    "    #add 2018-12-29\n",
    "    @staticmethod\n",
    "    def algo_info(aId):\n",
    "        bRet, sRet = ArthurAlgoDao.query_node_by_aid(aId)\n",
    "        if not bRet:\n",
    "            return False, sRet\n",
    "        \n",
    "        algo_info = storage()\n",
    "        algo_info.aid = int(sRet['aid'])\n",
    "        algo_info.uid = int(sRet['uid'])\n",
    "        algo_info.algoname = sRet['algoname']\n",
    "        algo_info.status = sRet['status']\n",
    "        algo_info.port = str(sRet['port'])[:10]\n",
    "        #order_info.start_tm = str(sRet['start_tm'])\n",
    "        #order_info.end_tm = str(sRet['end_tm'])\n",
    "        #order_info.amount = sRet['amount']\n",
    "        #order_info.cash = sRet['cash']\n",
    "        algo_info.host = sRet['host']\n",
    "        algo_info.token = sRet['token']\n",
    "        algo_info.funcslist = sRet['funcslist']\n",
    "        return True, algo_info\n",
    "    #add 2019-01-03\n",
    "    @staticmethod\n",
    "    def algo_proj_info(uId,AlgoName):\n",
    "        bRet, sRet = ArthurAlgoDao.query_node_by_proj_uid(uId,AlgoName)\n",
    "        if not bRet:\n",
    "            return False, sRet\n",
    "        \n",
    "        algo_info = storage()\n",
    "        algo_info.aid = int(sRet['aid'])\n",
    "        algo_info.uid = int(sRet['uid'])\n",
    "        algo_info.algoname = sRet['algoname']\n",
    "        algo_info.algodesc = sRet['algodesc']\n",
    "        algo_info.status = sRet['status']\n",
    "        algo_info.tags = sRet['tags']\n",
    "        algo_info.field = sRet['field']\n",
    "        algo_info.port = str(sRet['port'])\n",
    "        #order_info.start_tm = str(sRet['start_tm'])\n",
    "        #order_info.end_tm = str(sRet['end_tm'])\n",
    "        #order_info.amount = sRet['amount']\n",
    "        #order_info.cash = sRet['cash']\n",
    "        algo_info.host = sRet['host']\n",
    "        algo_info.token = sRet['token']\n",
    "        algo_info.funcslist = sRet['funcslist']\n",
    "        algo_info.remark = sRet['remark']\n",
    "        return True, algo_info\n",
    "\n",
    "\n",
    "if __name__ == \"__main__\":\n",
    "    \n",
    "    #print ArthurService.service_today() \n",
    "    #print ArthurService.service_zoo_list(1, 20, status=None, search=None) \n",
    "    #print ArthurService.service_user_list(35,1, 20, status=None, search=None)\n",
    "    print ArthurService.algo_info(1)\n",
    "    #print HjsOrder.order_info(2003)\n",
    "    #cId, otype, order_tm, start_tm, end_tm, amount, cash, remark\n",
    "    #orfa={\"cId\": 1,\"otype\": \"A\", \"order_tm\": \"2018-03-12 12:23:11\",\"remark\":\"need 20\"}\n",
    "    #print HjsOrder.order_add(**orfa)\n",
    "   # print HjsOrder.order_today()\n",
    "    #print ArthurService.service_user_list(page, length, status=None, search=None)\n",
    "\n",
    "    #订单需要与客户绑定才能插入\n",
    "    pass\n"
   ]
  },
  {
   "cell_type": "code",
   "execution_count": 1,
   "metadata": {},
   "outputs": [
    {
     "name": "stdout",
     "output_type": "stream",
     "text": [
      ">>>>  {'dt_algo_list': {'algo_list_bytime': [<Storage {'algoname': 'js_testAB2', 'status': 'normal', 'remark': '\\xe6\\x9c\\xba\\xe5\\x99\\xa8\\xe5\\xad\\xa6\\xe4\\xb9\\xa0\\xe7\\x88\\xb1\\xe5\\xa5\\xbd\\xe8\\x80\\x85', 'insert_tm': '2019-02-13 13:28:42', 'uid': 1, 'atype': 'REST', 'token': '20bf7679146eaef99136cde84ccc1eba', 'field': 0L, 'algodesc': 'A/B testing', 'host': '0.0.0.0', 'aid': 39, 'algo_tm': '2019-02-13', 'user_name': 'leepand6', 'port': 30318L}>, <Storage {'algoname': 'new_year_exp', 'status': 'normal', 'remark': '\\xe6\\x9c\\xba\\xe5\\x99\\xa8\\xe5\\xad\\xa6\\xe4\\xb9\\xa0\\xe7\\x88\\xb1\\xe5\\xa5\\xbd\\xe8\\x80\\x85', 'insert_tm': '2019-02-11 20:43:09', 'uid': 1, 'atype': 'REST', 'token': '20bf7679146eaef99136cde84ccc1eba', 'field': 3L, 'algodesc': 'machine learning', 'host': '0.0.0.0', 'aid': 37, 'algo_tm': '2019-02-09', 'user_name': 'leepand6', 'port': 42756L}>, <Storage {'algoname': 'None', 'status': 'normal', 'remark': '\\xe6\\x9c\\xba\\xe5\\x99\\xa8\\xe5\\xad\\xa6\\xe4\\xb9\\xa0\\xe7\\x88\\xb1\\xe5\\xa5\\xbd\\xe8\\x80\\x85', 'insert_tm': '2019-01-29 08:27:11', 'uid': 1, 'atype': 'REST', 'token': '20bf7679146eaef99136cde84ccc1eba', 'field': 1L, 'algodesc': '\\xe6\\x9a\\x82\\xe6\\x97\\xa0\\xe6\\x8f\\x8f\\xe8\\xbf\\xb0\\xef\\xbc\\x8c\\xe8\\xaf\\xb7\\xe5\\x88\\xb0\\xe4\\xb8\\xbb\\xe9\\xa1\\xb5\\xe7\\xbc\\x96\\xe8\\xbe\\x91\\xe6\\xb7\\xbb\\xe5\\x8a\\xa0', 'host': '0.0.0.0', 'aid': 35, 'algo_tm': '2019-01-29', 'user_name': 'leepand6', 'port': 48322L}>, <Storage {'algoname': 'leepand13', 'status': 'normal', 'remark': '\\xe7\\xa7\\x91\\xe8\\xbe\\xbe\\xe8\\x82\\xa1\\xe4\\xbb\\xbd\\xe6\\x88\\x98\\xe7\\x95\\xa5\\xe5\\xae\\x98\\xe5\\x85\\xbc\\xe4\\xbb\\xbb\\xe9\\xa6\\x96\\xe5\\xb8\\xad\\xe7\\xa7\\x91\\xe5\\xad\\xa6\\xe5\\xae\\xb6', 'insert_tm': '2019-01-28 14:51:57', 'uid': 2, 'atype': 'REST', 'token': '2a9f9670106e9ef9d456491840cc9eba', 'field': 1L, 'algodesc': '\\xe6\\x9a\\x82\\xe6\\x97\\xa0\\xe6\\x8f\\x8f\\xe8\\xbf\\xb0\\xef\\xbc\\x8c\\xe8\\xaf\\xb7\\xe5\\x88\\xb0\\xe4\\xb8\\xbb\\xe9\\xa1\\xb5\\xe7\\xbc\\x96\\xe8\\xbe\\x91\\xe6\\xb7\\xbb\\xe5\\x8a\\xa0', 'host': '0.0.0.0', 'aid': 33, 'algo_tm': '2019-01-28', 'user_name': 'Boris', 'port': 33520L}>, <Storage {'algoname': 'leepand13', 'status': 'normal', 'remark': '\\xe6\\x9c\\xba\\xe5\\x99\\xa8\\xe5\\xad\\xa6\\xe4\\xb9\\xa0\\xe7\\x88\\xb1\\xe5\\xa5\\xbd\\xe8\\x80\\x85', 'insert_tm': '2019-01-28 14:34:57', 'uid': 1, 'atype': 'REST', 'token': '20bf7679146eaef99136cde84ccc1eba', 'field': 1L, 'algodesc': '\\xe6\\x9a\\x82\\xe6\\x97\\xa0\\xe6\\x8f\\x8f\\xe8\\xbf\\xb0\\xef\\xbc\\x8c\\xe8\\xaf\\xb7\\xe5\\x88\\xb0\\xe4\\xb8\\xbb\\xe9\\xa1\\xb5\\xe7\\xbc\\x96\\xe8\\xbe\\x91\\xe6\\xb7\\xbb\\xe5\\x8a\\xa0', 'host': '0.0.0.0', 'aid': 32, 'algo_tm': '2019-01-28', 'user_name': 'leepand6', 'port': 20981L}>, <Storage {'algoname': 'leepand10', 'status': 'normal', 'remark': '\\xe6\\x9c\\xba\\xe5\\x99\\xa8\\xe5\\xad\\xa6\\xe4\\xb9\\xa0\\xe7\\x88\\xb1\\xe5\\xa5\\xbd\\xe8\\x80\\x85', 'insert_tm': '2019-01-28 12:24:40', 'uid': 1, 'atype': 'REST', 'token': '20bf7679146eaef99136cde84ccc1eba', 'field': 1L, 'algodesc': '\\xe6\\x9a\\x82\\xe6\\x97\\xa0\\xe6\\x8f\\x8f\\xe8\\xbf\\xb0\\xef\\xbc\\x8c\\xe8\\xaf\\xb7\\xe5\\x88\\xb0\\xe4\\xb8\\xbb\\xe9\\xa1\\xb5\\xe7\\xbc\\x96\\xe8\\xbe\\x91\\xe6\\xb7\\xbb\\xe5\\x8a\\xa0', 'host': '0.0.0.0', 'aid': 31, 'algo_tm': '2019-01-28', 'user_name': 'leepand6', 'port': 22169L}>, <Storage {'algoname': 'online_off_test', 'status': 'normal', 'remark': '\\xe6\\x9c\\xba\\xe5\\x99\\xa8\\xe5\\xad\\xa6\\xe4\\xb9\\xa0\\xe7\\x88\\xb1\\xe5\\xa5\\xbd\\xe8\\x80\\x85', 'insert_tm': '2019-01-15 09:40:00', 'uid': 1, 'atype': 'REST', 'token': '20bf7679146eaef99136cde84ccc1eba', 'field': 1L, 'algodesc': '\\xe4\\xb8\\x8a\\xe4\\xb8\\x8b\\xe7\\xba\\xbf\\xe6\\xb5\\x8b\\xe8\\xaf\\x95', 'host': '0.0.0.0', 'aid': 6, 'algo_tm': '2019-01-07', 'user_name': 'leepand6', 'port': 9003L}>, <Storage {'algoname': 'admin_ts', 'status': 'normal', 'remark': '\\xe8\\xb6\\x85\\xe7\\xba\\xa7\\xe7\\xae\\xa1\\xe7\\x90\\x86\\xe5\\x91\\x98-\\xe6\\x9c\\x80\\xe5\\xbc\\xba\\xe7\\x8e\\x8b\\xe8\\x80\\x85', 'insert_tm': '2019-01-10 17:13:14', 'uid': 4, 'atype': 'REST', 'token': '259edc7014be9e8924aa9bd84ccc9eea', 'field': 1L, 'algodesc': 'admin\\xe6\\x8e\\xa8\\xe8\\x8d\\x90\\xe6\\xa8\\xa1\\xe5\\x9e\\x8b\\xe6\\xb5\\x8b\\xe8\\xaf\\x95', 'host': '0.0.0.0', 'aid': 7, 'algo_tm': '2019-01-10', 'user_name': 'admin', 'port': 9002L}>], 'algo_list': [<Storage {'algoname': 'online_off_test', 'status': 'normal', 'remark': '\\xe6\\x9c\\xba\\xe5\\x99\\xa8\\xe5\\xad\\xa6\\xe4\\xb9\\xa0\\xe7\\x88\\xb1\\xe5\\xa5\\xbd\\xe8\\x80\\x85', 'insert_tm': '2019-01-15 09:40:00', 'uid': 1, 'atype': 'REST', 'token': '20bf7679146eaef99136cde84ccc1eba', 'field': 1L, 'algodesc': '\\xe4\\xb8\\x8a\\xe4\\xb8\\x8b\\xe7\\xba\\xbf\\xe6\\xb5\\x8b\\xe8\\xaf\\x95', 'host': '0.0.0.0', 'aid': 6, 'algo_tm': '2019-01-07', 'user_name': 'leepand6', 'port': 9003L}>, <Storage {'algoname': 'leepand10', 'status': 'normal', 'remark': '\\xe6\\x9c\\xba\\xe5\\x99\\xa8\\xe5\\xad\\xa6\\xe4\\xb9\\xa0\\xe7\\x88\\xb1\\xe5\\xa5\\xbd\\xe8\\x80\\x85', 'insert_tm': '2019-01-28 12:24:40', 'uid': 1, 'atype': 'REST', 'token': '20bf7679146eaef99136cde84ccc1eba', 'field': 1L, 'algodesc': '\\xe6\\x9a\\x82\\xe6\\x97\\xa0\\xe6\\x8f\\x8f\\xe8\\xbf\\xb0\\xef\\xbc\\x8c\\xe8\\xaf\\xb7\\xe5\\x88\\xb0\\xe4\\xb8\\xbb\\xe9\\xa1\\xb5\\xe7\\xbc\\x96\\xe8\\xbe\\x91\\xe6\\xb7\\xbb\\xe5\\x8a\\xa0', 'host': '0.0.0.0', 'aid': 31, 'algo_tm': '2019-01-28', 'user_name': 'leepand6', 'port': 22169L}>, <Storage {'algoname': 'leepand13', 'status': 'normal', 'remark': '\\xe6\\x9c\\xba\\xe5\\x99\\xa8\\xe5\\xad\\xa6\\xe4\\xb9\\xa0\\xe7\\x88\\xb1\\xe5\\xa5\\xbd\\xe8\\x80\\x85', 'insert_tm': '2019-01-28 14:34:57', 'uid': 1, 'atype': 'REST', 'token': '20bf7679146eaef99136cde84ccc1eba', 'field': 1L, 'algodesc': '\\xe6\\x9a\\x82\\xe6\\x97\\xa0\\xe6\\x8f\\x8f\\xe8\\xbf\\xb0\\xef\\xbc\\x8c\\xe8\\xaf\\xb7\\xe5\\x88\\xb0\\xe4\\xb8\\xbb\\xe9\\xa1\\xb5\\xe7\\xbc\\x96\\xe8\\xbe\\x91\\xe6\\xb7\\xbb\\xe5\\x8a\\xa0', 'host': '0.0.0.0', 'aid': 32, 'algo_tm': '2019-01-28', 'user_name': 'leepand6', 'port': 20981L}>, <Storage {'algoname': 'None', 'status': 'normal', 'remark': '\\xe6\\x9c\\xba\\xe5\\x99\\xa8\\xe5\\xad\\xa6\\xe4\\xb9\\xa0\\xe7\\x88\\xb1\\xe5\\xa5\\xbd\\xe8\\x80\\x85', 'insert_tm': '2019-01-29 08:27:11', 'uid': 1, 'atype': 'REST', 'token': '20bf7679146eaef99136cde84ccc1eba', 'field': 1L, 'algodesc': '\\xe6\\x9a\\x82\\xe6\\x97\\xa0\\xe6\\x8f\\x8f\\xe8\\xbf\\xb0\\xef\\xbc\\x8c\\xe8\\xaf\\xb7\\xe5\\x88\\xb0\\xe4\\xb8\\xbb\\xe9\\xa1\\xb5\\xe7\\xbc\\x96\\xe8\\xbe\\x91\\xe6\\xb7\\xbb\\xe5\\x8a\\xa0', 'host': '0.0.0.0', 'aid': 35, 'algo_tm': '2019-01-29', 'user_name': 'leepand6', 'port': 48322L}>, <Storage {'algoname': 'new_year_exp', 'status': 'normal', 'remark': '\\xe6\\x9c\\xba\\xe5\\x99\\xa8\\xe5\\xad\\xa6\\xe4\\xb9\\xa0\\xe7\\x88\\xb1\\xe5\\xa5\\xbd\\xe8\\x80\\x85', 'insert_tm': '2019-02-11 20:43:09', 'uid': 1, 'atype': 'REST', 'token': '20bf7679146eaef99136cde84ccc1eba', 'field': 3L, 'algodesc': 'machine learning', 'host': '0.0.0.0', 'aid': 37, 'algo_tm': '2019-02-09', 'user_name': 'leepand6', 'port': 42756L}>, <Storage {'algoname': 'js_testAB2', 'status': 'normal', 'remark': '\\xe6\\x9c\\xba\\xe5\\x99\\xa8\\xe5\\xad\\xa6\\xe4\\xb9\\xa0\\xe7\\x88\\xb1\\xe5\\xa5\\xbd\\xe8\\x80\\x85', 'insert_tm': '2019-02-13 13:28:42', 'uid': 1, 'atype': 'REST', 'token': '20bf7679146eaef99136cde84ccc1eba', 'field': 0L, 'algodesc': 'A/B testing', 'host': '0.0.0.0', 'aid': 39, 'algo_tm': '2019-02-13', 'user_name': 'leepand6', 'port': 30318L}>, <Storage {'algoname': 'leepand13', 'status': 'normal', 'remark': '\\xe7\\xa7\\x91\\xe8\\xbe\\xbe\\xe8\\x82\\xa1\\xe4\\xbb\\xbd\\xe6\\x88\\x98\\xe7\\x95\\xa5\\xe5\\xae\\x98\\xe5\\x85\\xbc\\xe4\\xbb\\xbb\\xe9\\xa6\\x96\\xe5\\xb8\\xad\\xe7\\xa7\\x91\\xe5\\xad\\xa6\\xe5\\xae\\xb6', 'insert_tm': '2019-01-28 14:51:57', 'uid': 2, 'atype': 'REST', 'token': '2a9f9670106e9ef9d456491840cc9eba', 'field': 1L, 'algodesc': '\\xe6\\x9a\\x82\\xe6\\x97\\xa0\\xe6\\x8f\\x8f\\xe8\\xbf\\xb0\\xef\\xbc\\x8c\\xe8\\xaf\\xb7\\xe5\\x88\\xb0\\xe4\\xb8\\xbb\\xe9\\xa1\\xb5\\xe7\\xbc\\x96\\xe8\\xbe\\x91\\xe6\\xb7\\xbb\\xe5\\x8a\\xa0', 'host': '0.0.0.0', 'aid': 33, 'algo_tm': '2019-01-28', 'user_name': 'Boris', 'port': 33520L}>, <Storage {'algoname': 'admin_ts', 'status': 'normal', 'remark': '\\xe8\\xb6\\x85\\xe7\\xba\\xa7\\xe7\\xae\\xa1\\xe7\\x90\\x86\\xe5\\x91\\x98-\\xe6\\x9c\\x80\\xe5\\xbc\\xba\\xe7\\x8e\\x8b\\xe8\\x80\\x85', 'insert_tm': '2019-01-10 17:13:14', 'uid': 4, 'atype': 'REST', 'token': '259edc7014be9e8924aa9bd84ccc9eea', 'field': 1L, 'algodesc': 'admin\\xe6\\x8e\\xa8\\xe8\\x8d\\x90\\xe6\\xa8\\xa1\\xe5\\x9e\\x8b\\xe6\\xb5\\x8b\\xe8\\xaf\\x95', 'host': '0.0.0.0', 'aid': 7, 'algo_tm': '2019-01-10', 'user_name': 'admin', 'port': 9002L}>]}}\n"
     ]
    }
   ],
   "source": [
    "# -*- coding: UTF-8 -*-\n",
    "# author: leepand\n",
    "# time: 2019-01-08\n",
    "# desc: Algo 数据展示(my/other/zoo)\n",
    "\n",
    "#update 2019-01-25\n",
    "\n",
    "import datetime\n",
    "from operator import itemgetter \n",
    "from Arthur.core.entities.bean.Arthur_service import ArthurService\n",
    "from Arthur.core.entities.dao.Arthur_AlgoStar_dao import ArthurAlgoStarDao\n",
    "#from Arthut.core.entities.dao.Arthur_serviceTags_dao import ArthurServTagsDao\n",
    "import time\n",
    "class ArthurAlgoList:\n",
    "\n",
    "    @staticmethod\n",
    "    def _get_algolist_byuid(uId,service_status):\n",
    "        #增加收藏的算法服务\n",
    "        bRet,uid_algouid_list = ArthurAlgoStarDao.query_algouid_by_uidstar(uId)\n",
    "        my_star_algo_list_all=[]\n",
    "        my_star_algo_list=[]\n",
    "        my_star_algo_list_dict=None\n",
    "        t1=time.time()\n",
    "        if len(uid_algouid_list)>0:\n",
    "            for algouid_algoname_dict in uid_algouid_list:\n",
    "                algouid=algouid_algoname_dict['algouid']\n",
    "                algoname = algouid_algoname_dict['algoname']\n",
    "                #过滤掉自己收藏自己的算法，避免重复\n",
    "                if int(algouid)-int(uId)==0:\n",
    "                    continue\n",
    "                bRet, my_star_algo_list_dict = ArthurService.service_user_list_filter(algouid,algoname,page=1,length=1000, status='normal', search=None)\n",
    "                #print 'my_star_algo_list_dict',my_star_algo_list_dict\n",
    "                if not bRet: my_star_algo_list = []\n",
    "                if my_star_algo_list_dict is not None and \"service_list\" in my_star_algo_list_dict:\n",
    "                    my_star_algo_list= my_star_algo_list_dict['service_list']\n",
    "                else:\n",
    "                    my_star_algo_list=[]\n",
    "                my_star_algo_list_all.extend(my_star_algo_list)\n",
    "        print(time.time()-t1)\n",
    "        t2=time.time()\n",
    "        bRet, my_algo_list_dict = ArthurService.service_user_list(uId,page=1,length=1000, status=service_status, search=None)\n",
    "        print(time.time()-t2,'t2')\n",
    "        if not bRet: my_algo_list = []\n",
    "        if my_algo_list_dict is not None and \"service_list\" in my_algo_list_dict:\n",
    "            my_algo_list= my_algo_list_dict['service_list']\n",
    "        else:\n",
    "            my_algo_list=[]\n",
    "        my_algo_list.extend(my_star_algo_list_all)\n",
    "        my_algo_list_new=my_algo_list\n",
    "        return  {\n",
    "            \"algo_list\": my_algo_list_new\n",
    "        }\n",
    "    \n",
    "    @staticmethod\n",
    "    def _get_algolist_zoo():\n",
    "        bRet, algo_list_zoo = ArthurService.service_zoo_list(page=1,length=1000, status='normal', search=None)\n",
    "        if not bRet: algo_list_zoo = []\n",
    "        if  algo_list_zoo is not None and \"service_list\" in algo_list_zoo:\n",
    "            serviceList=algo_list_zoo['service_list']\n",
    "            #serviceList_bystar = sorted(serviceList,key = itemgetter('star_cnt'),reverse = True)\n",
    "            serviceList_bytime = sorted(serviceList,key = itemgetter('insert_tm'),reverse = True)\n",
    "\n",
    "        else:\n",
    "            serviceList=[]\n",
    "            serviceList_bystar=[]\n",
    "            serviceList_bytime=[]\n",
    "        return {\n",
    "                \"algo_list\": serviceList,#serviceList\n",
    "                \"algo_list_bytime\":serviceList_bytime}\n",
    "    @staticmethod\n",
    "    def _get_tag_services(tag):\n",
    "        bRet, tag_services_list = ArthurService.service_tag_list(search=tag)\n",
    "        if not bRet: tag_services_list = []\n",
    "        if  len(tag_services_list)>0:\n",
    "            serviceList_bytime = sorted(tag_services_list,key = itemgetter('insert_tm'),reverse = True)\n",
    "\n",
    "        else:\n",
    "            tag_services_list=[]\n",
    "            serviceList_bytime=[]\n",
    "        return {\n",
    "                \"algo_list\": tag_services_list,#serviceList\n",
    "                \"algo_list_bytime\":serviceList_bytime}\n",
    "\n",
    "\n",
    "    @staticmethod\n",
    "    def data_show(uId,query_type,tag,service_status='normal'):\n",
    "        if query_type=='zoo':\n",
    "            if tag==\"NonetagQuery\":#myservice_layerui\n",
    "                datas = {\n",
    "                    \"dt_algo_list\":ArthurAlgoList._get_algolist_zoo()\n",
    "                }\n",
    "            else:\n",
    "                datas = {\n",
    "                    \"dt_algo_list\":ArthurAlgoList._get_tag_services(tag)\n",
    "                }\n",
    "        else:\n",
    "            datas = {\n",
    "                \"dt_algo_list\":ArthurAlgoList._get_algolist_byuid(uId,service_status)\n",
    "            }\n",
    "        return True, datas\n",
    "    @staticmethod\n",
    "    def algo_list_forautocomplete():\n",
    "        bRet, sRet = ArthurAlgoList.data_show(1,'zoo')\n",
    "        new_serv_list=[]\n",
    "        try:\n",
    "            for _inter in sRet['dt_algo_list']['algo_list']:\n",
    "                new_serv_list.append(_inter['algoname'])\n",
    "        except:\n",
    "            pass\n",
    "        return True,new_serv_list\n",
    "\n",
    "if __name__ == \"__main__\":\n",
    "\n",
    "    bRet, sRet = ArthurAlgoList.data_show(1,'zoo',tag='NonetagQuery')\n",
    "\n",
    "    print '>>>> ', sRet\n",
    "\n",
    "    #print HjsIndex._get_expire_order()\n"
   ]
  },
  {
   "cell_type": "code",
   "execution_count": 4,
   "metadata": {},
   "outputs": [
    {
     "name": "stdout",
     "output_type": "stream",
     "text": [
      "0.296558141708\n"
     ]
    }
   ],
   "source": [
    "import time\n",
    "t1=time.time()\n",
    "bRet, sRet = ArthurAlgoList.data_show(1,'zoo',tag='NonetagQuery')\n",
    "print (time.time()-t1)"
   ]
  },
  {
   "cell_type": "code",
   "execution_count": 5,
   "metadata": {},
   "outputs": [
    {
     "name": "stdout",
     "output_type": "stream",
     "text": [
      "0.0686798095703\n",
      "(1.0298149585723877, 't2')\n",
      "1.13388395309\n"
     ]
    }
   ],
   "source": [
    "import time\n",
    "t1=time.time()\n",
    "bRet, sRet = ArthurAlgoList.data_show(1,'myself',tag='NonetagQuery',service_status='all')\n",
    "print (time.time()-t1)"
   ]
  },
  {
   "cell_type": "code",
   "execution_count": 8,
   "metadata": {},
   "outputs": [
    {
     "name": "stdout",
     "output_type": "stream",
     "text": [
      "1.04945921898\n"
     ]
    }
   ],
   "source": [
    "import time\n",
    "t1=time.time()\n",
    "ArthurService.service_user_list(1,page=1,length=1000, status='all', search=None)\n",
    "print (time.time()-t1)"
   ]
  },
  {
   "cell_type": "code",
   "execution_count": 6,
   "metadata": {},
   "outputs": [
    {
     "name": "stdout",
     "output_type": "stream",
     "text": [
      "0.0367398262024\n"
     ]
    }
   ],
   "source": [
    "import time\n",
    "t1=time.time()\n",
    "from Arthur.core.entities.dao.Arthur_service_dao import ArthurAlgoDao\n",
    "\n",
    "bRet, sRet = ArthurAlgoDao.query_node_list_by_uid(1, 'all')\n",
    "print (time.time()-t1)"
   ]
  },
  {
   "cell_type": "code",
   "execution_count": 2,
   "metadata": {},
   "outputs": [
    {
     "name": "stdout",
     "output_type": "stream",
     "text": [
      "0.0338017940521\n"
     ]
    }
   ],
   "source": [
    "import time\n",
    "t1=time.time()\n",
    "ArthurService.service_user_list(1, status='all')\n",
    "print (time.time()-t1)"
   ]
  },
  {
   "cell_type": "code",
   "execution_count": 4,
   "metadata": {},
   "outputs": [
    {
     "ename": "NameError",
     "evalue": "name 'storage' is not defined",
     "output_type": "error",
     "traceback": [
      "\u001b[0;31m----------------------------------------------------------------\u001b[0m",
      "\u001b[0;31mNameError\u001b[0m                      Traceback (most recent call last)",
      "\u001b[0;32m<ipython-input-4-ef8660bf7b7f>\u001b[0m in \u001b[0;36m<module>\u001b[0;34m()\u001b[0m\n\u001b[1;32m      7\u001b[0m     \u001b[0;31m#_bRet,uName=HjsUser.user_info(item['uid'])\u001b[0m\u001b[0;34m\u001b[0m\u001b[0;34m\u001b[0m\u001b[0m\n\u001b[1;32m      8\u001b[0m     \u001b[0;31m#user_name= uName.username\u001b[0m\u001b[0;34m\u001b[0m\u001b[0;34m\u001b[0m\u001b[0m\n\u001b[0;32m----> 9\u001b[0;31m     \u001b[0malgo_info\u001b[0m \u001b[0;34m=\u001b[0m \u001b[0mstorage\u001b[0m\u001b[0;34m(\u001b[0m\u001b[0;34m)\u001b[0m\u001b[0;34m\u001b[0m\u001b[0m\n\u001b[0m\u001b[1;32m     10\u001b[0m     \u001b[0malgo_info\u001b[0m\u001b[0;34m.\u001b[0m\u001b[0maid\u001b[0m \u001b[0;34m=\u001b[0m \u001b[0mint\u001b[0m\u001b[0;34m(\u001b[0m\u001b[0mitem\u001b[0m\u001b[0;34m[\u001b[0m\u001b[0;34m'aid'\u001b[0m\u001b[0;34m]\u001b[0m\u001b[0;34m)\u001b[0m\u001b[0;34m\u001b[0m\u001b[0m\n\u001b[1;32m     11\u001b[0m     \u001b[0malgo_info\u001b[0m\u001b[0;34m.\u001b[0m\u001b[0muid\u001b[0m \u001b[0;34m=\u001b[0m \u001b[0mint\u001b[0m\u001b[0;34m(\u001b[0m\u001b[0mitem\u001b[0m\u001b[0;34m[\u001b[0m\u001b[0;34m'uid'\u001b[0m\u001b[0;34m]\u001b[0m\u001b[0;34m)\u001b[0m\u001b[0;34m\u001b[0m\u001b[0m\n",
      "\u001b[0;31mNameError\u001b[0m: name 'storage' is not defined"
     ]
    }
   ],
   "source": [
    "algoList = list()\n",
    "from Arthur.core.entities.bean.hjs_user import HjsUser\n",
    "from Arthur.core.entities.dao.hjs_user_dao import HjsUserDao \n",
    "import time\n",
    "t1=time.time()\n",
    "for item in sRet:\n",
    "    #_bRet,uName=HjsUser.user_info(item['uid'])\n",
    "    #user_name= uName.username\n",
    "    algo_info = storage()\n",
    "    algo_info.aid = int(item['aid'])\n",
    "    algo_info.uid = int(item['uid'])\n",
    "    algo_info.user_name =str(user_name)\n",
    "    algo_info.algoname = item['algoname']\n",
    "    algo_info.algodesc = item['algodesc']\n",
    "    algo_info.atype = item['atype'];\n",
    "    algo_info.algo_tm = str(item['algo_tm'])[:10]\n",
    "    algo_info.token = item['token']\n",
    "    algo_info.host = item['host']\n",
    "    algo_info.port = item['port']\n",
    "    algo_info.field = item['field']\n",
    "    algo_info.status = item['status']\n",
    "    algo_info.remark = item['remark']\n",
    "    algo_info.insert_tm = str(item['insert_tm'])#[2:16]\n",
    "    algoList.append(algo_info)\n",
    "print (time.time()-t1)"
   ]
  },
  {
   "cell_type": "code",
   "execution_count": 22,
   "metadata": {},
   "outputs": [
    {
     "name": "stdout",
     "output_type": "stream",
     "text": [
      "0.031683921814\n"
     ]
    }
   ],
   "source": [
    "import time\n",
    "t1=time.time()\n",
    "HjsUser.user_list('leepand6')\n",
    "print time.time()-t1"
   ]
  },
  {
   "cell_type": "code",
   "execution_count": 23,
   "metadata": {},
   "outputs": [
    {
     "name": "stdout",
     "output_type": "stream",
     "text": [
      "0.0310959815979\n"
     ]
    }
   ],
   "source": [
    "import time\n",
    "t1=time.time()\n",
    "HjsUser.user_info(1)\n",
    "print time.time()-t1"
   ]
  },
  {
   "cell_type": "code",
   "execution_count": 25,
   "metadata": {},
   "outputs": [
    {
     "name": "stdout",
     "output_type": "stream",
     "text": [
      "0.030690908432\n"
     ]
    }
   ],
   "source": [
    "import time\n",
    "t1=time.time()\n",
    "HjsUserDao.query_node_user_list()\n",
    "print time.time()-t1"
   ]
  },
  {
   "cell_type": "code",
   "execution_count": 25,
   "metadata": {},
   "outputs": [],
   "source": [
    "def query_node_list_by_uid(uId,status='all'):\n",
    "    dataBase = DataBase()\n",
    "    sql = \"select * from tb_algo a left join tb_user b on a.uid=b.uid where a.uid=%s \"\n",
    "    param = [uId]\n",
    "    if status and status != 'all':\n",
    "        sql += \"and status = %s \"\n",
    "        param.append(status)\n",
    "    param = tuple(param)\n",
    "    bRet, sRet = dataBase.query_data(sql, param)\n",
    "    if not bRet:\n",
    "         return False, sRet\n",
    "\n",
    "    return True, sRet"
   ]
  },
  {
   "cell_type": "code",
   "execution_count": 27,
   "metadata": {},
   "outputs": [],
   "source": [
    "#query_node_list_by_uid(1)"
   ]
  },
  {
   "cell_type": "code",
   "execution_count": 22,
   "metadata": {},
   "outputs": [],
   "source": [
    "def query_node_list2(status):\n",
    "    dataBase = DataBase()\n",
    "    sql = \"select * from tb_algo a left join tb_user b on a.uid=b.uid where 1=1 \"\n",
    "    param = []\n",
    "    if status and status != 'all':\n",
    "        sql += \"and status = %s \"\n",
    "        param.append(status)\n",
    "    param = tuple(param)\n",
    "    bRet, sRet = dataBase.query_data(sql, param)\n",
    "    if not bRet:\n",
    "        return False, sRet\n",
    "\n",
    "    return True, sRet"
   ]
  },
  {
   "cell_type": "code",
   "execution_count": 10,
   "metadata": {},
   "outputs": [],
   "source": [
    "from Arthur.core.entities.base.bs_database_pid import DataBase\n",
    "\n",
    "x,u = query_node_list('all')"
   ]
  },
  {
   "cell_type": "code",
   "execution_count": 11,
   "metadata": {},
   "outputs": [
    {
     "data": {
      "text/plain": [
       "39"
      ]
     },
     "execution_count": 11,
     "metadata": {},
     "output_type": "execute_result"
    }
   ],
   "source": [
    "len(u)"
   ]
  },
  {
   "cell_type": "code",
   "execution_count": 23,
   "metadata": {},
   "outputs": [],
   "source": [
    "xr,ur = query_node_list2('all')"
   ]
  },
  {
   "cell_type": "code",
   "execution_count": 24,
   "metadata": {},
   "outputs": [
    {
     "data": {
      "text/plain": [
       "39"
      ]
     },
     "execution_count": 24,
     "metadata": {},
     "output_type": "execute_result"
    }
   ],
   "source": [
    "len(ur)"
   ]
  },
  {
   "cell_type": "code",
   "execution_count": 16,
   "metadata": {},
   "outputs": [
    {
     "data": {
      "text/plain": [
       "'leepand6'"
      ]
     },
     "execution_count": 16,
     "metadata": {},
     "output_type": "execute_result"
    }
   ],
   "source": [
    "ur[0]['username']"
   ]
  },
  {
   "cell_type": "code",
   "execution_count": 17,
   "metadata": {},
   "outputs": [
    {
     "name": "stdout",
     "output_type": "stream",
     "text": [
      "0.0328619480133\n"
     ]
    }
   ],
   "source": [
    "import time\n",
    "t1=time.time()\n",
    "ArthurService.service_user_list(1, status='all')\n",
    "print (time.time()-t1)"
   ]
  },
  {
   "cell_type": "code",
   "execution_count": 3,
   "metadata": {},
   "outputs": [],
   "source": [
    "_,c=ArthurService.service_user_list(1, status='all')\n",
    "#c['service_list']"
   ]
  },
  {
   "cell_type": "code",
   "execution_count": null,
   "metadata": {},
   "outputs": [],
   "source": []
  }
 ],
 "metadata": {
  "kernelspec": {
   "display_name": "Python 2",
   "language": "python",
   "name": "python2"
  },
  "language_info": {
   "codemirror_mode": {
    "name": "ipython",
    "version": 2
   },
   "file_extension": ".py",
   "mimetype": "text/x-python",
   "name": "python",
   "nbconvert_exporter": "python",
   "pygments_lexer": "ipython2",
   "version": "2.7.13"
  }
 },
 "nbformat": 4,
 "nbformat_minor": 2
}
