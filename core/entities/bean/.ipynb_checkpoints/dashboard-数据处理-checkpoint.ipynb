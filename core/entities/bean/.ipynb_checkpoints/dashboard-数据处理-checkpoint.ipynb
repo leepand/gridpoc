{
 "cells": [
  {
   "cell_type": "code",
   "execution_count": 23,
   "metadata": {},
   "outputs": [
    {
     "name": "stdout",
     "output_type": "stream",
     "text": [
      "Overwriting Arthur_dashboard.py\n"
     ]
    }
   ],
   "source": [
    "%%file Arthur_dashboard.py\n",
    "# -*- coding: UTF-8 -*-\n",
    "# author: leepand\n",
    "# time: 2019-01-07\n",
    "# desc: Dashboard 数据展示\n",
    "\n",
    "if __name__ == \"__main__\":\n",
    "    import sys\n",
    "    import os\n",
    "\n",
    "    sys.path.append(\"..\")\n",
    "    sys.path.append(\"../base\")\n",
    "    sys.path.append(\"../dao\")\n",
    "\n",
    "from web.utils import *\n",
    "from hjs_cfg import *\n",
    "from bs_util import *\n",
    "from bs_time import *\n",
    "from hjs_user_dao import *\n",
    "from hjs_user import HjsUser\n",
    "from Arthur_service_dao import *\n",
    "import datetime\n",
    "  \n",
    "\n",
    "\n",
    "class ArthurDashboard:\n",
    "\n",
    "    @staticmethod\n",
    "    def _get_user_data():\n",
    "        bRet, user_cnt = HjsUserDao.query_user_count()\n",
    "        if not bRet: user_cnt = 0\n",
    "\n",
    "\n",
    "        return  {\n",
    "            \"user_cnt\": user_cnt\n",
    "        }\n",
    "\n",
    "    @staticmethod\n",
    "    def _get_algo_data(userName):\n",
    "        my_priv2=''\n",
    "        u_status,uId = HjsUser.get_user_uid(userName)\n",
    "        bRet1, all_algo_cnt=ArthurAlgoDao.query_node_count(status=None, search=None)\n",
    "        bRet2, online_algo_cnt = ArthurAlgoDao.query_node_count(status='normal', search=None)\n",
    "        bRet3, online_today_algo_cnt = ArthurAlgoDao.query_node_cnt_by_date(status='normal', tg_date=get_cur_day(0, format=\"%Y-%m-%d %H:%M:%S\"))\n",
    "        bRet4, offline_today_algo_cnt = ArthurAlgoDao.query_node_cnt_by_date(status='stop', tg_date=get_cur_day(0, format=\"%Y-%m-%d %H:%M:%S\"))\n",
    "        bRet5, my_algo_cnt = ArthurAlgoDao.query_node_count_by_uid(uId,status=None, search=None)\n",
    "        bRet6, my_priv = HjsUser.user_info(uId)\n",
    "        if not bRet1: all_algo_cnt = 0\n",
    "        if not bRet2: online_algo_cnt = 0\n",
    "        if not bRet3: online_today_algo_cnt = 0\n",
    "        if not bRet4: offline_today_algo_cnt = 0 \n",
    "        if not bRet5: my_algo_cnt = 0\n",
    "        if not bRet6: my_priv.priv = 1\n",
    "\n",
    "        return  {\n",
    "            \"all_algo_cnt\": all_algo_cnt,\n",
    "            \"online_algo_cnt\" : online_algo_cnt,\n",
    "            \"online_today_algo_cnt\":online_today_algo_cnt,\n",
    "            \"offline_today_algo_cnt\":offline_today_algo_cnt,\n",
    "            \"my_algo_cnt\":my_algo_cnt,\n",
    "            \"my_priv\":my_priv.priv\n",
    "        }\n",
    "    @staticmethod\n",
    "    def _get_custom_data():\n",
    "        bRet, custom_cnt = HjsCustomDao.query_node_by_status('all')\n",
    "        if not bRet: custom_cnt = 0\n",
    "\n",
    "        bRet, custom_nor = HjsCustomDao.query_node_by_status('normal')\n",
    "        if not bRet: custom_nor = 0\n",
    "\n",
    "        bRet, custom_can = HjsCustomDao.query_node_by_status('delete')\n",
    "        if not bRet: custom_can = 0\n",
    "\n",
    "        return  {\n",
    "            \"custom_cnt\": custom_cnt,\n",
    "            \"custom_nor\": custom_nor,\n",
    "            \"custom_can\": custom_can\n",
    "        }\n",
    "\n",
    "\n",
    "    @staticmethod\n",
    "    def _get_order_data():\n",
    "        bRet, order_cnt = HjsOrderDao.query_node_by_status('all')\n",
    "        if not bRet: order_cnt = 0\n",
    "\n",
    "        bRet, order_nor = HjsOrderDao.query_node_by_status('normal')\n",
    "        if not bRet: order_nor = 0\n",
    "\n",
    "        bRet, order_stop = HjsOrderDao.query_node_by_status('stop')\n",
    "        if not bRet: order_stop = 0\n",
    "        # Get a date object\n",
    "        #today = datetime.date.today()\n",
    "        #date_t=today.isoformat()\n",
    "        #bRet, order_today=HjsOrderDao.query_node_by_date2('normal', date_t)\n",
    "        bRet, order_today=HjsOrderDao.query_node_by_date2('normal', get_cur_day(0, format=\"%Y-%m-%d %H:%M:%S\"))\n",
    "        \n",
    "        if not bRet: order_today = 0\n",
    "        #order_today= '开发中...'\n",
    "        #order_today_stop = '开发中...'\n",
    "        #bRet, order_today_stop=HjsOrderDao.query_node_by_date2('stop', date_t)\n",
    "        bRet, order_today_stop=HjsOrderDao.query_node_by_date2('stop',  get_cur_day(0, format=\"%Y-%m-%d %H:%M:%S\"))\n",
    "        if not bRet: order_today_stop = 0\n",
    "\n",
    "        return {\n",
    "            \"order_cnt\": order_cnt, \n",
    "            \"order_nor\": order_nor,\n",
    "            \"order_stop\": order_stop,\n",
    "            \"order_today\": order_today,\n",
    "            \"order_today_stop\": order_today_stop\n",
    "        }\n",
    "\n",
    "\n",
    "    @staticmethod\n",
    "    def _get_expire_order():\n",
    "        bRet, daysList_3 = HjsOrderDao.query_node_by_days(3)\n",
    "        if not bRet: daysList_3 = ''\n",
    "        \n",
    "        bRet, daysList_7 = HjsOrderDao.query_node_by_days(7)\n",
    "        if not bRet: daysList_7 = ''\n",
    "\n",
    "        return {\n",
    "            \"days_3\": {\"count\": len(daysList_3), \"list\": daysList_3},\n",
    "            \"days_7\": {\"count\": len(daysList_7), \"list\": daysList_7}\n",
    "        }\n",
    "\n",
    "\n",
    "    @staticmethod\n",
    "    def data_show2(userName):\n",
    "        datas = {\n",
    "            \"dt_custom\": HjsIndex._get_custom_data(),\n",
    "            \"dt_order\": HjsIndex._get_order_data(),\n",
    "            \"dt_days\": HjsIndex._get_expire_order(),\n",
    "            \"update_date\": str(get_cur_day(0, \"%Y-%m-%d\"))\n",
    "        }\n",
    "        \n",
    "        return True, datas\n",
    "    @staticmethod\n",
    "    def data_show(userName):\n",
    "        datas = {\n",
    "            \"dt_user\": ArthurDashboard._get_user_data(),  \n",
    "            \"dt_algo_ser\":ArthurDashboard._get_algo_data(userName)\n",
    "        }\n",
    "        \n",
    "        return True, datas\n",
    "\n",
    "if __name__ == \"__main__\":\n",
    "    print \"\"\n",
    "    #bRet, sRet = HjsIndex.data_show('admin')\n",
    "\n",
    "    #print '>>>> ', sRet\n",
    "\n",
    "    #print HjsIndex._get_expire_order()"
   ]
  },
  {
   "cell_type": "code",
   "execution_count": 14,
   "metadata": {},
   "outputs": [
    {
     "name": "stderr",
     "output_type": "stream",
     "text": [
      "[07/01/2019 14:40:50][DEBUG]../base/bs_database_pid.py::_exec_cmdstr(106): select count(*) as cnt from tb_user where 1=1 \t[]\n",
      "[07/01/2019 14:40:50][DEBUG]../base/bs_database_pid.py::_new_conn(31): conn(host: 127.0.0.1, port: 3306, user: root, passwd: , db: Arthur_manage)\n"
     ]
    }
   ],
   "source": [
    "if __name__ == \"__main__\":\n",
    "    import sys\n",
    "    import os\n",
    "\n",
    "    sys.path.append(\"..\")\n",
    "    sys.path.append(\"../base\")\n",
    "    sys.path.append(\"../dao\")\n",
    "from hjs_user_dao import *\n",
    "\n",
    "_,x=HjsUserDao.query_user_count()"
   ]
  },
  {
   "cell_type": "code",
   "execution_count": 3,
   "metadata": {},
   "outputs": [
    {
     "data": {
      "text/plain": [
       "1L"
      ]
     },
     "execution_count": 3,
     "metadata": {},
     "output_type": "execute_result"
    }
   ],
   "source": [
    "x"
   ]
  },
  {
   "cell_type": "code",
   "execution_count": 18,
   "metadata": {},
   "outputs": [
    {
     "data": {
      "text/plain": [
       "'1'"
      ]
     },
     "execution_count": 18,
     "metadata": {},
     "output_type": "execute_result"
    }
   ],
   "source": [
    "str(1)"
   ]
  },
  {
   "cell_type": "code",
   "execution_count": null,
   "metadata": {},
   "outputs": [],
   "source": [
    "        else:\n",
    "            print my_priv,type(my_priv)\n",
    "            if str(my_priv)=='1':\n",
    "                my_priv2=\"开发\"\n",
    "            if str(my_priv)=='2':\n",
    "                my_priv2=\"运营\"\n",
    "            else:\n",
    "                my_priv2=\"管理\""
   ]
  }
 ],
 "metadata": {
  "kernelspec": {
   "display_name": "Python 2",
   "language": "python",
   "name": "python2"
  },
  "language_info": {
   "codemirror_mode": {
    "name": "ipython",
    "version": 2
   },
   "file_extension": ".py",
   "mimetype": "text/x-python",
   "name": "python",
   "nbconvert_exporter": "python",
   "pygments_lexer": "ipython2",
   "version": "2.7.13"
  }
 },
 "nbformat": 4,
 "nbformat_minor": 2
}
