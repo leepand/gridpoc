{
 "cells": [
  {
   "cell_type": "code",
   "execution_count": 14,
   "metadata": {},
   "outputs": [
    {
     "name": "stderr",
     "output_type": "stream",
     "text": [
      "[08/01/2019 16:10:00][DEBUG]../base/bs_database_pid.py::_exec_cmdstr(106): select count(*) as cnt from tb_algo where 1=1 and status = %s\t['normal']\n",
      "[08/01/2019 16:10:00][DEBUG]../base/bs_database_pid.py::_new_conn(31): conn(host: 127.0.0.1, port: 3306, user: root, passwd: , db: Arthur_manage)\n",
      "[08/01/2019 16:10:01][DEBUG]../base/bs_database_pid.py::_exec_cmdstr(106): select * from tb_algo where 1=1 and status = %s order by aid desc limit %s, %s\t['normal', 0, 1000]\n",
      "[08/01/2019 16:10:01][DEBUG]../base/bs_database_pid.py::_new_conn(31): conn(host: 127.0.0.1, port: 3306, user: root, passwd: , db: Arthur_manage)\n",
      "[08/01/2019 16:10:01][DEBUG]../base/bs_database_pid.py::_exec_cmdstr(106): select * from tb_user where uid = %s\t[1L]\n",
      "[08/01/2019 16:10:01][DEBUG]../base/bs_database_pid.py::_new_conn(31): conn(host: 127.0.0.1, port: 3306, user: root, passwd: , db: Arthur_manage)\n",
      "[08/01/2019 16:10:01][DEBUG]../base/bs_database_pid.py::_exec_cmdstr(106): select * from tb_user where uid = %s\t[1L]\n",
      "[08/01/2019 16:10:01][DEBUG]../base/bs_database_pid.py::_new_conn(31): conn(host: 127.0.0.1, port: 3306, user: root, passwd: , db: Arthur_manage)\n"
     ]
    },
    {
     "name": "stdout",
     "output_type": "stream",
     "text": [
      ">>>>  {'dt_algo_list': {'algo_list_bytime': [<Storage {'algoname': 'online_off_test', 'status': 'normal', 'remark': '{n:20}', 'insert_tm': '2019-01-07 14:17:02', 'uid': 1, 'atype': 'REST', 'token': '20bf7679146eaef99136cde84ccc1eba', 'field': 1L, 'algodesc': '\\xe4\\xb8\\x8a\\xe4\\xb8\\x8b\\xe7\\xba\\xbf\\xe6\\xb5\\x8b\\xe8\\xaf\\x95', 'host': '0.0.0.0', 'aid': 6, 'algo_tm': '2019-01-07', 'user_name': 'leepand6', 'port': 9003L}>, <Storage {'algoname': 'recom_new', 'status': 'normal', 'remark': '{n:10}|{n:30}', 'insert_tm': '2019-01-04 17:10:48', 'uid': 1, 'atype': 'REST', 'token': '20bf7679146eaef99136cde84ccc1eba', 'field': 0L, 'algodesc': '\\xe6\\x9c\\xba\\xe5\\x99\\xa8\\xe5\\xad\\xa6\\xe4\\xb9\\xa0', 'host': '0.0.0.0', 'aid': 1, 'algo_tm': '2019-01-04', 'user_name': 'leepand6', 'port': 9013L}>], 'algo_list': [<Storage {'algoname': 'online_off_test', 'status': 'normal', 'remark': '{n:20}', 'insert_tm': '2019-01-07 14:17:02', 'uid': 1, 'atype': 'REST', 'token': '20bf7679146eaef99136cde84ccc1eba', 'field': 1L, 'algodesc': '\\xe4\\xb8\\x8a\\xe4\\xb8\\x8b\\xe7\\xba\\xbf\\xe6\\xb5\\x8b\\xe8\\xaf\\x95', 'host': '0.0.0.0', 'aid': 6, 'algo_tm': '2019-01-07', 'user_name': 'leepand6', 'port': 9003L}>, <Storage {'algoname': 'recom_new', 'status': 'normal', 'remark': '{n:10}|{n:30}', 'insert_tm': '2019-01-04 17:10:48', 'uid': 1, 'atype': 'REST', 'token': '20bf7679146eaef99136cde84ccc1eba', 'field': 0L, 'algodesc': '\\xe6\\x9c\\xba\\xe5\\x99\\xa8\\xe5\\xad\\xa6\\xe4\\xb9\\xa0', 'host': '0.0.0.0', 'aid': 1, 'algo_tm': '2019-01-04', 'user_name': 'leepand6', 'port': 9013L}>]}}\n"
     ]
    }
   ],
   "source": [
    "#%%file Arthur_algolist.py\n",
    "# -*- coding: UTF-8 -*-\n",
    "# author: leepand\n",
    "# time: 2019-01-08\n",
    "# desc: Algo 数据展示(my/other/zoo)\n",
    "\n",
    "if __name__ == \"__main__\":\n",
    "    import sys\n",
    "    import os\n",
    "\n",
    "    sys.path.append(\"..\")\n",
    "    sys.path.append(\"../base\")\n",
    "    sys.path.append(\"../dao\")\n",
    "\n",
    "from web.utils import *\n",
    "from hjs_cfg import *\n",
    "from bs_util import *\n",
    "from bs_time import *\n",
    "import datetime\n",
    "from Arthur_service import ArthurService\n",
    "from operator import itemgetter \n",
    "\n",
    "class ArthurAlgoList:\n",
    "\n",
    "    @staticmethod\n",
    "    def _get_algolist_byuid(uId):\n",
    "        bRet, my_algo_list_dict = ArthurService.service_user_list(uId,page=1,length=1000, status='normal', search=None)\n",
    "        if not bRet: my_algo_list = []\n",
    "        if my_algo_list_dict is not None and \"service_list\" in my_algo_list_dict:\n",
    "            my_algo_list= my_algo_list_dict['service_list']\n",
    "        else:\n",
    "            my_algo_list=[]\n",
    "\n",
    "        return  {\n",
    "            \"algo_list\": my_algo_list\n",
    "        }\n",
    "    \n",
    "    @staticmethod\n",
    "    def _get_algolist_zoo():\n",
    "        bRet, algo_list_zoo = ArthurService.service_zoo_list(page=1,length=1000, status='normal', search=None)\n",
    "        if not bRet: algo_list_zoo = []\n",
    "        if  algo_list_zoo is not None and \"service_list\" in algo_list_zoo:\n",
    "            serviceList=algo_list_zoo['service_list']\n",
    "            serviceList_bytime = sorted(serviceList,key = itemgetter('insert_tm'),reverse = True)\n",
    "\n",
    "        else:\n",
    "            serviceList=[]\n",
    "            serviceList_bytime=[]\n",
    "        return {\n",
    "                \"algo_list\": serviceList,\n",
    "                \"algo_list_bytime\":serviceList_bytime}\n",
    "\n",
    "\n",
    "\n",
    "    @staticmethod\n",
    "    def data_show(uId,query_type):\n",
    "        if query_type=='zoo':\n",
    "            datas = {\n",
    "                \"dt_algo_list\":ArthurAlgoList._get_algolist_zoo()\n",
    "            }\n",
    "        else:\n",
    "            datas = {\n",
    "                \"dt_algo_list\":ArthurAlgoList._get_algolist_byuid(uId)\n",
    "            }\n",
    "        return True, datas\n",
    "\n",
    "\n",
    "\n",
    "\n",
    "if __name__ == \"__main__\":\n",
    "\n",
    "    bRet, sRet = ArthurAlgoList.data_show(1,'zoo')\n",
    "\n",
    "    print '>>>> ', sRet\n",
    "\n",
    "    #print HjsIndex._get_expire_order()\n",
    "\n"
   ]
  },
  {
   "cell_type": "code",
   "execution_count": 18,
   "metadata": {},
   "outputs": [
    {
     "name": "stderr",
     "output_type": "stream",
     "text": [
      "[08/01/2019 16:10:31][DEBUG]../base/bs_database_pid.py::_exec_cmdstr(106): select count(*) as cnt from tb_algo where uid=%s and status = %s\t[1, 'normal']\n",
      "[08/01/2019 16:10:31][DEBUG]../base/bs_database_pid.py::_new_conn(31): conn(host: 127.0.0.1, port: 3306, user: root, passwd: , db: Arthur_manage)\n",
      "[08/01/2019 16:10:31][DEBUG]../base/bs_database_pid.py::_exec_cmdstr(106): select * from tb_algo where uid=%s and status = %s order by aid desc limit %s, %s\t[1, 'normal', 0, 1000]\n",
      "[08/01/2019 16:10:31][DEBUG]../base/bs_database_pid.py::_new_conn(31): conn(host: 127.0.0.1, port: 3306, user: root, passwd: , db: Arthur_manage)\n"
     ]
    },
    {
     "name": "stdout",
     "output_type": "stream",
     "text": [
      ">>>>  {'dt_algo_list': {'algo_list': [<Storage {'algoname': 'online_off_test', 'status': 'normal', 'remark': '{n:20}', 'insert_tm': '2019-01-07 14:17:02', 'uid': 1, 'atype': 'REST', 'token': '20bf7679146eaef99136cde84ccc1eba', 'field': 1L, 'algodesc': '\\xe4\\xb8\\x8a\\xe4\\xb8\\x8b\\xe7\\xba\\xbf\\xe6\\xb5\\x8b\\xe8\\xaf\\x95', 'host': '0.0.0.0', 'aid': 6, 'algo_tm': '2019-01-07', 'port': 9003L}>, <Storage {'algoname': 'recom_new', 'status': 'normal', 'remark': '{n:10}|{n:30}', 'insert_tm': '2019-01-04 17:10:48', 'uid': 1, 'atype': 'REST', 'token': '20bf7679146eaef99136cde84ccc1eba', 'field': 0L, 'algodesc': '\\xe6\\x9c\\xba\\xe5\\x99\\xa8\\xe5\\xad\\xa6\\xe4\\xb9\\xa0', 'host': '0.0.0.0', 'aid': 1, 'algo_tm': '2019-01-04', 'port': 9013L}>]}}\n"
     ]
    }
   ],
   "source": [
    "if __name__ == \"__main__\":\n",
    "\n",
    "    bRet, sRet = ArthurAlgoList.data_show(1,'my')\n",
    "\n",
    "    print '>>>> ', sRet"
   ]
  },
  {
   "cell_type": "code",
   "execution_count": 19,
   "metadata": {},
   "outputs": [
    {
     "data": {
      "text/plain": [
       "[<Storage {'algoname': 'online_off_test', 'status': 'normal', 'remark': '{n:20}', 'insert_tm': '2019-01-07 14:17:02', 'uid': 1, 'atype': 'REST', 'token': '20bf7679146eaef99136cde84ccc1eba', 'field': 1L, 'algodesc': '\\xe4\\xb8\\x8a\\xe4\\xb8\\x8b\\xe7\\xba\\xbf\\xe6\\xb5\\x8b\\xe8\\xaf\\x95', 'host': '0.0.0.0', 'aid': 6, 'algo_tm': '2019-01-07', 'port': 9003L}>,\n",
       " <Storage {'algoname': 'recom_new', 'status': 'normal', 'remark': '{n:10}|{n:30}', 'insert_tm': '2019-01-04 17:10:48', 'uid': 1, 'atype': 'REST', 'token': '20bf7679146eaef99136cde84ccc1eba', 'field': 0L, 'algodesc': '\\xe6\\x9c\\xba\\xe5\\x99\\xa8\\xe5\\xad\\xa6\\xe4\\xb9\\xa0', 'host': '0.0.0.0', 'aid': 1, 'algo_tm': '2019-01-04', 'port': 9013L}>]"
      ]
     },
     "execution_count": 19,
     "metadata": {},
     "output_type": "execute_result"
    }
   ],
   "source": [
    "sRet['dt_algo_list']['algo_list']"
   ]
  },
  {
   "cell_type": "code",
   "execution_count": 1,
   "metadata": {},
   "outputs": [
    {
     "name": "stderr",
     "output_type": "stream",
     "text": [
      "[08/01/2019 15:09:19][DEBUG]../base/bs_database_pid.py::_exec_cmdstr(106): select count(*) as cnt from tb_algo where uid=%s and status = %s\t[1, 'normal']\n",
      "[08/01/2019 15:09:19][DEBUG]../base/bs_database_pid.py::_new_conn(31): conn(host: 127.0.0.1, port: 3306, user: root, passwd: , db: Arthur_manage)\n",
      "[08/01/2019 15:09:19][DEBUG]../base/bs_database_pid.py::_exec_cmdstr(106): select * from tb_algo where uid=%s and status = %s order by aid desc limit %s, %s\t[1, 'normal', 0, 1000]\n",
      "[08/01/2019 15:09:19][DEBUG]../base/bs_database_pid.py::_new_conn(31): conn(host: 127.0.0.1, port: 3306, user: root, passwd: , db: Arthur_manage)\n"
     ]
    }
   ],
   "source": [
    "if __name__ == \"__main__\":\n",
    "    import sys\n",
    "    import os\n",
    "\n",
    "    sys.path.append(\"..\")\n",
    "    sys.path.append(\"../base\")\n",
    "    sys.path.append(\"../dao\")\n",
    "\n",
    "from web.utils import *\n",
    "from hjs_cfg import *\n",
    "from bs_util import *\n",
    "from bs_time import *\n",
    "from hjs_order_dao import *\n",
    "from hjs_custom_dao import *\n",
    "import datetime\n",
    "from Arthur_service import ArthurService\n",
    "uId=1\n",
    "_,xx= ArthurService.service_user_list(uId,page=1,length=1000, status='normal', search=None)"
   ]
  },
  {
   "cell_type": "code",
   "execution_count": 2,
   "metadata": {},
   "outputs": [
    {
     "data": {
      "text/plain": [
       "{'current': 1,\n",
       " 'page_count': 1L,\n",
       " 'service_list': [<Storage {'algoname': 'online_off_test', 'status': 'normal', 'remark': '{n:20}', 'insert_tm': '2019-01-07 14:17:02', 'uid': 1, 'atype': 'REST', 'token': '20bf7679146eaef99136cde84ccc1eba', 'field': 1L, 'algodesc': '\\xe4\\xb8\\x8a\\xe4\\xb8\\x8b\\xe7\\xba\\xbf\\xe6\\xb5\\x8b\\xe8\\xaf\\x95', 'host': '0.0.0.0', 'aid': 6, 'algo_tm': '2019-01-07', 'port': 9003L}>,\n",
       "  <Storage {'algoname': 'recom_new', 'status': 'normal', 'remark': '{n:10}|{n:30}', 'insert_tm': '2019-01-04 17:10:48', 'uid': 1, 'atype': 'REST', 'token': '20bf7679146eaef99136cde84ccc1eba', 'field': 0L, 'algodesc': '\\xe6\\x9c\\xba\\xe5\\x99\\xa8\\xe5\\xad\\xa6\\xe4\\xb9\\xa0', 'host': '0.0.0.0', 'aid': 1, 'algo_tm': '2019-01-04', 'port': 9013L}>],\n",
       " 'service_query': {'search': None, 'status': 'normal'}}"
      ]
     },
     "execution_count": 2,
     "metadata": {},
     "output_type": "execute_result"
    }
   ],
   "source": [
    "xx"
   ]
  },
  {
   "cell_type": "code",
   "execution_count": 3,
   "metadata": {},
   "outputs": [
    {
     "name": "stderr",
     "output_type": "stream",
     "text": [
      "[08/01/2019 15:15:22][DEBUG]../base/bs_database_pid.py::_exec_cmdstr(106): select count(*) as cnt from tb_algo where 1=1 and status = %s\t['normal']\n",
      "[08/01/2019 15:15:22][DEBUG]../base/bs_database_pid.py::_new_conn(31): conn(host: 127.0.0.1, port: 3306, user: root, passwd: , db: Arthur_manage)\n",
      "[08/01/2019 15:15:22][DEBUG]../base/bs_database_pid.py::_exec_cmdstr(106): select * from tb_algo where 1=1 and status = %s order by aid desc limit %s, %s\t['normal', 0, 1000]\n",
      "[08/01/2019 15:15:22][DEBUG]../base/bs_database_pid.py::_new_conn(31): conn(host: 127.0.0.1, port: 3306, user: root, passwd: , db: Arthur_manage)\n",
      "[08/01/2019 15:15:22][DEBUG]../base/bs_database_pid.py::_exec_cmdstr(106): select * from tb_user where uid = %s\t[1L]\n",
      "[08/01/2019 15:15:22][DEBUG]../base/bs_database_pid.py::_new_conn(31): conn(host: 127.0.0.1, port: 3306, user: root, passwd: , db: Arthur_manage)\n",
      "[08/01/2019 15:15:22][DEBUG]../base/bs_database_pid.py::_exec_cmdstr(106): select * from tb_user where uid = %s\t[1L]\n",
      "[08/01/2019 15:15:22][DEBUG]../base/bs_database_pid.py::_new_conn(31): conn(host: 127.0.0.1, port: 3306, user: root, passwd: , db: Arthur_manage)\n"
     ]
    },
    {
     "data": {
      "text/plain": [
       "(True,\n",
       " {'current': 1,\n",
       "  'page_count': 1L,\n",
       "  'service_list': [<Storage {'algoname': 'online_off_test', 'status': 'normal', 'remark': '{n:20}', 'insert_tm': '2019-01-07 14:17:02', 'uid': 1, 'atype': 'REST', 'token': '20bf7679146eaef99136cde84ccc1eba', 'field': 1L, 'algodesc': '\\xe4\\xb8\\x8a\\xe4\\xb8\\x8b\\xe7\\xba\\xbf\\xe6\\xb5\\x8b\\xe8\\xaf\\x95', 'host': '0.0.0.0', 'aid': 6, 'algo_tm': '2019-01-07', 'user_name': 'leepand6', 'port': 9003L}>,\n",
       "   <Storage {'algoname': 'recom_new', 'status': 'normal', 'remark': '{n:10}|{n:30}', 'insert_tm': '2019-01-04 17:10:48', 'uid': 1, 'atype': 'REST', 'token': '20bf7679146eaef99136cde84ccc1eba', 'field': 0L, 'algodesc': '\\xe6\\x9c\\xba\\xe5\\x99\\xa8\\xe5\\xad\\xa6\\xe4\\xb9\\xa0', 'host': '0.0.0.0', 'aid': 1, 'algo_tm': '2019-01-04', 'user_name': 'leepand6', 'port': 9013L}>],\n",
       "  'service_query': {'search': None, 'status': 'normal'}})"
      ]
     },
     "execution_count": 3,
     "metadata": {},
     "output_type": "execute_result"
    }
   ],
   "source": [
    "ArthurService.service_zoo_list(page=1,length=1000, status='normal', search=None)"
   ]
  },
  {
   "cell_type": "code",
   "execution_count": 20,
   "metadata": {},
   "outputs": [
    {
     "name": "stderr",
     "output_type": "stream",
     "text": [
      "[11/01/2019 15:06:23][DEBUG]../base/bs_database_pid.py::_exec_cmdstr(106): select count(*) as cnt from tb_algo where 1=1 and status = %s\t['normal']\n",
      "[11/01/2019 15:06:23][DEBUG]../base/bs_database_pid.py::_new_conn(31): conn(host: 127.0.0.1, port: 3306, user: root, passwd: , db: Arthur_manage)\n",
      "[11/01/2019 15:06:23][DEBUG]../base/bs_database_pid.py::_exec_cmdstr(106): select * from tb_algo where 1=1 and status = %s order by aid desc limit %s, %s\t['normal', 0, 1000]\n",
      "[11/01/2019 15:06:23][DEBUG]../base/bs_database_pid.py::_new_conn(31): conn(host: 127.0.0.1, port: 3306, user: root, passwd: , db: Arthur_manage)\n",
      "[11/01/2019 15:06:23][DEBUG]../base/bs_database_pid.py::_exec_cmdstr(106): select * from tb_user where uid = %s\t[4L]\n",
      "[11/01/2019 15:06:23][DEBUG]../base/bs_database_pid.py::_new_conn(31): conn(host: 127.0.0.1, port: 3306, user: root, passwd: , db: Arthur_manage)\n",
      "[11/01/2019 15:06:23][DEBUG]../base/bs_database_pid.py::_exec_cmdstr(106): select * from tb_user where uid = %s\t[1L]\n",
      "[11/01/2019 15:06:23][DEBUG]../base/bs_database_pid.py::_new_conn(31): conn(host: 127.0.0.1, port: 3306, user: root, passwd: , db: Arthur_manage)\n",
      "[11/01/2019 15:06:23][DEBUG]../base/bs_database_pid.py::_exec_cmdstr(106): select * from tb_user where uid = %s\t[1L]\n",
      "[11/01/2019 15:06:23][DEBUG]../base/bs_database_pid.py::_new_conn(31): conn(host: 127.0.0.1, port: 3306, user: root, passwd: , db: Arthur_manage)\n"
     ]
    },
    {
     "name": "stdout",
     "output_type": "stream",
     "text": [
      ">>>>  {'dt_algo_list': {'algo_list_bytime': [<Storage {'algoname': 'admin_ts', 'status': 'normal', 'remark': '{n:200}', 'insert_tm': '2019-01-10 17:13:14', 'uid': 4, 'atype': 'REST', 'token': '259edc7014be9e8924aa9bd84ccc9eea', 'field': 1L, 'algodesc': 'admin\\xe6\\x8e\\xa8\\xe8\\x8d\\x90\\xe6\\xa8\\xa1\\xe5\\x9e\\x8b\\xe6\\xb5\\x8b\\xe8\\xaf\\x95', 'host': '0.0.0.0', 'aid': 7, 'algo_tm': '2019-01-10', 'user_name': 'admin', 'port': 9002L}>, <Storage {'algoname': 'online_off_test', 'status': 'normal', 'remark': '{n:20}', 'insert_tm': '2019-01-07 14:17:02', 'uid': 1, 'atype': 'REST', 'token': '20bf7679146eaef99136cde84ccc1eba', 'field': 1L, 'algodesc': '\\xe4\\xb8\\x8a\\xe4\\xb8\\x8b\\xe7\\xba\\xbf\\xe6\\xb5\\x8b\\xe8\\xaf\\x95', 'host': '0.0.0.0', 'aid': 6, 'algo_tm': '2019-01-07', 'user_name': 'leepand6', 'port': 9003L}>, <Storage {'algoname': 'recom_new', 'status': 'normal', 'remark': '{n:10}|{n:30}', 'insert_tm': '2019-01-04 17:10:48', 'uid': 1, 'atype': 'REST', 'token': '20bf7679146eaef99136cde84ccc1eba', 'field': 0L, 'algodesc': '\\xe6\\x9c\\xba\\xe5\\x99\\xa8\\xe5\\xad\\xa6\\xe4\\xb9\\xa0', 'host': '0.0.0.0', 'aid': 1, 'algo_tm': '2019-01-04', 'user_name': 'leepand6', 'port': 9013L}>], 'algo_list': [<Storage {'algoname': 'admin_ts', 'status': 'normal', 'remark': '{n:200}', 'insert_tm': '2019-01-10 17:13:14', 'uid': 4, 'atype': 'REST', 'token': '259edc7014be9e8924aa9bd84ccc9eea', 'field': 1L, 'algodesc': 'admin\\xe6\\x8e\\xa8\\xe8\\x8d\\x90\\xe6\\xa8\\xa1\\xe5\\x9e\\x8b\\xe6\\xb5\\x8b\\xe8\\xaf\\x95', 'host': '0.0.0.0', 'aid': 7, 'algo_tm': '2019-01-10', 'user_name': 'admin', 'port': 9002L}>, <Storage {'algoname': 'online_off_test', 'status': 'normal', 'remark': '{n:20}', 'insert_tm': '2019-01-07 14:17:02', 'uid': 1, 'atype': 'REST', 'token': '20bf7679146eaef99136cde84ccc1eba', 'field': 1L, 'algodesc': '\\xe4\\xb8\\x8a\\xe4\\xb8\\x8b\\xe7\\xba\\xbf\\xe6\\xb5\\x8b\\xe8\\xaf\\x95', 'host': '0.0.0.0', 'aid': 6, 'algo_tm': '2019-01-07', 'user_name': 'leepand6', 'port': 9003L}>, <Storage {'algoname': 'recom_new', 'status': 'normal', 'remark': '{n:10}|{n:30}', 'insert_tm': '2019-01-04 17:10:48', 'uid': 1, 'atype': 'REST', 'token': '20bf7679146eaef99136cde84ccc1eba', 'field': 0L, 'algodesc': '\\xe6\\x9c\\xba\\xe5\\x99\\xa8\\xe5\\xad\\xa6\\xe4\\xb9\\xa0', 'host': '0.0.0.0', 'aid': 1, 'algo_tm': '2019-01-04', 'user_name': 'leepand6', 'port': 9013L}>]}}\n"
     ]
    }
   ],
   "source": [
    "# -*- coding: UTF-8 -*-\n",
    "# author: leepand\n",
    "# time: 2019-01-08\n",
    "# desc: Algo 数据展示(my/other/zoo)\n",
    "\n",
    "if __name__ == \"__main__\":\n",
    "    import sys\n",
    "    import os\n",
    "\n",
    "    sys.path.append(\"..\")\n",
    "    sys.path.append(\"../base\")\n",
    "    sys.path.append(\"../dao\")\n",
    "\n",
    "from web.utils import *\n",
    "from hjs_cfg import *\n",
    "from bs_util import *\n",
    "from bs_time import *\n",
    "import datetime\n",
    "from Arthur_service import ArthurService\n",
    "from operator import itemgetter \n",
    "from Arthur_AlgoStar_dao import ArthurAlgoStarDao\n",
    "class ArthurAlgoList:\n",
    "\n",
    "    @staticmethod\n",
    "    def _get_algolist_byuid(uId):\n",
    "        #增加收藏的算法服务\n",
    "        bRet,uid_algouid_list = ArthurAlgoStarDao.query_algouid_by_uidstar(uId)\n",
    "        my_star_algo_list_all=[]\n",
    "        my_star_algo_list=[]\n",
    "        my_star_algo_list_dict=None\n",
    "        if len(uid_algouid_list)>0:\n",
    "            for algouid_algoname_dict in uid_algouid_list:\n",
    "                algouid=algouid_algoname_dict['algouid']\n",
    "                algoname = algouid_algoname_dict['algoname']\n",
    "                #过滤掉自己收藏自己的算法，避免重复\n",
    "                if int(algouid)-int(uId)==0:\n",
    "                    continue\n",
    "                bRet, my_star_algo_list_dict = ArthurService.service_user_list_filter(algouid,algoname,page=1,length=1000, status='normal', search=None)\n",
    "                #print 'my_star_algo_list_dict',my_star_algo_list_dict\n",
    "                if not bRet: my_star_algo_list = []\n",
    "                if my_star_algo_list_dict is not None and \"service_list\" in my_star_algo_list_dict:\n",
    "                    my_star_algo_list= my_star_algo_list_dict['service_list']\n",
    "                else:\n",
    "                    my_star_algo_list=[]\n",
    "                my_star_algo_list_all.extend(my_star_algo_list)\n",
    "    \n",
    "        bRet, my_algo_list_dict = ArthurService.service_user_list(uId,page=1,length=1000, status='normal', search=None)\n",
    "        if not bRet: my_algo_list = []\n",
    "        if my_algo_list_dict is not None and \"service_list\" in my_algo_list_dict:\n",
    "            my_algo_list= my_algo_list_dict['service_list']\n",
    "        else:\n",
    "            my_algo_list=[]\n",
    "        my_algo_list.extend(my_star_algo_list_all)\n",
    "        my_algo_list_new=my_algo_list\n",
    "        return  {\n",
    "            \"algo_list\": my_algo_list_new\n",
    "        }\n",
    "    \n",
    "    @staticmethod\n",
    "    def _get_algolist_zoo():\n",
    "        bRet, algo_list_zoo = ArthurService.service_zoo_list(page=1,length=1000, status='normal', search=None)\n",
    "        if not bRet: algo_list_zoo = []\n",
    "        if  algo_list_zoo is not None and \"service_list\" in algo_list_zoo:\n",
    "            serviceList=algo_list_zoo['service_list']\n",
    "            serviceList_bytime = sorted(serviceList,key = itemgetter('insert_tm'),reverse = True)\n",
    "\n",
    "        else:\n",
    "            serviceList=[]\n",
    "            serviceList_bytime=[]\n",
    "        return {\n",
    "                \"algo_list\": serviceList,\n",
    "                \"algo_list_bytime\":serviceList_bytime}\n",
    "\n",
    "\n",
    "\n",
    "    @staticmethod\n",
    "    def data_show(uId,query_type):\n",
    "        if query_type=='zoo':\n",
    "            datas = {\n",
    "                \"dt_algo_list\":ArthurAlgoList._get_algolist_zoo()\n",
    "            }\n",
    "        else:\n",
    "            datas = {\n",
    "                \"dt_algo_list\":ArthurAlgoList._get_algolist_byuid(uId)\n",
    "            }\n",
    "        return True, datas\n",
    "    @staticmethod\n",
    "    def algo_list_forautocomplete():\n",
    "        bRet, sRet = ArthurAlgoList.data_show(1,'zoo')\n",
    "        new_serv_list=[]\n",
    "        try:\n",
    "            for _inter in sRet['dt_algo_list']['algo_list']:\n",
    "                new_serv_list.append(_inter['algoname'])\n",
    "        except:\n",
    "            pass\n",
    "        return True,new_serv_list\n",
    "\n",
    "if __name__ == \"__main__\":\n",
    "\n",
    "    bRet, sRet = ArthurAlgoList.data_show(1,'zoo')\n",
    "\n",
    "    print '>>>> ', sRet\n",
    "\n",
    "    #print HjsIndex._get_expire_order()\n"
   ]
  },
  {
   "cell_type": "code",
   "execution_count": 21,
   "metadata": {},
   "outputs": [
    {
     "name": "stderr",
     "output_type": "stream",
     "text": [
      "[11/01/2019 15:06:38][DEBUG]../base/bs_database_pid.py::_exec_cmdstr(106): select count(*) as cnt from tb_algo where 1=1 and status = %s\t['normal']\n",
      "[11/01/2019 15:06:38][DEBUG]../base/bs_database_pid.py::_new_conn(31): conn(host: 127.0.0.1, port: 3306, user: root, passwd: , db: Arthur_manage)\n",
      "[11/01/2019 15:06:38][DEBUG]../base/bs_database_pid.py::_exec_cmdstr(106): select * from tb_algo where 1=1 and status = %s order by aid desc limit %s, %s\t['normal', 0, 1000]\n",
      "[11/01/2019 15:06:38][DEBUG]../base/bs_database_pid.py::_new_conn(31): conn(host: 127.0.0.1, port: 3306, user: root, passwd: , db: Arthur_manage)\n",
      "[11/01/2019 15:06:38][DEBUG]../base/bs_database_pid.py::_exec_cmdstr(106): select * from tb_user where uid = %s\t[4L]\n",
      "[11/01/2019 15:06:38][DEBUG]../base/bs_database_pid.py::_new_conn(31): conn(host: 127.0.0.1, port: 3306, user: root, passwd: , db: Arthur_manage)\n",
      "[11/01/2019 15:06:38][DEBUG]../base/bs_database_pid.py::_exec_cmdstr(106): select * from tb_user where uid = %s\t[1L]\n",
      "[11/01/2019 15:06:38][DEBUG]../base/bs_database_pid.py::_new_conn(31): conn(host: 127.0.0.1, port: 3306, user: root, passwd: , db: Arthur_manage)\n",
      "[11/01/2019 15:06:38][DEBUG]../base/bs_database_pid.py::_exec_cmdstr(106): select * from tb_user where uid = %s\t[1L]\n",
      "[11/01/2019 15:06:38][DEBUG]../base/bs_database_pid.py::_new_conn(31): conn(host: 127.0.0.1, port: 3306, user: root, passwd: , db: Arthur_manage)\n"
     ]
    }
   ],
   "source": [
    "bRet, sRet = ArthurAlgoList.data_show(1,'zoo')"
   ]
  },
  {
   "cell_type": "code",
   "execution_count": 24,
   "metadata": {},
   "outputs": [],
   "source": [
    "new_serv_list=[]\n",
    "for _inter in sRet['dt_algo_list']['algo_list']:\n",
    "    new_serv_list.append(_inter['algoname'])"
   ]
  },
  {
   "cell_type": "code",
   "execution_count": 25,
   "metadata": {},
   "outputs": [
    {
     "data": {
      "text/plain": [
       "['admin_ts', 'online_off_test', 'recom_new']"
      ]
     },
     "execution_count": 25,
     "metadata": {},
     "output_type": "execute_result"
    }
   ],
   "source": [
    "new_serv_list"
   ]
  },
  {
   "cell_type": "code",
   "execution_count": null,
   "metadata": {},
   "outputs": [],
   "source": []
  }
 ],
 "metadata": {
  "kernelspec": {
   "display_name": "Python 2",
   "language": "python",
   "name": "python2"
  },
  "language_info": {
   "codemirror_mode": {
    "name": "ipython",
    "version": 2
   },
   "file_extension": ".py",
   "mimetype": "text/x-python",
   "name": "python",
   "nbconvert_exporter": "python",
   "pygments_lexer": "ipython2",
   "version": "2.7.13"
  }
 },
 "nbformat": 4,
 "nbformat_minor": 2
}
