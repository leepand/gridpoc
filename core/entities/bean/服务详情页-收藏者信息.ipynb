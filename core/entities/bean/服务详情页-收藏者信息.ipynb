{
 "cells": [
  {
   "cell_type": "code",
   "execution_count": 4,
   "metadata": {},
   "outputs": [
    {
     "name": "stderr",
     "output_type": "stream",
     "text": [
      "[31/01/2019 16:35:43][DEBUG]/Users/leepand/anaconda2/lib/python2.7/site-packages/Arthur-2.0.1.dev1-py2.7.egg/Arthur/core/entities/base/bs_database_pid.py::_exec_cmdstr(106): select * from tb_algo_star_thumb where algouid =%s and algoname =%s order by insert_tm desc limit %s, %s\t[1, 'recom_new', 0, 1000]\n",
      "[31/01/2019 16:35:43][DEBUG]/Users/leepand/anaconda2/lib/python2.7/site-packages/Arthur-2.0.1.dev1-py2.7.egg/Arthur/core/entities/base/bs_database_pid.py::_new_conn(31): conn(host: 127.0.0.1, port: 3306, user: root, passwd: , db: Arthur_manage)\n"
     ]
    }
   ],
   "source": [
    "from Arthur.core.entities.dao.Arthur_AlgoStar_dao import ArthurAlgoStarDao\n",
    "x,y=ArthurAlgoStarDao.query_star_list_by_algo(algouid=1,algoname='recom_new',offset=0, limit=1000)"
   ]
  },
  {
   "cell_type": "code",
   "execution_count": 5,
   "metadata": {},
   "outputs": [
    {
     "data": {
      "text/plain": [
       "[{'algoname': 'recom_new',\n",
       "  'algouid': 1L,\n",
       "  'insert_tm': datetime.datetime(2019, 1, 23, 8, 10, 20),\n",
       "  'sid': 2L,\n",
       "  'star_cnt': 1L,\n",
       "  'star_status': 'star',\n",
       "  'thumb_cnt': 0L,\n",
       "  'thumb_status': None,\n",
       "  'uid': 1L},\n",
       " {'algoname': 'recom_new',\n",
       "  'algouid': 1L,\n",
       "  'insert_tm': datetime.datetime(2019, 1, 10, 17, 17, 4),\n",
       "  'sid': 4L,\n",
       "  'star_cnt': 1L,\n",
       "  'star_status': 'star',\n",
       "  'thumb_cnt': 0L,\n",
       "  'thumb_status': None,\n",
       "  'uid': 4L},\n",
       " {'algoname': 'recom_new',\n",
       "  'algouid': 1L,\n",
       "  'insert_tm': datetime.datetime(2019, 1, 10, 10, 39, 50),\n",
       "  'sid': 5L,\n",
       "  'star_cnt': 1L,\n",
       "  'star_status': 'star',\n",
       "  'thumb_cnt': 1L,\n",
       "  'thumb_status': None,\n",
       "  'uid': 2L}]"
      ]
     },
     "execution_count": 5,
     "metadata": {},
     "output_type": "execute_result"
    }
   ],
   "source": [
    "y"
   ]
  },
  {
   "cell_type": "code",
   "execution_count": 12,
   "metadata": {},
   "outputs": [
    {
     "data": {
      "text/plain": [
       "1L"
      ]
     },
     "execution_count": 12,
     "metadata": {},
     "output_type": "execute_result"
    }
   ],
   "source": [
    "y[0]['uid']"
   ]
  },
  {
   "cell_type": "code",
   "execution_count": 8,
   "metadata": {},
   "outputs": [
    {
     "name": "stderr",
     "output_type": "stream",
     "text": [
      "[31/01/2019 16:40:20][DEBUG]/Users/leepand/anaconda2/lib/python2.7/site-packages/Arthur-2.0.1.dev1-py2.7.egg/Arthur/core/entities/base/bs_database_pid.py::_exec_cmdstr(106): select * from tb_user where uid = %s\t[1]\n",
      "[31/01/2019 16:40:20][DEBUG]/Users/leepand/anaconda2/lib/python2.7/site-packages/Arthur-2.0.1.dev1-py2.7.egg/Arthur/core/entities/base/bs_database_pid.py::_new_conn(31): conn(host: 127.0.0.1, port: 3306, user: root, passwd: , db: Arthur_manage)\n"
     ]
    }
   ],
   "source": [
    "from Arthur.core.entities.bean.hjs_user import HjsUser\n",
    "from Arthur.core.entities.dao.hjs_user_dao import HjsUserDao\n",
    "_bRet,userInfo=HjsUser.user_info(1)"
   ]
  },
  {
   "cell_type": "code",
   "execution_count": 10,
   "metadata": {},
   "outputs": [
    {
     "data": {
      "text/plain": [
       "'leepand6'"
      ]
     },
     "execution_count": 10,
     "metadata": {},
     "output_type": "execute_result"
    }
   ],
   "source": [
    "userInfo.username"
   ]
  },
  {
   "cell_type": "code",
   "execution_count": 9,
   "metadata": {},
   "outputs": [
    {
     "data": {
      "text/plain": [
       "'13380171631'"
      ]
     },
     "execution_count": 9,
     "metadata": {},
     "output_type": "execute_result"
    }
   ],
   "source": [
    "userInfo.phone"
   ]
  },
  {
   "cell_type": "code",
   "execution_count": 26,
   "metadata": {},
   "outputs": [
    {
     "name": "stdout",
     "output_type": "stream",
     "text": [
      "Writing Arthur_Service_Stared.py\n"
     ]
    }
   ],
   "source": [
    "%%file Arthur_Service_Stared.py\n",
    "from Arthur.core.entities.bean.hjs_user import HjsUser\n",
    "from Arthur.core.entities.dao.Arthur_AlgoStar_dao import ArthurAlgoStarDao\n",
    "\n",
    "class ArthurServiceStared:\n",
    "    @staticmethod\n",
    "    def serviceStaredInfo(algouid,algoname):\n",
    "        _bRet,staredServiceList=ArthurAlgoStarDao.query_star_list_by_algo(algouid,algoname,offset=0, limit=1000)\n",
    "        stared_cnt=len(staredServiceList)\n",
    "        stared_user_infoList = []\n",
    "        if stared_cnt>0:\n",
    "            for _iter in staredServiceList:\n",
    "                uId = _iter['uid']\n",
    "                _bRet,userInfo=HjsUser.user_info(uId)\n",
    "                username = userInfo.username\n",
    "                stared_user_infoList.append({\"userName\":userInfo.get('username','none'),\n",
    "                                            \"phone\":userInfo.get('phone','18888888888'),\n",
    "                                            \"email\":userInfo.get('email',str(username)+'@arthur.io')})\n",
    "        return True,{\"stared_cnt\":stared_cnt,\"stared_user_infoList\":stared_user_infoList}\n",
    "        "
   ]
  },
  {
   "cell_type": "code",
   "execution_count": 13,
   "metadata": {},
   "outputs": [
    {
     "data": {
      "text/plain": [
       "<Storage {'username': 'leepand6', 'remark': '\\xe6\\x9c\\xba\\xe5\\x99\\xa8\\xe5\\xad\\xa6\\xe4\\xb9\\xa0\\xe7\\x88\\xb1\\xe5\\xa5\\xbd\\xe8\\x80\\x85', 'uid': 1L, 'phone': '13380171631', 'password': '1233', 'nickname': '\\xe6\\x9d\\x8e\\xe6\\x94\\x80\\xe7\\x99\\xbb', 'email': 'pandeng.li@163.com', 'priv': 3L}>"
      ]
     },
     "execution_count": 13,
     "metadata": {},
     "output_type": "execute_result"
    }
   ],
   "source": [
    "userInfo"
   ]
  },
  {
   "cell_type": "code",
   "execution_count": 15,
   "metadata": {},
   "outputs": [],
   "source": [
    "xx={\"d\":10}"
   ]
  },
  {
   "cell_type": "code",
   "execution_count": 17,
   "metadata": {},
   "outputs": [],
   "source": [
    "unamd = userInfo.get('username','none')"
   ]
  },
  {
   "cell_type": "code",
   "execution_count": 19,
   "metadata": {},
   "outputs": [
    {
     "data": {
      "text/plain": [
       "'leepand6@arthur.io'"
      ]
     },
     "execution_count": 19,
     "metadata": {},
     "output_type": "execute_result"
    }
   ],
   "source": [
    "xx.get('username',str(unamd)+'@arthur.io')"
   ]
  },
  {
   "cell_type": "code",
   "execution_count": 25,
   "metadata": {},
   "outputs": [
    {
     "name": "stderr",
     "output_type": "stream",
     "text": [
      "[31/01/2019 16:58:59][DEBUG]/Users/leepand/anaconda2/lib/python2.7/site-packages/Arthur-2.0.1.dev1-py2.7.egg/Arthur/core/entities/base/bs_database_pid.py::_exec_cmdstr(106): select * from tb_algo_star_thumb where algouid =%s and algoname =%s order by insert_tm desc limit %s, %s\t[1, 'recom_new', 0, 1000]\n",
      "[31/01/2019 16:58:59][DEBUG]/Users/leepand/anaconda2/lib/python2.7/site-packages/Arthur-2.0.1.dev1-py2.7.egg/Arthur/core/entities/base/bs_database_pid.py::_new_conn(31): conn(host: 127.0.0.1, port: 3306, user: root, passwd: , db: Arthur_manage)\n",
      "[31/01/2019 16:59:00][DEBUG]/Users/leepand/anaconda2/lib/python2.7/site-packages/Arthur-2.0.1.dev1-py2.7.egg/Arthur/core/entities/base/bs_database_pid.py::_exec_cmdstr(106): select * from tb_user where uid = %s\t[1L]\n",
      "[31/01/2019 16:59:00][DEBUG]/Users/leepand/anaconda2/lib/python2.7/site-packages/Arthur-2.0.1.dev1-py2.7.egg/Arthur/core/entities/base/bs_database_pid.py::_new_conn(31): conn(host: 127.0.0.1, port: 3306, user: root, passwd: , db: Arthur_manage)\n",
      "[31/01/2019 16:59:00][DEBUG]/Users/leepand/anaconda2/lib/python2.7/site-packages/Arthur-2.0.1.dev1-py2.7.egg/Arthur/core/entities/base/bs_database_pid.py::_exec_cmdstr(106): select * from tb_user where uid = %s\t[4L]\n",
      "[31/01/2019 16:59:00][DEBUG]/Users/leepand/anaconda2/lib/python2.7/site-packages/Arthur-2.0.1.dev1-py2.7.egg/Arthur/core/entities/base/bs_database_pid.py::_new_conn(31): conn(host: 127.0.0.1, port: 3306, user: root, passwd: , db: Arthur_manage)\n",
      "[31/01/2019 16:59:00][DEBUG]/Users/leepand/anaconda2/lib/python2.7/site-packages/Arthur-2.0.1.dev1-py2.7.egg/Arthur/core/entities/base/bs_database_pid.py::_exec_cmdstr(106): select * from tb_user where uid = %s\t[2L]\n",
      "[31/01/2019 16:59:00][DEBUG]/Users/leepand/anaconda2/lib/python2.7/site-packages/Arthur-2.0.1.dev1-py2.7.egg/Arthur/core/entities/base/bs_database_pid.py::_new_conn(31): conn(host: 127.0.0.1, port: 3306, user: root, passwd: , db: Arthur_manage)\n"
     ]
    },
    {
     "data": {
      "text/plain": [
       "(True,\n",
       " {'stared_cnt': 3,\n",
       "  'stared_user_infoList': [{'email': 'pandeng.li@163.com',\n",
       "    'phone': '13380171631',\n",
       "    'userName': 'leepand6'},\n",
       "   {'email': 'admin@163.com', 'phone': '199999999999', 'userName': 'admin'},\n",
       "   {'email': 'Boris@arthur.io',\n",
       "    'phone': '188888888888',\n",
       "    'userName': 'Boris'}]})"
      ]
     },
     "execution_count": 25,
     "metadata": {},
     "output_type": "execute_result"
    }
   ],
   "source": [
    "ArthurServiceStared.serviceStaredInfo(1,'recom_new')"
   ]
  },
  {
   "cell_type": "code",
   "execution_count": null,
   "metadata": {},
   "outputs": [],
   "source": []
  }
 ],
 "metadata": {
  "kernelspec": {
   "display_name": "Python 2",
   "language": "python",
   "name": "python2"
  },
  "language_info": {
   "codemirror_mode": {
    "name": "ipython",
    "version": 2
   },
   "file_extension": ".py",
   "mimetype": "text/x-python",
   "name": "python",
   "nbconvert_exporter": "python",
   "pygments_lexer": "ipython2",
   "version": "2.7.13"
  }
 },
 "nbformat": 4,
 "nbformat_minor": 2
}
