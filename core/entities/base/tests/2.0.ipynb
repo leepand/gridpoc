{
 "cells": [
  {
   "cell_type": "code",
   "execution_count": 5,
   "metadata": {},
   "outputs": [
    {
     "name": "stderr",
     "output_type": "stream",
     "text": [
      "[25/01/2019 14:34:21][DEBUG]/Users/leepand/anaconda2/lib/python2.7/site-packages/Arthur-2.0.1.dev1-py2.7.egg/Arthur/core/entities/base/bs_database_pid.py::_exec_cmdstr(106): select * from tb_algo where aid = %s\t[1]\n",
      "[25/01/2019 14:34:21][DEBUG]/Users/leepand/anaconda2/lib/python2.7/site-packages/Arthur-2.0.1.dev1-py2.7.egg/Arthur/core/entities/base/bs_database_pid.py::_new_conn(31): conn(host: 127.0.0.1, port: 3306, user: root, passwd: , db: Arthur_manage)\n"
     ]
    },
    {
     "name": "stdout",
     "output_type": "stream",
     "text": [
      "(True, <Storage {'algoname': 'recom_new', 'status': 'normal', 'funcslist': 'fib.fib,fib.pred', 'uid': 1, 'token': '20bf7679146eaef99136cde84ccc1eba', 'host': '0.0.0.0', 'aid': 1, 'port': '9013'}>)\n"
     ]
    }
   ],
   "source": [
    "# -*- coding: UTF-8 -*-\n",
    "\n",
    "# author: leepand\n",
    "# time: 2018-11-27\n",
    "# desc: service处理逻辑 \n",
    "\n",
    "\n",
    "#update 2019-01-25\n",
    "from web.utils import storage\n",
    "from Arthur.core.entities.base.bs_time import get_cur_day\n",
    "from Arthur.core.entities.bean.hjs_user import HjsUser\n",
    "from Arthur.core.entities.dao.hjs_user_dao import HjsUserDao\n",
    "from Arthur.core.entities.dao.Arthur_service_dao import ArthurAlgoDao\n",
    "from Arthur.core.entities.dao.Arthur_ps_service_dao import ArthurServicePauseDao\n",
    "from Arthur.core.utils.token_util import Connector\n",
    "from Arthur.core.entities.base.bs_util import Page\n",
    "\n",
    "\n",
    "\n",
    "class ServiceStatus:\n",
    "    ALL    = 'all'\n",
    "    STOP   = 'stop'\n",
    "    NORMAL = 'normal'\n",
    "    DELETE = 'delete'\n",
    "    NOTPUBLISH = 'notpublish'\n",
    "\n",
    "\n",
    "class ArthurService:\n",
    "\n",
    "    @staticmethod\n",
    "    def _page_data(data_list, status, search, page):\n",
    "        if not isinstance(page, Page):\n",
    "            return data_list\n",
    "        return {\n",
    "            \"page_count\": page.page_count,\n",
    "            \"current\": page.page_index,\n",
    "            \"service_list\": data_list,\n",
    "            \"service_query\": {\"status\": status, \"search\": search}\n",
    "        }\n",
    "\n",
    "    @staticmethod\n",
    "    def service_zoo_list(page, length, status=None, search=None):\n",
    "        allow_status = [ServiceStatus.ALL, ServiceStatus.NORMAL, ServiceStatus.STOP, ServiceStatus.DELETE,ServiceStatus.NOTPUBLISH]\n",
    "        if status and (status not in allow_status):\n",
    "            return False, 'param(status) not define'\n",
    "\n",
    "        bRet, count = ArthurAlgoDao.query_node_count(status, search)\n",
    "        if not bRet:\n",
    "            return False, count\n",
    "\n",
    "        pg = Page(count, page, length)\n",
    "        bRet, sRet = ArthurAlgoDao.query_node_list(pg.offset, pg.limit, status, search)\n",
    "        if not bRet:\n",
    "            Log.err('list algo fail: %s' % str(sRet))\n",
    "            return False, sRet\n",
    "        if len(sRet) == 0:\n",
    "            return True, None\n",
    "        \n",
    "        algoList = list()\n",
    "        for item in sRet:\n",
    "            _bRet,uName=HjsUser.user_info(item['uid'])\n",
    "            if not _bRet:\n",
    "                uName=''\n",
    "            user_name= uName.username\n",
    "            algo_info = storage()\n",
    "            algo_info.aid = int(item['aid'])\n",
    "            algo_info.uid = int(item['uid'])\n",
    "            algo_info.user_name =str(user_name)\n",
    "            algo_info.algoname = item['algoname']\n",
    "            algo_info.algodesc = item['algodesc']\n",
    "            algo_info.atype = item['atype'];\n",
    "            algo_info.algo_tm = str(item['algo_tm'])[:10]\n",
    "            algo_info.token = item['token']\n",
    "            algo_info.host = item['host']\n",
    "            algo_info.port = item['port']\n",
    "            algo_info.field = item['field']\n",
    "            #order_info.start_tm = str(item['start_tm'])\n",
    "            #order_info.end_tm = str(item['end_tm'])\n",
    "            #order_info.amount = item['amount']\n",
    "            #order_info.cash = item['cash']\n",
    "            algo_info.status = item['status']\n",
    "            algo_info.remark = item['remark']\n",
    "            algo_info.insert_tm = str(item['insert_tm'])#[2:16]\n",
    "            algoList.append(algo_info)\n",
    "        return True, ArthurService._page_data(algoList, status, search, pg)\n",
    "    @staticmethod\n",
    "    def service_user_list(uid,page, length, status=None, search=None):\n",
    "        allow_status = [ServiceStatus.ALL, ServiceStatus.NORMAL, ServiceStatus.STOP, ServiceStatus.DELETE,ServiceStatus.NOTPUBLISH]\n",
    "        if status and (status not in allow_status):\n",
    "            return False, 'param(status) not define'\n",
    "\n",
    "        bRet, count = ArthurAlgoDao.query_node_count_by_uid(uid,status, search)\n",
    "        if not bRet:\n",
    "            return False, count\n",
    "\n",
    "        pg = Page(count, page, length)\n",
    "        bRet, sRet = ArthurAlgoDao.query_node_list_by_uid(uid,pg.offset, pg.limit, status, search)\n",
    "        if not bRet:\n",
    "            Log.err('list algo fail: %s' % str(sRet))\n",
    "            return False, sRet\n",
    "        if len(sRet) == 0:\n",
    "            return True, None\n",
    "        \n",
    "        algoList = list()\n",
    "        \n",
    "        for item in sRet:\n",
    "            _bRet,uName=HjsUser.user_info(item['uid'])\n",
    "            if not _bRet:\n",
    "                 uName=''\n",
    "            user_name= uName.username\n",
    "            algo_info = storage()\n",
    "            algo_info.aid = int(item['aid'])\n",
    "            algo_info.uid = int(item['uid'])\n",
    "            algo_info.user_name =str(user_name)\n",
    "            algo_info.algoname = item['algoname']\n",
    "            algo_info.algodesc = item['algodesc']\n",
    "            algo_info.atype = item['atype'];\n",
    "            algo_info.algo_tm = str(item['algo_tm'])[:10]\n",
    "            algo_info.token = item['token']\n",
    "            algo_info.host = item['host']\n",
    "            algo_info.port = item['port']\n",
    "            algo_info.field = item['field']\n",
    "            #order_info.start_tm = str(item['start_tm'])\n",
    "            #order_info.end_tm = str(item['end_tm'])\n",
    "            #order_info.amount = item['amount']\n",
    "            #order_info.cash = item['cash']\n",
    "            algo_info.status = item['status']\n",
    "            algo_info.remark = item['remark']\n",
    "            algo_info.insert_tm = str(item['insert_tm'])#[2:16]\n",
    "            algoList.append(algo_info)\n",
    "        return True, ArthurService._page_data(algoList, status, search, pg)\n",
    "    #增加2019-01-10:获取用户收藏算法服务\n",
    "    @staticmethod\n",
    "    def service_user_list_filter(uid,algoname,page, length, status=None, search=None):\n",
    "        allow_status = [ServiceStatus.ALL, ServiceStatus.NORMAL, ServiceStatus.STOP, ServiceStatus.DELETE,ServiceStatus.NOTPUBLISH]\n",
    "        if status and (status not in allow_status):\n",
    "            return False, 'param(status) not define'\n",
    "\n",
    "        bRet, count = ArthurAlgoDao.query_node_count_by_uid(uid,status, search)\n",
    "        if not bRet:\n",
    "            return False, count\n",
    "\n",
    "        pg = Page(count, page, length)\n",
    "        bRet, sRet = ArthurAlgoDao.query_node_list_by_uid(uid,pg.offset, pg.limit, status, search)\n",
    "        if not bRet:\n",
    "            Log.err('list algo fail: %s' % str(sRet))\n",
    "            return False, sRet\n",
    "        if len(sRet) == 0:\n",
    "            return True, None\n",
    "        \n",
    "        algoList = list()\n",
    "        \n",
    "        for item in sRet:\n",
    "            if algoname==item['algoname'] and item['status']=='normal': \n",
    "                _bRet,uName=HjsUser.user_info(item['uid'])\n",
    "                if not _bRet:\n",
    "                     uName=''\n",
    "                user_name= uName.username\n",
    "                algo_info = storage()\n",
    "                algo_info.aid = int(item['aid'])\n",
    "                algo_info.uid = int(item['uid'])\n",
    "                algo_info.user_name =str(user_name)\n",
    "                algo_info.algoname = item['algoname']\n",
    "                algo_info.algodesc = item['algodesc']\n",
    "                algo_info.atype = item['atype'];\n",
    "                algo_info.algo_tm = str(item['algo_tm'])[:10]\n",
    "                algo_info.token = item['token']\n",
    "                algo_info.host = item['host']\n",
    "                algo_info.port = item['port']\n",
    "                algo_info.field = item['field']\n",
    "                algo_info.status = item['status']\n",
    "                algo_info.remark = item['remark']\n",
    "                algo_info.insert_tm = str(item['insert_tm'])#[2:16]\n",
    "                algoList.append(algo_info)\n",
    "        return True, ArthurService._page_data(algoList, status, search, pg)\n",
    "\n",
    "    @staticmethod\n",
    "    def service_today(status='normal', days=0):\n",
    "        tg_date = get_cur_day(days, format=\"%Y-%m-%d %H:%M:%S\")#\"%Y-%m-%d %H:%M:%S\" %Y-%m-%d\n",
    "        bRet, algoList_tmp = ArthurAlgoDao.query_node_by_date(status, tg_date)\n",
    "        if not bRet:\n",
    "            return False, algoList\n",
    "        \n",
    "        bRet, sRet = ArthurServicePauseDao.query_node_by_date(tg_date)\n",
    "        if not bRet:\n",
    "            return False, sRet\n",
    "        \n",
    "        pauseList = list()\n",
    "        for item in sRet:\n",
    "            if item.has_key('aid'):\n",
    "                pauseList.append(item['aid'])\n",
    "\n",
    "        algoList = list()\n",
    "        for item in algoList_tmp:\n",
    "            if item['aid'] in pauseList: continue\n",
    "            \n",
    "            algo_info = storage()\n",
    "            algo_info.aid = int(item['aid'])\n",
    "            algo_info.uid = int(item['uid'])\n",
    "            algo_info.algoname = item['algoname']\n",
    "            algo_info.algodesc = item['algodesc']\n",
    "            algo_info.atype = item['atype']\n",
    "            algo_info.algo_tm = str(item['algo_tm'])\n",
    "            algo_info.status = item['status']\n",
    "            algo_info.remark = item['remark']\n",
    "            algo_info.token = item['token']\n",
    "            algo_info.host = item['host']\n",
    "            algo_info.port = item['port']\n",
    "            algo_info.field = item['field']\n",
    "            #bRet, custom_info = HjsCustomDao.query_node_by_cid(order_info.cid)\n",
    "            #order_info.address = custom_info['address'] if bRet else '--'\n",
    "            #order_info.phone = custom_info['phone'] if bRet else '--'\n",
    "            #order_info.ctype = custom_info['ctype'] if bRet else '--'\n",
    "\n",
    "            algoList.append(algo_info)\n",
    "\n",
    "        return True, algoList\n",
    "\n",
    "\n",
    "\n",
    "    #(uId, algoname,algodesc,token,pyfile,funcslist,tags,field,host,port,atype, algo_tm,is_email, remark, get_cur_time())\n",
    "    @staticmethod\n",
    "    def service_add(uId, algoname, algodesc,opertype, pyfile,funcslist,tags,field,host,port,\n",
    "                   algo_tm,is_email, remark):\n",
    "        atype='REST'\n",
    "        Token_gen=Connector.encrypt_token( 1, str(uId), 'session_token')\n",
    "        Token_info=Token_gen['token']\n",
    "        return ArthurAlgoDao.insert_node(uId, algoname, algodesc,opertype,Token_info, pyfile,funcslist,tags,field,host,port,atype,\n",
    "                   algo_tm,is_email, remark)\n",
    "\n",
    "\n",
    "    #@staticmethod\n",
    "    #def order_update(oId, otype, order_tm, start_tm, end_tm, amount, cash, status, remark):\n",
    "    #    return HjsOrderDao.update_node(oId, otype, order_tm, start_tm, end_tm, amount, cash, status, remark)\n",
    "    #add 2018-12-29增加对服务状态的更新（发布时）\n",
    "    @staticmethod\n",
    "    def algo_publish_status_update(aId, status):\n",
    "        return ArthurAlgoDao.update_node_status(aId, status)\n",
    "    @staticmethod\n",
    "    def order_update(oId, otype, order_tm, status,remark):\n",
    "        return HjsOrderDao.update_node(oId, otype, order_tm, status,remark)\n",
    "\n",
    "    @staticmethod\n",
    "    def order_del(oId):\n",
    "        return HjsOrderDao.update_node_status(oId, 'stop')\n",
    "\n",
    "    #add 2018-12-29\n",
    "    @staticmethod\n",
    "    def algo_info(aId):\n",
    "        bRet, sRet = ArthurAlgoDao.query_node_by_aid(aId)\n",
    "        if not bRet:\n",
    "            return False, sRet\n",
    "        \n",
    "        algo_info = storage()\n",
    "        algo_info.aid = int(sRet['aid'])\n",
    "        algo_info.uid = int(sRet['uid'])\n",
    "        algo_info.algoname = sRet['algoname']\n",
    "        algo_info.status = sRet['status']\n",
    "        algo_info.port = str(sRet['port'])[:10]\n",
    "        #order_info.start_tm = str(sRet['start_tm'])\n",
    "        #order_info.end_tm = str(sRet['end_tm'])\n",
    "        #order_info.amount = sRet['amount']\n",
    "        #order_info.cash = sRet['cash']\n",
    "        algo_info.host = sRet['host']\n",
    "        algo_info.token = sRet['token']\n",
    "        algo_info.funcslist = sRet['funcslist']\n",
    "        return True, algo_info\n",
    "    #add 2019-01-03\n",
    "    @staticmethod\n",
    "    def algo_proj_info(uId,AlgoName):\n",
    "        bRet, sRet = ArthurAlgoDao.query_node_by_proj_uid(uId,AlgoName)\n",
    "        if not bRet:\n",
    "            return False, sRet\n",
    "        \n",
    "        algo_info = storage()\n",
    "        algo_info.aid = int(sRet['aid'])\n",
    "        algo_info.uid = int(sRet['uid'])\n",
    "        algo_info.algoname = sRet['algoname']\n",
    "        algo_info.algodesc = sRet['algodesc']\n",
    "        algo_info.status = sRet['status']\n",
    "        algo_info.tags = sRet['tags']\n",
    "        algo_info.field = sRet['field']\n",
    "        algo_info.port = str(sRet['port'])\n",
    "        #order_info.start_tm = str(sRet['start_tm'])\n",
    "        #order_info.end_tm = str(sRet['end_tm'])\n",
    "        #order_info.amount = sRet['amount']\n",
    "        #order_info.cash = sRet['cash']\n",
    "        algo_info.host = sRet['host']\n",
    "        algo_info.token = sRet['token']\n",
    "        algo_info.funcslist = sRet['funcslist']\n",
    "        algo_info.remark = sRet['remark']\n",
    "        return True, algo_info\n",
    "\n",
    "\n",
    "if __name__ == \"__main__\":\n",
    "    \n",
    "    #print ArthurService.service_today() \n",
    "    #print ArthurService.service_zoo_list(1, 20, status=None, search=None) \n",
    "    #print ArthurService.service_user_list(35,1, 20, status=None, search=None)\n",
    "    print ArthurService.algo_info(1)\n",
    "    #print HjsOrder.order_info(2003)\n",
    "    #cId, otype, order_tm, start_tm, end_tm, amount, cash, remark\n",
    "    #orfa={\"cId\": 1,\"otype\": \"A\", \"order_tm\": \"2018-03-12 12:23:11\",\"remark\":\"need 20\"}\n",
    "    #print HjsOrder.order_add(**orfa)\n",
    "   # print HjsOrder.order_today()\n",
    "    #print ArthurService.service_user_list(page, length, status=None, search=None)\n",
    "\n",
    "    #订单需要与客户绑定才能插入\n",
    "    pass\n"
   ]
  },
  {
   "cell_type": "code",
   "execution_count": 2,
   "metadata": {},
   "outputs": [
    {
     "name": "stdout",
     "output_type": "stream",
     "text": [
      "(True, [{'username': 'leepand6', 'remark': '\\xe6\\x9c\\xba\\xe5\\x99\\xa8\\xe5\\xad\\xa6\\xe4\\xb9\\xa0\\xe7\\x88\\xb1\\xe5\\xa5\\xbd\\xe8\\x80\\x85', 'uid': 1L, 'phone': '13380171631', 'lastlogin': datetime.datetime(2019, 1, 24, 19, 19, 19), 'privilege': 3L, 'password': '1233', 'nickname': '\\xe6\\x9d\\x8e\\xe6\\x94\\x80\\xe7\\x99\\xbb', 'email': 'pandeng.li@163.com'}, {'username': 'Boris', 'remark': '\\xe7\\xa7\\x91\\xe8\\xbe\\xbe\\xe8\\x82\\xa1\\xe4\\xbb\\xbd\\xe6\\x88\\x98\\xe7\\x95\\xa5\\xe5\\xae\\x98\\xe5\\x85\\xbc\\xe4\\xbb\\xbb\\xe9\\xa6\\x96\\xe5\\xb8\\xad\\xe7\\xa7\\x91\\xe5\\xad\\xa6\\xe5\\xae\\xb6', 'uid': 2L, 'phone': '188888888888', 'lastlogin': datetime.datetime(2019, 1, 19, 22, 11, 51), 'privilege': 1L, 'password': '123456', 'nickname': '\\xe5\\xbc\\xa0\\xe5\\xbf\\x97\\xe5\\x8b\\x87\\xe5\\x8d\\x9a\\xe5\\xa3\\xab', 'email': 'Boris@arthur.io'}, {'username': 'guest', 'remark': '\\xe6\\x9a\\x82\\xe6\\x97\\xa0', 'uid': 3L, 'phone': '199999999999', 'lastlogin': datetime.datetime(2019, 1, 7, 11, 36, 39), 'privilege': 1L, 'password': '123456', 'nickname': '\\xe5\\x88\\xb0\\xe8\\xae\\xbf\\xe8\\x80\\x85', 'email': 'guest@arthur.io'}, {'username': 'admin', 'remark': '\\xe8\\xb6\\x85\\xe7\\xba\\xa7\\xe7\\xae\\xa1\\xe7\\x90\\x86\\xe5\\x91\\x98-\\xe6\\x9c\\x80\\xe5\\xbc\\xba\\xe7\\x8e\\x8b\\xe8\\x80\\x85', 'uid': 4L, 'phone': '199999999999', 'lastlogin': datetime.datetime(2019, 1, 10, 17, 16, 55), 'privilege': 3L, 'password': '1233', 'nickname': '\\xe8\\xb6\\x85\\xe7\\xba\\xa7\\xe7\\xae\\xa1\\xe7\\x90\\x86\\xe5\\x91\\x98', 'email': 'admin@163.com'}, {'username': 'layertest', 'remark': 'layertest', 'uid': 5L, 'phone': 'layertest', 'lastlogin': datetime.datetime(2019, 1, 11, 15, 51, 33), 'privilege': 1L, 'password': 'layertest', 'nickname': 'layertest', 'email': 'layertest'}])\n"
     ]
    }
   ],
   "source": [
    "# -*- coding: UTF-8 -*-\n",
    "\n",
    "# author: leepand\n",
    "# time: 2019-01-25\n",
    "# desc: MySQL基础操作类封装\n",
    "\n",
    "\n",
    "import MySQLdb\n",
    "from Arthur.core.entities.base.bs_log import Log\n",
    "\n",
    "class SqlCmdEnum:\n",
    "    COMMIT_CMD = 0\n",
    "    ROLLBACK_CMD = 1\n",
    "    \n",
    "class SqlExecEnum:\n",
    "    QUERY       =   0\n",
    "    UPDATE      =   1\n",
    "    INSERT      =   2\n",
    "    DELETE      =   3\n",
    "    \n",
    "\n",
    "def _new_conn(host, port, user, passwd, db, charset):\n",
    "    try:\n",
    "        conn = MySQLdb.connect(host = host,\n",
    "                               port = port,\n",
    "                               user = user,\n",
    "                               passwd = passwd,\n",
    "                               db = db,\n",
    "                               charset = charset)\n",
    "        conn.autocommit(True)\n",
    "        Log.debug(\"conn(host: %s, port: %d, user: %s, passwd: %s, db: %s)\" %(host, port, user, passwd, db))\n",
    "        return conn\n",
    "    except Exception, e:\n",
    "        Log.err(\"ERR(host: %s, port: %d, user: %s, passwd: %s, db: %s, %s)\" %(host, port, user, passwd, db, str(e)))\n",
    "        return None\n",
    "\n",
    "class DataBase: \n",
    "    \n",
    "    def __init__(self,               \n",
    "                 host = BaseConf.SQL_HOST, \n",
    "                 port = BaseConf.SQL_PORT,\n",
    "                 user = BaseConf.SQL_USER,\n",
    "                 passwd = BaseConf.SQL_PASSWD,\n",
    "                 db = BaseConf.SQL_DB,\n",
    "                 charset = None):\n",
    "        self.host = host\n",
    "        self.port = port\n",
    "        self.user = user\n",
    "        self.passwd = passwd\n",
    "        self.db = db\n",
    "        self.charset = charset\n",
    "        \n",
    "        self.conn = None\n",
    "        \n",
    "    def _check(self):\n",
    "        try:\n",
    "            self.conn.ping()\n",
    "        except Exception, e:\n",
    "            self.conn = _new_conn(self.host, self.port, self.user, self.passwd, self.db, self.charset)\n",
    "        \n",
    "    def _get_conn(self):\n",
    "        if self.conn == None:\n",
    "            self.conn = _new_conn(self.host, self.port, self.user, self.passwd, self.db, self.charset)\n",
    "        else: \n",
    "            self._check()\n",
    "    \n",
    "    def _close_conn(self):\n",
    "        if self.conn != None:\n",
    "            self.conn.commit()\n",
    "            self.conn.close()\n",
    "            self.conn = None\n",
    "            \n",
    "\n",
    "    def _get_record_list(self, cursor):\n",
    "        \n",
    "        def _get_fieldname_list(cursor):\n",
    "            fieldList = []\n",
    "            for info in cursor.description:\n",
    "                fieldList.append(info[0])\n",
    "            return fieldList\n",
    "        \n",
    "        fieldnameList = _get_fieldname_list(cursor)\n",
    "        \n",
    "        retNodeList = []\n",
    "        recordList = cursor.fetchall()\n",
    "        for record in recordList:\n",
    "            node = {}\n",
    "            for i in range(len(fieldnameList)):\n",
    "                node[fieldnameList[i]] = record[i]\n",
    "            retNodeList.append(node)\n",
    "        \n",
    "        return retNodeList\n",
    "            \n",
    "        \n",
    "    def _exec_cmdstr(self, cmdstr, param, rollback, execType):\n",
    "        \n",
    "        def _encode_param(param):\n",
    "            dParam = []\n",
    "            for par in param:\n",
    "                if type(par) == unicode:\n",
    "                    par = par.encode('utf-8')\n",
    "                dParam.append(par)\n",
    "            return dParam\n",
    "        \n",
    "        if param != None:  param = _encode_param(param)\n",
    "        Log.debug(\"%s\\t%s\" %(cmdstr, str(param)))\n",
    "        \n",
    "        self._get_conn()\n",
    "        conn = self.conn\n",
    "        if conn == None:\n",
    "            Log.err(\"mysql not connect!\")\n",
    "            return False, \"mysql not connect!\"\n",
    "        \n",
    "        cursor = conn.cursor()\n",
    "        try:\n",
    "            val = cursor.execute(cmdstr, param)\n",
    "            if execType == SqlExecEnum.QUERY:    val = self._get_record_list(cursor)\n",
    "            elif execType == SqlExecEnum.INSERT: val = int(conn.insert_id())\n",
    "            else: pass\n",
    "        except Exception, e:\n",
    "            Log.warning(\"sql: %s,%s ERR(%s)\" %(cmdstr, str(param), str(e)))\n",
    "            if rollback:\n",
    "                self.cmd_submit(SqlCmdEnum.ROLLBACK_CMD)\n",
    "            else:\n",
    "                self._close_conn()        \n",
    "            return False, \"%s:%s %s\" %(cmdstr, str(param), str(e))\n",
    "\n",
    "        if not rollback:\n",
    "            self._close_conn()\n",
    "        \n",
    "        return True, val\n",
    "    \n",
    "    def query_data(self, cmdstr, param, rollback = False):\n",
    "        return self._exec_cmdstr(cmdstr, param, rollback, SqlExecEnum.QUERY)\n",
    "    \n",
    "    def update_data(self, cmdstr, param, rollback = False):\n",
    "        return self._exec_cmdstr(cmdstr, param, rollback, SqlExecEnum.UPDATE)\n",
    "        \n",
    "    def insert_data(self, cmdstr, param, rollback = False):\n",
    "        return self._exec_cmdstr(cmdstr, param, rollback, SqlExecEnum.INSERT)\n",
    "    \n",
    "    def delete_data(self, cmdstr, param, rollback = False):\n",
    "        return self._exec_cmdstr(cmdstr, param, rollback, SqlExecEnum.DELETE)\n",
    "    \n",
    "    def cmd_submit(self, flag):\n",
    "        conn = self.conn\n",
    "        if not conn: self._close_conn(); return\n",
    "        \n",
    "        try:\n",
    "            if flag == SqlCmdEnum.COMMIT_CMD:\n",
    "                conn.commit()\n",
    "            elif flag == SqlCmdEnum.ROLLBACK_CMD:\n",
    "                conn.rollback()\n",
    "        finally:\n",
    "            self._close_conn()\n",
    "            \n",
    "\n",
    "if __name__ == \"__main__\":\n",
    "    \n",
    "    dataBase = DataBase()\n",
    "    \n",
    "    cmdstr = \"select * from tb_user limit 10\"\n",
    "    print dataBase.query_data(cmdstr, None)\n"
   ]
  },
  {
   "cell_type": "code",
   "execution_count": 3,
   "metadata": {},
   "outputs": [
    {
     "ename": "ImportError",
     "evalue": "No module named core.entities.base.bs_syshead",
     "output_type": "error",
     "traceback": [
      "\u001b[0;31m---------------------------------------------------------------\u001b[0m",
      "\u001b[0;31mImportError\u001b[0m                   Traceback (most recent call last)",
      "\u001b[0;32m<ipython-input-3-7e3463ecc482>\u001b[0m in \u001b[0;36m<module>\u001b[0;34m()\u001b[0m\n\u001b[0;32m----> 1\u001b[0;31m \u001b[0;32mfrom\u001b[0m \u001b[0mArthur\u001b[0m\u001b[0;34m.\u001b[0m\u001b[0mcore\u001b[0m\u001b[0;34m.\u001b[0m\u001b[0mentities\u001b[0m\u001b[0;34m.\u001b[0m\u001b[0mbase\u001b[0m\u001b[0;34m.\u001b[0m\u001b[0mbs_syshead\u001b[0m \u001b[0;32mimport\u001b[0m \u001b[0;34m*\u001b[0m\u001b[0;34m\u001b[0m\u001b[0m\n\u001b[0m",
      "\u001b[0;31mImportError\u001b[0m: No module named core.entities.base.bs_syshead"
     ]
    }
   ],
   "source": [
    "from Arthur.core.entities.base.bs_syshead import *"
   ]
  },
  {
   "cell_type": "code",
   "execution_count": 3,
   "metadata": {},
   "outputs": [],
   "source": [
    "import traceback"
   ]
  },
  {
   "cell_type": "code",
   "execution_count": 1,
   "metadata": {},
   "outputs": [
    {
     "name": "stderr",
     "output_type": "stream",
     "text": [
      "[25/01/2019 13:57:49][DEBUG]/Users/leepand/anaconda2/lib/python2.7/site-packages/Arthur-2.0.1.dev1-py2.7.egg/Arthur/core/entities/base/bs_database_pid.py::_exec_cmdstr(106): insert into tb_user_abtesting(uid, abname) values(%s, %s)\t[1, 'layerui4']\n",
      "[25/01/2019 13:57:49][DEBUG]/Users/leepand/anaconda2/lib/python2.7/site-packages/Arthur-2.0.1.dev1-py2.7.egg/Arthur/core/entities/base/bs_database_pid.py::_new_conn(31): conn(host: 127.0.0.1, port: 3306, user: root, passwd: , db: Arthur_manage)\n",
      "[25/01/2019 13:57:50][DEBUG]/Users/leepand/anaconda2/lib/python2.7/site-packages/Arthur-2.0.1.dev1-py2.7.egg/Arthur/core/entities/base/bs_database_pid.py::_exec_cmdstr(106): select * from tb_user_abtesting where uid = %s\t[1]\n",
      "[25/01/2019 13:57:50][DEBUG]/Users/leepand/anaconda2/lib/python2.7/site-packages/Arthur-2.0.1.dev1-py2.7.egg/Arthur/core/entities/base/bs_database_pid.py::_new_conn(31): conn(host: 127.0.0.1, port: 3306, user: root, passwd: , db: Arthur_manage)\n",
      "[25/01/2019 13:57:50][DEBUG]/Users/leepand/anaconda2/lib/python2.7/site-packages/Arthur-2.0.1.dev1-py2.7.egg/Arthur/core/entities/base/bs_database_pid.py::_exec_cmdstr(106): select * from tb_user_abtesting where abname = %s\t['layui']\n",
      "[25/01/2019 13:57:50][DEBUG]/Users/leepand/anaconda2/lib/python2.7/site-packages/Arthur-2.0.1.dev1-py2.7.egg/Arthur/core/entities/base/bs_database_pid.py::_new_conn(31): conn(host: 127.0.0.1, port: 3306, user: root, passwd: , db: Arthur_manage)\n"
     ]
    },
    {
     "name": "stdout",
     "output_type": "stream",
     "text": [
      "(True, {})\n"
     ]
    }
   ],
   "source": [
    "# -*- coding: utf-8 -*-\n",
    "\n",
    "# author: leepand\n",
    "# time: 2019-01-15\n",
    "# desc: AB Testing信息持久化\n",
    "\n",
    "'''\n",
    "# 用户操作\n",
    "DROP TABLE IF EXISTS `tb_user_abtesting`;\n",
    "CREATE TABLE `tb_user_abtesting` (\n",
    "`abid` int(10) NOT NULL AUTO_INCREMENT,\n",
    "`uid` int(10) NOT NULL,\n",
    "`abname` varchar(50) NOT NULL,\n",
    "PRIMARY KEY (`abid`),\n",
    "KEY `uid` (`uid`),\n",
    "CONSTRAINT `tb_abtesting_ibfk_1` FOREIGN KEY (`uid`) REFERENCES `tb_user` (`uid`)\n",
    ") ENGINE=InnoDB DEFAULT CHARSET=utf8;\n",
    "'''\n",
    "#update 2019-01-25\n",
    "from Arthur.core.entities.arthur_web_cfg import *\n",
    "from Arthur.core.entities.base.bs_util import *\n",
    "from Arthur.core.entities.base.bs_database_pid import DataBase\n",
    "\n",
    "class ArthurAbTestingDao:\n",
    "    @staticmethod\n",
    "    def insert_node(uId, abname):\n",
    "\n",
    "        dataBase = DataBase()\n",
    "        sql = \"insert into tb_user_abtesting(uid, abname) values(%s, %s)\"\n",
    "        param = (uId, abname)\n",
    "\n",
    "        bRet, sRet = dataBase.insert_data(sql, param)\n",
    "        return bRet, sRet\n",
    "    @staticmethod\n",
    "    def delete_node_user_ab(abid):\n",
    "        dataBase = DataBase()\n",
    "        sql = \"delete from tb_user_abtesting where abid = %s\"\n",
    "        param = (abid, )\n",
    "\n",
    "        bRet, sRet = dataBase.delete_data(sql, param)\n",
    "        if not bRet:\n",
    "            return False, sRet\n",
    "        \n",
    "        return True, sRet\n",
    "    @staticmethod\n",
    "    def query_node_ab_list_by_uid(uid):\n",
    "        dataBase = DataBase()\n",
    "        sql = \"select * from tb_user_abtesting where uid = %s\"\n",
    "        param = (uid, )\n",
    "\n",
    "        bRet, sRet = dataBase.query_data(sql, param)\n",
    "        if not bRet:\n",
    "            return False, sRet\n",
    "\n",
    "        return True, sRet\n",
    "    \n",
    "    @staticmethod\n",
    "    def query_node_ab_list():\n",
    "        dataBase = DataBase()\n",
    "        sql = \"select * from tb_user_abtesting\"\n",
    "\n",
    "        bRet, sRet = dataBase.query_data(sql, None)\n",
    "        if not bRet:\n",
    "            return False, sRet\n",
    "        \n",
    "        return True, sRet\n",
    "    @staticmethod\n",
    "    def query_node_by_abname(abName):\n",
    "        dataBase = DataBase()\n",
    "        sql = \"select * from tb_user_abtesting where abname = %s\"\n",
    "        param = (abName, )\n",
    "\n",
    "        bRet, sRet = dataBase.query_data(sql, param)\n",
    "        if not bRet:\n",
    "            return False, sRet\n",
    "        if len(sRet)>0:\n",
    "            return True, sRet[0]\n",
    "        else:\n",
    "            return True, {}\n",
    "    \n",
    "\n",
    "if __name__ == \"__main__\":\n",
    "    uId=1\n",
    "    abname='layerui4'\n",
    "    ArthurAbTestingDao.insert_node(uId,abname)\n",
    "    ArthurAbTestingDao.query_node_ab_list_by_uid(1)\n",
    "    print ArthurAbTestingDao.query_node_by_abname('layui')"
   ]
  },
  {
   "cell_type": "code",
   "execution_count": 2,
   "metadata": {},
   "outputs": [],
   "source": [
    "from Arthur.core.entities.base.bs_util import *"
   ]
  },
  {
   "cell_type": "code",
   "execution_count": 2,
   "metadata": {},
   "outputs": [],
   "source": [
    "from Arthur.core.entities.arthur_web_cfg import *"
   ]
  },
  {
   "cell_type": "code",
   "execution_count": 1,
   "metadata": {},
   "outputs": [
    {
     "ename": "ImportError",
     "evalue": "No module named arthur_web_cfg",
     "output_type": "error",
     "traceback": [
      "\u001b[0;31m---------------------------------------------------------------\u001b[0m",
      "\u001b[0;31mImportError\u001b[0m                   Traceback (most recent call last)",
      "\u001b[0;32m<ipython-input-1-18eb590c9315>\u001b[0m in \u001b[0;36m<module>\u001b[0;34m()\u001b[0m\n\u001b[0;32m----> 1\u001b[0;31m \u001b[0;32mimport\u001b[0m \u001b[0mArthur\u001b[0m\u001b[0;34m.\u001b[0m\u001b[0mcore\u001b[0m\u001b[0;34m.\u001b[0m\u001b[0mentities\u001b[0m\u001b[0;34m.\u001b[0m\u001b[0mdao\u001b[0m\u001b[0;34m.\u001b[0m\u001b[0mArthur_Abtesting_dao\u001b[0m\u001b[0;34m\u001b[0m\u001b[0m\n\u001b[0m",
      "\u001b[0;32m/Users/leepand/anaconda2/lib/python2.7/site-packages/Arthur-2.0.1.dev1-py2.7.egg/Arthur/core/entities/dao/Arthur_Abtesting_dao.py\u001b[0m in \u001b[0;36m<module>\u001b[0;34m()\u001b[0m\n\u001b[1;32m     18\u001b[0m '''\n\u001b[1;32m     19\u001b[0m \u001b[0;31m#update 2019-01-25\u001b[0m\u001b[0;34m\u001b[0m\u001b[0;34m\u001b[0m\u001b[0m\n\u001b[0;32m---> 20\u001b[0;31m \u001b[0;32mfrom\u001b[0m \u001b[0mArthur\u001b[0m\u001b[0;34m.\u001b[0m\u001b[0mcore\u001b[0m\u001b[0;34m.\u001b[0m\u001b[0mentities\u001b[0m\u001b[0;34m.\u001b[0m\u001b[0mbase\u001b[0m\u001b[0;34m.\u001b[0m\u001b[0marthur_web_cfg\u001b[0m \u001b[0;32mimport\u001b[0m \u001b[0;34m*\u001b[0m\u001b[0;34m\u001b[0m\u001b[0m\n\u001b[0m\u001b[1;32m     21\u001b[0m \u001b[0;32mfrom\u001b[0m \u001b[0mArthur\u001b[0m\u001b[0;34m.\u001b[0m\u001b[0mcore\u001b[0m\u001b[0;34m.\u001b[0m\u001b[0mentities\u001b[0m\u001b[0;34m.\u001b[0m\u001b[0mbase\u001b[0m\u001b[0;34m.\u001b[0m\u001b[0mbs_util\u001b[0m \u001b[0;32mimport\u001b[0m \u001b[0;34m*\u001b[0m\u001b[0;34m\u001b[0m\u001b[0m\n\u001b[1;32m     22\u001b[0m \u001b[0;32mfrom\u001b[0m \u001b[0mArthur\u001b[0m\u001b[0;34m.\u001b[0m\u001b[0mcore\u001b[0m\u001b[0;34m.\u001b[0m\u001b[0mentities\u001b[0m\u001b[0;34m.\u001b[0m\u001b[0mbase\u001b[0m\u001b[0;34m.\u001b[0m\u001b[0mbs_database_pid\u001b[0m \u001b[0;32mimport\u001b[0m \u001b[0mDataBase\u001b[0m\u001b[0;34m\u001b[0m\u001b[0m\n",
      "\u001b[0;31mImportError\u001b[0m: No module named arthur_web_cfg"
     ]
    }
   ],
   "source": [
    "import Arthur.core.entities.dao.Arthur_Abtesting_dao"
   ]
  },
  {
   "cell_type": "code",
   "execution_count": null,
   "metadata": {},
   "outputs": [],
   "source": [
    "import port_for\n",
    "port_for.select_random()\n",
    "\n",
    "\n",
    ">>> port_for.select_random()\n",
    "48324\n",
    "\n",
    ">>> 80 in port_for.available_good_ports()\n",
    "False"
   ]
  },
  {
   "cell_type": "code",
   "execution_count": 2,
   "metadata": {},
   "outputs": [
    {
     "data": {
      "text/plain": [
       "10905"
      ]
     },
     "execution_count": 2,
     "metadata": {},
     "output_type": "execute_result"
    }
   ],
   "source": [
    "from Arthur.core.utils import  port_for\n",
    "port_for.select_random()\n"
   ]
  },
  {
   "cell_type": "code",
   "execution_count": 11,
   "metadata": {},
   "outputs": [
    {
     "data": {
      "text/plain": [
       "True"
      ]
     },
     "execution_count": 11,
     "metadata": {},
     "output_type": "execute_result"
    }
   ],
   "source": [
    "10905 in port_for.available_good_ports()"
   ]
  },
  {
   "cell_type": "code",
   "execution_count": 15,
   "metadata": {},
   "outputs": [
    {
     "data": {
      "text/plain": [
       "True"
      ]
     },
     "execution_count": 15,
     "metadata": {},
     "output_type": "execute_result"
    }
   ],
   "source": [
    "10905 in port_for.available_good_ports()"
   ]
  },
  {
   "cell_type": "code",
   "execution_count": 16,
   "metadata": {},
   "outputs": [
    {
     "data": {
      "text/plain": [
       "False"
      ]
     },
     "execution_count": 16,
     "metadata": {},
     "output_type": "execute_result"
    }
   ],
   "source": [
    "port_for.is_available(80)"
   ]
  },
  {
   "cell_type": "code",
   "execution_count": 20,
   "metadata": {},
   "outputs": [
    {
     "data": {
      "text/plain": [
       "True"
      ]
     },
     "execution_count": 20,
     "metadata": {},
     "output_type": "execute_result"
    }
   ],
   "source": [
    "port_for.is_available(10906)"
   ]
  },
  {
   "cell_type": "code",
   "execution_count": 27,
   "metadata": {},
   "outputs": [
    {
     "data": {
      "text/plain": [
       "True"
      ]
     },
     "execution_count": 27,
     "metadata": {},
     "output_type": "execute_result"
    }
   ],
   "source": [
    "port_for.port_is_used(10905)"
   ]
  },
  {
   "cell_type": "code",
   "execution_count": 29,
   "metadata": {},
   "outputs": [],
   "source": [
    "import argparse\n",
    "import sys\n",
    "\n",
    "class ArgumentParser(argparse.ArgumentParser):    \n",
    "    def _get_action_from_name(self, name):\n",
    "        \"\"\"Given a name, get the Action instance registered with this parser.\n",
    "        If only it were made available in the ArgumentError object. It is \n",
    "        passed as it's first arg...\n",
    "        \"\"\"\n",
    "        container = self._actions\n",
    "        if name is None:\n",
    "            return None\n",
    "        for action in container:\n",
    "            if '/'.join(action.option_strings) == name:\n",
    "                return action\n",
    "            elif action.metavar == name:\n",
    "                return action\n",
    "            elif action.dest == name:\n",
    "                return action\n",
    "\n",
    "    def error(self, message):\n",
    "        exc = sys.exc_info()[1]\n",
    "        if exc:\n",
    "            exc.argument = self._get_action_from_name(exc.argument_name)\n",
    "            raise exc\n",
    "        super(ArgumentParser, self).error(message)\n",
    "\n",
    "## usage:\n",
    "parser = ArgumentParser()\n",
    "parser.add_argument('--foo', type=int)\n",
    "try:\n",
    "    parser.parse_args(['--foo=1'])\n",
    "except argparse.ArgumentError, exc:\n",
    "    print exc.message, '\\n', exc.argument"
   ]
  },
  {
   "cell_type": "code",
   "execution_count": 30,
   "metadata": {},
   "outputs": [
    {
     "data": {
      "text/plain": [
       "ArgumentParser(prog='ipykernel_launcher.py', usage=None, description=None, version=None, formatter_class=<class 'argparse.HelpFormatter'>, conflict_handler='error', add_help=True)"
      ]
     },
     "execution_count": 30,
     "metadata": {},
     "output_type": "execute_result"
    }
   ],
   "source": [
    "parser"
   ]
  },
  {
   "cell_type": "code",
   "execution_count": 86,
   "metadata": {},
   "outputs": [
    {
     "data": {
      "text/plain": [
       "''"
      ]
     },
     "execution_count": 86,
     "metadata": {},
     "output_type": "execute_result"
    }
   ],
   "source": [
    "import shlex\n",
    "gunicorn_opts=''# \"--chdir %s --chad d\"\n",
    "' '.join(shlex.split(gunicorn_opts) if gunicorn_opts else [])"
   ]
  },
  {
   "cell_type": "code",
   "execution_count": 101,
   "metadata": {},
   "outputs": [
    {
     "name": "stdout",
     "output_type": "stream",
     "text": [
      "Writing spinner.py\n"
     ]
    }
   ],
   "source": [
    "%%file spinner.py\n",
    "import sys\n",
    "import time\n",
    "import itertools\n",
    "import threading\n",
    "\n",
    "\n",
    "class Spinner:\n",
    "    def __init__(self, delay=0.1):\n",
    "        self.spinner_generator = itertools.cycle(['-', '/', '|', '\\\\'])\n",
    "        if delay and float(delay): self.delay = delay\n",
    "\n",
    "    def spinner_task(self):\n",
    "        while self.busy:\n",
    "            sys.stdout.write(next(self.spinner_generator))\n",
    "            sys.stdout.flush()\n",
    "            time.sleep(self.delay)\n",
    "            sys.stdout.write('\\b')\n",
    "\n",
    "    def start(self):\n",
    "        self.busy = True\n",
    "        threading.Thread(target=self.spinner_task).start()\n",
    "        return True\n",
    "\n",
    "    def stop(self):\n",
    "        self.busy = False\n",
    "        time.sleep(self.delay)\n",
    "        return True"
   ]
  },
  {
   "cell_type": "code",
   "execution_count": 95,
   "metadata": {},
   "outputs": [
    {
     "name": "stdout",
     "output_type": "stream",
     "text": []
    }
   ],
   "source": [
    "def test_spinner():\n",
    "    s = Spinner()\n",
    "    spinner_start = s.start()\n",
    "    time.sleep(3)\n",
    "    spinner_stop = s.stop()\n",
    "    assert spinner_start\n",
    "    assert spinner_stop\n",
    "test_spinner()"
   ]
  },
  {
   "cell_type": "code",
   "execution_count": 32,
   "metadata": {},
   "outputs": [],
   "source": [
    "x=Spinner()"
   ]
  },
  {
   "cell_type": "code",
   "execution_count": 33,
   "metadata": {},
   "outputs": [
    {
     "name": "stdout",
     "output_type": "stream",
     "text": [
      "-"
     ]
    },
    {
     "data": {
      "text/plain": [
       "True"
      ]
     },
     "execution_count": 33,
     "metadata": {},
     "output_type": "execute_result"
    },
    {
     "name": "stdout",
     "output_type": "stream",
     "text": [
      "\b|"
     ]
    }
   ],
   "source": [
    "x.start()"
   ]
  },
  {
   "cell_type": "code",
   "execution_count": 34,
   "metadata": {},
   "outputs": [
    {
     "name": "stdout",
     "output_type": "stream",
     "text": [
      "d\n",
      "\b"
     ]
    },
    {
     "data": {
      "text/plain": [
       "True"
      ]
     },
     "execution_count": 34,
     "metadata": {},
     "output_type": "execute_result"
    }
   ],
   "source": [
    "print('d')\n",
    "x.stop()"
   ]
  },
  {
   "cell_type": "code",
   "execution_count": 35,
   "metadata": {},
   "outputs": [
    {
     "name": "stdout",
     "output_type": "stream",
     "text": [
      "Writing fib.py\n"
     ]
    }
   ],
   "source": [
    "%%file fib.py\n",
    "# fib.py\n",
    "\n",
    "def fib(n):\n",
    "\tif n == 0 or n == 1:\n",
    "\t\treturn 1\n",
    "\telse:\n",
    "\t\treturn fib(n-1) + fib(n-2)"
   ]
  },
  {
   "cell_type": "code",
   "execution_count": 66,
   "metadata": {},
   "outputs": [],
   "source": [
    "#from mlflow.projects.submitted_run import LocalSubmittedRun, SubmittedRun\n",
    "import logging\n",
    "import os\n",
    "import subprocess\n",
    "from local_run import LocalSubmittedRun\n",
    "\n",
    "_logger = logging.getLogger(__name__)\n",
    "class model_publish(object):\n",
    "    def _run_arthur_run_cmd(self,arthur_run_arr, env_map={}):\n",
    "        \"\"\"\n",
    "        Invoke ``arthur run`` in a subprocess, which in turn runs the entry point in a child process.\n",
    "        Returns a handle to the subprocess. Popen launched to invoke ``arthur run``.\n",
    "        \"\"\"\n",
    "        final_env = os.environ.copy()\n",
    "        #final_env.update(env_map)\n",
    "        # Launch `mlflow run` command as the leader of its own process group so that we can do a\n",
    "        # best-effort cleanup of all its descendant processes if needed\n",
    "        return subprocess.Popen(\n",
    "            arthur_run_arr, env=final_env, universal_newlines=True, preexec_fn=os.setsid)\n",
    "\n",
    "    def _build_arthur_run_cmd(self, apifuncs,token='',runpath='', port=None, workers=None, parameters=None):\n",
    "        \"\"\"\n",
    "        Build and return an array containing an ``Arthur run`` command that can be invoked to locally\n",
    "        run the project at the specified URI.\n",
    "        \"\"\"\n",
    "        arthur_run_arr = [\"firefly\", apifuncs,\"-b 0.0.0.0:8006\"]\n",
    "      \n",
    "        return arthur_run_arr\n",
    "    def _invoke_arthur_run_subprocess(self,apifuncs,experiment_id, run_id,token='',runpath='',port=None, workers=None, parameters=None):\n",
    "        \"\"\"\n",
    "        Run an Arthur project asynchronously by invoking ``Arthur run`` in a subprocess, returning\n",
    "        a SubmittedRun that can be used to query run status.\n",
    "        \"\"\"\n",
    "        _logger.info(\"=== Asynchronously launching Arthur run with ID %s ===\", run_id)\n",
    "        arthur_run_arr = self._build_arthur_run_cmd(\n",
    "            apifuncs=apifuncs,token=token, runpath=runpath,port=port, workers=workers,parameters=parameters)\n",
    "        #print ' '.join(arthur_run_arr)\n",
    "        arthur_run_subprocess = self._run_arthur_run_cmd(\n",
    "            arthur_run_arr)\n",
    "        return LocalSubmittedRun(run_id, arthur_run_subprocess)"
   ]
  },
  {
   "cell_type": "code",
   "execution_count": 64,
   "metadata": {},
   "outputs": [
    {
     "name": "stdout",
     "output_type": "stream",
     "text": []
    }
   ],
   "source": [
    "publish_class=model_publish()\n",
    "#x=Spinner()\n",
    "#x.start()\n",
    "publish_status = publish_class._invoke_arthur_run_subprocess('fib.fib',1,2)\n",
    "#_wait_for(publish_status)\n",
    "#x.stop()"
   ]
  },
  {
   "cell_type": "code",
   "execution_count": 80,
   "metadata": {},
   "outputs": [
    {
     "data": {
      "text/plain": [
       "('RUNNING', 30186)"
      ]
     },
     "execution_count": 80,
     "metadata": {},
     "output_type": "execute_result"
    }
   ],
   "source": [
    "publish_status.get_status()"
   ]
  },
  {
   "cell_type": "code",
   "execution_count": 20,
   "metadata": {},
   "outputs": [],
   "source": [
    "publish_status.cancel()"
   ]
  },
  {
   "cell_type": "code",
   "execution_count": 67,
   "metadata": {},
   "outputs": [
    {
     "name": "stdout",
     "output_type": "stream",
     "text": []
    }
   ],
   "source": [
    "publish_class2=model_publish()\n",
    "publish_status2 = publish_class2._invoke_arthur_run_subprocess('fib.fib',1,2)\n"
   ]
  },
  {
   "cell_type": "code",
   "execution_count": 79,
   "metadata": {},
   "outputs": [
    {
     "data": {
      "text/plain": [
       "('RUNNING', 30189)"
      ]
     },
     "execution_count": 79,
     "metadata": {},
     "output_type": "execute_result"
    }
   ],
   "source": [
    "publish_status2.get_status()"
   ]
  },
  {
   "cell_type": "code",
   "execution_count": 40,
   "metadata": {},
   "outputs": [
    {
     "ename": "NameError",
     "evalue": "name 'self' is not defined",
     "output_type": "error",
     "traceback": [
      "\u001b[0;31m----------------------------------------------------------------\u001b[0m",
      "\u001b[0;31mNameError\u001b[0m                      Traceback (most recent call last)",
      "\u001b[0;32m<ipython-input-40-1df56dcdc7b8>\u001b[0m in \u001b[0;36m<module>\u001b[0;34m()\u001b[0m\n\u001b[0;32m----> 1\u001b[0;31m \u001b[0myy\u001b[0m\u001b[0;34m=\u001b[0m\u001b[0mthreading\u001b[0m\u001b[0;34m.\u001b[0m\u001b[0mThread\u001b[0m\u001b[0;34m(\u001b[0m\u001b[0mtarget\u001b[0m\u001b[0;34m=\u001b[0m\u001b[0mself\u001b[0m\u001b[0;34m.\u001b[0m\u001b[0mspinner_task\u001b[0m\u001b[0;34m)\u001b[0m\u001b[0;34m.\u001b[0m\u001b[0mstart\u001b[0m\u001b[0;34m(\u001b[0m\u001b[0;34m)\u001b[0m\u001b[0;34m\u001b[0m\u001b[0m\n\u001b[0m\u001b[1;32m      2\u001b[0m \u001b[0myy\u001b[0m\u001b[0;34m.\u001b[0m\u001b[0misAlive\u001b[0m\u001b[0;34m(\u001b[0m\u001b[0;34m)\u001b[0m\u001b[0;34m\u001b[0m\u001b[0m\n",
      "\u001b[0;31mNameError\u001b[0m: name 'self' is not defined"
     ]
    }
   ],
   "source": [
    "yy=threading.Thread(target=self.spinner_task).start()\n",
    "yy.isAlive()"
   ]
  },
  {
   "cell_type": "code",
   "execution_count": 26,
   "metadata": {},
   "outputs": [
    {
     "name": "stdout",
     "output_type": "stream",
     "text": [
      "\b"
     ]
    },
    {
     "data": {
      "text/plain": [
       "True"
      ]
     },
     "execution_count": 26,
     "metadata": {},
     "output_type": "execute_result"
    }
   ],
   "source": [
    "x.stop()"
   ]
  },
  {
   "cell_type": "code",
   "execution_count": 33,
   "metadata": {},
   "outputs": [
    {
     "name": "stdout",
     "output_type": "stream",
     "text": []
    },
    {
     "ename": "NameError",
     "evalue": "name '_wait_for' is not defined",
     "output_type": "error",
     "traceback": [
      "\u001b[0;31m----------------------------------------------------------------\u001b[0m",
      "\u001b[0;31mNameError\u001b[0m                      Traceback (most recent call last)",
      "\u001b[0;32m<ipython-input-33-b7d3a841911c>\u001b[0m in \u001b[0;36m<module>\u001b[0;34m()\u001b[0m\n\u001b[1;32m      1\u001b[0m \u001b[0mpublish_status\u001b[0m \u001b[0;34m=\u001b[0m \u001b[0mpublish_class\u001b[0m\u001b[0;34m.\u001b[0m\u001b[0m_invoke_arthur_run_subprocess\u001b[0m\u001b[0;34m(\u001b[0m\u001b[0;34m'fib.fib'\u001b[0m\u001b[0;34m,\u001b[0m\u001b[0;36m1\u001b[0m\u001b[0;34m,\u001b[0m\u001b[0;36m2\u001b[0m\u001b[0;34m)\u001b[0m\u001b[0;34m\u001b[0m\u001b[0m\n\u001b[0;32m----> 2\u001b[0;31m \u001b[0m_wait_for\u001b[0m\u001b[0;34m(\u001b[0m\u001b[0mpublish_status\u001b[0m\u001b[0;34m)\u001b[0m\u001b[0;34m\u001b[0m\u001b[0m\n\u001b[0m",
      "\u001b[0;31mNameError\u001b[0m: name '_wait_for' is not defined"
     ]
    }
   ],
   "source": [
    "publish_status = publish_class._invoke_arthur_run_subprocess('fib.fib',1,2)\n",
    "_wait_for(publish_status)"
   ]
  },
  {
   "cell_type": "code",
   "execution_count": 29,
   "metadata": {},
   "outputs": [],
   "source": [
    "def _wait_for(submitted_run_obj):\n",
    "    \"\"\"Wait on the passed-in submitted run, reporting its status to the tracking server.\"\"\"\n",
    "    run_id = submitted_run_obj.run_id\n",
    "    active_run = None\n",
    "    # Note: there's a small chance we fail to report the run's status to the tracking server if\n",
    "    # we're interrupted before we reach the try block below\n",
    "    try:\n",
    "        #active_run = tracking.MlflowClient().get_run(run_id) if run_id is not None else None\n",
    "        if submitted_run_obj.wait():\n",
    "            _logger.info(\"=== Run (ID '%s') succeeded ===\", run_id)\n",
    "            _maybe_set_run_terminated(active_run, \"FINISHED\")\n",
    "        else:\n",
    "            _maybe_set_run_terminated(active_run, \"FAILEDdddd\")\n",
    "            if submitted_run_obj.get_status()==\"FAILED\":\n",
    "                print x.stop()\n",
    "            raise Exception(\"Run (ID '%s') failed\" % run_id)\n",
    "    except KeyboardInterrupt:\n",
    "        _logger.error(\"=== Run (ID '%s') interrupted, cancelling run ===\", run_id)\n",
    "        submitted_run_obj.cancel()\n",
    "        _maybe_set_run_terminated(active_run, \"FAILED\")\n",
    "        raise\n",
    "\n",
    "def _maybe_set_run_terminated(active_run, status):\n",
    "    \"\"\"\n",
    "    If the passed-in active run is defined and still running (i.e. hasn't already been terminated\n",
    "    within user code), mark it as terminated with the passed-in status.\n",
    "    \"\"\"\n",
    "    if active_run is None:\n",
    "        return\n",
    "    #run_id = active_run.info.run_uuid\n",
    "    run_id=2\n",
    "    #cur_status = tracking.MlflowClient().get_run(run_id).info.status\n",
    "    cur_status=\"FiNISHED\"\n",
    "    if RunStatus.is_terminated(cur_status):\n",
    "        return\n",
    "    #tracking.MlflowClient().set_terminated(run_id, status)"
   ]
  },
  {
   "cell_type": "code",
   "execution_count": 80,
   "metadata": {},
   "outputs": [],
   "source": [
    "import warnings\n",
    "import datetime\n",
    "class Asynccontent(object):\n",
    "    \"\"\"\n",
    "    make a Argcontent to async_run u have to del it after using it\n",
    "    \"\"\"\n",
    "    def __init__(self):\n",
    "        self.cmd = None\n",
    "        self.timeout = None\n",
    "        self.pid = None\n",
    "        self.ret = None\n",
    "        self.child_list = []\n",
    "        self.__cmdthd = None\n",
    "        self.__monitorthd = None\n",
    "        self.__subpro = None\n",
    "class ShellExec(object):  # pylint: disable=R0903\n",
    "    \"\"\"\n",
    "    For shell command execution.\n",
    "    ::\n",
    "        from cup import shell\n",
    "        shellexec = shell.ShellExec()\n",
    "        # timeout=None will block the execution until it finishes\n",
    "        shellexec.run('/bin/ls', timeout=None)\n",
    "        # timeout>=0 will open non-blocking mode\n",
    "        # The process will be killed if the cmd timeouts\n",
    "        shellexec.run(cmd='/bin/ls', timeout=100)\n",
    "    \"\"\"\n",
    "\n",
    "    def __init__(self):\n",
    "        self._subpro = None\n",
    "        self._subpro_data = None\n",
    "\n",
    "    def __kill_process(self, pid):\n",
    "        os.kill(pid, signal.SIGKILL)\n",
    "\n",
    "    def kill_all_process(self, async_content):\n",
    "        \"\"\"\n",
    "        to kill all process\n",
    "        \"\"\"\n",
    "        for pid in async_content.child_list:\n",
    "            self.__kill_process(pid)\n",
    "\n",
    "    def get_async_run_status(self, async_content):\n",
    "        \"\"\"\n",
    "        get the command's status\n",
    "        \"\"\"\n",
    "        try:\n",
    "            from cup.res import linux\n",
    "            async_process = linux.Process(async_content.pid)\n",
    "            res = async_process.get_process_status()\n",
    "        except err.NoSuchProcess:\n",
    "            res = \"process is destructor\"\n",
    "        return res\n",
    "\n",
    "    def get_async_run_res(self, async_content):\n",
    "        \"\"\"\n",
    "        if the process is still running the res shoule be None,None,0\n",
    "        \"\"\"\n",
    "        return async_content.ret\n",
    "\n",
    "    def async_run(self, cmd, timeout):\n",
    "        \"\"\"\n",
    "        async_run\n",
    "        return a dict {uuid:pid}\n",
    "        self.argcontent{cmd,timeout,ret,cmdthd,montor}\n",
    "        timeout:returncode:999\n",
    "        cmd is running returncode:-999\n",
    "        \"\"\"\n",
    "\n",
    "        def _signal_handle():\n",
    "            \"\"\"\n",
    "            signal setup\n",
    "            \"\"\"\n",
    "            signal.signal(signal.SIGPIPE, signal.SIG_DFL)\n",
    "\n",
    "        def _target(argcontent):\n",
    "            argcontent.__subpro = subprocess.Popen(\n",
    "                    argcontent.cmd, shell=True, stdout=subprocess.PIPE,\n",
    "                    stderr=subprocess.PIPE,\n",
    "                    preexec_fn=_signal_handle)\n",
    "            #from cup.res import linux\n",
    "            #parent = linux.Process(argcontent.__subpro.pid)\n",
    "            #children = parent.children(True)\n",
    "            #ret_dict = []\n",
    "            #for process in children:\n",
    "            #   ret_dict.append(process)\n",
    "            #argcontent.child_list = ret_dict\n",
    "\n",
    "        def _monitor(start_time, argcontent):\n",
    "            while(int(time.mktime(datetime.datetime.now().timetuple())) - int(start_time) <\n",
    "                    int(argcontent.timeout)):\n",
    "                time.sleep(1)\n",
    "                if argcontent.__subpro.poll() is not None:\n",
    "                    self._subpro_data = argcontent.__subpro.communicate()\n",
    "                    argcontent.ret['returncode'] = argcontent.__subpro.returncode\n",
    "                    argcontent.ret['stdout'] = self._subpro_data[0]\n",
    "                    argcontent.ret['stderr'] = self._subpro_data[1]\n",
    "                    return\n",
    "            str_warn = (\n",
    "                'Shell \"%s\"execution timout:%d. To kill it' % (argcontent.cmd,\n",
    "                    argcontent.timeout)\n",
    "            )\n",
    "            argcontent.__subpro.terminate()\n",
    "            argcontent.ret['returncode'] = 999\n",
    "            argcontent.ret['stderr'] = str_warn\n",
    "\n",
    "            for process in argcontent.child_list:\n",
    "                self.__kill_process(process)\n",
    "            del argcontent.child_list[:]\n",
    "\n",
    "        argcontent = Asynccontent()\n",
    "        argcontent.cmd = cmd\n",
    "        argcontent.timeout = timeout\n",
    "        argcontent.ret = {\n",
    "            'stdout': None,\n",
    "            'stderr': None,\n",
    "            'returncode': -999\n",
    "        }\n",
    "        argcontent.__cmdthd = threading.Thread(target=_target, args=(argcontent,))\n",
    "        argcontent.__cmdthd.start()\n",
    "        start_time = int(time.mktime(datetime.datetime.now().timetuple()))\n",
    "        argcontent.__cmdthd.join(0.1)\n",
    "        argcontent.pid = argcontent.__subpro.pid\n",
    "        argcontent.__monitorthd = threading.Thread(target=_monitor,\n",
    "                args=(start_time, argcontent))\n",
    "        argcontent.__monitorthd.start()\n",
    "        #this join should be del if i can make if quicker in Process.children\n",
    "        argcontent.__cmdthd.join(0.5)\n",
    "        return argcontent\n",
    "\n",
    "    def run(self, cmd, timeout):\n",
    "        \"\"\"\n",
    "        refer to the class description\n",
    "        :param timeout:\n",
    "            If the cmd is not returned after [timeout] seconds, the cmd process\n",
    "            will be killed. If timeout is None, will block there until the cmd\n",
    "            execution returns\n",
    "        :return:\n",
    "            returncode == 0 means success, while 999 means timeout\n",
    "            {\n",
    "                'stdout' : 'Success',\n",
    "                'stderr' : None,\n",
    "                'returncode' : 0\n",
    "            }\n",
    "        E.g.\n",
    "        ::\n",
    "            import cup\n",
    "            shelltool = cup.shell.ShellExec()\n",
    "            print shelltool.run('/bin/ls', timeout=1)\n",
    "        \"\"\"\n",
    "\n",
    "        def _signal_handle():\n",
    "            \"\"\"\n",
    "            signal setup\n",
    "            \"\"\"\n",
    "            signal.signal(signal.SIGPIPE, signal.SIG_DFL)\n",
    "\n",
    "        def _target(cmd):\n",
    "            self._subpro = subprocess.Popen(\n",
    "                cmd, shell=True, stdout=subprocess.PIPE,\n",
    "                stderr=subprocess.PIPE,\n",
    "                preexec_fn=_signal_handle\n",
    "            )\n",
    "            self._subpro_data = self._subpro.communicate()\n",
    "        ret = {\n",
    "            'stdout': None,\n",
    "            'stderr': None,\n",
    "            'returncode': 0\n",
    "        }\n",
    "        cmdthd = threading.Thread(target=_target, args=(cmd, ))\n",
    "        cmdthd.start()\n",
    "        cmdthd.join(timeout)\n",
    "        if cmdthd.isAlive() is True:\n",
    "            str_warn = (\n",
    "                'Shell \"%s\"execution timout:%d. To kill it' % (cmd, timeout)\n",
    "            )\n",
    "            warnings.warn(str_warn, RuntimeWarning)\n",
    "            self._subpro.terminate()\n",
    "            ret['returncode'] = 999\n",
    "            ret['stderr'] = str_warn\n",
    "        else:\n",
    "            self._subpro.wait()\n",
    "            times = 0\n",
    "            while self._subpro.returncode is None and times < 10:\n",
    "                time.sleep(1)\n",
    "                times += 1\n",
    "            ret['returncode'] = self._subpro.returncode\n",
    "            assert type(self._subpro_data) == tuple, \\\n",
    "                'self._subpro_data should be a tuple'\n",
    "            ret['stdout'] = self._subpro_data[0]\n",
    "            ret['stderr'] = self._subpro_data[1]\n",
    "        return ret"
   ]
  },
  {
   "cell_type": "code",
   "execution_count": 50,
   "metadata": {},
   "outputs": [
    {
     "name": "stderr",
     "output_type": "stream",
     "text": [
      "/Users/leepand/.local/lib/python2.7/site-packages/ipykernel_launcher.py:163: RuntimeWarning: Shell \"firefly fib.fib -b 0.0.0.0:8002\"execution timout:20. To kill it\n"
     ]
    },
    {
     "data": {
      "text/plain": [
       "{'returncode': 999,\n",
       " 'stderr': 'Shell \"firefly fib.fib -b 0.0.0.0:8002\"execution timout:20. To kill it',\n",
       " 'stdout': None}"
      ]
     },
     "execution_count": 50,
     "metadata": {},
     "output_type": "execute_result"
    }
   ],
   "source": [
    "shellexec=ShellExec()\n",
    "import signal\n",
    "shellexec.run(cmd='firefly fib.fib -b 0.0.0.0:8002', timeout=20)"
   ]
  },
  {
   "cell_type": "code",
   "execution_count": 87,
   "metadata": {},
   "outputs": [],
   "source": [
    "shellexec=ShellExec()\n",
    "yy=shellexec.async_run(cmd='firefly fib.fib -b 0.0.0.0:8003', timeout=0)"
   ]
  },
  {
   "cell_type": "code",
   "execution_count": 57,
   "metadata": {},
   "outputs": [],
   "source": [
    "def _signal_handle():\n",
    "            \"\"\"\n",
    "            signal setup\n",
    "            \"\"\"\n",
    "            signal.signal(signal.SIGPIPE, signal.SIG_DFL)\n",
    "xx=subprocess.Popen('ls ./', shell=True, stdout=subprocess.PIPE,stderr=subprocess.PIPE,preexec_fn=_signal_handle)"
   ]
  },
  {
   "cell_type": "code",
   "execution_count": 68,
   "metadata": {},
   "outputs": [
    {
     "data": {
      "text/plain": [
       "29722"
      ]
     },
     "execution_count": 68,
     "metadata": {},
     "output_type": "execute_result"
    }
   ],
   "source": [
    "xx.pid"
   ]
  },
  {
   "cell_type": "code",
   "execution_count": 61,
   "metadata": {},
   "outputs": [
    {
     "data": {
      "text/plain": [
       "<__main__.Asynccontent at 0x1043a2490>"
      ]
     },
     "execution_count": 61,
     "metadata": {},
     "output_type": "execute_result"
    }
   ],
   "source": [
    "yy"
   ]
  },
  {
   "cell_type": "code",
   "execution_count": 90,
   "metadata": {},
   "outputs": [
    {
     "data": {
      "text/plain": [
       "{'returncode': 999,\n",
       " 'stderr': 'Shell \"firefly fib.fib -b 0.0.0.0:8003\"execution timout:0. To kill it',\n",
       " 'stdout': None}"
      ]
     },
     "execution_count": 90,
     "metadata": {},
     "output_type": "execute_result"
    }
   ],
   "source": [
    "yy.ret"
   ]
  },
  {
   "cell_type": "code",
   "execution_count": 70,
   "metadata": {},
   "outputs": [
    {
     "data": {
      "text/plain": [
       "1548556613.0"
      ]
     },
     "execution_count": 70,
     "metadata": {},
     "output_type": "execute_result"
    }
   ],
   "source": [
    "time.mktime(datetime.datetime.now().timetuple())"
   ]
  },
  {
   "cell_type": "code",
   "execution_count": 93,
   "metadata": {},
   "outputs": [
    {
     "data": {
      "text/plain": [
       "{'returncode': 999,\n",
       " 'stderr': 'Shell \"firefly fib.fib -b 0.0.0.0:8003\"execution timout:0. To kill it',\n",
       " 'stdout': None}"
      ]
     },
     "execution_count": 93,
     "metadata": {},
     "output_type": "execute_result"
    }
   ],
   "source": [
    "shellexec.get_async_run_res(yy)"
   ]
  },
  {
   "cell_type": "code",
   "execution_count": 100,
   "metadata": {},
   "outputs": [
    {
     "ename": "KeyboardInterrupt",
     "evalue": "",
     "output_type": "error",
     "traceback": [
      "\u001b[0;31m----------------------------------------------------------------\u001b[0m",
      "\u001b[0;31mKeyboardInterrupt\u001b[0m              Traceback (most recent call last)",
      "\u001b[0;32m<ipython-input-100-f90b358df569>\u001b[0m in \u001b[0;36m<module>\u001b[0;34m()\u001b[0m\n\u001b[1;32m     13\u001b[0m     \u001b[0;32mreturn\u001b[0m \u001b[0mpids\u001b[0m\u001b[0;34m\u001b[0m\u001b[0m\n\u001b[1;32m     14\u001b[0m \u001b[0mprocs\u001b[0m\u001b[0;34m=\u001b[0m\u001b[0;34m[\u001b[0m\u001b[0mxx\u001b[0m\u001b[0;34m]\u001b[0m\u001b[0;34m\u001b[0m\u001b[0m\n\u001b[0;32m---> 15\u001b[0;31m \u001b[0mawaited_pids\u001b[0m\u001b[0;34m=\u001b[0m\u001b[0m_await_subprocess_exit_any\u001b[0m\u001b[0;34m(\u001b[0m\u001b[0mprocs\u001b[0m\u001b[0;34m=\u001b[0m\u001b[0mprocs\u001b[0m\u001b[0;34m)\u001b[0m\u001b[0;34m\u001b[0m\u001b[0m\n\u001b[0m\u001b[1;32m     16\u001b[0m \u001b[0m_sigterm_handler\u001b[0m\u001b[0;34m(\u001b[0m\u001b[0mawaited_pids\u001b[0m\u001b[0;34m)\u001b[0m\u001b[0;34m\u001b[0m\u001b[0m\n",
      "\u001b[0;32m<ipython-input-100-f90b358df569>\u001b[0m in \u001b[0;36m_await_subprocess_exit_any\u001b[0;34m(procs)\u001b[0m\n\u001b[1;32m      8\u001b[0m     \u001b[0mpids\u001b[0m \u001b[0;34m=\u001b[0m \u001b[0;34m[\u001b[0m\u001b[0mproc\u001b[0m\u001b[0;34m.\u001b[0m\u001b[0mpid\u001b[0m \u001b[0;32mfor\u001b[0m \u001b[0mproc\u001b[0m \u001b[0;32min\u001b[0m \u001b[0mprocs\u001b[0m\u001b[0;34m]\u001b[0m\u001b[0;34m\u001b[0m\u001b[0m\n\u001b[1;32m      9\u001b[0m     \u001b[0;32mwhile\u001b[0m \u001b[0mTrue\u001b[0m\u001b[0;34m:\u001b[0m\u001b[0;34m\u001b[0m\u001b[0m\n\u001b[0;32m---> 10\u001b[0;31m         \u001b[0mpid\u001b[0m\u001b[0;34m,\u001b[0m \u001b[0m_\u001b[0m \u001b[0;34m=\u001b[0m \u001b[0mos\u001b[0m\u001b[0;34m.\u001b[0m\u001b[0mwait\u001b[0m\u001b[0;34m(\u001b[0m\u001b[0;34m)\u001b[0m\u001b[0;34m\u001b[0m\u001b[0m\n\u001b[0m\u001b[1;32m     11\u001b[0m         \u001b[0;32mif\u001b[0m \u001b[0mpid\u001b[0m \u001b[0;32min\u001b[0m \u001b[0mpids\u001b[0m\u001b[0;34m:\u001b[0m\u001b[0;34m\u001b[0m\u001b[0m\n\u001b[1;32m     12\u001b[0m             \u001b[0;32mbreak\u001b[0m\u001b[0;34m\u001b[0m\u001b[0m\n",
      "\u001b[0;31mKeyboardInterrupt\u001b[0m: "
     ]
    }
   ],
   "source": [
    "def _signal_handle():\n",
    "            \"\"\"\n",
    "            signal setup\n",
    "            \"\"\"\n",
    "            signal.signal(signal.SIGPIPE, signal.SIG_DFL)\n",
    "xx=subprocess.Popen('firefly fib.fib -b 0.0.0.0:8003', shell=True, stdout=subprocess.PIPE,stderr=subprocess.PIPE,preexec_fn=_signal_handle)\n",
    "def _await_subprocess_exit_any(procs):\n",
    "    pids = [proc.pid for proc in procs]\n",
    "    while True:\n",
    "        pid, _ = os.wait()\n",
    "        if pid in pids:\n",
    "            break\n",
    "    return pids\n",
    "procs=[xx]\n",
    "awaited_pids=_await_subprocess_exit_any(procs=procs)\n",
    "_sigterm_handler(awaited_pids)"
   ]
  },
  {
   "cell_type": "code",
   "execution_count": 98,
   "metadata": {},
   "outputs": [
    {
     "ename": "NameError",
     "evalue": "name '_sigterm_handler' is not defined",
     "output_type": "error",
     "traceback": [
      "\u001b[0;31m----------------------------------------------------------------\u001b[0m",
      "\u001b[0;31mNameError\u001b[0m                      Traceback (most recent call last)",
      "\u001b[0;32m<ipython-input-98-6fa59465013f>\u001b[0m in \u001b[0;36m<module>\u001b[0;34m()\u001b[0m\n\u001b[0;32m----> 1\u001b[0;31m \u001b[0m_sigterm_handler\u001b[0m\u001b[0;34m(\u001b[0m\u001b[0mawaited_pids\u001b[0m\u001b[0;34m)\u001b[0m\u001b[0;34m\u001b[0m\u001b[0m\n\u001b[0m",
      "\u001b[0;31mNameError\u001b[0m: name '_sigterm_handler' is not defined"
     ]
    }
   ],
   "source": []
  },
  {
   "cell_type": "code",
   "execution_count": 99,
   "metadata": {},
   "outputs": [],
   "source": [
    "def _sigterm_handler(pids):\n",
    "    \"\"\"\n",
    "    Cleanup when terminating.\n",
    "    Attempt to kill all launched processes and exit.\n",
    "    \"\"\"\n",
    "    print(\"Got sigterm signal, exiting.\")\n",
    "    for pid in pids:\n",
    "        try:\n",
    "            os.kill(pid, signal.SIGTERM)\n",
    "        except OSError:\n",
    "            pass\n",
    "\n",
    "    sys.exit(0)"
   ]
  },
  {
   "cell_type": "code",
   "execution_count": null,
   "metadata": {},
   "outputs": [],
   "source": [
    "from Arthur.core.apiserver.client import Client\n"
   ]
  },
  {
   "cell_type": "code",
   "execution_count": null,
   "metadata": {},
   "outputs": [],
   "source": []
  }
 ],
 "metadata": {
  "kernelspec": {
   "display_name": "Python 2",
   "language": "python",
   "name": "python2"
  },
  "language_info": {
   "codemirror_mode": {
    "name": "ipython",
    "version": 2
   },
   "file_extension": ".py",
   "mimetype": "text/x-python",
   "name": "python",
   "nbconvert_exporter": "python",
   "pygments_lexer": "ipython2",
   "version": "2.7.13"
  }
 },
 "nbformat": 4,
 "nbformat_minor": 2
}
