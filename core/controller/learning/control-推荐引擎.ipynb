{
 "cells": [
  {
   "cell_type": "code",
   "execution_count": 1,
   "metadata": {},
   "outputs": [
    {
     "name": "stdout",
     "output_type": "stream",
     "text": [
      "Writing recomCF.py\n"
     ]
    }
   ],
   "source": [
    "%%file recomCF.py\n",
    "from Arthur.core.controller.learning.cf_recommender import Recommender\n",
    "\n",
    "class couponRecommendation(object):\n",
    "    \"\"\"Real time updating recommendation profile\n",
    "    \"\"\"\n",
    "    cf = None\n",
    "    cf_settings = {\n",
    "    # redis\n",
    "    'expire': 3600 * 24 * 30,\n",
    "    'redis': {\n",
    "        'host': 'localhost',\n",
    "        'port': 6379,\n",
    "        'db': 0\n",
    "    },\n",
    "    # recommendation engine settings\n",
    "    'recommendation_count': 10,\n",
    "    'recommendation': {\n",
    "        'update_interval_sec': 600,\n",
    "        'search_depth': 100,\n",
    "        'max_history': 10000,\n",
    "    },\n",
    "    }\n",
    "    def __init__(self,model_db=None):\n",
    "        if model_db is not None:\n",
    "            self.cf_settings['redis']['db']=model_db\n",
    "        self.cf = Recommender(self.cf_settings)\n",
    "\n",
    "    def like(self, user_id, coupon_ids):\n",
    "        \"\"\"\n",
    "        :param player_id: str\n",
    "        :param guild_ids: list of int\n",
    "        \"\"\"\n",
    "        for coupon_id in coupon_ids:\n",
    "            self.cf.register(coupon_id)\n",
    "        self.cf.like(user_id, coupon_ids,realtime_update=True)\n",
    "\n",
    "    def gets(self, coupon_id, topk=5):\n",
    "        return self.cf.get(coupon_id, count=topk)\n",
    "    \n",
    "\n",
    "def recom_train(model_id,user_id,coupon_ids):\n",
    "    cf=couponRecommendation(model_db=model_id)\n",
    "    cf.like(user_id,coupon_ids)\n",
    "    return {\"status_code\": 200}\n",
    "\n",
    "def recom_predict(coupon_id,topk):\n",
    "    cf=couponRecommendation(model_db=model_id)\n",
    "    return cf.gets(coupon_id,topk)\n"
   ]
  },
  {
   "cell_type": "code",
   "execution_count": null,
   "metadata": {},
   "outputs": [],
   "source": []
  }
 ],
 "metadata": {
  "kernelspec": {
   "display_name": "Python 2",
   "language": "python",
   "name": "python2"
  },
  "language_info": {
   "codemirror_mode": {
    "name": "ipython",
    "version": 2
   },
   "file_extension": ".py",
   "mimetype": "text/x-python",
   "name": "python",
   "nbconvert_exporter": "python",
   "pygments_lexer": "ipython2",
   "version": "2.7.13"
  }
 },
 "nbformat": 4,
 "nbformat_minor": 2
}
