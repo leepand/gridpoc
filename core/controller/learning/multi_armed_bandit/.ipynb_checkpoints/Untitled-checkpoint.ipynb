{
 "cells": [
  {
   "cell_type": "code",
   "execution_count": 35,
   "metadata": {},
   "outputs": [],
   "source": [
    "from banditsRedis import EpsilonGreedyBandit,\n",
    "color_bandit = EpsilonGreedyBandit('leepand24',0.9)\n",
    "color_bandit.add_arm(\"green\",\"green\")\n",
    "color_bandit.add_arm(\"red\",\"red\")\n",
    "color_bandit.add_arm(\"blue\",\"blue\")\n",
    "chosen_arms=[]"
   ]
  },
  {
   "cell_type": "code",
   "execution_count": 6,
   "metadata": {},
   "outputs": [
    {
     "data": {
      "text/plain": [
       "'[0.0, 0.0, 0.0, 0.0, 0.0, 0.0, 0.0, 0.0, 0.0]'"
      ]
     },
     "execution_count": 6,
     "metadata": {},
     "output_type": "execute_result"
    }
   ],
   "source": [
    "color_bandit.obj_by_name('confidence')"
   ]
  },
  {
   "cell_type": "code",
   "execution_count": 4,
   "metadata": {},
   "outputs": [
    {
     "data": {
      "text/plain": [
       "'[0.0, 0.0, 0.0, 0.0, 0.0, 0.0, 0.0, 0.0, 0.0]'"
      ]
     },
     "execution_count": 4,
     "metadata": {},
     "output_type": "execute_result"
    }
   ],
   "source": [
    "color_bandit.obj_by_name('reward')"
   ]
  },
  {
   "cell_type": "code",
   "execution_count": 17,
   "metadata": {},
   "outputs": [],
   "source": [
    "import banditsRedis\n",
    "fn=getattr(banditsRedis,'EpsilonGreedyBandit')\n",
    "def makeBandit(bandit_type,**kwargs):\n",
    "    bandit_cls = getattr(banditsRedis, bandit_type)\n",
    "    bandit = bandit_cls(**kwargs)\n",
    "    return bandit\n",
    "fn=makeBandit('EpsilonGreedyBandit',exp_name=\"leepand14\",epsilon=0.3)"
   ]
  },
  {
   "cell_type": "code",
   "execution_count": 18,
   "metadata": {},
   "outputs": [
    {
     "data": {
      "text/plain": [
       "'[0.0, 1.0, 0.0, 0.0, 0.0, 0.0, 0.0, 0.0, 0.0]'"
      ]
     },
     "execution_count": 18,
     "metadata": {},
     "output_type": "execute_result"
    }
   ],
   "source": [
    "fn.obj_by_name('confidence')"
   ]
  },
  {
   "cell_type": "code",
   "execution_count": 43,
   "metadata": {},
   "outputs": [
    {
     "name": "stdout",
     "output_type": "stream",
     "text": [
      "EpsilonGreedyBandit <type 'str'> <function test at 0x10f8d7668>\n"
     ]
    },
    {
     "data": {
      "text/plain": [
       "{'green': 'green'}"
      ]
     },
     "execution_count": 43,
     "metadata": {},
     "output_type": "execute_result"
    }
   ],
   "source": [
    "from functools import wraps\n",
    "# Mapping algorithm names to implementing classes\n",
    "\"\"\"\n",
    "ALGORITHMS = {\n",
    "    \"ab\"          : ABExperiment,\n",
    "    \"rlmab:egreedy\" : MABEGreedyExperiment,\n",
    "    \"rlmab:SoftmaxBandit\" : SoftmaxBanditExperiment,\n",
    "    \"rlmab:ThompsonBandit\" : ThompsonBanditExperiment,\n",
    "    \"rlmab:AnnealingSoftmaxBandit\" : AnnealingSoftmaxBanditExperiment\n",
    "    }\n",
    "\"\"\"\n",
    "\n",
    "\n",
    "def suggest_arm_for(bandit_algo,expname,param=0.7):\n",
    "    \"\"\"Get an experimental outcome by id.  The primary way the implementor interfaces with their\n",
    "    experiments.\n",
    "    Suggests arms if not in cookie, using cookie val if present\n",
    "    :param key: The bandit/experiment to get a suggested arm for\n",
    "    :type key: string\n",
    "    :param also_pull: Should we register a pull/impression at the same time as suggesting\n",
    "    :raises KeyError: in case requested experiment does not exist\n",
    "    \"\"\"\n",
    "    try:\n",
    "        if bandit_algo==\"EpsilonGreedyBandit\":\n",
    "            fn = makeBandit(bandit_algo,exp_name=expname,epsilon=param)#('EpsilonGreedyBandit',exp_name=\"leepand14\",epsilon=0.3)\n",
    "        elif bandit_algo==\"ThompsonBandit\":\n",
    "            fn = makeBandit(bandit_algo,exp_name=expname)\n",
    "        else:\n",
    "            fn = makeBandit(bandit_algo,exp_name=expname,tau=param)\n",
    "            \n",
    "        arm = fn.suggest_arm()\n",
    "        \n",
    "        return arm[\"id\"], arm[\"value\"]\n",
    "    except KeyError:\n",
    "        raise MABConfigException(\"Bandit %s not found\" % key)\n",
    "\n",
    "class MABConfigException(Exception):\n",
    "    \"\"\"Raised when internal state in MAB setup is invalid\"\"\"\n",
    "    pass\n",
    "def choose_arm(bandit,exp_name,param=0.7):\n",
    "    \"\"\"Route decorator for registering an impression conveinently\n",
    "    :param bandit: The bandit/experiment to register for\n",
    "    :type bandit: string\n",
    "    \"\"\"\n",
    "    def decorator(func):\n",
    "        #runs @ service init\n",
    "        if not hasattr(func, 'bandits'):\n",
    "            func.bandits = []\n",
    "        func.bandits.append(bandit)\n",
    "\n",
    "        @wraps(func)\n",
    "        def wrapper(*args, **kwargs):\n",
    "            #runs at endpoint hit\n",
    "            add_args = []\n",
    "            for bandit in func.bandits:\n",
    "                #Fetch from request first here?\n",
    "                print bandit,type(bandit),func\n",
    "                arm_id, arm_value = suggest_arm_for(bandit,exp_name,param=0.7)\n",
    "                add_args.append(( arm_id,arm_value))#bandit,\n",
    "            kwargs.update(add_args)\n",
    "            return kwargs#func(*args, **kwargs)\n",
    "        return wrapper\n",
    "    return decorator\n",
    "ll=\"color_bandit\"\n",
    "@choose_arm(\"EpsilonGreedyBandit\",\"leepand24\")\n",
    "def test(d):\n",
    "    return color_bandit\n",
    "    print 'color_bandit','dddddd'\n",
    "test()#.__dict__"
   ]
  },
  {
   "cell_type": "code",
   "execution_count": 56,
   "metadata": {},
   "outputs": [
    {
     "ename": "TypeError",
     "evalue": "decorator() takes exactly 1 argument (0 given)",
     "output_type": "error",
     "traceback": [
      "\u001b[0;31m---------------------------------------------------------------------------\u001b[0m",
      "\u001b[0;31mTypeError\u001b[0m                                 Traceback (most recent call last)",
      "\u001b[0;32m<ipython-input-56-ccc40b970de1>\u001b[0m in \u001b[0;36m<module>\u001b[0;34m()\u001b[0m\n\u001b[1;32m     27\u001b[0m         \u001b[0;32mreturn\u001b[0m \u001b[0mwrapper\u001b[0m\u001b[0;34m\u001b[0m\u001b[0m\n\u001b[1;32m     28\u001b[0m     \u001b[0;32mreturn\u001b[0m \u001b[0mdecorator\u001b[0m\u001b[0;34m(\u001b[0m\u001b[0;34m)\u001b[0m\u001b[0;34m\u001b[0m\u001b[0m\n\u001b[0;32m---> 29\u001b[0;31m \u001b[0;34m@\u001b[0m\u001b[0mreward_endpt\u001b[0m\u001b[0;34m(\u001b[0m\u001b[0;34m\"EpsilonGreedyBandit\"\u001b[0m\u001b[0;34m,\u001b[0m\u001b[0;34m\"leepand24\"\u001b[0m\u001b[0;34m,\u001b[0m\u001b[0;34m'green'\u001b[0m\u001b[0;34m)\u001b[0m\u001b[0;34m\u001b[0m\u001b[0m\n\u001b[0m\u001b[1;32m     30\u001b[0m \u001b[0;32mdef\u001b[0m \u001b[0mtest\u001b[0m\u001b[0;34m(\u001b[0m\u001b[0md\u001b[0m\u001b[0;34m)\u001b[0m\u001b[0;34m:\u001b[0m\u001b[0;34m\u001b[0m\u001b[0m\n\u001b[1;32m     31\u001b[0m     \u001b[0;32mreturn\u001b[0m \u001b[0mcolor_bandit\u001b[0m\u001b[0;34m\u001b[0m\u001b[0m\n",
      "\u001b[0;32m<ipython-input-56-ccc40b970de1>\u001b[0m in \u001b[0;36mreward_endpt\u001b[0;34m(bandit, exp_name, arm_id, param, reward_val)\u001b[0m\n\u001b[1;32m     26\u001b[0m             \u001b[0;32mreturn\u001b[0m \u001b[0mTrue\u001b[0m\u001b[0;31m#func(*args, **kwargs)\u001b[0m\u001b[0;34m\u001b[0m\u001b[0m\n\u001b[1;32m     27\u001b[0m         \u001b[0;32mreturn\u001b[0m \u001b[0mwrapper\u001b[0m\u001b[0;34m\u001b[0m\u001b[0m\n\u001b[0;32m---> 28\u001b[0;31m     \u001b[0;32mreturn\u001b[0m \u001b[0mdecorator\u001b[0m\u001b[0;34m(\u001b[0m\u001b[0;34m)\u001b[0m\u001b[0;34m\u001b[0m\u001b[0m\n\u001b[0m\u001b[1;32m     29\u001b[0m \u001b[0;34m@\u001b[0m\u001b[0mreward_endpt\u001b[0m\u001b[0;34m(\u001b[0m\u001b[0;34m\"EpsilonGreedyBandit\"\u001b[0m\u001b[0;34m,\u001b[0m\u001b[0;34m\"leepand24\"\u001b[0m\u001b[0;34m,\u001b[0m\u001b[0;34m'green'\u001b[0m\u001b[0;34m)\u001b[0m\u001b[0;34m\u001b[0m\u001b[0m\n\u001b[1;32m     30\u001b[0m \u001b[0;32mdef\u001b[0m \u001b[0mtest\u001b[0m\u001b[0;34m(\u001b[0m\u001b[0md\u001b[0m\u001b[0;34m)\u001b[0m\u001b[0;34m:\u001b[0m\u001b[0;34m\u001b[0m\u001b[0m\n",
      "\u001b[0;31mTypeError\u001b[0m: decorator() takes exactly 1 argument (0 given)"
     ]
    }
   ],
   "source": [
    "def reward_endpt(bandit,exp_name,arm_id,param=0.7, reward_val=1):\n",
    "    \"\"\"Route decorator for rewards.\n",
    "    :param bandit: The bandit/experiment to register rewards\n",
    "                   for using arm found in cookie.\n",
    "    :type bandit: string\n",
    "    :param reward: The amount of reward this endpoint should\n",
    "                   give its winning arm\n",
    "    :type reward: float\n",
    "    \"\"\"\n",
    "    def decorator(func):\n",
    "        if not hasattr(func, 'rewards'):\n",
    "            func.rewards = []\n",
    "        func.rewards.append((bandit,exp_name,param, reward_val))\n",
    "        if bandit==\"EpsilonGreedyBandit\":\n",
    "            fn = makeBandit(bandit,exp_name=exp_name,epsilon=param)#('EpsilonGreedyBandit',exp_name=\"leepand14\",epsilon=0.3)\n",
    "        elif bandit==\"ThompsonBandit\":\n",
    "            fn = makeBandit(bandit,exp_name=exp_name)\n",
    "        else:\n",
    "            fn = makeBandit(bandit,exp_name=exp_name,tau=param)\n",
    "        @wraps(func)\n",
    "        def wrapper(*args, **kwargs):\n",
    "            for bandit,exp_name,param, reward_amt in func.rewards:\n",
    "                fn.reward_arm(arm_id,reward_val)\n",
    "                fn.pull_arm(arm_id)\n",
    "                #print bandit,exp_name,param, reward_amt\n",
    "            return True#func(*args, **kwargs)\n",
    "        return wrapper\n",
    "    return decorator()\n",
    "@reward_endpt(\"EpsilonGreedyBandit\",\"leepand24\",'green')\n",
    "def test(d):\n",
    "    return color_bandit\n",
    "    print 'color_bandit','dddddd'\n",
    "test()#.__dict__"
   ]
  },
  {
   "cell_type": "code",
   "execution_count": 57,
   "metadata": {},
   "outputs": [
    {
     "ename": "TypeError",
     "evalue": "decorator() takes exactly 1 argument (0 given)",
     "output_type": "error",
     "traceback": [
      "\u001b[0;31m---------------------------------------------------------------------------\u001b[0m",
      "\u001b[0;31mTypeError\u001b[0m                                 Traceback (most recent call last)",
      "\u001b[0;32m<ipython-input-57-70efa2306ec7>\u001b[0m in \u001b[0;36m<module>\u001b[0;34m()\u001b[0m\n\u001b[0;32m----> 1\u001b[0;31m \u001b[0;32mprint\u001b[0m \u001b[0mreward_endpt\u001b[0m\u001b[0;34m(\u001b[0m\u001b[0;34m\"EpsilonGreedyBandit\"\u001b[0m\u001b[0;34m,\u001b[0m\u001b[0;34m\"leepand24\"\u001b[0m\u001b[0;34m,\u001b[0m\u001b[0;34m'green'\u001b[0m\u001b[0;34m)\u001b[0m\u001b[0;34m\u001b[0m\u001b[0m\n\u001b[0m",
      "\u001b[0;32m<ipython-input-56-ccc40b970de1>\u001b[0m in \u001b[0;36mreward_endpt\u001b[0;34m(bandit, exp_name, arm_id, param, reward_val)\u001b[0m\n\u001b[1;32m     26\u001b[0m             \u001b[0;32mreturn\u001b[0m \u001b[0mTrue\u001b[0m\u001b[0;31m#func(*args, **kwargs)\u001b[0m\u001b[0;34m\u001b[0m\u001b[0m\n\u001b[1;32m     27\u001b[0m         \u001b[0;32mreturn\u001b[0m \u001b[0mwrapper\u001b[0m\u001b[0;34m\u001b[0m\u001b[0m\n\u001b[0;32m---> 28\u001b[0;31m     \u001b[0;32mreturn\u001b[0m \u001b[0mdecorator\u001b[0m\u001b[0;34m(\u001b[0m\u001b[0;34m)\u001b[0m\u001b[0;34m\u001b[0m\u001b[0m\n\u001b[0m\u001b[1;32m     29\u001b[0m \u001b[0;34m@\u001b[0m\u001b[0mreward_endpt\u001b[0m\u001b[0;34m(\u001b[0m\u001b[0;34m\"EpsilonGreedyBandit\"\u001b[0m\u001b[0;34m,\u001b[0m\u001b[0;34m\"leepand24\"\u001b[0m\u001b[0;34m,\u001b[0m\u001b[0;34m'green'\u001b[0m\u001b[0;34m)\u001b[0m\u001b[0;34m\u001b[0m\u001b[0m\n\u001b[1;32m     30\u001b[0m \u001b[0;32mdef\u001b[0m \u001b[0mtest\u001b[0m\u001b[0;34m(\u001b[0m\u001b[0md\u001b[0m\u001b[0;34m)\u001b[0m\u001b[0;34m:\u001b[0m\u001b[0;34m\u001b[0m\u001b[0m\n",
      "\u001b[0;31mTypeError\u001b[0m: decorator() takes exactly 1 argument (0 given)"
     ]
    }
   ],
   "source": [
    "print reward_endpt(\"EpsilonGreedyBandit\",\"leepand24\",'green')"
   ]
  },
  {
   "cell_type": "code",
   "execution_count": 53,
   "metadata": {},
   "outputs": [
    {
     "data": {
      "text/plain": [
       "'[3.0, 0.0, 0.0]'"
      ]
     },
     "execution_count": 53,
     "metadata": {},
     "output_type": "execute_result"
    }
   ],
   "source": [
    "color_bandit.obj_by_name('reward')"
   ]
  },
  {
   "cell_type": "code",
   "execution_count": 9,
   "metadata": {},
   "outputs": [
    {
     "name": "stdout",
     "output_type": "stream",
     "text": [
      "color_bandit\n",
      "EpsilonGreedyBandit  pulls_key:p:leepand14:pulls:mab; confidence:[0.0, 1.0, 0.0, 0.0, 0.0, 0.0, 0.0, 0.0, 0.0]; reward_key:p:leepand14:reward:mab; exp_name:leepand14; confidence_key:p:leepand14:confidence:mab; redis:StrictRedis<ConnectionPool<Connection<host=localhost,port=6379,db=3>>>; values_key:p:leepand14:values:mab; arms:['blue', 'green', 'red', 'green', 'red', 'blue']; values:['green', 'red', 'blue', 'green', 'red', 'blue', 'green', 'red', 'blue']; epsilon:0.9; pulls:[0, 1, 0, 0, 0, 0, 0, 0, 0]; reward:[0.0, 1.0, 0.0, 0.0, 0.0, 0.0, 0.0, 0.0, 0.0]; arms_key:p:leepand14:arms:mab\n"
     ]
    }
   ],
   "source": [
    "@choose_arm(\"color_bandit\")\n",
    "def test():\n",
    "    print color_bandit\n",
    "test()"
   ]
  },
  {
   "cell_type": "code",
   "execution_count": 5,
   "metadata": {},
   "outputs": [
    {
     "data": {
      "text/plain": [
       "\"['blue', 'green', 'red', 'green', 'red', 'blue']\""
      ]
     },
     "execution_count": 5,
     "metadata": {},
     "output_type": "execute_result"
    }
   ],
   "source": [
    "color_bandit.obj_by_name('arms')"
   ]
  },
  {
   "cell_type": "code",
   "execution_count": 8,
   "metadata": {},
   "outputs": [
    {
     "name": "stdout",
     "output_type": "stream",
     "text": [
      "green\n"
     ]
    }
   ],
   "source": [
    "t=color_bandit.suggest_arm()\n",
    "color_bandit.pull_arm(t['id'])\n",
    "re=color_bandit.reward_arm(t['id'],1.0)\n",
    "print t['id']"
   ]
  },
  {
   "cell_type": "code",
   "execution_count": 1,
   "metadata": {},
   "outputs": [],
   "source": [
    "from banditsRedis import EpsilonGreedyBandit\n",
    "color_bandit = EpsilonGreedyBandit('leepand3',0.7)"
   ]
  },
  {
   "cell_type": "code",
   "execution_count": 21,
   "metadata": {},
   "outputs": [
    {
     "data": {
      "text/plain": [
       "'[1.0, 1.0, 1.0, 1.0, 0.0, 0.0, 0.0, 0.0, 0.0, 0.0]'"
      ]
     },
     "execution_count": 21,
     "metadata": {},
     "output_type": "execute_result"
    }
   ],
   "source": [
    "color_bandit.obj_by_name('confidence')"
   ]
  },
  {
   "cell_type": "code",
   "execution_count": 25,
   "metadata": {},
   "outputs": [
    {
     "data": {
      "text/plain": [
       "\"['green', 'red', 'blue', 'green333', 'green', 'red', 'blue', 'green', 'red', 'blue']\""
      ]
     },
     "execution_count": 25,
     "metadata": {},
     "output_type": "execute_result"
    }
   ],
   "source": [
    "color_bandit.obj_by_name('arms')"
   ]
  },
  {
   "cell_type": "code",
   "execution_count": 24,
   "metadata": {},
   "outputs": [
    {
     "data": {
      "text/plain": [
       "'[5639.0, 5587.0, 5628.0, 3354.0, 0.0, 0.0, 0.0, 0.0, 0.0, 0.0]'"
      ]
     },
     "execution_count": 24,
     "metadata": {},
     "output_type": "execute_result"
    }
   ],
   "source": [
    "color_bandit.obj_by_name('reward')"
   ]
  },
  {
   "cell_type": "code",
   "execution_count": 29,
   "metadata": {},
   "outputs": [],
   "source": [
    "from banditsRedis import SoftmaxBandit\n"
   ]
  },
  {
   "cell_type": "code",
   "execution_count": 30,
   "metadata": {},
   "outputs": [],
   "source": [
    "color_bandit = SoftmaxBandit('leepand9',0.3)\n",
    "color_bandit.add_arm(\"green\",\"green\")\n",
    "color_bandit.add_arm(\"red\",\"red\")\n",
    "color_bandit.add_arm(\"blue\",\"blue\")"
   ]
  },
  {
   "cell_type": "code",
   "execution_count": 13,
   "metadata": {},
   "outputs": [],
   "source": [
    "from banditsRedis import EpsilonGreedyBandit\n",
    "color_bandit = EpsilonGreedyBandit('leepand4',0.9)"
   ]
  },
  {
   "cell_type": "code",
   "execution_count": 33,
   "metadata": {},
   "outputs": [
    {
     "data": {
      "text/plain": [
       "'[0.10166570936243514, 0.09879154078549864, 0.08728179551122185]'"
      ]
     },
     "execution_count": 33,
     "metadata": {},
     "output_type": "execute_result"
    }
   ],
   "source": [
    "color_bandit.obj_by_name('confidence')"
   ]
  },
  {
   "cell_type": "code",
   "execution_count": 40,
   "metadata": {},
   "outputs": [],
   "source": [
    "r=0\n",
    "b=0\n",
    "g=0\n",
    "for j in range(10000):\n",
    "    t=color_bandit.suggest_arm()\n",
    "    if t['id']==\"red\":\n",
    "        r+=1\n",
    "    if t['id']==\"blue\":\n",
    "        b+=1\n",
    "    if t['id']==\"green\":\n",
    "        g+=1\n",
    "    color_bandit.pull_arm(t['id'])\n",
    "    if random.random()>0.9:\n",
    "        \n",
    "        re=color_bandit.reward_arm(t['id'],1.0)\n",
    "    else:\n",
    "        re=color_bandit.reward_arm(t['id'],0.0)\n",
    "    #print t['id']"
   ]
  },
  {
   "cell_type": "code",
   "execution_count": 41,
   "metadata": {},
   "outputs": [
    {
     "data": {
      "text/plain": [
       "(3326, 3346, 3328)"
      ]
     },
     "execution_count": 41,
     "metadata": {},
     "output_type": "execute_result"
    }
   ],
   "source": [
    "r,g,b"
   ]
  },
  {
   "cell_type": "code",
   "execution_count": 39,
   "metadata": {},
   "outputs": [
    {
     "data": {
      "text/plain": [
       "{'id': 'red', 'pulls': 3310, 'reward': 327.0, 'value': 'red'}"
      ]
     },
     "execution_count": 39,
     "metadata": {},
     "output_type": "execute_result"
    }
   ],
   "source": [
    "\n",
    "color_bandit.suggest_arm()"
   ]
  },
  {
   "cell_type": "code",
   "execution_count": 18,
   "metadata": {},
   "outputs": [
    {
     "data": {
      "text/plain": [
       "0.9765914656461041"
      ]
     },
     "execution_count": 18,
     "metadata": {},
     "output_type": "execute_result"
    }
   ],
   "source": [
    "import random\n",
    "random.random()"
   ]
  },
  {
   "cell_type": "code",
   "execution_count": 24,
   "metadata": {},
   "outputs": [
    {
     "ename": "NameError",
     "evalue": "name 'true_arm_probs' is not defined",
     "output_type": "error",
     "traceback": [
      "\u001b[0;31m---------------------------------------------------------------------------\u001b[0m",
      "\u001b[0;31mNameError\u001b[0m                                 Traceback (most recent call last)",
      "\u001b[0;32m<ipython-input-24-6f0720c24235>\u001b[0m in \u001b[0;36m<module>\u001b[0;34m()\u001b[0m\n\u001b[1;32m     56\u001b[0m \u001b[0mbandit_name\u001b[0m \u001b[0;34m=\u001b[0m \u001b[0;34m'EpsilonGreedyBandit'\u001b[0m\u001b[0;34m\u001b[0m\u001b[0m\n\u001b[1;32m     57\u001b[0m \u001b[0;34m\u001b[0m\u001b[0m\n\u001b[0;32m---> 58\u001b[0;31m \u001b[0mtrue_arm_probs\u001b[0m\u001b[0;34m\u001b[0m\u001b[0m\n\u001b[0m",
      "\u001b[0;31mNameError\u001b[0m: name 'true_arm_probs' is not defined"
     ]
    }
   ],
   "source": [
    "class MonteCarloTest(object):\n",
    "    \"\"\"Tests to ensure that over many iterations, a winner\n",
    "    eventually converges\"\"\"\n",
    "    def __init__(self):\n",
    "        self.true_arm_probs = dict(green=0.2, red=0.2, blue=0.93)\n",
    "    def draw(self, arm_name):\n",
    "        if random.random() > self.true_arm_probs[arm_name]:\n",
    "            return 0.0\n",
    "        return 1.0\n",
    "\n",
    "    def run_algo(self, bandit, num_sims, horizon):\n",
    "        chosen_arms = [0.0 for i in range(num_sims * horizon)]\n",
    "        rewards = [0.0 for i in range(num_sims * horizon)]\n",
    "        cumulative_rewards = [0.0 for i in range(num_sims * horizon)]\n",
    "        sim_nums = [0.0 for i in range(num_sims * horizon)]\n",
    "        times = [0.0 for i in range(num_sims * horizon)]\n",
    "\n",
    "        for sim in range(num_sims):\n",
    "            sim = sim + 1\n",
    "\n",
    "            for t in range(horizon):\n",
    "                t = t + 1\n",
    "                index = (sim - 1) * horizon + t - 1\n",
    "                sim_nums[index] = sim\n",
    "                times[index] = t\n",
    "\n",
    "                chosen_arm = bandit.suggest_arm()\n",
    "                chosen_arms[index] = chosen_arm['id']\n",
    "                bandit.pull_arm(chosen_arm['id'])\n",
    "                reward = self.draw(chosen_arm['id'])\n",
    "                rewards[index] = reward\n",
    "\n",
    "                if t == 1:\n",
    "                    cumulative_rewards[index] = reward\n",
    "                else:\n",
    "                    cumulative_rewards[index] = cumulative_rewards[index - 1] + reward\n",
    "\n",
    "                if reward:\n",
    "                    bandit.reward_arm(chosen_arm['id'], reward)\n",
    "\n",
    "        return [sim_nums, times, chosen_arms, rewards, cumulative_rewards]\n",
    "\n",
    "    def save_results(self, results, output_stream):\n",
    "        for sim in range(len(results[0])):\n",
    "            output_stream.write(\"  \".join([str(results[j][sim]) for j in range(len(results))]) + \"\\n\")\n",
    "            sys.stdout.flush()\n",
    "import banditsRedis\n",
    "\n",
    "def makeBandit(bandit_type,**kwargs):\n",
    "    bandit_cls = getattr(banditsRedis, bandit_type)\n",
    "    bandit = bandit_cls(**kwargs)\n",
    "    bandit.add_arm(\"green\",\"#00FF00\")\n",
    "    bandit.add_arm(\"red\",\"#FF0000\")\n",
    "    bandit.add_arm(\"blue\",\"#0000FF\")\n",
    "    return bandit\n",
    "bandit_name = 'EpsilonGreedyBandit'\n",
    "\n"
   ]
  },
  {
   "cell_type": "code",
   "execution_count": 27,
   "metadata": {},
   "outputs": [],
   "source": [
    "color_bandit = EpsilonGreedyBandit('leepand5',0.9)\n",
    "color_bandit.add_arm(\"green\",\"green\")\n",
    "color_bandit.add_arm(\"red\",\"red\")\n",
    "color_bandit.add_arm(\"blue\",\"blue\")"
   ]
  },
  {
   "cell_type": "code",
   "execution_count": 28,
   "metadata": {},
   "outputs": [
    {
     "ename": "KeyboardInterrupt",
     "evalue": "",
     "output_type": "error",
     "traceback": [
      "\u001b[0;31m---------------------------------------------------------------------------\u001b[0m",
      "\u001b[0;31mKeyboardInterrupt\u001b[0m                         Traceback (most recent call last)",
      "\u001b[0;32m<ipython-input-28-33f93783744a>\u001b[0m in \u001b[0;36m<module>\u001b[0;34m()\u001b[0m\n\u001b[1;32m      3\u001b[0m \u001b[0mt1\u001b[0m\u001b[0;34m=\u001b[0m\u001b[0mtime\u001b[0m\u001b[0;34m.\u001b[0m\u001b[0mtime\u001b[0m\u001b[0;34m(\u001b[0m\u001b[0;34m)\u001b[0m\u001b[0;34m\u001b[0m\u001b[0m\n\u001b[1;32m      4\u001b[0m \u001b[0mexp\u001b[0m\u001b[0;34m=\u001b[0m\u001b[0mMonteCarloTest\u001b[0m\u001b[0;34m(\u001b[0m\u001b[0;34m)\u001b[0m\u001b[0;34m\u001b[0m\u001b[0m\n\u001b[0;32m----> 5\u001b[0;31m \u001b[0mresults\u001b[0m \u001b[0;34m=\u001b[0m \u001b[0mexp\u001b[0m\u001b[0;34m.\u001b[0m\u001b[0mrun_algo\u001b[0m\u001b[0;34m(\u001b[0m\u001b[0mcolor_bandit\u001b[0m\u001b[0;34m,\u001b[0m \u001b[0;36m3000\u001b[0m\u001b[0;34m,\u001b[0m \u001b[0;36m250\u001b[0m\u001b[0;34m)\u001b[0m\u001b[0;34m\u001b[0m\u001b[0m\n\u001b[0m\u001b[1;32m      6\u001b[0m \u001b[0;32mprint\u001b[0m \u001b[0mtime\u001b[0m\u001b[0;34m.\u001b[0m\u001b[0mtime\u001b[0m\u001b[0;34m(\u001b[0m\u001b[0;34m)\u001b[0m\u001b[0;34m-\u001b[0m\u001b[0mt1\u001b[0m\u001b[0;34m\u001b[0m\u001b[0m\n",
      "\u001b[0;32m<ipython-input-24-6f0720c24235>\u001b[0m in \u001b[0;36mrun_algo\u001b[0;34m(self, bandit, num_sims, horizon)\u001b[0m\n\u001b[1;32m     37\u001b[0m \u001b[0;34m\u001b[0m\u001b[0m\n\u001b[1;32m     38\u001b[0m                 \u001b[0;32mif\u001b[0m \u001b[0mreward\u001b[0m\u001b[0;34m:\u001b[0m\u001b[0;34m\u001b[0m\u001b[0m\n\u001b[0;32m---> 39\u001b[0;31m                     \u001b[0mbandit\u001b[0m\u001b[0;34m.\u001b[0m\u001b[0mreward_arm\u001b[0m\u001b[0;34m(\u001b[0m\u001b[0mchosen_arm\u001b[0m\u001b[0;34m[\u001b[0m\u001b[0;34m'id'\u001b[0m\u001b[0;34m]\u001b[0m\u001b[0;34m,\u001b[0m \u001b[0mreward\u001b[0m\u001b[0;34m)\u001b[0m\u001b[0;34m\u001b[0m\u001b[0m\n\u001b[0m\u001b[1;32m     40\u001b[0m \u001b[0;34m\u001b[0m\u001b[0m\n\u001b[1;32m     41\u001b[0m         \u001b[0;32mreturn\u001b[0m \u001b[0;34m[\u001b[0m\u001b[0msim_nums\u001b[0m\u001b[0;34m,\u001b[0m \u001b[0mtimes\u001b[0m\u001b[0;34m,\u001b[0m \u001b[0mchosen_arms\u001b[0m\u001b[0;34m,\u001b[0m \u001b[0mrewards\u001b[0m\u001b[0;34m,\u001b[0m \u001b[0mcumulative_rewards\u001b[0m\u001b[0;34m]\u001b[0m\u001b[0;34m\u001b[0m\u001b[0m\n",
      "\u001b[0;32m/Users/leepand/Downloads/recom/python_web/Arthur.io/Arthur/core/controller/learning/multi_armed_bandit/banditsRedis.py\u001b[0m in \u001b[0;36mreward_arm\u001b[0;34m(self, arm_id, reward)\u001b[0m\n\u001b[1;32m    123\u001b[0m \u001b[0;34m\u001b[0m\u001b[0m\n\u001b[1;32m    124\u001b[0m         \u001b[0mself\u001b[0m\u001b[0;34m.\u001b[0m\u001b[0mredis\u001b[0m\u001b[0;34m.\u001b[0m\u001b[0mhset\u001b[0m\u001b[0;34m(\u001b[0m\u001b[0mself\u001b[0m\u001b[0;34m.\u001b[0m\u001b[0marms_key\u001b[0m\u001b[0;34m,\u001b[0m\u001b[0;34m'mab_exp'\u001b[0m\u001b[0;34m,\u001b[0m\u001b[0mself\u001b[0m\u001b[0;34m.\u001b[0m\u001b[0marms\u001b[0m\u001b[0;34m)\u001b[0m\u001b[0;34m\u001b[0m\u001b[0m\n\u001b[0;32m--> 125\u001b[0;31m         \u001b[0mself\u001b[0m\u001b[0;34m.\u001b[0m\u001b[0mredis\u001b[0m\u001b[0;34m.\u001b[0m\u001b[0mhset\u001b[0m\u001b[0;34m(\u001b[0m\u001b[0mself\u001b[0m\u001b[0;34m.\u001b[0m\u001b[0mpulls_key\u001b[0m\u001b[0;34m,\u001b[0m\u001b[0;34m'mab_exp'\u001b[0m\u001b[0;34m,\u001b[0m\u001b[0mself\u001b[0m\u001b[0;34m.\u001b[0m\u001b[0mpulls\u001b[0m\u001b[0;34m)\u001b[0m\u001b[0;34m\u001b[0m\u001b[0m\n\u001b[0m\u001b[1;32m    126\u001b[0m         \u001b[0mself\u001b[0m\u001b[0;34m.\u001b[0m\u001b[0mredis\u001b[0m\u001b[0;34m.\u001b[0m\u001b[0mhset\u001b[0m\u001b[0;34m(\u001b[0m\u001b[0mself\u001b[0m\u001b[0;34m.\u001b[0m\u001b[0mreward_key\u001b[0m\u001b[0;34m,\u001b[0m\u001b[0;34m'mab_exp'\u001b[0m\u001b[0;34m,\u001b[0m\u001b[0mself\u001b[0m\u001b[0;34m.\u001b[0m\u001b[0mreward\u001b[0m\u001b[0;34m)\u001b[0m\u001b[0;34m\u001b[0m\u001b[0m\n\u001b[1;32m    127\u001b[0m         \u001b[0mself\u001b[0m\u001b[0;34m.\u001b[0m\u001b[0mredis\u001b[0m\u001b[0;34m.\u001b[0m\u001b[0mhset\u001b[0m\u001b[0;34m(\u001b[0m\u001b[0mself\u001b[0m\u001b[0;34m.\u001b[0m\u001b[0mvalues_key\u001b[0m\u001b[0;34m,\u001b[0m\u001b[0;34m'mab_exp'\u001b[0m\u001b[0;34m,\u001b[0m\u001b[0mself\u001b[0m\u001b[0;34m.\u001b[0m\u001b[0mvalues\u001b[0m\u001b[0;34m)\u001b[0m\u001b[0;34m\u001b[0m\u001b[0m\n",
      "\u001b[0;32m/Users/leepand/anaconda2/lib/python2.7/site-packages/redis/client.pyc\u001b[0m in \u001b[0;36mhset\u001b[0;34m(self, name, key, value)\u001b[0m\n\u001b[1;32m   1990\u001b[0m         \u001b[0mReturns\u001b[0m \u001b[0;36m1\u001b[0m \u001b[0;32mif\u001b[0m \u001b[0mHSET\u001b[0m \u001b[0mcreated\u001b[0m \u001b[0ma\u001b[0m \u001b[0mnew\u001b[0m \u001b[0mfield\u001b[0m\u001b[0;34m,\u001b[0m \u001b[0motherwise\u001b[0m \u001b[0;36m0\u001b[0m\u001b[0;34m\u001b[0m\u001b[0m\n\u001b[1;32m   1991\u001b[0m         \"\"\"\n\u001b[0;32m-> 1992\u001b[0;31m         \u001b[0;32mreturn\u001b[0m \u001b[0mself\u001b[0m\u001b[0;34m.\u001b[0m\u001b[0mexecute_command\u001b[0m\u001b[0;34m(\u001b[0m\u001b[0;34m'HSET'\u001b[0m\u001b[0;34m,\u001b[0m \u001b[0mname\u001b[0m\u001b[0;34m,\u001b[0m \u001b[0mkey\u001b[0m\u001b[0;34m,\u001b[0m \u001b[0mvalue\u001b[0m\u001b[0;34m)\u001b[0m\u001b[0;34m\u001b[0m\u001b[0m\n\u001b[0m\u001b[1;32m   1993\u001b[0m \u001b[0;34m\u001b[0m\u001b[0m\n\u001b[1;32m   1994\u001b[0m     \u001b[0;32mdef\u001b[0m \u001b[0mhsetnx\u001b[0m\u001b[0;34m(\u001b[0m\u001b[0mself\u001b[0m\u001b[0;34m,\u001b[0m \u001b[0mname\u001b[0m\u001b[0;34m,\u001b[0m \u001b[0mkey\u001b[0m\u001b[0;34m,\u001b[0m \u001b[0mvalue\u001b[0m\u001b[0;34m)\u001b[0m\u001b[0;34m:\u001b[0m\u001b[0;34m\u001b[0m\u001b[0m\n",
      "\u001b[0;32m/Users/leepand/anaconda2/lib/python2.7/site-packages/redis/client.pyc\u001b[0m in \u001b[0;36mexecute_command\u001b[0;34m(self, *args, **options)\u001b[0m\n\u001b[1;32m    665\u001b[0m         \u001b[0mconnection\u001b[0m \u001b[0;34m=\u001b[0m \u001b[0mpool\u001b[0m\u001b[0;34m.\u001b[0m\u001b[0mget_connection\u001b[0m\u001b[0;34m(\u001b[0m\u001b[0mcommand_name\u001b[0m\u001b[0;34m,\u001b[0m \u001b[0;34m**\u001b[0m\u001b[0moptions\u001b[0m\u001b[0;34m)\u001b[0m\u001b[0;34m\u001b[0m\u001b[0m\n\u001b[1;32m    666\u001b[0m         \u001b[0;32mtry\u001b[0m\u001b[0;34m:\u001b[0m\u001b[0;34m\u001b[0m\u001b[0m\n\u001b[0;32m--> 667\u001b[0;31m             \u001b[0mconnection\u001b[0m\u001b[0;34m.\u001b[0m\u001b[0msend_command\u001b[0m\u001b[0;34m(\u001b[0m\u001b[0;34m*\u001b[0m\u001b[0margs\u001b[0m\u001b[0;34m)\u001b[0m\u001b[0;34m\u001b[0m\u001b[0m\n\u001b[0m\u001b[1;32m    668\u001b[0m             \u001b[0;32mreturn\u001b[0m \u001b[0mself\u001b[0m\u001b[0;34m.\u001b[0m\u001b[0mparse_response\u001b[0m\u001b[0;34m(\u001b[0m\u001b[0mconnection\u001b[0m\u001b[0;34m,\u001b[0m \u001b[0mcommand_name\u001b[0m\u001b[0;34m,\u001b[0m \u001b[0;34m**\u001b[0m\u001b[0moptions\u001b[0m\u001b[0;34m)\u001b[0m\u001b[0;34m\u001b[0m\u001b[0m\n\u001b[1;32m    669\u001b[0m         \u001b[0;32mexcept\u001b[0m \u001b[0;34m(\u001b[0m\u001b[0mConnectionError\u001b[0m\u001b[0;34m,\u001b[0m \u001b[0mTimeoutError\u001b[0m\u001b[0;34m)\u001b[0m \u001b[0;32mas\u001b[0m \u001b[0me\u001b[0m\u001b[0;34m:\u001b[0m\u001b[0;34m\u001b[0m\u001b[0m\n",
      "\u001b[0;32m/Users/leepand/anaconda2/lib/python2.7/site-packages/redis/connection.pyc\u001b[0m in \u001b[0;36msend_command\u001b[0;34m(self, *args)\u001b[0m\n\u001b[1;32m    608\u001b[0m     \u001b[0;32mdef\u001b[0m \u001b[0msend_command\u001b[0m\u001b[0;34m(\u001b[0m\u001b[0mself\u001b[0m\u001b[0;34m,\u001b[0m \u001b[0;34m*\u001b[0m\u001b[0margs\u001b[0m\u001b[0;34m)\u001b[0m\u001b[0;34m:\u001b[0m\u001b[0;34m\u001b[0m\u001b[0m\n\u001b[1;32m    609\u001b[0m         \u001b[0;34m\"Pack and send a command to the Redis server\"\u001b[0m\u001b[0;34m\u001b[0m\u001b[0m\n\u001b[0;32m--> 610\u001b[0;31m         \u001b[0mself\u001b[0m\u001b[0;34m.\u001b[0m\u001b[0msend_packed_command\u001b[0m\u001b[0;34m(\u001b[0m\u001b[0mself\u001b[0m\u001b[0;34m.\u001b[0m\u001b[0mpack_command\u001b[0m\u001b[0;34m(\u001b[0m\u001b[0;34m*\u001b[0m\u001b[0margs\u001b[0m\u001b[0;34m)\u001b[0m\u001b[0;34m)\u001b[0m\u001b[0;34m\u001b[0m\u001b[0m\n\u001b[0m\u001b[1;32m    611\u001b[0m \u001b[0;34m\u001b[0m\u001b[0m\n\u001b[1;32m    612\u001b[0m     \u001b[0;32mdef\u001b[0m \u001b[0mcan_read\u001b[0m\u001b[0;34m(\u001b[0m\u001b[0mself\u001b[0m\u001b[0;34m,\u001b[0m \u001b[0mtimeout\u001b[0m\u001b[0;34m=\u001b[0m\u001b[0;36m0\u001b[0m\u001b[0;34m)\u001b[0m\u001b[0;34m:\u001b[0m\u001b[0;34m\u001b[0m\u001b[0m\n",
      "\u001b[0;32m/Users/leepand/anaconda2/lib/python2.7/site-packages/redis/connection.pyc\u001b[0m in \u001b[0;36msend_packed_command\u001b[0;34m(self, command)\u001b[0m\n\u001b[1;32m    588\u001b[0m                 \u001b[0mcommand\u001b[0m \u001b[0;34m=\u001b[0m \u001b[0;34m[\u001b[0m\u001b[0mcommand\u001b[0m\u001b[0;34m]\u001b[0m\u001b[0;34m\u001b[0m\u001b[0m\n\u001b[1;32m    589\u001b[0m             \u001b[0;32mfor\u001b[0m \u001b[0mitem\u001b[0m \u001b[0;32min\u001b[0m \u001b[0mcommand\u001b[0m\u001b[0;34m:\u001b[0m\u001b[0;34m\u001b[0m\u001b[0m\n\u001b[0;32m--> 590\u001b[0;31m                 \u001b[0mself\u001b[0m\u001b[0;34m.\u001b[0m\u001b[0m_sock\u001b[0m\u001b[0;34m.\u001b[0m\u001b[0msendall\u001b[0m\u001b[0;34m(\u001b[0m\u001b[0mitem\u001b[0m\u001b[0;34m)\u001b[0m\u001b[0;34m\u001b[0m\u001b[0m\n\u001b[0m\u001b[1;32m    591\u001b[0m         \u001b[0;32mexcept\u001b[0m \u001b[0msocket\u001b[0m\u001b[0;34m.\u001b[0m\u001b[0mtimeout\u001b[0m\u001b[0;34m:\u001b[0m\u001b[0;34m\u001b[0m\u001b[0m\n\u001b[1;32m    592\u001b[0m             \u001b[0mself\u001b[0m\u001b[0;34m.\u001b[0m\u001b[0mdisconnect\u001b[0m\u001b[0;34m(\u001b[0m\u001b[0;34m)\u001b[0m\u001b[0;34m\u001b[0m\u001b[0m\n",
      "\u001b[0;32m/Users/leepand/anaconda2/lib/python2.7/socket.pyc\u001b[0m in \u001b[0;36mmeth\u001b[0;34m(name, self, *args)\u001b[0m\n\u001b[1;32m    226\u001b[0m \u001b[0;34m\u001b[0m\u001b[0m\n\u001b[1;32m    227\u001b[0m \u001b[0;32mdef\u001b[0m \u001b[0mmeth\u001b[0m\u001b[0;34m(\u001b[0m\u001b[0mname\u001b[0m\u001b[0;34m,\u001b[0m\u001b[0mself\u001b[0m\u001b[0;34m,\u001b[0m\u001b[0;34m*\u001b[0m\u001b[0margs\u001b[0m\u001b[0;34m)\u001b[0m\u001b[0;34m:\u001b[0m\u001b[0;34m\u001b[0m\u001b[0m\n\u001b[0;32m--> 228\u001b[0;31m     \u001b[0;32mreturn\u001b[0m \u001b[0mgetattr\u001b[0m\u001b[0;34m(\u001b[0m\u001b[0mself\u001b[0m\u001b[0;34m.\u001b[0m\u001b[0m_sock\u001b[0m\u001b[0;34m,\u001b[0m\u001b[0mname\u001b[0m\u001b[0;34m)\u001b[0m\u001b[0;34m(\u001b[0m\u001b[0;34m*\u001b[0m\u001b[0margs\u001b[0m\u001b[0;34m)\u001b[0m\u001b[0;34m\u001b[0m\u001b[0m\n\u001b[0m\u001b[1;32m    229\u001b[0m \u001b[0;34m\u001b[0m\u001b[0m\n\u001b[1;32m    230\u001b[0m \u001b[0;32mfor\u001b[0m \u001b[0m_m\u001b[0m \u001b[0;32min\u001b[0m \u001b[0m_socketmethods\u001b[0m\u001b[0;34m:\u001b[0m\u001b[0;34m\u001b[0m\u001b[0m\n",
      "\u001b[0;31mKeyboardInterrupt\u001b[0m: "
     ]
    }
   ],
   "source": [
    "import random\n",
    "import time\n",
    "t1=time.time()\n",
    "exp=MonteCarloTest()\n",
    "results = exp.run_algo(color_bandit, 3000, 250)\n",
    "print time.time()-t1"
   ]
  },
  {
   "cell_type": "code",
   "execution_count": 43,
   "metadata": {},
   "outputs": [
    {
     "data": {
      "text/plain": [
       "'[686.0, 659.0, 640.0]'"
      ]
     },
     "execution_count": 43,
     "metadata": {},
     "output_type": "execute_result"
    }
   ],
   "source": [
    "color_bandit.obj_by_name('reward')"
   ]
  },
  {
   "cell_type": "code",
   "execution_count": 44,
   "metadata": {},
   "outputs": [
    {
     "data": {
      "text/plain": [
       "'[0.10046865846514307, 0.0993068113321281, 0.09791921664626672]'"
      ]
     },
     "execution_count": 44,
     "metadata": {},
     "output_type": "execute_result"
    }
   ],
   "source": [
    "color_bandit.obj_by_name('confidence')"
   ]
  },
  {
   "cell_type": "code",
   "execution_count": 58,
   "metadata": {},
   "outputs": [
    {
     "data": {
      "text/plain": [
       "{0: 686.0, 1: 659.0, 2: 640.0}"
      ]
     },
     "execution_count": 58,
     "metadata": {},
     "output_type": "execute_result"
    }
   ],
   "source": [
    "weights=[686.0, 659.0, 640.0]\n",
    "dict(enumerate(weights))"
   ]
  },
  {
   "cell_type": "code",
   "execution_count": 59,
   "metadata": {},
   "outputs": [
    {
     "data": {
      "text/plain": [
       "'1FpJ3D1cEemXnNypBHX4Xw'"
      ]
     },
     "execution_count": 59,
     "metadata": {},
     "output_type": "execute_result"
    }
   ],
   "source": [
    "import uuid\n",
    "import sys\n",
    "from base64 import urlsafe_b64encode, urlsafe_b64decode\n",
    "\n",
    "def uuid2slug():\n",
    "    return urlsafe_b64encode(uuid.uuid1().bytes).rstrip(\"==\")\n",
    "\n",
    "def slug2uuid(slug):\n",
    "    return uuid.UUID(bytes=urlsafe_b64decode(slug + \"==\"))\n",
    "uuid2slug()"
   ]
  },
  {
   "cell_type": "code",
   "execution_count": null,
   "metadata": {},
   "outputs": [],
   "source": []
  }
 ],
 "metadata": {
  "kernelspec": {
   "display_name": "Python 2",
   "language": "python",
   "name": "python2"
  },
  "language_info": {
   "codemirror_mode": {
    "name": "ipython",
    "version": 2
   },
   "file_extension": ".py",
   "mimetype": "text/x-python",
   "name": "python",
   "nbconvert_exporter": "python",
   "pygments_lexer": "ipython2",
   "version": "2.7.13"
  }
 },
 "nbformat": 4,
 "nbformat_minor": 2
}
