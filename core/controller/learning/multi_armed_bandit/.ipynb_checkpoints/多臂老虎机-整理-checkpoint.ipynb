{
 "cells": [
  {
   "cell_type": "code",
   "execution_count": 1,
   "metadata": {},
   "outputs": [],
   "source": [
    "import bandits  \n",
    "class MonteCarloTest(object):\n",
    "    \"\"\"Tests to ensure that over many iterations, a winner\n",
    "    eventually converges\"\"\"\n",
    "    def __init__(self):\n",
    "        self.true_arm_probs = dict(green=0.2, red=0.2, blue=0.93)\n",
    "    def draw(self, arm_name):\n",
    "        if random.random() > self.true_arm_probs[arm_name]:\n",
    "            return 0.0\n",
    "        return 1.0\n",
    "\n",
    "    def run_algo(self, bandit, num_sims, horizon):\n",
    "        chosen_arms = [0.0 for i in range(num_sims * horizon)]\n",
    "        rewards = [0.0 for i in range(num_sims * horizon)]\n",
    "        cumulative_rewards = [0.0 for i in range(num_sims * horizon)]\n",
    "        sim_nums = [0.0 for i in range(num_sims * horizon)]\n",
    "        times = [0.0 for i in range(num_sims * horizon)]\n",
    "\n",
    "        for sim in range(num_sims):\n",
    "            sim = sim + 1\n",
    "\n",
    "            for t in range(horizon):\n",
    "                t = t + 1\n",
    "                index = (sim - 1) * horizon + t - 1\n",
    "                sim_nums[index] = sim\n",
    "                times[index] = t\n",
    "\n",
    "                chosen_arm = bandit.suggest_arm()\n",
    "                chosen_arms[index] = chosen_arm['id']\n",
    "                bandit.pull_arm(chosen_arm['id'])\n",
    "                reward = self.draw(chosen_arm['id'])\n",
    "                rewards[index] = reward\n",
    "\n",
    "                if t == 1:\n",
    "                    cumulative_rewards[index] = reward\n",
    "                else:\n",
    "                    cumulative_rewards[index] = cumulative_rewards[index - 1] + reward\n",
    "\n",
    "                if reward:\n",
    "                    bandit.reward_arm(chosen_arm['id'], reward)\n",
    "\n",
    "        return [sim_nums, times, chosen_arms, rewards, cumulative_rewards]\n",
    "\n",
    "    def save_results(self, results, output_stream):\n",
    "        for sim in range(len(results[0])):\n",
    "            output_stream.write(\"  \".join([str(results[j][sim]) for j in range(len(results))]) + \"\\n\")\n",
    "            sys.stdout.flush()\n",
    "import flask_mab.bandits as bandits\n",
    "\n",
    "def makeBandit(bandit_type,**kwargs):\n",
    "    bandit_cls = getattr(bandits, bandit_type)\n",
    "    bandit = bandit_cls(**kwargs)\n",
    "    bandit.add_arm(\"green\",\"#00FF00\")\n",
    "    bandit.add_arm(\"red\",\"#FF0000\")\n",
    "    bandit.add_arm(\"blue\",\"#0000FF\")\n",
    "    return bandit\n",
    "bandit_name = 'EpsilonGreedyBandit'\n",
    "\n",
    "#true_arm_probs"
   ]
  },
  {
   "cell_type": "code",
   "execution_count": 78,
   "metadata": {},
   "outputs": [],
   "source": [
    "\"\"\"\n",
    "Defines various storage engines for the MAB\n",
    "interface\n",
    "\"\"\"\n",
    "\n",
    "import json\n",
    "#import flask_mab.bandits\n",
    "import bandits\n",
    "\n",
    "class BanditEncoder(json.JSONEncoder):\n",
    "    \"\"\"Json serializer for Bandits\"\"\"\n",
    "    def default(self, obj):\n",
    "        if isinstance(obj, bandits.Bandit):\n",
    "            dict_repr = obj.__dict__\n",
    "            dict_repr['bandit_type'] = obj.__class__.__name__\n",
    "            return dict_repr\n",
    "        return json.JSONEncoder.default(self, obj)\n",
    "\n",
    "class BanditDecoder(json.JSONDecoder):\n",
    "    \"\"\"Json Marshaller for Bandits\"\"\"\n",
    "    def decode(self, obj):\n",
    "        dict_repr = json.loads(obj)\n",
    "        for key in dict_repr.keys():\n",
    "            if 'bandit_type' not in dict_repr[key].keys():\n",
    "                raise TypeError(\"Serialized object is not a valid bandit\")\n",
    "            dict_repr[key] = bandits.Bandit.fromdict(dict_repr[key])\n",
    "        return dict_repr\n",
    "\n",
    "class BanditStorage(object):\n",
    "    \"\"\"The base interface for a storage engine, implements no-ops for tests\n",
    "    \"\"\"\n",
    "\n",
    "    def flush(self):\n",
    "        pass\n",
    "\n",
    "    def save(self, bandits):\n",
    "        pass\n",
    "\n",
    "    def load(self):\n",
    "        return {}\n",
    "\n",
    "class JSONBanditStorage(BanditStorage):\n",
    "    \"\"\"Json based file storage\n",
    "    Saves to local file\n",
    "    \"\"\"\n",
    "    def __init__(self, filepath=None):\n",
    "        self.file_handle = filepath\n",
    "\n",
    "    def flush(self):\n",
    "        open(self.file_handle, 'w').truncate()\n",
    "\n",
    "    def save(self, bandits):\n",
    "        json_bandits = json.dumps(bandits, indent=4, cls=BanditEncoder)\n",
    "        open(self.file_handle, 'w').write(json_bandits)\n",
    "\n",
    "    def load(self):\n",
    "        try:\n",
    "            with open(self.file_handle, 'r') as bandit_file:\n",
    "                bandits = bandit_file.read()\n",
    "\n",
    "            return json.loads(bandits, cls=BanditDecoder)\n",
    "        except (ValueError, IOError):\n",
    "            return {}\n",
    "        \n",
    "#JSONBanditStorage().save(color_bandit)"
   ]
  },
  {
   "cell_type": "code",
   "execution_count": 80,
   "metadata": {},
   "outputs": [],
   "source": [
    "if isinstance(color_bandit, bandits.Bandit):\n",
    "    dict_repr = color_bandit.__dict__\n",
    "    dict_repr['bandit_type'] = color_bandit.__class__.__name__\n",
    "    print dict_repr\n"
   ]
  },
  {
   "cell_type": "code",
   "execution_count": 74,
   "metadata": {},
   "outputs": [
    {
     "name": "stdout",
     "output_type": "stream",
     "text": [
      "MAB:ALGO:ABEXPERIMENT:dd\n"
     ]
    }
   ],
   "source": [
    "from redis import Redis\n",
    "# redis key\n",
    "PREFIX = 'MAB'\n",
    "MAB_EXP_BASE = '%s:ALGO:ABEXPERIMENT:{}' % PREFIX\n",
    "\n",
    "class BanditMiddleware(object):\n",
    "    \"\"\"The main flask extension.\n",
    "    Sets up all the necessary tracking for the bandit experiments\n",
    "    \"\"\"\n",
    "\n",
    "    def __init__(self, app=None):\n",
    "        \"\"\"Attach MAB logic to a Flask application\n",
    "        :param app: An optional Flask application\n",
    "        \"\"\"\n",
    "        if app is not None:\n",
    "            self.init_app(app)\n",
    "    @classmethod\n",
    "    def get_key_mab_exp(cls, exp_id):\n",
    "        return MAB_EXP_BASE.format(str(exp_id))\n",
    "print BanditMiddleware().get_key_mab_exp('dd')"
   ]
  },
  {
   "cell_type": "code",
   "execution_count": null,
   "metadata": {},
   "outputs": [],
   "source": []
  },
  {
   "cell_type": "code",
   "execution_count": null,
   "metadata": {},
   "outputs": [],
   "source": [
    "from redis import Redis\n",
    "class BanditMiddleware(object):\n",
    "    \"\"\"The main flask extension.\n",
    "    Sets up all the necessary tracking for the bandit experiments\n",
    "    \"\"\"\n",
    "\n",
    "    def __init__(self, app=None):\n",
    "        \"\"\"Attach MAB logic to a Flask application\n",
    "        :param app: An optional Flask application\n",
    "        \"\"\"\n",
    "        if app is not None:\n",
    "            self.init_app(app)\n",
    "    @classmethod\n",
    "    def get_key_goods_tag(cls, goods_id):\n",
    "        return GOODS_TAG_BASE.format(str(goods_id))\n",
    "\n",
    "    def _register_storage(self, app):\n",
    "        storage_engine = getattr(\n",
    "                flask_mab.storage,\n",
    "                app.config.get('MAB_STORAGE_ENGINE', 'BanditStorage'))\n",
    "        storage_opts = app.config.get('MAB_STORAGE_OPTS', tuple())\n",
    "        storage_backend = storage_engine(*storage_opts)\n",
    "        app.extensions['mab'].bandit_storage = storage_backend\n",
    "\n",
    "    def init_app(self, app):\n",
    "        \"\"\"Attach Multi Armed Bandit to application and configure\n",
    "        :param app: A flask application instance\n",
    "        \"\"\"\n",
    "        app.config.setdefault('MAB_COOKIE_NAME', 'MAB')\n",
    "        app.config.setdefault('MAB_COOKIE_PATH', '/')\n",
    "        app.config.setdefault('MAB_COOKIE_TTL', None)\n",
    "        app.config.setdefault('MAB_DEBUG_HEADERS', True)\n",
    "        if not hasattr(app, 'extensions'):\n",
    "            app.extensions = {}\n",
    "        app.extensions['mab'] = Mab(app)\n",
    "        self._register_storage(app)\n",
    "        if hasattr(app, 'teardown_appcontext'):\n",
    "            app.teardown_appcontext(self.teardown)\n",
    "        else:\n",
    "            app.teardown_request(self.teardown)\n",
    "\n",
    "        app.extensions['mab'].bandits = {}\n",
    "        app.extensions['mab'].reward_endpts = []\n",
    "        app.extensions['mab'].pull_endpts = []\n",
    "\n",
    "        app.extensions['mab'].debug_headers = app.config.get('MAB_DEBUG_HEADERS', True)\n",
    "        app.extensions['mab'].cookie_name = app.config.get('MAB_COOKIE_NAME', \"MAB\")\n",
    "        self._init_detection(app)\n",
    "\n",
    "    def teardown(self, *args, **kwargs):\n",
    "        \"\"\"Stub for old flask versions\n",
    "        \"\"\"\n",
    "        pass\n",
    "\n",
    "    def _init_detection(self, app):\n",
    "        \"\"\"\n",
    "        Attaches all request before/after handlers for bandits.\n",
    "        Nested functions are as follows\n",
    "        * detect_last_bandits: Loads any arms already assigned to this user\n",
    "                               from the cookie.\n",
    "        * persist_bandits:     Saves bandits down to storage engine at the end\n",
    "                               of the request\n",
    "        * remember_bandit_arms: Sets the cookie for all requests that pulled an arm\n",
    "        * send_debug_header: Attaches a header for the MAB to the HTTP response for easier debugging\n",
    "        \"\"\"\n",
    "        @app.before_request\n",
    "        def detect_last_bandits():\n",
    "            bandits = request.cookies.get(app.extensions['mab'].cookie_name)\n",
    "            request.bandits_save = False\n",
    "            request.bandits_reward = set()\n",
    "            if bandits:\n",
    "                request.bandits = json.loads(bandits)\n",
    "            else:\n",
    "                request.bandits = {}\n",
    "\n",
    "        @app.after_request\n",
    "        def persist_bandits(response):\n",
    "            app.extensions['mab'].bandit_storage.save(app.extensions['mab'].bandits)\n",
    "            return response\n",
    "\n",
    "        @app.after_request\n",
    "        def remember_bandit_arms(response):\n",
    "            if request.bandits_save:\n",
    "                for bandit_id,arm in request.bandits.items():\n",
    "                    #hook event for saving an impression here\n",
    "                    app.extensions['mab'].bandits[bandit_id].pull_arm(arm)\n",
    "\n",
    "            for bandit_id, arm, reward_amt in request.bandits_reward:\n",
    "                try:\n",
    "                    app.extensions['mab'].bandits[bandit_id].reward_arm(arm, reward_amt)\n",
    "                    #hook event for saving a reward line here\n",
    "                except KeyError:\n",
    "                    raise MABConfigException(\"Bandit %s not found\" % bandit_id)\n",
    "\n",
    "            response.set_cookie(\n",
    "                    app.extensions['mab'].cookie_name,\n",
    "                    json.dumps(request.bandits))\n",
    "            return response\n",
    "\n",
    "        @app.after_request\n",
    "        def send_debug_header(response):\n",
    "            if app.extensions['mab'].debug_headers and request.bandits_save:\n",
    "                response.headers['X-MAB-Debug'] = \"STORE; \"+';'.join(\n",
    "                        ['%s:%s' % (key, val) for key, val in request.bandits.items()])\n",
    "            elif app.extensions['mab'].debug_headers:\n",
    "                response.headers['X-MAB-Debug'] = \"SAVED; \"+';'.join(['%s:%s' % (key, val) for key, val in request.bandits.items()])\n",
    "            return response\n",
    "\n",
    "        app.add_bandit = types.MethodType(add_bandit, app)\n",
    "\n",
    "\n",
    "def add_bandit(app, name, bandit=None):\n",
    "    \"\"\"Attach a bandit for an experiment\n",
    "    :param name: The name of the experiment, will be used for lookups\n",
    "    :param bandit: The bandit to use for this experiment\n",
    "    :type bandit: Bandit\n",
    "    \"\"\"\n",
    "    saved_bandits = app.extensions['mab'].bandit_storage.load()\n",
    "    if name in saved_bandits.keys():\n",
    "        app.extensions['mab'].bandits[name] = saved_bandits[name]\n",
    "    else:\n",
    "        app.extensions['mab'].bandits[name] = bandit\n",
    "\n",
    "\n",
    "def suggest_arm_for(key):\n",
    "    \"\"\"Get an experimental outcome by id.  The primary way the implementor interfaces with their\n",
    "    experiments.\n",
    "    Suggests arms if not in cookie, using cookie val if present\n",
    "    :param key: The bandit/experiment to get a suggested arm for\n",
    "    :type key: string\n",
    "    :param also_pull: Should we register a pull/impression at the same time as suggesting\n",
    "    :raises KeyError: in case requested experiment does not exist\n",
    "    \"\"\"\n",
    "    app = current_app\n",
    "    try:\n",
    "        #Try to get the selected bandits from cookie\n",
    "        arm = app.extensions['mab'].bandits[key][request.bandits[key]]\n",
    "        return arm[\"id\"], arm[\"value\"]\n",
    "    except (AttributeError, TypeError, KeyError) as err:\n",
    "        #Assign an arm for a new client\n",
    "        try:\n",
    "            arm = app.extensions['mab'].bandits[key].suggest_arm()\n",
    "            request.bandits[key] = arm[\"id\"]\n",
    "            request.bandits_save = True\n",
    "            return arm[\"id\"], arm[\"value\"]\n",
    "        except KeyError:\n",
    "            raise MABConfigException(\"Bandit %s not found\" % key)\n",
    "\n",
    "class MABConfigException(Exception):\n",
    "    \"\"\"Raised when internal state in MAB setup is invalid\"\"\"\n",
    "    pass"
   ]
  },
  {
   "cell_type": "code",
   "execution_count": 23,
   "metadata": {},
   "outputs": [],
   "source": [
    "color_bandit = bandits.EpsilonGreedyBandit(0.9)\n",
    "color_bandit.add_arm(\"green\",\"green\")\n",
    "color_bandit.add_arm(\"red\",\"red\")\n",
    "color_bandit.add_arm(\"blue\",\"blue\")\n",
    "chosen_arms=[]"
   ]
  },
  {
   "cell_type": "code",
   "execution_count": 107,
   "metadata": {},
   "outputs": [
    {
     "name": "stdout",
     "output_type": "stream",
     "text": [
      "blue\n"
     ]
    }
   ],
   "source": [
    "chosen_arm = color_bandit.suggest_arm()\n",
    "chosen_arm\n",
    "index=1\n",
    "chosen_arm['id']\n",
    "color_bandit.pull_arm(chosen_arm['id'])\n",
    "re=color_bandit.reward_arm(chosen_arm['id'],1.0)\n",
    "print chosen_arm['id']"
   ]
  },
  {
   "cell_type": "code",
   "execution_count": 94,
   "metadata": {},
   "outputs": [
    {
     "name": "stdout",
     "output_type": "stream",
     "text": [
      "[9, 2, 6]\n"
     ]
    }
   ],
   "source": [
    "print color_bandit.pulls"
   ]
  },
  {
   "cell_type": "code",
   "execution_count": 93,
   "metadata": {},
   "outputs": [
    {
     "data": {
      "text/plain": [
       "8"
      ]
     },
     "execution_count": 93,
     "metadata": {},
     "output_type": "execute_result"
    }
   ],
   "source": [
    "chosen_arm['pulls']"
   ]
  },
  {
   "cell_type": "code",
   "execution_count": 88,
   "metadata": {},
   "outputs": [
    {
     "data": {
      "text/plain": [
       "[8.0, 2.0, 5.0]"
      ]
     },
     "execution_count": 88,
     "metadata": {},
     "output_type": "execute_result"
    }
   ],
   "source": [
    "color_bandit.reward"
   ]
  },
  {
   "cell_type": "code",
   "execution_count": 108,
   "metadata": {},
   "outputs": [
    {
     "data": {
      "text/plain": [
       "[1.0, 1.0, 0.875]"
      ]
     },
     "execution_count": 108,
     "metadata": {},
     "output_type": "execute_result"
    }
   ],
   "source": [
    "color_bandit.confidence"
   ]
  },
  {
   "cell_type": "code",
   "execution_count": 109,
   "metadata": {},
   "outputs": [
    {
     "data": {
      "text/plain": [
       "['green', 'red', 'blue']"
      ]
     },
     "execution_count": 109,
     "metadata": {},
     "output_type": "execute_result"
    }
   ],
   "source": [
    "color_bandit.values"
   ]
  },
  {
   "cell_type": "code",
   "execution_count": 112,
   "metadata": {},
   "outputs": [
    {
     "data": {
      "text/plain": [
       "['green', 'red', 'blue', 'taud']"
      ]
     },
     "execution_count": 112,
     "metadata": {},
     "output_type": "execute_result"
    }
   ],
   "source": [
    "color_bandit.arms"
   ]
  },
  {
   "cell_type": "code",
   "execution_count": 111,
   "metadata": {},
   "outputs": [],
   "source": [
    "color_bandit.add_arm(\"taud\",\"taid\")\n"
   ]
  },
  {
   "cell_type": "code",
   "execution_count": 13,
   "metadata": {},
   "outputs": [
    {
     "name": "stdout",
     "output_type": "stream",
     "text": [
      "color_bandit\n",
      "EpsilonGreedyBandit  confidence:[0.0, 0.0, 0.0]; epsilon:0.9; arms:['green', 'red', 'blue']; values:['green', 'red', 'blue']; pulls:[0, 0, 0]; reward:[0.0, 0.0, 0.0]\n"
     ]
    }
   ],
   "source": [
    "from functools import wraps\n",
    "def choose_arm(bandit):\n",
    "    \"\"\"Route decorator for registering an impression conveinently\n",
    "    :param bandit: The bandit/experiment to register for\n",
    "    :type bandit: string\n",
    "    \"\"\"\n",
    "    def decorator(func):\n",
    "        #runs @ service init\n",
    "        if not hasattr(func, 'bandits'):\n",
    "            func.bandits = []\n",
    "        func.bandits.append(bandit)\n",
    "\n",
    "        @wraps(func)\n",
    "        def wrapper(*args, **kwargs):\n",
    "            #runs at endpoint hit\n",
    "            add_args = []\n",
    "            for bandit in func.bandits:\n",
    "                #Fetch from request first here?\n",
    "                print bandit\n",
    "                #arm_id, arm_value = suggest_arm_for(bandit)\n",
    "                #add_args.append((bandit, arm_value))\n",
    "            kwargs.update(add_args)\n",
    "            return func(*args, **kwargs)\n",
    "        return wrapper\n",
    "    return decorator\n",
    "@choose_arm(\"color_bandit\")\n",
    "def test():\n",
    "    print color_bandit\n",
    "test()"
   ]
  },
  {
   "cell_type": "code",
   "execution_count": null,
   "metadata": {},
   "outputs": [],
   "source": []
  }
 ],
 "metadata": {
  "kernelspec": {
   "display_name": "Python 2",
   "language": "python",
   "name": "python2"
  },
  "language_info": {
   "codemirror_mode": {
    "name": "ipython",
    "version": 2
   },
   "file_extension": ".py",
   "mimetype": "text/x-python",
   "name": "python",
   "nbconvert_exporter": "python",
   "pygments_lexer": "ipython2",
   "version": "2.7.13"
  }
 },
 "nbformat": 4,
 "nbformat_minor": 2
}
