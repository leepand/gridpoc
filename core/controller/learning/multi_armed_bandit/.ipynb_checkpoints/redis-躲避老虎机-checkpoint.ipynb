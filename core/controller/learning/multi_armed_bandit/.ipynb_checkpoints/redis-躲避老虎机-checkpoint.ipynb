{
 "cells": [
  {
   "cell_type": "code",
   "execution_count": 3,
   "metadata": {},
   "outputs": [
    {
     "name": "stdout",
     "output_type": "stream",
     "text": [
      "Writing default_settings.py\n"
     ]
    }
   ],
   "source": [
    "%%file default_settings.py\n",
    "# -*- coding: utf-8 -*-\n",
    "from __future__ import absolute_import, unicode_literals\n",
    "\n",
    "DEFAULT_SETTINGS = {\n",
    "            # redis\n",
    "            'expire': 3600 * 24 * 30,\n",
    "            'redis': {\n",
    "                'host': 'localhost',\n",
    "                'port': 6379,\n",
    "                'db': 0\n",
    "            },\n",
    "            # recommendation engine settings\n",
    "            'recommendation_count': 10,\n",
    "            'recommendation': {\n",
    "                'update_interval_sec': 600,\n",
    "                'search_depth': 100,\n",
    "                'max_history': 1000,\n",
    "            },\n",
    "}"
   ]
  },
  {
   "cell_type": "code",
   "execution_count": 42,
   "metadata": {},
   "outputs": [
    {
     "name": "stdout",
     "output_type": "stream",
     "text": [
      "MAB:ALGO:ABEXPERIMENT:testmab:arms\n",
      "0\n"
     ]
    }
   ],
   "source": [
    "from redis import Redis\n",
    "from default_settings import DEFAULT_SETTINGS\n",
    "\n",
    "# redis key\n",
    "PREFIX = 'MAB'\n",
    "MAB_EXP_BASE = '%s:ALGO:ABEXPERIMENT:{}:{}' % PREFIX\n",
    "HASH_FIELD_EXP_TAG=\"TAG\"\n",
    "class BanditStorage(object):\n",
    "    \"\"\"The main bandit redis storage.\n",
    "    Sets up all the necessary tracking for the bandit experiments\n",
    "    \"\"\"\n",
    "    _CACHE_MAB_EXP = {}  # class cache\n",
    "    _CLI = None\n",
    "\n",
    "    def __init__(self, settings=DEFAULT_SETTINGS):\n",
    "        \"\"\"Attach MAB logic to redis\n",
    "        :param redis: An optional redis application\n",
    "        \"\"\"\n",
    "        DEFAULT_SETTINGS.update(settings)\n",
    "        self.settings = DEFAULT_SETTINGS\n",
    "            \n",
    "    @property\n",
    "    def client(self):\n",
    "        if BanditStorage._CLI is None:\n",
    "            BanditStorage._CLI = Redis(host=self.settings.get('redis').get('host'),\n",
    "                                    port=int(self.settings.get('redis').get('port')),\n",
    "                                    db=int(self.settings.get('redis').get('db')), )\n",
    "        return BanditStorage._CLI\n",
    "\n",
    "    @classmethod\n",
    "    def get_key_mab_exp_arms(cls, exp_id,arms=\"arms\"):\n",
    "        return MAB_EXP_BASE.format(str(exp_id),str(arms))\n",
    "    @classmethod\n",
    "    def get_key_mab_exp_pulls(cls, exp_id,pulls=\"pulls\"):\n",
    "        return MAB_EXP_BASE.format(str(exp_id),str(pulls))\n",
    "    @classmethod\n",
    "    def get_key_mab_exp_reward(cls, exp_id,reward=\"reward\"):\n",
    "        return MAB_EXP_BASE.format(str(exp_id),str(reward))\n",
    "    @classmethod\n",
    "    def get_key_mab_exp_values(cls, exp_id,values=\"values\"):\n",
    "        return MAB_EXP_BASE.format(str(exp_id),str(values))\n",
    "    @classmethod\n",
    "    def get_key_mab_exp_confidence(cls, exp_id,confidence=\"confidence\"):\n",
    "        return MAB_EXP_BASE.format(str(exp_id),str(confidence))\n",
    "    @classmethod\n",
    "    def get_key_mab_exp_mutil(cls, exp_id,tag=\"confidence\"):\n",
    "        return MAB_EXP_BASE.format(str(exp_id),str(tag))\n",
    "\n",
    "    @property\n",
    "    def expire(self):\n",
    "        return self.settings.get('expire')\n",
    "\n",
    "    def touch(self, key):\n",
    "        self.client.expire(key, self.expire)\n",
    "\n",
    "    def register_exp_tags(self, exp_id, tag,val):\n",
    "        \"\"\"\n",
    "        register exp_id\n",
    "        :param exp_id: str\n",
    "        :param tag: str\n",
    "        :rtype : None\n",
    "        \"\"\"\n",
    "        key = BanditStorage.get_key_mab_exp_mutil(exp_id,tag)\n",
    "        return self.client.hset(key, HASH_FIELD_EXP_TAG,val)#self.client.hset(key, HASH_FIELD_EXP_TAG, val)\n",
    "\n",
    "    def register_exp(self, exp_id, tag,val):\n",
    "        \"\"\"\n",
    "        register exp_id\n",
    "        :param exp_id: str\n",
    "        :param tag: str\n",
    "        :rtype : None\n",
    "        \"\"\"\n",
    "        key = BanditStorage.get_key_mab_exp_mutil(exp_id,tag)\n",
    "        print key\n",
    "        return self.client.sadd(key, val)\n",
    "    def get_exp_tag(self, exp_id,tag):\n",
    "        key = BanditStorage.get_key_mab_exp_mutil(exp_id,tag)\n",
    "        \n",
    "        return self.client.hget(key,HASH_FIELD_EXP_TAG)\n",
    "    def remove_exp_tags(self, exp_id,tag,value):\n",
    "        \"\"\"\n",
    "        Clear the contents of a set\n",
    "        \"\"\"\n",
    "        key = BanditStorage.get_key_mab_exp_mutil(exp_id,tag)\n",
    "        self.client.srem(key,value)\n",
    "    def get_exp(self, exp_id,tag):\n",
    "        key = BanditStorage.get_key_mab_exp_mutil(exp_id,tag)\n",
    "        \n",
    "        return self.client.smembers(key)\n",
    "print BanditStorage().register_exp('testmab','arms','alt1')"
   ]
  },
  {
   "cell_type": "code",
   "execution_count": 44,
   "metadata": {},
   "outputs": [],
   "source": [
    "BanditStorage().remove_exp_tags('testmab','pulls',0)"
   ]
  },
  {
   "cell_type": "code",
   "execution_count": 32,
   "metadata": {},
   "outputs": [
    {
     "name": "stdout",
     "output_type": "stream",
     "text": [
      "p\n"
     ]
    }
   ],
   "source": [
    "if  BanditStorage().get_exp_tag('testmab','pulls') is not None:\n",
    "    print 'f'\n",
    "else:\n",
    "    print 'p'"
   ]
  },
  {
   "cell_type": "code",
   "execution_count": 45,
   "metadata": {},
   "outputs": [
    {
     "data": {
      "text/plain": [
       "1L"
      ]
     },
     "execution_count": 45,
     "metadata": {},
     "output_type": "execute_result"
    }
   ],
   "source": [
    "BanditStorage().register_exp_tags('testmab','pulls',0)"
   ]
  },
  {
   "cell_type": "code",
   "execution_count": 48,
   "metadata": {},
   "outputs": [
    {
     "data": {
      "text/plain": [
       "1"
      ]
     },
     "execution_count": 48,
     "metadata": {},
     "output_type": "execute_result"
    }
   ],
   "source": [
    "int(BanditStorage().get_exp_tag('testmab','pulls'))+1"
   ]
  },
  {
   "cell_type": "code",
   "execution_count": 24,
   "metadata": {},
   "outputs": [
    {
     "name": "stdout",
     "output_type": "stream",
     "text": [
      "MAB:ALGO:ABEXPERIMENT:testmab:arms\n",
      "1\n"
     ]
    }
   ],
   "source": [
    "print BanditStorage().register_exp('testmab','arms','alt2')"
   ]
  },
  {
   "cell_type": "code",
   "execution_count": 25,
   "metadata": {},
   "outputs": [
    {
     "name": "stdout",
     "output_type": "stream",
     "text": [
      "set(['alt2', 'alt1'])\n"
     ]
    }
   ],
   "source": [
    "print BanditStorage().get_exp('testmab','arms')"
   ]
  },
  {
   "cell_type": "code",
   "execution_count": 115,
   "metadata": {},
   "outputs": [
    {
     "ename": "SyntaxError",
     "evalue": "invalid syntax (<ipython-input-115-f06b716850df>, line 155)",
     "output_type": "error",
     "traceback": [
      "\u001b[0;36m  File \u001b[0;32m\"<ipython-input-115-f06b716850df>\"\u001b[0;36m, line \u001b[0;32m155\u001b[0m\n\u001b[0;31m    confidence=\u001b[0m\n\u001b[0m               ^\u001b[0m\n\u001b[0;31mSyntaxError\u001b[0m\u001b[0;31m:\u001b[0m invalid syntax\n"
     ]
    }
   ],
   "source": [
    "#%%file bandits.py\n",
    "from random import random, choice, uniform, betavariate\n",
    "from math import log, exp, expm1\n",
    "from default_settings import DEFAULT_SETTINGS\n",
    "\n",
    "\n",
    "class Bandit(object):\n",
    "    \"\"\"The primary bandit interface.  Don't use this unless you really\n",
    "    want uniform random arm selection (which defeats the whole purpose, really)\n",
    "    Used as a control to test against and as an interface to define methods against.\n",
    "    \"\"\"\n",
    "    _r = None\n",
    "\n",
    "    def __init__(self, settings,exp_id):\n",
    "        DEFAULT_SETTINGS.update(settings)\n",
    "        self.settings = DEFAULT_SETTINGS\n",
    "        self.exp_id=exp_id\n",
    "\n",
    "    @property\n",
    "    def repository(self):\n",
    "        if self._r is None:\n",
    "            self._r = BanditStorage(self.settings)\n",
    "        return self._r\n",
    "\n",
    "    @classmethod\n",
    "    def fromdict(cls, dict_spec):\n",
    "        extra_args = dict([(key, value) for key, value in dict_spec.items() if key not in [\"arms\", \"pulls\", \"reward\", \"values\", \"bandit_type\", \"confidence\"]])\n",
    "\n",
    "        bandit = globals()[dict_spec[\"bandit_type\"]](**extra_args)\n",
    "        bandit.arms = dict_spec[\"arms\"]\n",
    "        bandit.pulls = dict_spec[\"pulls\"]\n",
    "        bandit.reward = dict_spec[\"reward\"]\n",
    "        bandit.values = dict_spec[\"values\"]\n",
    "        bandit.confidence = dict_spec.get(\"confidence\", [0.0] * len(bandit.arms))\n",
    "        return bandit\n",
    "\n",
    "    def __init__(self):\n",
    "        self.arms = []\n",
    "        self.pulls = []\n",
    "        self.reward = []\n",
    "        self.values = []\n",
    "        self.confidence = []\n",
    "\n",
    "    def add_arm(self, arm_id, value=None):\n",
    "        self.repository.register_exp(self.exp_id,\"arms\",arm_id)\n",
    "        self.repository.register_exp_tags(self.exp_id,\"pulls\",0)\n",
    "        self.repository.register_exp_tags(self.exp_id,\"reward\",0.0)\n",
    "        self.repository.register_exp_tags(self.exp_id,\"confidence\",0.0)\n",
    "        self.repository.register_exp_tags(self.exp_id,\"values\",value)\n",
    "        #self.arms.append(arm_id)\n",
    "        #self.pulls.append(0)\n",
    "        #self.reward.append(0.0)\n",
    "        #self.confidence.append(0.0)\n",
    "        #self.values.append(value)\n",
    "\n",
    "    def pull_arm(self,arm_id):\n",
    "        if  BanditStorage().get_exp_tag(self.exp_id,'pulls') is not None:\n",
    "            pull_cnt = int(BanditStorage().get_exp_tag(exp_id,'pulls'))+1\n",
    "            BanditStorage().register_exp_tags(self.exp_id,'pulls',pull_cnt)\n",
    "        else:\n",
    "            BanditStorage().register_exp_tags(self.exp_id,'pulls',0)\n",
    "        #ind = self.arms.index(arm_id)\n",
    "        #if ind > -1:\n",
    "        #    self.pulls[ind] += 1\n",
    "\n",
    "    def reward_arm(self,arm_id, reward):\n",
    "        curr_reward=float(self.repository.get_exp_tag(self.exp_id,'reward'))\n",
    "        curr_pulls=int(self.repository.get_exp_tag(self.exp_id,'pulls'))\n",
    "        curr_confidence =float(self.repository.get_exp_tag(self.exp_id,'confidence')) \n",
    "        current=curr_confidence\n",
    "        n = max(1, curr_pulls)\n",
    "        new_confidence=((n - 1) / float(n)) * current + (1 / float(n)) * reward\n",
    "        new_reward = curr_reward +reward\n",
    "        #update reward\n",
    "        self.repository.register_exp_tags(self.exp_id,'reward',new_reward)\n",
    "        #update confidence\n",
    "        self.repository.register_exp_tags(self.exp_id,'confidence',new_confidence)\n",
    "\n",
    "        \n",
    "        #ind = self.arms.index(arm_id)\n",
    "        #if ind > -1:\n",
    "        #   self.reward[ind] += reward\n",
    "        #self._update(ind, reward)\n",
    "\n",
    "    def _update(self, arm_index, reward):\n",
    "        n = max(1, self.pulls[arm_index])\n",
    "        current = self.confidence[arm_index]\n",
    "        self.confidence[arm_index] = ((n - 1) / float(n)) * current + (1 / float(n)) * reward\n",
    "\n",
    "    def suggest_arm(self):\n",
    "        \"\"\"Uniform random for default bandit.\n",
    "        Just uses random.choice to choose between arms\n",
    "        \"\"\"\n",
    "        arms=list(self.repository.get_exp(self.exp_id,'arms'))#self.arms\n",
    "        return self[random.choice(arms)]\n",
    "\n",
    "    def __getitem__(self, key):\n",
    "        \"\"\"\n",
    "        ind = self.arms.index(key)\n",
    "        if ind > -1:\n",
    "            arm = {\n",
    "                    \"id\":self.arms[ind],\n",
    "                    \"pulls\":self.pulls[ind],\n",
    "                    \"reward\":self.reward[ind],\n",
    "                    \"value\":self.values[ind]\n",
    "                    }        \n",
    "        \n",
    "        \"\"\"\n",
    "        if key:\n",
    "            arm = {\n",
    "                \"id\":key,\n",
    "                \"pulls\":self.repository.get_exp_tag(self.exp_id,'pulls'),\n",
    "                \"reward\":self.repository.get_exp_tag(self.exp_id,'reward'),\n",
    "                \"value\":self.repository.get_exp_tag(self.exp_id,'values')\n",
    "            }        \n",
    "        \n",
    "            return arm\n",
    "        else:\n",
    "            raise KeyError(\"Arm is not found in this bandit\")\n",
    "\n",
    "    def __str__(self):\n",
    "        output = '%s  ' % self.__class__.__name__\n",
    "        output += '; '.join(['%s:%s' % (key, val) for key, val in self.__dict__.items()])\n",
    "        return output\n",
    "\n",
    "class EpsilonGreedyBandit(Bandit):\n",
    "    \"\"\"Epsilon Greedy Bandit implementation.  Aggressively favors the present winner.\n",
    "    Will assign winning arm 1.0 - epsilon of the time, uniform random between arms\n",
    "    epsilon % of the time.\n",
    "    Will \"exploit\" the present winner more often with lower values of epsilon, \"explore\"\n",
    "    other candidates more often with higher values of epsilon.\n",
    "    :param epsilon: The percentage of the time to \"explore\" other arms, E.G a value of\n",
    "                    0.1 will perform random assignment for %10 of traffic\n",
    "    :type epsilon: float\n",
    "    \"\"\"\n",
    "\n",
    "    def __init__(self, epsilon=0.1):\n",
    "        super(EpsilonGreedyBandit, self).__init__()\n",
    "        self.epsilon = epsilon\n",
    "\n",
    "    def suggest_arm(self):\n",
    "        \"\"\"Get an arm according to the EpsilonGreedy Strategy\n",
    "        \"\"\"\n",
    "        random_determination = random()\n",
    "        if random_determination > self.epsilon:\n",
    "            key = self._ind_max()\n",
    "        else:\n",
    "            arms=list(self.repository.get_exp(self.exp_id,'arms'))\n",
    "            key = choice(arms)\n",
    "\n",
    "        return self[key]\n",
    "\n",
    "    def _ind_max(self):\n",
    "        arms=list(self.repository.get_exp(self.exp_id,'arms'))\n",
    "        confidence=\n",
    "        return self.arms[self.confidence.index(max(self.confidence))]\n",
    "\n",
    "    def __str__(self):\n",
    "        return Bandit.__str__(self)\n",
    "\n",
    "    def __repr(self):\n",
    "        return Bandit.__str__(self)\n",
    "\n",
    "def all_same(items):\n",
    "    return all(x == items[0] for x in items)\n",
    "\n",
    "class NaiveStochasticBandit(Bandit):\n",
    "    \"\"\"A naive weighted random Bandit.  Favors the winner by giving it greater weight\n",
    "    in random selection.\n",
    "    Winner will eventually flatten out the losers if margin is great enough\n",
    "    \"\"\"\n",
    "\n",
    "    def __init__(self):\n",
    "        super(NaiveStochasticBandit, self).__init__()\n",
    "\n",
    "    def _compute_weights(self):\n",
    "        weights = []\n",
    "        for ind, n in enumerate(self.pulls):\n",
    "            reward = self.reward[ind]\n",
    "            try:\n",
    "                weights.append(1.0 * (float(reward)/float(n)))\n",
    "            except ZeroDivisionError:\n",
    "                weights.append(1.0/len(self.arms))\n",
    "        return weights\n",
    "\n",
    "    def suggest_arm(self):\n",
    "        \"\"\"Get an arm according to the Naive Stochastic Strategy\n",
    "        \"\"\"\n",
    "        weights = self._compute_weights()\n",
    "        random_determination = uniform(0.0, 1.0)\n",
    "\n",
    "        cum_weight = 0.0\n",
    "        for ind, weight in enumerate(weights):\n",
    "            cum_weight += weight\n",
    "            if cum_weight > random_determination:\n",
    "                return self[self.arms[ind]]\n",
    "        return self[self.arms[0]]\n",
    "\n",
    "\n",
    "class SoftmaxBandit(NaiveStochasticBandit):\n",
    "\n",
    "    def __init__(self, tau=0.1):\n",
    "        super(SoftmaxBandit, self).__init__()\n",
    "        self.tau = tau\n",
    "\n",
    "    def _compute_weights(self):\n",
    "        weights = []\n",
    "        total_reward = sum([exp(x / self.tau) for x in self.confidence])\n",
    "        for ind, n in enumerate(self.pulls):\n",
    "            weights.append(exp(self.confidence[ind] / self.tau) / total_reward)\n",
    "        return weights\n",
    "\n",
    "\n",
    "class AnnealingSoftmaxBandit(SoftmaxBandit):\n",
    "\n",
    "    def __init__(self):\n",
    "        super(AnnealingSoftmaxBandit, self).__init__()\n",
    "        self.tau = 1\n",
    "\n",
    "    def _compute_weights(self):\n",
    "        t = sum(self.pulls) + 1\n",
    "        self.tau = 1 / log(t +  0.0000001)\n",
    "\n",
    "        weights = []\n",
    "        total_reward = sum([exp(x / self.tau) for x in self.confidence])\n",
    "        for ind, n in enumerate(self.pulls):\n",
    "            weights.append(exp(self.confidence[ind] / self.tau) / total_reward)\n",
    "        return weights\n",
    "\n",
    "class ThompsonBandit(NaiveStochasticBandit):\n",
    "\n",
    "    def __init__(self, prior=(1.0,1.0)):\n",
    "        super(ThompsonBandit, self).__init__()\n",
    "        self.prior = prior\n",
    "\n",
    "    def _compute_weights(self):\n",
    "        sampled_theta = []\n",
    "        for ind, n in enumerate(self.arms):\n",
    "            dist = betavariate(self.prior[0] + self.reward[ind], self.prior[1]+self.pulls[ind]-self.reward[ind])\n",
    "            sampled_theta += [dist]\n",
    "        return sampled_theta\n",
    "\n",
    "    def suggest_arm(self):\n",
    "        weights = self._compute_weights()\n",
    "        return self[self.arms[weights.index(max(weights))]]\n",
    "\n",
    "    def reward_arm(self, arm_id, reward):\n",
    "        if reward != 1.0:\n",
    "            reward = 1.0\n",
    "        super(ThompsonBandit, self).reward_arm(arm_id, reward)"
   ]
  },
  {
   "cell_type": "code",
   "execution_count": 315,
   "metadata": {},
   "outputs": [
    {
     "ename": "ResponseError",
     "evalue": "WRONGTYPE Operation against a key holding the wrong kind of value",
     "output_type": "error",
     "traceback": [
      "\u001b[0;31m---------------------------------------------------------------------------\u001b[0m",
      "\u001b[0;31mResponseError\u001b[0m                             Traceback (most recent call last)",
      "\u001b[0;32m<ipython-input-315-a484843661eb>\u001b[0m in \u001b[0;36m<module>\u001b[0;34m()\u001b[0m\n\u001b[1;32m      2\u001b[0m \u001b[0;32mimport\u001b[0m \u001b[0mredis\u001b[0m\u001b[0;34m\u001b[0m\u001b[0m\n\u001b[1;32m      3\u001b[0m \u001b[0mRE\u001b[0m\u001b[0;34m=\u001b[0m\u001b[0mredis\u001b[0m\u001b[0;34m.\u001b[0m\u001b[0mStrictRedis\u001b[0m\u001b[0;34m(\u001b[0m\u001b[0mdb\u001b[0m\u001b[0;34m=\u001b[0m\u001b[0;36m3\u001b[0m\u001b[0;34m)\u001b[0m\u001b[0;34m\u001b[0m\u001b[0m\n\u001b[0;32m----> 4\u001b[0;31m \u001b[0mkeys\u001b[0m \u001b[0;34m=\u001b[0m \u001b[0mRE\u001b[0m\u001b[0;34m.\u001b[0m\u001b[0msmembers\u001b[0m\u001b[0;34m(\u001b[0m\u001b[0m_key\u001b[0m\u001b[0;34m(\u001b[0m\u001b[0;34m\"testmab\"\u001b[0m\u001b[0;34m)\u001b[0m\u001b[0;34m)\u001b[0m\u001b[0;34m\u001b[0m\u001b[0m\n\u001b[0m",
      "\u001b[0;32m/Users/leepand/anaconda2/lib/python2.7/site-packages/redis/client.pyc\u001b[0m in \u001b[0;36msmembers\u001b[0;34m(self, name)\u001b[0m\n\u001b[1;32m   1636\u001b[0m     \u001b[0;32mdef\u001b[0m \u001b[0msmembers\u001b[0m\u001b[0;34m(\u001b[0m\u001b[0mself\u001b[0m\u001b[0;34m,\u001b[0m \u001b[0mname\u001b[0m\u001b[0;34m)\u001b[0m\u001b[0;34m:\u001b[0m\u001b[0;34m\u001b[0m\u001b[0m\n\u001b[1;32m   1637\u001b[0m         \u001b[0;34m\"Return all members of the set ``name``\"\u001b[0m\u001b[0;34m\u001b[0m\u001b[0m\n\u001b[0;32m-> 1638\u001b[0;31m         \u001b[0;32mreturn\u001b[0m \u001b[0mself\u001b[0m\u001b[0;34m.\u001b[0m\u001b[0mexecute_command\u001b[0m\u001b[0;34m(\u001b[0m\u001b[0;34m'SMEMBERS'\u001b[0m\u001b[0;34m,\u001b[0m \u001b[0mname\u001b[0m\u001b[0;34m)\u001b[0m\u001b[0;34m\u001b[0m\u001b[0m\n\u001b[0m\u001b[1;32m   1639\u001b[0m \u001b[0;34m\u001b[0m\u001b[0m\n\u001b[1;32m   1640\u001b[0m     \u001b[0;32mdef\u001b[0m \u001b[0msmove\u001b[0m\u001b[0;34m(\u001b[0m\u001b[0mself\u001b[0m\u001b[0;34m,\u001b[0m \u001b[0msrc\u001b[0m\u001b[0;34m,\u001b[0m \u001b[0mdst\u001b[0m\u001b[0;34m,\u001b[0m \u001b[0mvalue\u001b[0m\u001b[0;34m)\u001b[0m\u001b[0;34m:\u001b[0m\u001b[0;34m\u001b[0m\u001b[0m\n",
      "\u001b[0;32m/Users/leepand/anaconda2/lib/python2.7/site-packages/redis/client.pyc\u001b[0m in \u001b[0;36mexecute_command\u001b[0;34m(self, *args, **options)\u001b[0m\n\u001b[1;32m    666\u001b[0m         \u001b[0;32mtry\u001b[0m\u001b[0;34m:\u001b[0m\u001b[0;34m\u001b[0m\u001b[0m\n\u001b[1;32m    667\u001b[0m             \u001b[0mconnection\u001b[0m\u001b[0;34m.\u001b[0m\u001b[0msend_command\u001b[0m\u001b[0;34m(\u001b[0m\u001b[0;34m*\u001b[0m\u001b[0margs\u001b[0m\u001b[0;34m)\u001b[0m\u001b[0;34m\u001b[0m\u001b[0m\n\u001b[0;32m--> 668\u001b[0;31m             \u001b[0;32mreturn\u001b[0m \u001b[0mself\u001b[0m\u001b[0;34m.\u001b[0m\u001b[0mparse_response\u001b[0m\u001b[0;34m(\u001b[0m\u001b[0mconnection\u001b[0m\u001b[0;34m,\u001b[0m \u001b[0mcommand_name\u001b[0m\u001b[0;34m,\u001b[0m \u001b[0;34m**\u001b[0m\u001b[0moptions\u001b[0m\u001b[0;34m)\u001b[0m\u001b[0;34m\u001b[0m\u001b[0m\n\u001b[0m\u001b[1;32m    669\u001b[0m         \u001b[0;32mexcept\u001b[0m \u001b[0;34m(\u001b[0m\u001b[0mConnectionError\u001b[0m\u001b[0;34m,\u001b[0m \u001b[0mTimeoutError\u001b[0m\u001b[0;34m)\u001b[0m \u001b[0;32mas\u001b[0m \u001b[0me\u001b[0m\u001b[0;34m:\u001b[0m\u001b[0;34m\u001b[0m\u001b[0m\n\u001b[1;32m    670\u001b[0m             \u001b[0mconnection\u001b[0m\u001b[0;34m.\u001b[0m\u001b[0mdisconnect\u001b[0m\u001b[0;34m(\u001b[0m\u001b[0;34m)\u001b[0m\u001b[0;34m\u001b[0m\u001b[0m\n",
      "\u001b[0;32m/Users/leepand/anaconda2/lib/python2.7/site-packages/redis/client.pyc\u001b[0m in \u001b[0;36mparse_response\u001b[0;34m(self, connection, command_name, **options)\u001b[0m\n\u001b[1;32m    678\u001b[0m     \u001b[0;32mdef\u001b[0m \u001b[0mparse_response\u001b[0m\u001b[0;34m(\u001b[0m\u001b[0mself\u001b[0m\u001b[0;34m,\u001b[0m \u001b[0mconnection\u001b[0m\u001b[0;34m,\u001b[0m \u001b[0mcommand_name\u001b[0m\u001b[0;34m,\u001b[0m \u001b[0;34m**\u001b[0m\u001b[0moptions\u001b[0m\u001b[0;34m)\u001b[0m\u001b[0;34m:\u001b[0m\u001b[0;34m\u001b[0m\u001b[0m\n\u001b[1;32m    679\u001b[0m         \u001b[0;34m\"Parses a response from the Redis server\"\u001b[0m\u001b[0;34m\u001b[0m\u001b[0m\n\u001b[0;32m--> 680\u001b[0;31m         \u001b[0mresponse\u001b[0m \u001b[0;34m=\u001b[0m \u001b[0mconnection\u001b[0m\u001b[0;34m.\u001b[0m\u001b[0mread_response\u001b[0m\u001b[0;34m(\u001b[0m\u001b[0;34m)\u001b[0m\u001b[0;34m\u001b[0m\u001b[0m\n\u001b[0m\u001b[1;32m    681\u001b[0m         \u001b[0;32mif\u001b[0m \u001b[0mcommand_name\u001b[0m \u001b[0;32min\u001b[0m \u001b[0mself\u001b[0m\u001b[0;34m.\u001b[0m\u001b[0mresponse_callbacks\u001b[0m\u001b[0;34m:\u001b[0m\u001b[0;34m\u001b[0m\u001b[0m\n\u001b[1;32m    682\u001b[0m             \u001b[0;32mreturn\u001b[0m \u001b[0mself\u001b[0m\u001b[0;34m.\u001b[0m\u001b[0mresponse_callbacks\u001b[0m\u001b[0;34m[\u001b[0m\u001b[0mcommand_name\u001b[0m\u001b[0;34m]\u001b[0m\u001b[0;34m(\u001b[0m\u001b[0mresponse\u001b[0m\u001b[0;34m,\u001b[0m \u001b[0;34m**\u001b[0m\u001b[0moptions\u001b[0m\u001b[0;34m)\u001b[0m\u001b[0;34m\u001b[0m\u001b[0m\n",
      "\u001b[0;32m/Users/leepand/anaconda2/lib/python2.7/site-packages/redis/connection.pyc\u001b[0m in \u001b[0;36mread_response\u001b[0;34m(self)\u001b[0m\n\u001b[1;32m    627\u001b[0m             \u001b[0;32mraise\u001b[0m\u001b[0;34m\u001b[0m\u001b[0m\n\u001b[1;32m    628\u001b[0m         \u001b[0;32mif\u001b[0m \u001b[0misinstance\u001b[0m\u001b[0;34m(\u001b[0m\u001b[0mresponse\u001b[0m\u001b[0;34m,\u001b[0m \u001b[0mResponseError\u001b[0m\u001b[0;34m)\u001b[0m\u001b[0;34m:\u001b[0m\u001b[0;34m\u001b[0m\u001b[0m\n\u001b[0;32m--> 629\u001b[0;31m             \u001b[0;32mraise\u001b[0m \u001b[0mresponse\u001b[0m\u001b[0;34m\u001b[0m\u001b[0m\n\u001b[0m\u001b[1;32m    630\u001b[0m         \u001b[0;32mreturn\u001b[0m \u001b[0mresponse\u001b[0m\u001b[0;34m\u001b[0m\u001b[0m\n\u001b[1;32m    631\u001b[0m \u001b[0;34m\u001b[0m\u001b[0m\n",
      "\u001b[0;31mResponseError\u001b[0m: WRONGTYPE Operation against a key holding the wrong kind of value"
     ]
    }
   ],
   "source": [
    "#search_key = _key(\"{0}:{1}:{2}\".format(stat_type, exp_key, stat_range))\n",
    "import redis\n",
    "RE=redis.StrictRedis(db=3)\n",
    "keys = RE.smembers(_key(\"testmab\"))"
   ]
  },
  {
   "cell_type": "code",
   "execution_count": 355,
   "metadata": {},
   "outputs": [
    {
     "name": "stdout",
     "output_type": "stream",
     "text": [
      "Overwriting banditsRedis.py\n"
     ]
    }
   ],
   "source": [
    "%%file banditsRedis.py\n",
    "from random import random, choice, uniform, betavariate\n",
    "from math import log, exp, expm1\n",
    "import json\n",
    "import redis\n",
    "\n",
    "DEFAULT_PREFIX=\"MAB_EXP\"\n",
    "def _key(k):\n",
    "    return \"{0}:{1}\".format(DEFAULT_PREFIX, k)\n",
    "\n",
    "class BanditEncoder(json.JSONEncoder):\n",
    "    \"\"\"Json serializer for Bandits\"\"\"\n",
    "    def default(self, obj):\n",
    "        if isinstance(obj, Bandit):\n",
    "            dict_repr = obj.__dict__\n",
    "            dict_repr['bandit_type'] = obj.__class__.__name__\n",
    "            return dict_repr\n",
    "        return json.JSONEncoder.default(self, obj)\n",
    "\n",
    "class BanditDecoder(json.JSONDecoder):\n",
    "    \"\"\"Json Marshaller for Bandits\"\"\"\n",
    "    def decode(self, obj):\n",
    "        dict_repr = json.loads(obj)\n",
    "        for key in dict_repr.keys():\n",
    "            if 'bandit_type' not in dict_repr[key].keys():\n",
    "                raise TypeError(\"Serialized object is not a valid bandit\")\n",
    "            dict_repr[key] = Bandit.fromdict(dict_repr[key])\n",
    "        return dict_repr\n",
    "\n",
    "\n",
    "\n",
    "class Bandit(object):\n",
    "    \"\"\"The primary bandit interface.  Don't use this unless you really\n",
    "    want uniform random arm selection (which defeats the whole purpose, really)\n",
    "    Used as a control to test against and as an interface to define methods against.\n",
    "    \"\"\"        \n",
    "    @classmethod\n",
    "    def fromdict(cls, dict_spec):\n",
    "        extra_args = dict([(key, value) for key, value in dict_spec.items() if key not in [\"arms\", \"pulls\", \"reward\", \"values\", \"bandit_type\", \"confidence\"]])\n",
    "\n",
    "        bandit = globals()[dict_spec[\"bandit_type\"]](**extra_args)\n",
    "        bandit.arms = dict_spec[\"arms\"]\n",
    "        bandit.pulls = dict_spec[\"pulls\"]\n",
    "        bandit.reward = dict_spec[\"reward\"]\n",
    "        bandit.values = dict_spec[\"values\"]\n",
    "        bandit.confidence = dict_spec.get(\"confidence\", [0.0] * len(bandit.arms))\n",
    "        return bandit\n",
    "\n",
    "    def __init__(self,exp_name):\n",
    "        self.redis=redis.StrictRedis(db=3)\n",
    "        self.exp_name=exp_name\n",
    "        #pipe = self.redis.pipeline()\n",
    "        self.arms_key=\"p:{0}:{1}:mab\".format(self.exp_name, \"arms\")\n",
    "        self.pulls_key = \"p:{0}:{1}:mab\".format(self.exp_name, \"pulls\")\n",
    "        self.reward_key = \"p:{0}:{1}:mab\".format(self.exp_name, \"reward\")\n",
    "        self.confidence_key=\"p:{0}:{1}:mab\".format(self.exp_name, \"confidence\")\n",
    "        self.values_key = \"p:{0}:{1}:mab\".format(self.exp_name, \"values\")\n",
    "        \n",
    "        \n",
    "        if self.redis.hget(self.arms_key,'mab_exp') is not None:\n",
    "            self.arms= eval(self.redis.hget(self.arms_key,'mab_exp'))\n",
    "        else:\n",
    "            self.arms = []\n",
    "\n",
    "        if  self.redis.hget(self.pulls_key,'mab_exp') is not None:\n",
    "            self.pulls=eval(self.redis.hget(self.pulls_key,'mab_exp'))\n",
    "        else:\n",
    "            self.pulls = []\n",
    "        if  self.redis.hget(self.reward_key,'mab_exp') is not None:\n",
    "            self.reward=eval(self.redis.hget(self.reward_key,'mab_exp'))\n",
    "        else:\n",
    "            self.reward = []\n",
    "        if  self.redis.hget(self.values_key,'mab_exp') is not None:\n",
    "            self.values=eval(self.redis.hget(self.values_key,'mab_exp'))\n",
    "        else:\n",
    "            self.values = []\n",
    "        \n",
    "        if  self.redis.hget(self.confidence_key,'mab_exp') is not None:\n",
    "            self.confidence=eval(self.redis.hget(self.confidence_key,'mab_exp'))\n",
    "        else:\n",
    "            self.confidence = []\n",
    "\n",
    "\n",
    "        \n",
    "    def BanditEncoder(self):\n",
    "        dict_repr = self.__dict__\n",
    "        dict_repr['bandit_type'] = self.__class__.__name__\n",
    "        return dict_repr\n",
    "    def BanditDecoder(exp_dict):\n",
    "        dict_repr = Bandit.fromdict(exp_dict)\n",
    "        return dict_repr\n",
    "    def add_arm(self, arm_id, value=None):\n",
    "\n",
    "        self.arms.append(arm_id)\n",
    "        self.pulls.append(0)\n",
    "        self.reward.append(0.0)\n",
    "        self.confidence.append(0.0)\n",
    "        self.values.append(value)\n",
    "        \n",
    "        self.redis.hset(self.confidence_key,'mab_exp',self.confidence)\n",
    "        self.redis.hset(self.arms_key,'mab_exp',self.arms)\n",
    "        self.redis.hset(self.pulls_key,'mab_exp',self.pulls)\n",
    "        self.redis.hset(self.reward_key,'mab_exp',self.reward)\n",
    "        self.redis.hset(self.values_key,'mab_exp',self.values)\n",
    "        \n",
    "    \n",
    "\n",
    "    def pull_arm(self, arm_id):\n",
    "        ind = self.arms.index(arm_id)\n",
    "        if ind > -1:\n",
    "            self.pulls[ind] += 1\n",
    "\n",
    "        self.redis.hset(self.confidence_key,'mab_exp',self.confidence)\n",
    "        self.redis.hset(self.arms_key,'mab_exp',self.arms)\n",
    "        self.redis.hset(self.pulls_key,'mab_exp',self.pulls)\n",
    "        self.redis.hset(self.reward_key,'mab_exp',self.reward)\n",
    "        self.redis.hset(self.values_key,'mab_exp',self.values)\n",
    "        \n",
    "    def reward_arm(self, arm_id, reward):\n",
    "        ind = self.arms.index(arm_id)\n",
    "        if ind > -1:\n",
    "            self.reward[ind] += reward\n",
    "        self._update(ind, reward)\n",
    "        \n",
    "        self.redis.hset(self.arms_key,'mab_exp',self.arms)\n",
    "        self.redis.hset(self.pulls_key,'mab_exp',self.pulls)\n",
    "        self.redis.hset(self.reward_key,'mab_exp',self.reward)\n",
    "        self.redis.hset(self.values_key,'mab_exp',self.values)\n",
    "        \n",
    "\n",
    "\n",
    "    def _update(self, arm_index, reward):\n",
    "        n = max(1, self.pulls[arm_index])\n",
    "        current = self.confidence[arm_index]\n",
    "        self.confidence[arm_index] = ((n - 1) / float(n)) * current + (1 / float(n)) * reward\n",
    "        self.redis.hset(self.confidence_key,'mab_exp',self.confidence)\n",
    "        \n",
    "    def suggest_arm(self):\n",
    "        \"\"\"Uniform random for default bandit.\n",
    "        Just uses random.choice to choose between arms\n",
    "        \"\"\"\n",
    "        return self[random.choice(self.arms)]\n",
    "    def obj_by_name(self, obj_name, slim=False):\n",
    "        key=\"p:{0}:{1}:mab\".format(self.exp_name, obj_name)\n",
    "        return self.redis.hget(key,'mab_exp')#objectified\n",
    "    def __getitem__(self, key):\n",
    "        ind = self.arms.index(key)\n",
    "        if ind > -1:\n",
    "            arm = {\n",
    "                    \"id\":self.arms[ind],\n",
    "                    \"pulls\":self.pulls[ind],\n",
    "                    \"reward\":self.reward[ind],\n",
    "                    \"value\":self.values[ind]\n",
    "                    }\n",
    "            return arm\n",
    "        else:\n",
    "            raise KeyError(\"Arm is not found in this bandit\")\n",
    "\n",
    "    def __str__(self):\n",
    "        output = '%s  ' % self.__class__.__name__\n",
    "        output += '; '.join(['%s:%s' % (key, val) for key, val in self.__dict__.items()])\n",
    "        return output\n",
    "\n",
    "class EpsilonGreedyBandit(Bandit):\n",
    "    \"\"\"Epsilon Greedy Bandit implementation.  Aggressively favors the present winner.\n",
    "    Will assign winning arm 1.0 - epsilon of the time, uniform random between arms\n",
    "    epsilon % of the time.\n",
    "    Will \"exploit\" the present winner more often with lower values of epsilon, \"explore\"\n",
    "    other candidates more often with higher values of epsilon.\n",
    "    :param epsilon: The percentage of the time to \"explore\" other arms, E.G a value of\n",
    "                    0.1 will perform random assignment for %10 of traffic\n",
    "    :type epsilon: float\n",
    "    \"\"\"\n",
    "\n",
    "    def __init__(self,exp_name, epsilon=0.1):\n",
    "        super(EpsilonGreedyBandit, self).__init__(exp_name)\n",
    "        self.epsilon = epsilon\n",
    "        self.exp_name=exp_name\n",
    "\n",
    "    def suggest_arm(self):\n",
    "        \"\"\"Get an arm according to the EpsilonGreedy Strategy\n",
    "        \"\"\"\n",
    "        random_determination = random()\n",
    "        if random_determination > self.epsilon:\n",
    "            key = self._ind_max()\n",
    "        else:\n",
    "            key = choice(self.arms)\n",
    "\n",
    "        return self[key]\n",
    "\n",
    "    def _ind_max(self):\n",
    "        return self.arms[self.confidence.index(max(self.confidence))]\n",
    "\n",
    "    def __str__(self):\n",
    "        return Bandit.__str__(self)\n",
    "\n",
    "    def __repr(self):\n",
    "        return Bandit.__str__(self)\n",
    "\n",
    "def all_same(items):\n",
    "    return all(x == items[0] for x in items)\n",
    "\n",
    "class NaiveStochasticBandit(Bandit):\n",
    "    \"\"\"A naive weighted random Bandit.  Favors the winner by giving it greater weight\n",
    "    in random selection.\n",
    "    Winner will eventually flatten out the losers if margin is great enough\n",
    "    \"\"\"\n",
    "\n",
    "    def __init__(self,exp_name):\n",
    "        super(NaiveStochasticBandit, self).__init__(exp_name)\n",
    "        self.exp_name=exp_name\n",
    "\n",
    "    def _compute_weights(self):\n",
    "        weights = []\n",
    "        for ind, n in enumerate(self.pulls):\n",
    "            reward = self.reward[ind]\n",
    "            try:\n",
    "                weights.append(1.0 * (float(reward)/float(n)))\n",
    "            except ZeroDivisionError:\n",
    "                weights.append(1.0/len(self.arms))\n",
    "        return weights\n",
    "\n",
    "    def suggest_arm(self):\n",
    "        \"\"\"Get an arm according to the Naive Stochastic Strategy\n",
    "        \"\"\"\n",
    "        weights = self._compute_weights()\n",
    "        random_determination = uniform(0.0, 1.0)\n",
    "\n",
    "        cum_weight = 0.0\n",
    "        for ind, weight in enumerate(weights):\n",
    "            cum_weight += weight\n",
    "            if cum_weight > random_determination:\n",
    "                return self[self.arms[ind]]\n",
    "        return self[self.arms[0]]\n",
    "\n",
    "\n",
    "class SoftmaxBandit(NaiveStochasticBandit):\n",
    "\n",
    "    def __init__(self, exp_name,tau=0.1):\n",
    "        super(SoftmaxBandit, self).__init__(exp_name)\n",
    "        self.tau = tau\n",
    "        self.exp_name=exp_name\n",
    "\n",
    "    def _compute_weights(self):\n",
    "        weights = []\n",
    "        total_reward = sum([exp(x / self.tau) for x in self.confidence])\n",
    "        for ind, n in enumerate(self.pulls):\n",
    "            weights.append(exp(self.confidence[ind] / self.tau) / total_reward)\n",
    "        return weights\n",
    "\n",
    "\n",
    "class AnnealingSoftmaxBandit(SoftmaxBandit):\n",
    "\n",
    "    def __init__(self,exp_name):\n",
    "        super(AnnealingSoftmaxBandit, self).__init__(exp_name)\n",
    "        self.tau = 1\n",
    "        self.exp_name=exp_name\n",
    "\n",
    "    def _compute_weights(self):\n",
    "        t = sum(self.pulls) + 1\n",
    "        self.tau = 1 / log(t +  0.0000001)\n",
    "\n",
    "        weights = []\n",
    "        total_reward = sum([exp(x / self.tau) for x in self.confidence])\n",
    "        for ind, n in enumerate(self.pulls):\n",
    "            weights.append(exp(self.confidence[ind] / self.tau) / total_reward)\n",
    "        return weights\n",
    "\n",
    "class ThompsonBandit(NaiveStochasticBandit):\n",
    "\n",
    "    def __init__(self,exp_name, prior=(1.0,1.0)):\n",
    "        super(ThompsonBandit, self).__init__(exp_name)\n",
    "        self.prior = prior\n",
    "        self.exp_name=exp_name\n",
    "\n",
    "    def _compute_weights(self):\n",
    "        sampled_theta = []\n",
    "        for ind, n in enumerate(self.arms):\n",
    "            dist = betavariate(self.prior[0] + self.reward[ind], self.prior[1]+self.pulls[ind]-self.reward[ind])\n",
    "            sampled_theta += [dist]\n",
    "        return sampled_theta\n",
    "\n",
    "    def suggest_arm(self):\n",
    "        weights = self._compute_weights()\n",
    "        return self[self.arms[weights.index(max(weights))]]\n",
    "\n",
    "    def reward_arm(self, arm_id, reward):\n",
    "        if reward != 1.0:\n",
    "            reward = 1.0\n",
    "        super(ThompsonBandit, self).reward_arm(arm_id, reward)\n",
    "        \n"
   ]
  },
  {
   "cell_type": "code",
   "execution_count": null,
   "metadata": {},
   "outputs": [],
   "source": [
    "def makeBandit(bandit_type,**kwargs):\n",
    "    bandit_cls = getattr(bandits, bandit_type)\n",
    "    bandit = bandit_cls(**kwargs)\n",
    "    return bandit\n",
    "bandit_name = 'EpsilonGreedyBandit'\n",
    "make_exp = makeBandit(bandit_name, epsilon=0.3)"
   ]
  },
  {
   "cell_type": "code",
   "execution_count": 268,
   "metadata": {},
   "outputs": [
    {
     "data": {
      "text/plain": [
       "[\"{'confidence': [1.0, 0.0, 0.0], 'exp_name': 'testmab', 'redis': StrictRedis<ConnectionPool<Connection<host=localhost,port=6379,db=3>>>, 'arms': ['green', 'red', 'blue'], 'bandit_type': 'EpsilonGreedyBandit', 'values': ['green', 'red', 'blue'], 'epsilon': 0.1, 'pulls': [1, 0, 0], 'reward': [1.0, 0.0, 0.0]}\"]"
      ]
     },
     "execution_count": 268,
     "metadata": {},
     "output_type": "execute_result"
    }
   ],
   "source": [
    "REDIS=redis.StrictRedis(db=3)\n",
    "pipe = REDIS.pipeline()\n",
    "pipe.hget(_key('testmab'), 'mab_exp')\n",
    "\n",
    "# reverse here and use lpush to keep consistent with using lrange\n",
    "#for alternative in reversed(self.alternatives):\n",
    "#    pipe.lpush(\"{0}:alternatives\".format(self.key()), alternative.name)\n",
    "\n",
    "pipe.execute()"
   ]
  },
  {
   "cell_type": "code",
   "execution_count": 345,
   "metadata": {},
   "outputs": [
    {
     "name": "stdout",
     "output_type": "stream",
     "text": [
      "blue\n",
      "[1, 1, 0]\n"
     ]
    }
   ],
   "source": [
    "t=color_bandit.suggest_arm()\n",
    "color_bandit.pull_arm(t['id'])\n",
    "re=color_bandit.reward_arm(t['id'],1.0)\n",
    "print t['id']\n",
    "\n",
    "REDIS=redis.StrictRedis(db=3)\n",
    "#pipe = REDIS.pipeline()\n",
    "#pipe.hget(_key('testmab'), 'mab_exp')\n",
    "\n",
    "# reverse here and use lpush to keep consistent with using lrange\n",
    "#for alternative in reversed(self.alternatives):\n",
    "#    pipe.lpush(\"{0}:alternatives\".format(self.key()), alternative.name)\n",
    "print REDIS.hget(\"p:{0}:{1}:mab\".format(\"leepand\", \"arms\"),'mab_exp')\n",
    "#pipe.execute()"
   ]
  },
  {
   "cell_type": "code",
   "execution_count": 343,
   "metadata": {},
   "outputs": [
    {
     "name": "stdout",
     "output_type": "stream",
     "text": [
      "['green', 'red', 'blue', 'green333']\n"
     ]
    }
   ],
   "source": [
    "print REDIS.hget(\"p:{0}:{1}:mab\".format(\"leepand3\", \"arms\"),'mab_exp')\n"
   ]
  },
  {
   "cell_type": "code",
   "execution_count": 346,
   "metadata": {},
   "outputs": [
    {
     "name": "stdout",
     "output_type": "stream",
     "text": [
      "[0.0, 0.0, 1.0, 0.0]\n"
     ]
    }
   ],
   "source": [
    "print REDIS.hget(\"p:{0}:{1}:mab\".format(\"leepand3\", \"confidence\"),'mab_exp')\n"
   ]
  },
  {
   "cell_type": "code",
   "execution_count": 338,
   "metadata": {},
   "outputs": [
    {
     "data": {
      "text/plain": [
       "{'id': 0, 'pulls': 0, 'reward': 0.0, 'value': 'green'}"
      ]
     },
     "execution_count": 338,
     "metadata": {},
     "output_type": "execute_result"
    }
   ],
   "source": [
    "color_bandit2 = EpsilonGreedyBandit('leepand2',0.9)\n",
    "color_bandit2.suggest_arm()"
   ]
  },
  {
   "cell_type": "code",
   "execution_count": 291,
   "metadata": {},
   "outputs": [
    {
     "name": "stdout",
     "output_type": "stream",
     "text": [
      "\n"
     ]
    }
   ],
   "source": [
    "import json\n",
    "REDIS=redis.StrictRedis(db=3)\n",
    "pipe = REDIS.pipeline()\n",
    "pipe.hget(_key('testmab'), 'mab_exp2')\n",
    "\n",
    "xx=pipe.execute()\n",
    "x=REDIS.hget(_key('testmab'), 'mab_exp')\n"
   ]
  },
  {
   "cell_type": "code",
   "execution_count": 295,
   "metadata": {},
   "outputs": [
    {
     "data": {
      "text/plain": [
       "list"
      ]
     },
     "execution_count": 295,
     "metadata": {},
     "output_type": "execute_result"
    }
   ],
   "source": [
    "type(eval(xx[0]))"
   ]
  },
  {
   "cell_type": "code",
   "execution_count": 287,
   "metadata": {},
   "outputs": [
    {
     "ename": "SyntaxError",
     "evalue": "invalid syntax (<unknown>, line 1)",
     "output_type": "error",
     "traceback": [
      "\u001b[0;36m  File \u001b[0;32m\"<unknown>\"\u001b[0;36m, line \u001b[0;32m1\u001b[0m\n\u001b[0;31m    {'confidence': [1.0, 0.0, 0.0], 'exp_name': 'testmab', 'redis': StrictRedis<ConnectionPool<Connection<host=localhost,port=6379,db=3>>>, 'arms': ['green', 'red', 'blue'], 'bandit_type': 'EpsilonGreedyBandit', 'values': ['green', 'red', 'blue'], 'epsilon': 0.1, 'pulls': [2, 0, 0], 'reward': [2.0, 0.0, 0.0]}\u001b[0m\n\u001b[0m                                                                                                              ^\u001b[0m\n\u001b[0;31mSyntaxError\u001b[0m\u001b[0;31m:\u001b[0m invalid syntax\n"
     ]
    }
   ],
   "source": [
    "from ast import literal_eval\n",
    "my_dict = literal_eval(xx[0])"
   ]
  },
  {
   "cell_type": "code",
   "execution_count": 322,
   "metadata": {},
   "outputs": [
    {
     "name": "stdout",
     "output_type": "stream",
     "text": [
      "green\n"
     ]
    },
    {
     "data": {
      "text/plain": [
       "[\"{'confidence': [1.0, 0.0, 0.0], 'exp_name': 'testmab', 'redis': StrictRedis<ConnectionPool<Connection<host=localhost,port=6379,db=3>>>, 'arms': ['green', 'red', 'blue'], 'bandit_type': 'EpsilonGreedyBandit', 'values': ['green', 'red', 'blue'], 'epsilon': 0.1, 'pulls': [2, 0, 0], 'reward': [2.0, 0.0, 0.0]}\"]"
      ]
     },
     "execution_count": 322,
     "metadata": {},
     "output_type": "execute_result"
    }
   ],
   "source": [
    "t=color_bandit.suggest_arm()\n",
    "color_bandit.pull_arm(t['id'])\n",
    "re=color_bandit.reward_arm(t['id'],1.0)\n",
    "print t['id']\n",
    "\n",
    "REDIS=redis.StrictRedis(db=3)\n",
    "pipe = REDIS.pipeline()\n",
    "pipe.hget(_key('testmab'), 'mab_exp')\n",
    "\n",
    "# reverse here and use lpush to keep consistent with using lrange\n",
    "#for alternative in reversed(self.alternatives):\n",
    "#    pipe.lpush(\"{0}:alternatives\".format(self.key()), alternative.name)\n",
    "\n",
    "pipe.execute()"
   ]
  },
  {
   "cell_type": "code",
   "execution_count": 340,
   "metadata": {},
   "outputs": [],
   "source": [
    "color_bandit = EpsilonGreedyBandit('leepand3',0.9)\n",
    "color_bandit.add_arm(\"green\",\"green\")\n",
    "color_bandit.add_arm(\"red\",\"red\")\n",
    "color_bandit.add_arm(\"blue\",\"blue\")\n",
    "chosen_arms=[]"
   ]
  },
  {
   "cell_type": "code",
   "execution_count": 351,
   "metadata": {},
   "outputs": [
    {
     "data": {
      "text/plain": [
       "'[0.0, 0.0, 1.0, 0.0]'"
      ]
     },
     "execution_count": 351,
     "metadata": {},
     "output_type": "execute_result"
    }
   ],
   "source": [
    "color_bandit = EpsilonGreedyBandit('leepand3',0.9)\n",
    "color_bandit.obj_by_name('confidence')"
   ]
  },
  {
   "cell_type": "code",
   "execution_count": 200,
   "metadata": {},
   "outputs": [
    {
     "data": {
      "text/plain": [
       "{'arms': ['green', 'red', 'blue'],\n",
       " 'bandit_type': 'EpsilonGreedyBandit',\n",
       " 'confidence': [0.0, 0.0, 0.0],\n",
       " 'epsilon': 0.1,\n",
       " 'exp_name': 0.9,\n",
       " 'pulls': [0, 0, 0],\n",
       " 'redis': StrictRedis<ConnectionPool<Connection<host=localhost,port=6379,db=3>>>,\n",
       " 'reward': [0.0, 0.0, 0.0],\n",
       " 'values': ['green', 'red', 'blue']}"
      ]
     },
     "execution_count": 200,
     "metadata": {},
     "output_type": "execute_result"
    }
   ],
   "source": [
    "color_bandit.BanditEncoder()"
   ]
  },
  {
   "cell_type": "code",
   "execution_count": 192,
   "metadata": {},
   "outputs": [
    {
     "data": {
      "text/plain": [
       "{'arms': ['green', 'red', 'blue'],\n",
       " 'bandit_type': 'EpsilonGreedyBandit',\n",
       " 'confidence': [0.0, 0.0, 0.0],\n",
       " 'epsilon': 0.1,\n",
       " 'exp_name': 0.9,\n",
       " 'pulls': [0, 0, 0],\n",
       " 'reward': [0.0, 0.0, 0.0],\n",
       " 'values': ['green', 'red', 'blue']}"
      ]
     },
     "execution_count": 192,
     "metadata": {},
     "output_type": "execute_result"
    }
   ],
   "source": [
    "color_bandit.BanditEncoder()"
   ]
  },
  {
   "cell_type": "code",
   "execution_count": 193,
   "metadata": {},
   "outputs": [
    {
     "ename": "AttributeError",
     "evalue": "'EpsilonGreedyBandit' object has no attribute 'items'",
     "output_type": "error",
     "traceback": [
      "\u001b[0;31m---------------------------------------------------------------------------\u001b[0m",
      "\u001b[0;31mAttributeError\u001b[0m                            Traceback (most recent call last)",
      "\u001b[0;32m<ipython-input-193-1bafa3daecd6>\u001b[0m in \u001b[0;36m<module>\u001b[0;34m()\u001b[0m\n\u001b[0;32m----> 1\u001b[0;31m \u001b[0mcolor_bandit\u001b[0m\u001b[0;34m.\u001b[0m\u001b[0mBanditDecoder\u001b[0m\u001b[0;34m(\u001b[0m\u001b[0;34m)\u001b[0m\u001b[0;34m\u001b[0m\u001b[0m\n\u001b[0m",
      "\u001b[0;32m<ipython-input-190-8b09168ab732>\u001b[0m in \u001b[0;36mBanditDecoder\u001b[0;34m(self)\u001b[0m\n\u001b[1;32m     37\u001b[0m         \u001b[0;32mreturn\u001b[0m \u001b[0mdict_repr\u001b[0m\u001b[0;34m\u001b[0m\u001b[0m\n\u001b[1;32m     38\u001b[0m     \u001b[0;32mdef\u001b[0m \u001b[0mBanditDecoder\u001b[0m\u001b[0;34m(\u001b[0m\u001b[0mself\u001b[0m\u001b[0;34m)\u001b[0m\u001b[0;34m:\u001b[0m\u001b[0;34m\u001b[0m\u001b[0m\n\u001b[0;32m---> 39\u001b[0;31m         \u001b[0mdict_repr\u001b[0m \u001b[0;34m=\u001b[0m \u001b[0mBandit\u001b[0m\u001b[0;34m.\u001b[0m\u001b[0mfromdict\u001b[0m\u001b[0;34m(\u001b[0m\u001b[0mself\u001b[0m\u001b[0;34m)\u001b[0m\u001b[0;34m\u001b[0m\u001b[0m\n\u001b[0m\u001b[1;32m     40\u001b[0m         \u001b[0;32mreturn\u001b[0m \u001b[0mdict_repr\u001b[0m\u001b[0;34m\u001b[0m\u001b[0m\n\u001b[1;32m     41\u001b[0m     \u001b[0;32mdef\u001b[0m \u001b[0madd_arm\u001b[0m\u001b[0;34m(\u001b[0m\u001b[0mself\u001b[0m\u001b[0;34m,\u001b[0m \u001b[0marm_id\u001b[0m\u001b[0;34m,\u001b[0m \u001b[0mvalue\u001b[0m\u001b[0;34m=\u001b[0m\u001b[0mNone\u001b[0m\u001b[0;34m)\u001b[0m\u001b[0;34m:\u001b[0m\u001b[0;34m\u001b[0m\u001b[0m\n",
      "\u001b[0;32m<ipython-input-190-8b09168ab732>\u001b[0m in \u001b[0;36mfromdict\u001b[0;34m(cls, dict_spec)\u001b[0m\n\u001b[1;32m     15\u001b[0m     \u001b[0;34m@\u001b[0m\u001b[0mclassmethod\u001b[0m\u001b[0;34m\u001b[0m\u001b[0m\n\u001b[1;32m     16\u001b[0m     \u001b[0;32mdef\u001b[0m \u001b[0mfromdict\u001b[0m\u001b[0;34m(\u001b[0m\u001b[0mcls\u001b[0m\u001b[0;34m,\u001b[0m \u001b[0mdict_spec\u001b[0m\u001b[0;34m)\u001b[0m\u001b[0;34m:\u001b[0m\u001b[0;34m\u001b[0m\u001b[0m\n\u001b[0;32m---> 17\u001b[0;31m         \u001b[0mextra_args\u001b[0m \u001b[0;34m=\u001b[0m \u001b[0mdict\u001b[0m\u001b[0;34m(\u001b[0m\u001b[0;34m[\u001b[0m\u001b[0;34m(\u001b[0m\u001b[0mkey\u001b[0m\u001b[0;34m,\u001b[0m \u001b[0mvalue\u001b[0m\u001b[0;34m)\u001b[0m \u001b[0;32mfor\u001b[0m \u001b[0mkey\u001b[0m\u001b[0;34m,\u001b[0m \u001b[0mvalue\u001b[0m \u001b[0;32min\u001b[0m \u001b[0mdict_spec\u001b[0m\u001b[0;34m.\u001b[0m\u001b[0mitems\u001b[0m\u001b[0;34m(\u001b[0m\u001b[0;34m)\u001b[0m \u001b[0;32mif\u001b[0m \u001b[0mkey\u001b[0m \u001b[0;32mnot\u001b[0m \u001b[0;32min\u001b[0m \u001b[0;34m[\u001b[0m\u001b[0;34m\"arms\"\u001b[0m\u001b[0;34m,\u001b[0m \u001b[0;34m\"pulls\"\u001b[0m\u001b[0;34m,\u001b[0m \u001b[0;34m\"reward\"\u001b[0m\u001b[0;34m,\u001b[0m \u001b[0;34m\"values\"\u001b[0m\u001b[0;34m,\u001b[0m \u001b[0;34m\"bandit_type\"\u001b[0m\u001b[0;34m,\u001b[0m \u001b[0;34m\"confidence\"\u001b[0m\u001b[0;34m]\u001b[0m\u001b[0;34m]\u001b[0m\u001b[0;34m)\u001b[0m\u001b[0;34m\u001b[0m\u001b[0m\n\u001b[0m\u001b[1;32m     18\u001b[0m \u001b[0;34m\u001b[0m\u001b[0m\n\u001b[1;32m     19\u001b[0m         \u001b[0mbandit\u001b[0m \u001b[0;34m=\u001b[0m \u001b[0mglobals\u001b[0m\u001b[0;34m(\u001b[0m\u001b[0;34m)\u001b[0m\u001b[0;34m[\u001b[0m\u001b[0mdict_spec\u001b[0m\u001b[0;34m[\u001b[0m\u001b[0;34m\"bandit_type\"\u001b[0m\u001b[0;34m]\u001b[0m\u001b[0;34m]\u001b[0m\u001b[0;34m(\u001b[0m\u001b[0;34m**\u001b[0m\u001b[0mextra_args\u001b[0m\u001b[0;34m)\u001b[0m\u001b[0;34m\u001b[0m\u001b[0m\n",
      "\u001b[0;31mAttributeError\u001b[0m: 'EpsilonGreedyBandit' object has no attribute 'items'"
     ]
    }
   ],
   "source": [
    "color_bandit.BanditDecoder()"
   ]
  },
  {
   "cell_type": "code",
   "execution_count": 102,
   "metadata": {},
   "outputs": [],
   "source": [
    "import bandits\n",
    "import datetime\n",
    "DEFAULT_PREFIX=\"MAB_EXP\"\n",
    "def _key(k):\n",
    "    return \"{0}:{1}\".format(DEFAULT_PREFIX, k)\n",
    "\n",
    "def makeBandit(bandit_type,**kwargs):\n",
    "    bandit_cls = getattr(bandits, bandit_type)\n",
    "    bandit = bandit_cls(**kwargs)\n",
    "    return bandit\n",
    "\n",
    "class Experiment(object):\n",
    "\n",
    "    def __init__(self, name,\n",
    "                 algorithm='EpsilonGreedyBandit',\n",
    "                 epsilon=0.3,\n",
    "                 tau=0.3,\n",
    "                 redis=None):\n",
    "        self.name=name\n",
    "        self._algorithm =algorithm\n",
    "        self.redis=redis\n",
    "        self.make_exp = makeBandit(self._algorithm, epsilon=epsilon)\n",
    "    def add_arm(self,arm_id,value=None):\n",
    "        self.make_exp.add_arm(arm_id,value)\n",
    "    def record_participation(self, exp_id, dt=None):\n",
    "        \"\"\"Record a user's participation in a test along with a given variation\"\"\"\n",
    "        if dt is None:\n",
    "            date = datetime.now()\n",
    "        else:\n",
    "            date = dt\n",
    "\n",
    "        experiment_key = self.experiment.name\n",
    "\n",
    "        pipe = self.redis.pipeline()\n",
    "\n",
    "        pipe.sadd(_key(\"p:{0}:years\".format(experiment_key)), date.strftime('%Y'))\n",
    "        pipe.sadd(_key(\"p:{0}:months\".format(experiment_key)), date.strftime('%Y-%m'))\n",
    "        pipe.sadd(_key(\"p:{0}:days\".format(experiment_key)), date.strftime('%Y-%m-%d'))\n",
    "\n",
    "        pipe.execute()\n",
    "\n",
    "        keys = [\n",
    "            _key(\"p:{0}:_all:all\".format(experiment_key)),\n",
    "            _key(\"p:{0}:_all:{1}\".format(experiment_key, date.strftime('%Y'))),\n",
    "            _key(\"p:{0}:_all:{1}\".format(experiment_key, date.strftime('%Y-%m'))),\n",
    "            _key(\"p:{0}:_all:{1}\".format(experiment_key, date.strftime('%Y-%m-%d'))),\n",
    "            _key(\"p:{0}:{1}:all\".format(experiment_key, self.name)),\n",
    "            _key(\"p:{0}:{1}:{2}\".format(experiment_key, self.name, date.strftime('%Y'))),\n",
    "            _key(\"p:{0}:{1}:{2}\".format(experiment_key, self.name, date.strftime('%Y-%m'))),\n",
    "            _key(\"p:{0}:{1}:{2}\".format(experiment_key, self.name, date.strftime('%Y-%m-%d'))),\n",
    "        ]\n",
    "\n",
    "    def particpate(self):\n",
    "        return self.make_exp.suggest_arm()['id']\n",
    "    def convert(self,arm_id):\n",
    "        self.make_exp.pull_arm(arm_id)\n",
    "        self.make_exp.reward_arm(arm_id)\n",
    "        \n",
    "bandit_name = 'EpsilonGreedyBandit'\n",
    "make_exp = makeBandit(bandit_name, epsilon=0.3)"
   ]
  },
  {
   "cell_type": "code",
   "execution_count": 65,
   "metadata": {},
   "outputs": [],
   "source": [
    "make_exp.add_arm(\"green\",\"#00FF00\")\n",
    "make_exp.add_arm(\"red\",\"#FF0000\")\n",
    "make_exp.add_arm(\"blue\",\"#0000FF\")"
   ]
  },
  {
   "cell_type": "code",
   "execution_count": 316,
   "metadata": {},
   "outputs": [
    {
     "ename": "IndexError",
     "evalue": "list index out of range",
     "output_type": "error",
     "traceback": [
      "\u001b[0;31m---------------------------------------------------------------------------\u001b[0m",
      "\u001b[0;31mIndexError\u001b[0m                                Traceback (most recent call last)",
      "\u001b[0;32m<ipython-input-316-c41a76e092a2>\u001b[0m in \u001b[0;36m<module>\u001b[0;34m()\u001b[0m\n\u001b[0;32m----> 1\u001b[0;31m \u001b[0mt\u001b[0m\u001b[0;34m=\u001b[0m\u001b[0mmake_exp\u001b[0m\u001b[0;34m.\u001b[0m\u001b[0msuggest_arm\u001b[0m\u001b[0;34m(\u001b[0m\u001b[0;34m)\u001b[0m\u001b[0;34m\u001b[0m\u001b[0m\n\u001b[0m\u001b[1;32m      2\u001b[0m \u001b[0mmake_exp\u001b[0m\u001b[0;34m.\u001b[0m\u001b[0mpull_arm\u001b[0m\u001b[0;34m(\u001b[0m\u001b[0mt\u001b[0m\u001b[0;34m[\u001b[0m\u001b[0;34m'id'\u001b[0m\u001b[0;34m]\u001b[0m\u001b[0;34m)\u001b[0m\u001b[0;34m\u001b[0m\u001b[0m\n\u001b[1;32m      3\u001b[0m \u001b[0mre\u001b[0m\u001b[0;34m=\u001b[0m\u001b[0mmake_exp\u001b[0m\u001b[0;34m.\u001b[0m\u001b[0mreward_arm\u001b[0m\u001b[0;34m(\u001b[0m\u001b[0mt\u001b[0m\u001b[0;34m[\u001b[0m\u001b[0;34m'id'\u001b[0m\u001b[0;34m]\u001b[0m\u001b[0;34m,\u001b[0m\u001b[0;36m1.0\u001b[0m\u001b[0;34m)\u001b[0m\u001b[0;34m\u001b[0m\u001b[0m\n\u001b[1;32m      4\u001b[0m \u001b[0;32mprint\u001b[0m \u001b[0mt\u001b[0m\u001b[0;34m[\u001b[0m\u001b[0;34m'id'\u001b[0m\u001b[0;34m]\u001b[0m\u001b[0;34m\u001b[0m\u001b[0m\n",
      "\u001b[0;32m/Users/leepand/Downloads/recom/python_web/Arthur.io/Arthur/core/controller/learning/multi_armed_bandit/bandits.pyc\u001b[0m in \u001b[0;36msuggest_arm\u001b[0;34m(self)\u001b[0m\n\u001b[1;32m     96\u001b[0m             \u001b[0mkey\u001b[0m \u001b[0;34m=\u001b[0m \u001b[0mself\u001b[0m\u001b[0;34m.\u001b[0m\u001b[0m_ind_max\u001b[0m\u001b[0;34m(\u001b[0m\u001b[0;34m)\u001b[0m\u001b[0;34m\u001b[0m\u001b[0m\n\u001b[1;32m     97\u001b[0m         \u001b[0;32melse\u001b[0m\u001b[0;34m:\u001b[0m\u001b[0;34m\u001b[0m\u001b[0m\n\u001b[0;32m---> 98\u001b[0;31m             \u001b[0mkey\u001b[0m \u001b[0;34m=\u001b[0m \u001b[0mchoice\u001b[0m\u001b[0;34m(\u001b[0m\u001b[0mself\u001b[0m\u001b[0;34m.\u001b[0m\u001b[0marms\u001b[0m\u001b[0;34m)\u001b[0m\u001b[0;34m\u001b[0m\u001b[0m\n\u001b[0m\u001b[1;32m     99\u001b[0m \u001b[0;34m\u001b[0m\u001b[0m\n\u001b[1;32m    100\u001b[0m         \u001b[0;32mreturn\u001b[0m \u001b[0mself\u001b[0m\u001b[0;34m[\u001b[0m\u001b[0mkey\u001b[0m\u001b[0;34m]\u001b[0m\u001b[0;34m\u001b[0m\u001b[0m\n",
      "\u001b[0;32m/Users/leepand/anaconda2/lib/python2.7/random.pyc\u001b[0m in \u001b[0;36mchoice\u001b[0;34m(self, seq)\u001b[0m\n\u001b[1;32m    273\u001b[0m     \u001b[0;32mdef\u001b[0m \u001b[0mchoice\u001b[0m\u001b[0;34m(\u001b[0m\u001b[0mself\u001b[0m\u001b[0;34m,\u001b[0m \u001b[0mseq\u001b[0m\u001b[0;34m)\u001b[0m\u001b[0;34m:\u001b[0m\u001b[0;34m\u001b[0m\u001b[0m\n\u001b[1;32m    274\u001b[0m         \u001b[0;34m\"\"\"Choose a random element from a non-empty sequence.\"\"\"\u001b[0m\u001b[0;34m\u001b[0m\u001b[0m\n\u001b[0;32m--> 275\u001b[0;31m         \u001b[0;32mreturn\u001b[0m \u001b[0mseq\u001b[0m\u001b[0;34m[\u001b[0m\u001b[0mint\u001b[0m\u001b[0;34m(\u001b[0m\u001b[0mself\u001b[0m\u001b[0;34m.\u001b[0m\u001b[0mrandom\u001b[0m\u001b[0;34m(\u001b[0m\u001b[0;34m)\u001b[0m \u001b[0;34m*\u001b[0m \u001b[0mlen\u001b[0m\u001b[0;34m(\u001b[0m\u001b[0mseq\u001b[0m\u001b[0;34m)\u001b[0m\u001b[0;34m)\u001b[0m\u001b[0;34m]\u001b[0m  \u001b[0;31m# raises IndexError if seq is empty\u001b[0m\u001b[0;34m\u001b[0m\u001b[0m\n\u001b[0m\u001b[1;32m    276\u001b[0m \u001b[0;34m\u001b[0m\u001b[0m\n\u001b[1;32m    277\u001b[0m     \u001b[0;32mdef\u001b[0m \u001b[0mshuffle\u001b[0m\u001b[0;34m(\u001b[0m\u001b[0mself\u001b[0m\u001b[0;34m,\u001b[0m \u001b[0mx\u001b[0m\u001b[0;34m,\u001b[0m \u001b[0mrandom\u001b[0m\u001b[0;34m=\u001b[0m\u001b[0mNone\u001b[0m\u001b[0;34m)\u001b[0m\u001b[0;34m:\u001b[0m\u001b[0;34m\u001b[0m\u001b[0m\n",
      "\u001b[0;31mIndexError\u001b[0m: list index out of range"
     ]
    }
   ],
   "source": [
    "t=make_exp.suggest_arm()\n",
    "make_exp.pull_arm(t['id'])\n",
    "re=make_exp.reward_arm(t['id'],1.0)\n",
    "print t['id']"
   ]
  },
  {
   "cell_type": "code",
   "execution_count": 67,
   "metadata": {},
   "outputs": [
    {
     "data": {
      "text/plain": [
       "{'id': 'green', 'pulls': 0, 'reward': 0.0, 'value': '#00FF00'}"
      ]
     },
     "execution_count": 67,
     "metadata": {},
     "output_type": "execute_result"
    }
   ],
   "source": [
    "t"
   ]
  },
  {
   "cell_type": "code",
   "execution_count": 69,
   "metadata": {},
   "outputs": [
    {
     "data": {
      "text/plain": [
       "{'id': 'green', 'pulls': 0, 'reward': 0.0, 'value': '#00FF00'}"
      ]
     },
     "execution_count": 69,
     "metadata": {},
     "output_type": "execute_result"
    }
   ],
   "source": [
    "t2=make_exp.suggest_arm()\n",
    "t2"
   ]
  },
  {
   "cell_type": "code",
   "execution_count": 70,
   "metadata": {},
   "outputs": [
    {
     "data": {
      "text/plain": [
       "'green'"
      ]
     },
     "execution_count": 70,
     "metadata": {},
     "output_type": "execute_result"
    }
   ],
   "source": [
    "t2['id']"
   ]
  },
  {
   "cell_type": "code",
   "execution_count": 116,
   "metadata": {},
   "outputs": [
    {
     "data": {
      "text/plain": [
       "[]"
      ]
     },
     "execution_count": 116,
     "metadata": {},
     "output_type": "execute_result"
    }
   ],
   "source": [
    "make_exp.confidence"
   ]
  },
  {
   "cell_type": "code",
   "execution_count": 81,
   "metadata": {},
   "outputs": [
    {
     "data": {
      "text/plain": [
       "[5.0, 1.0, 0.0, 0.0, 1.0]"
      ]
     },
     "execution_count": 81,
     "metadata": {},
     "output_type": "execute_result"
    }
   ],
   "source": [
    "make_exp.reward"
   ]
  },
  {
   "cell_type": "code",
   "execution_count": null,
   "metadata": {},
   "outputs": [],
   "source": []
  },
  {
   "cell_type": "code",
   "execution_count": 84,
   "metadata": {},
   "outputs": [],
   "source": [
    "dict_repr = make_exp.__dict__"
   ]
  },
  {
   "cell_type": "code",
   "execution_count": 85,
   "metadata": {},
   "outputs": [
    {
     "data": {
      "text/plain": [
       "{'arms': ['green', 'red', 'green', 'red', 'blue'],\n",
       " 'confidence': [1.0, 1.0, 0.0, 0.0, 1.0],\n",
       " 'epsilon': 0.3,\n",
       " 'pulls': [5, 1, 0, 0, 1],\n",
       " 'reward': [5.0, 1.0, 0.0, 0.0, 1.0],\n",
       " 'values': ['#00FF00', '#FF0000', '#00FF00', '#FF0000', '#0000FF']}"
      ]
     },
     "execution_count": 85,
     "metadata": {},
     "output_type": "execute_result"
    }
   ],
   "source": [
    "dict_repr"
   ]
  },
  {
   "cell_type": "code",
   "execution_count": 86,
   "metadata": {},
   "outputs": [],
   "source": [
    "dict_repr['bandit_type'] = make_exp.__class__.__name__"
   ]
  },
  {
   "cell_type": "code",
   "execution_count": 87,
   "metadata": {},
   "outputs": [
    {
     "data": {
      "text/plain": [
       "{'arms': ['green', 'red', 'green', 'red', 'blue'],\n",
       " 'bandit_type': 'EpsilonGreedyBandit',\n",
       " 'confidence': [1.0, 1.0, 0.0, 0.0, 1.0],\n",
       " 'epsilon': 0.3,\n",
       " 'pulls': [5, 1, 0, 0, 1],\n",
       " 'reward': [5.0, 1.0, 0.0, 0.0, 1.0],\n",
       " 'values': ['#00FF00', '#FF0000', '#00FF00', '#FF0000', '#0000FF']}"
      ]
     },
     "execution_count": 87,
     "metadata": {},
     "output_type": "execute_result"
    }
   ],
   "source": [
    "dict_repr"
   ]
  },
  {
   "cell_type": "code",
   "execution_count": 162,
   "metadata": {},
   "outputs": [
    {
     "data": {
      "text/plain": [
       "[1.0, 1.0, 0.0, 0.0, 1.0]"
      ]
     },
     "execution_count": 162,
     "metadata": {},
     "output_type": "execute_result"
    }
   ],
   "source": [
    "dict_repr2.confidence"
   ]
  },
  {
   "cell_type": "code",
   "execution_count": 167,
   "metadata": {},
   "outputs": [
    {
     "data": {
      "text/plain": [
       "{'arms': ['green', 'red', 'green', 'red', 'blue'],\n",
       " 'confidence': [1.0, 1.0, 0.0, 0.0, 1.0],\n",
       " 'epsilon': 0.3,\n",
       " 'pulls': [9, 2, 0, 0, 2],\n",
       " 'reward': [9.0, 2.0, 0.0, 0.0, 2.0],\n",
       " 'values': ['#00FF00', '#FF0000', '#00FF00', '#FF0000', '#0000FF']}"
      ]
     },
     "execution_count": 167,
     "metadata": {},
     "output_type": "execute_result"
    }
   ],
   "source": [
    "dict_repr2.__dict__"
   ]
  },
  {
   "cell_type": "code",
   "execution_count": 159,
   "metadata": {},
   "outputs": [
    {
     "data": {
      "text/plain": [
       "[8.0, 2.0, 0.0, 0.0, 2.0]"
      ]
     },
     "execution_count": 159,
     "metadata": {},
     "output_type": "execute_result"
    }
   ],
   "source": [
    "dict_repr2.reward"
   ]
  },
  {
   "cell_type": "code",
   "execution_count": 109,
   "metadata": {},
   "outputs": [],
   "source": [
    "dict_repr2={}\n",
    "dict_repr2 = bandits.Bandit.fromdict(dict_repr)\n"
   ]
  },
  {
   "cell_type": "code",
   "execution_count": 164,
   "metadata": {},
   "outputs": [
    {
     "data": {
      "text/plain": [
       "{'id': 'green', 'pulls': 8, 'reward': 8.0, 'value': '#00FF00'}"
      ]
     },
     "execution_count": 164,
     "metadata": {},
     "output_type": "execute_result"
    }
   ],
   "source": [
    "t=dict_repr2.suggest_arm()\n",
    "t"
   ]
  },
  {
   "cell_type": "code",
   "execution_count": 166,
   "metadata": {},
   "outputs": [],
   "source": [
    "dict_repr2.pull_arm(t['id'])\n",
    "re=dict_repr2.reward_arm(t['id'],1.0)"
   ]
  },
  {
   "cell_type": "code",
   "execution_count": 89,
   "metadata": {},
   "outputs": [
    {
     "data": {
      "text/plain": [
       "[1L, 1L, 1L]"
      ]
     },
     "execution_count": 89,
     "metadata": {},
     "output_type": "execute_result"
    }
   ],
   "source": [
    "import redis\n",
    "from datetime import datetime\n",
    "REDIS=redis.StrictRedis(db=3)\n",
    "pipe = REDIS.pipeline()\n",
    "pipe.hset('self', 'algorithm','_algorithm')\n",
    "pipe.hset('self', 'created_at', datetime.now().strftime(\"%Y-%m-%d %H:%M\"))\n",
    "pipe.hset('self', 'traffic_fraction', '_traffic_fraction')\n",
    "# reverse here and use lpush to keep consistent with using lrange\n",
    "#for alternative in reversed(self.alternatives):\n",
    "#    pipe.lpush(\"{0}:alternatives\".format(self.key()), alternative.name)\n",
    "\n",
    "pipe.execute()"
   ]
  },
  {
   "cell_type": "code",
   "execution_count": 99,
   "metadata": {},
   "outputs": [
    {
     "data": {
      "text/plain": [
       "'2019-03-01 08:41'"
      ]
     },
     "execution_count": 99,
     "metadata": {},
     "output_type": "execute_result"
    }
   ],
   "source": [
    "REDIS.hget('self', 'created_at')"
   ]
  },
  {
   "cell_type": "code",
   "execution_count": 95,
   "metadata": {},
   "outputs": [],
   "source": [
    "DEFAULT_PREFIX = 'redis_prefix'\n",
    "def _key(k):\n",
    "    return \"{0}:{1}\".format(DEFAULT_PREFIX, k)\n",
    "\n",
    "\n",
    "monotonic_zadd = REDIS.register_script(\"\"\"\n",
    "    local sequential_id = redis.call('zscore', KEYS[1], ARGV[1])\n",
    "    if not sequential_id then\n",
    "        sequential_id = redis.call('zcard', KEYS[1])\n",
    "        redis.call('zadd', KEYS[1], sequential_id, ARGV[1])\n",
    "    end\n",
    "    return sequential_id\n",
    "\"\"\")\n",
    "\n",
    "\n",
    "def sequential_id(k, identifier):\n",
    "    \"\"\"Map an arbitrary string identifier to a set of sequential ids\"\"\"\n",
    "    key = _key(k)\n",
    "    return int(monotonic_zadd(keys=[key], args=[identifier]))\n",
    "\n",
    "id_ = sequential_id(\"e:{0}:users\".format('name'), '0012')"
   ]
  },
  {
   "cell_type": "code",
   "execution_count": 96,
   "metadata": {},
   "outputs": [
    {
     "data": {
      "text/plain": [
       "0"
      ]
     },
     "execution_count": 96,
     "metadata": {},
     "output_type": "execute_result"
    }
   ],
   "source": [
    "id_"
   ]
  },
  {
   "cell_type": "code",
   "execution_count": 97,
   "metadata": {},
   "outputs": [
    {
     "data": {
      "text/plain": [
       "set()"
      ]
     },
     "execution_count": 97,
     "metadata": {},
     "output_type": "execute_result"
    }
   ],
   "source": [
    "REDIS.smembers(\"e:{0}:users\".format('name'))"
   ]
  },
  {
   "cell_type": "code",
   "execution_count": 98,
   "metadata": {},
   "outputs": [
    {
     "data": {
      "text/plain": [
       "'redis_prefix:k'"
      ]
     },
     "execution_count": 98,
     "metadata": {},
     "output_type": "execute_result"
    }
   ],
   "source": [
    "_key('k')"
   ]
  },
  {
   "cell_type": "code",
   "execution_count": 100,
   "metadata": {},
   "outputs": [],
   "source": [
    "msetbit = REDIS.register_script(\"\"\"\n",
    "    for index, value in ipairs(KEYS) do\n",
    "        redis.call('setbit', value, ARGV[(index - 1) * 2 + 1], ARGV[(index - 1) * 2 + 2])\n",
    "    end\n",
    "    return redis.status_reply('ok')\n",
    "    \"\"\")"
   ]
  },
  {
   "cell_type": "code",
   "execution_count": null,
   "metadata": {},
   "outputs": [],
   "source": []
  }
 ],
 "metadata": {
  "kernelspec": {
   "display_name": "Python 2",
   "language": "python",
   "name": "python2"
  },
  "language_info": {
   "codemirror_mode": {
    "name": "ipython",
    "version": 2
   },
   "file_extension": ".py",
   "mimetype": "text/x-python",
   "name": "python",
   "nbconvert_exporter": "python",
   "pygments_lexer": "ipython2",
   "version": "2.7.13"
  }
 },
 "nbformat": 4,
 "nbformat_minor": 2
}
