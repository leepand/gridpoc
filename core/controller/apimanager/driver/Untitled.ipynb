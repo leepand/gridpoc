{
 "cells": [
  {
   "cell_type": "code",
   "execution_count": null,
   "metadata": {},
   "outputs": [],
   "source": [
    "%%file remote_api.py\n",
    "class RemoteAPI():\n",
    "    \"\"\"API for Accessing Datmo Services\n",
    "    Parameters\n",
    "    ----------\n",
    "    api_key : str\n",
    "        credentials to access remote\n",
    "    Attributes\n",
    "    ----------\n",
    "    Methods\n",
    "    -------\n",
    "    post_data(input_data)\n",
    "        post single data point to Datmo scoped by model\n",
    "    get_data(filter)\n",
    "        get data information from Datmo scoped by filter\n",
    "    update_actual(id, actual)\n",
    "        update the data id with actual values (y_hat)\n",
    "    get_deployment_info()\n",
    "        returns deployment info from Datmo deployed models\n",
    "    \"\"\"\n",
    "    def __init__(self, task_entity):\n",
    "        "
   ]
  },
  {
   "cell_type": "code",
   "execution_count": 32,
   "metadata": {},
   "outputs": [
    {
     "data": {
      "text/plain": [
       "89"
      ]
     },
     "execution_count": 32,
     "metadata": {},
     "output_type": "execute_result"
    }
   ],
   "source": [
    "from Arthur.core.apiserver.client import Client\n",
    "client=Client('http://127.0.0.1:5006')\n",
    "client.fib(n=10)"
   ]
  },
  {
   "cell_type": "code",
   "execution_count": 59,
   "metadata": {},
   "outputs": [
    {
     "data": {
      "text/plain": [
       "89"
      ]
     },
     "execution_count": 59,
     "metadata": {},
     "output_type": "execute_result"
    }
   ],
   "source": [
    "fn=getattr(client, 'fib')\n",
    "fn(n=10)"
   ]
  },
  {
   "cell_type": "code",
   "execution_count": 69,
   "metadata": {},
   "outputs": [
    {
     "data": {
      "text/plain": [
       "89"
      ]
     },
     "execution_count": 69,
     "metadata": {},
     "output_type": "execute_result"
    }
   ],
   "source": [
    "action='fib'\n",
    "args={\"n\":10}\n",
    "getattr(client, \"%s\" % action)(**args)"
   ]
  },
  {
   "cell_type": "code",
   "execution_count": null,
   "metadata": {},
   "outputs": [],
   "source": [
    "{'act':fib}\n",
    "client."
   ]
  },
  {
   "cell_type": "code",
   "execution_count": 73,
   "metadata": {},
   "outputs": [
    {
     "data": {
      "text/plain": [
       "''"
      ]
     },
     "execution_count": 73,
     "metadata": {},
     "output_type": "execute_result"
    }
   ],
   "source": [
    "getattr(client, \"%s\" % 'get_doc')('')"
   ]
  },
  {
   "cell_type": "code",
   "execution_count": 74,
   "metadata": {},
   "outputs": [
    {
     "data": {
      "text/plain": [
       "''"
      ]
     },
     "execution_count": 74,
     "metadata": {},
     "output_type": "execute_result"
    }
   ],
   "source": [
    "client.get_doc('fib')"
   ]
  },
  {
   "cell_type": "code",
   "execution_count": 83,
   "metadata": {},
   "outputs": [
    {
     "name": "stdout",
     "output_type": "stream",
     "text": [
      "args =  (1, 2, 3, 4)\n",
      "kwargs =  {}\n",
      "---------------------------------------\n",
      "args =  ()\n",
      "kwargs =  {'a': 1, 'c': 3, 'b': 2}\n",
      "---------------------------------------\n",
      "args =  (1, 2, 3, 4)\n",
      "kwargs =  {'a': 1, 'c': 3, 'b': 2}\n",
      "---------------------------------------\n",
      "args =  ('a', 1, None)\n",
      "kwargs =  {'a': 1, 'c': 3, 'b': '2'}\n",
      "---------------------------------------\n",
      "args =  ('y', 'n')\n",
      "kwargs =  {}\n",
      "---------------------------------------\n"
     ]
    }
   ],
   "source": [
    "def foo(*args, **kwargs):\n",
    "    print 'args = ', args\n",
    "    print 'kwargs = ', kwargs\n",
    "    print '---------------------------------------'\n",
    "xx={\"n\":10,'y':'p'}\n",
    "if __name__ == '__main__':\n",
    "    foo(1,2,3,4)\n",
    "    foo(a=1,b=2,c=3)\n",
    "    foo(1,2,3,4, a=1,b=2,c=3)\n",
    "    foo('a', 1, None, a=1, b='2', c=3)\n",
    "    foo(*xx)\n"
   ]
  },
  {
   "cell_type": "code",
   "execution_count": 44,
   "metadata": {},
   "outputs": [
    {
     "data": {
      "text/plain": [
       "89"
      ]
     },
     "execution_count": 44,
     "metadata": {},
     "output_type": "execute_result"
    }
   ],
   "source": [
    "class ArthurflyError(Exception):\n",
    "    pass\n",
    "def RemoteFunction(client, func_name):\n",
    "    def wrapped(*args, **kwargs):\n",
    "        if args:\n",
    "            raise ArthurflyError('Arthur service functions only accept named arguments')\n",
    "        return client.call_func(func_name, **kwargs)\n",
    "    wrapped.__name__ = func_name\n",
    "    wrapped.__qualname__ = func_name\n",
    "    wrapped.__doc__ = client.get_doc(func_name)\n",
    "    return wrapped\n",
    "t=RemoteFunction(client, 'fib')\n",
    "t(n=10)"
   ]
  },
  {
   "cell_type": "code",
   "execution_count": 85,
   "metadata": {},
   "outputs": [
    {
     "data": {
      "text/plain": [
       "'89'"
      ]
     },
     "execution_count": 85,
     "metadata": {},
     "output_type": "execute_result"
    }
   ],
   "source": [
    "t=RemoteFunction(client, 'fib')\n",
    "x={\"n\":10}\n",
    "cc=t(**x)\n",
    "json.dumps(cc)"
   ]
  },
  {
   "cell_type": "code",
   "execution_count": 50,
   "metadata": {},
   "outputs": [
    {
     "data": {
      "text/plain": [
       "{u'app': u'firefly',\n",
       " u'functions': {u'fib': {u'doc': u'',\n",
       "   u'parameters': [{u'kind': u'POSITIONAL_OR_KEYWORD', u'name': u'n'}],\n",
       "   u'path': u'/fib'}},\n",
       " u'version': u'0.1.14'}"
      ]
     },
     "execution_count": 50,
     "metadata": {},
     "output_type": "execute_result"
    }
   ],
   "source": [
    "client._get_metadata()"
   ]
  },
  {
   "cell_type": "code",
   "execution_count": null,
   "metadata": {},
   "outputs": [],
   "source": []
  },
  {
   "cell_type": "code",
   "execution_count": 4,
   "metadata": {},
   "outputs": [
    {
     "data": {
      "text/plain": [
       "'\\xe6\\xb5\\x8b\\xe8\\xaf\\x95'"
      ]
     },
     "execution_count": 4,
     "metadata": {},
     "output_type": "execute_result"
    }
   ],
   "source": [
    "try:\n",
    "\n",
    "    def to_bytes(val):\n",
    "        return bytes(val)\n",
    "\n",
    "    to_bytes(\"test\")\n",
    "except TypeError:\n",
    "\n",
    "    def to_bytes(val):\n",
    "        return bytes(val, \"utf-8\")\n",
    "\n",
    "to_bytes(\"测试\")"
   ]
  },
  {
   "cell_type": "code",
   "execution_count": 7,
   "metadata": {},
   "outputs": [
    {
     "ename": "TypeError",
     "evalue": "isinstance() arg 2 must be a class, type, or tuple of classes and types",
     "output_type": "error",
     "traceback": [
      "\u001b[0;31m---------------------------------------------------------------------------\u001b[0m",
      "\u001b[0;31mTypeError\u001b[0m                                 Traceback (most recent call last)",
      "\u001b[0;32m<ipython-input-7-6cbc5a2da3f6>\u001b[0m in \u001b[0;36m<module>\u001b[0;34m()\u001b[0m\n\u001b[1;32m     40\u001b[0m     \u001b[0;32mreturn\u001b[0m \u001b[0mout_dict\u001b[0m\u001b[0;34m\u001b[0m\u001b[0m\n\u001b[1;32m     41\u001b[0m \u001b[0;32mimport\u001b[0m \u001b[0mdatetime\u001b[0m\u001b[0;34m\u001b[0m\u001b[0m\n\u001b[0;32m---> 42\u001b[0;31m \u001b[0mdenormalize_entity\u001b[0m\u001b[0;34m(\u001b[0m\u001b[0;34m{\u001b[0m\u001b[0;34m\"start_time\"\u001b[0m\u001b[0;34m:\u001b[0m\u001b[0;34m'2019-02-01'\u001b[0m\u001b[0;34m}\u001b[0m\u001b[0;34m)\u001b[0m\u001b[0;34m\u001b[0m\u001b[0m\n\u001b[0m",
      "\u001b[0;32m<ipython-input-7-6cbc5a2da3f6>\u001b[0m in \u001b[0;36mdenormalize_entity\u001b[0;34m(in_dict)\u001b[0m\n\u001b[1;32m     17\u001b[0m         \u001b[0;31m# if not a datetime object, throw error\u001b[0m\u001b[0;34m\u001b[0m\u001b[0;34m\u001b[0m\u001b[0m\n\u001b[1;32m     18\u001b[0m         if in_dict['start_time'] and not isinstance(in_dict['start_time'],\n\u001b[0;32m---> 19\u001b[0;31m                                                     datetime):\n\u001b[0m\u001b[1;32m     20\u001b[0m             \u001b[0;32mraise\u001b[0m \u001b[0mIncorrectType\u001b[0m\u001b[0;34m(\u001b[0m\u001b[0;34m)\u001b[0m\u001b[0;34m\u001b[0m\u001b[0m\n\u001b[1;32m     21\u001b[0m         \u001b[0mout_dict\u001b[0m\u001b[0;34m[\u001b[0m\u001b[0;34m'start_time'\u001b[0m\u001b[0;34m]\u001b[0m \u001b[0;34m=\u001b[0m             \u001b[0min_dict\u001b[0m\u001b[0;34m[\u001b[0m\u001b[0;34m'start_time'\u001b[0m\u001b[0;34m]\u001b[0m\u001b[0;34m.\u001b[0m\u001b[0mstrftime\u001b[0m\u001b[0;34m(\u001b[0m\u001b[0;34m'%Y-%m-%dT%H:%M:%S.%fZ'\u001b[0m\u001b[0;34m)\u001b[0m                 \u001b[0;32mif\u001b[0m \u001b[0min_dict\u001b[0m\u001b[0;34m[\u001b[0m\u001b[0;34m'start_time'\u001b[0m\u001b[0;34m]\u001b[0m \u001b[0;32melse\u001b[0m \u001b[0mNone\u001b[0m\u001b[0;34m\u001b[0m\u001b[0m\n",
      "\u001b[0;31mTypeError\u001b[0m: isinstance() arg 2 must be a class, type, or tuple of classes and types"
     ]
    }
   ],
   "source": [
    "def denormalize_entity(in_dict):\n",
    "    \"\"\"Converts standard dictionary to BlitzDB Document-compatible dictionary\n",
    "    Parameters\n",
    "    ----------\n",
    "    in_dict : dict\n",
    "        normal dictionary of values, output of to_dictionary function\n",
    "    Returns\n",
    "    -------\n",
    "    dict\n",
    "        BlitzDB Document-compatible dictionary of values\n",
    "    \"\"\"\n",
    "    out_dict = in_dict.copy()\n",
    "    if 'id' in list(in_dict):\n",
    "        out_dict['pk'] = in_dict['id']\n",
    "        del out_dict['id']\n",
    "    if 'start_time' in list(in_dict):\n",
    "        # if not a datetime object, throw error\n",
    "        if in_dict['start_time'] and not isinstance(in_dict['start_time'],\n",
    "                                                    datetime):\n",
    "            raise IncorrectType()\n",
    "        out_dict['start_time'] = \\\n",
    "            in_dict['start_time'].strftime('%Y-%m-%dT%H:%M:%S.%fZ') \\\n",
    "                if in_dict['start_time'] else None\n",
    "    if 'end_time' in list(in_dict):\n",
    "        # if not a datetime object, throw error\n",
    "        if in_dict['end_time'] and not isinstance(in_dict['end_time'],\n",
    "                                                  datetime):\n",
    "            raise IncorrectType()\n",
    "        out_dict['end_time'] = \\\n",
    "            in_dict['end_time'].strftime('%Y-%m-%dT%H:%M:%S.%fZ') \\\n",
    "                if in_dict['end_time'] else None\n",
    "    if 'created_at' in list(in_dict):\n",
    "        # if not a datetime object, throw error\n",
    "        if not isinstance(in_dict['created_at'], datetime):\n",
    "            raise IncorrectType()\n",
    "        out_dict['created_at'] = in_dict['created_at'].strftime(\n",
    "            '%Y-%m-%dT%H:%M:%S.%fZ')\n",
    "    if 'updated_at' in list(in_dict):\n",
    "        # if not a datetime object, throw error\n",
    "        if not isinstance(in_dict['updated_at'], datetime):\n",
    "            raise IncorrectType()\n",
    "        out_dict['updated_at'] = in_dict['updated_at'].strftime(\n",
    "            '%Y-%m-%dT%H:%M:%S.%fZ')\n",
    "    return out_dict\n",
    "import datetime\n",
    "denormalize_entity({\"start_time\":'2019-02-01'})"
   ]
  },
  {
   "cell_type": "code",
   "execution_count": 10,
   "metadata": {},
   "outputs": [
    {
     "name": "stdout",
     "output_type": "stream",
     "text": [
      "start_time: 2019-02-01\n",
      "d: 10\n",
      "\n"
     ]
    }
   ],
   "source": [
    "def printable_dict(input_dictionary):\n",
    "    printable_output = \"\"\n",
    "    if input_dictionary:\n",
    "        for key, value in input_dictionary.items():\n",
    "            printable_output = printable_output + str(key) + \": \" + str(\n",
    "                value) + \"\\n\"\n",
    "    return printable_output\n",
    "print printable_dict({\"start_time\":'2019-02-01','d':10})"
   ]
  },
  {
   "cell_type": "code",
   "execution_count": 13,
   "metadata": {},
   "outputs": [
    {
     "ename": "NameError",
     "evalue": "global name 'is_project_dir' is not defined",
     "output_type": "error",
     "traceback": [
      "\u001b[0;31m---------------------------------------------------------------------------\u001b[0m",
      "\u001b[0;31mNameError\u001b[0m                                 Traceback (most recent call last)",
      "\u001b[0;32m<ipython-input-13-21c0007acfe6>\u001b[0m in \u001b[0;36m<module>\u001b[0;34m()\u001b[0m\n\u001b[1;32m     15\u001b[0m         \u001b[0;32mreturn\u001b[0m \u001b[0mfind_project_dir\u001b[0m\u001b[0;34m(\u001b[0m\u001b[0mos\u001b[0m\u001b[0;34m.\u001b[0m\u001b[0mpath\u001b[0m\u001b[0;34m.\u001b[0m\u001b[0msplit\u001b[0m\u001b[0;34m(\u001b[0m\u001b[0mstarting_path\u001b[0m\u001b[0;34m)\u001b[0m\u001b[0;34m[\u001b[0m\u001b[0;36m0\u001b[0m\u001b[0;34m]\u001b[0m\u001b[0;34m)\u001b[0m\u001b[0;34m\u001b[0m\u001b[0m\n\u001b[1;32m     16\u001b[0m \u001b[0;34m\u001b[0m\u001b[0m\n\u001b[0;32m---> 17\u001b[0;31m \u001b[0;32mprint\u001b[0m \u001b[0mfind_project_dir\u001b[0m\u001b[0;34m(\u001b[0m\u001b[0;34m)\u001b[0m\u001b[0;34m\u001b[0m\u001b[0m\n\u001b[0m",
      "\u001b[0;32m<ipython-input-13-21c0007acfe6>\u001b[0m in \u001b[0;36mfind_project_dir\u001b[0;34m(starting_path)\u001b[0m\n\u001b[1;32m      7\u001b[0m         \u001b[0;32mraise\u001b[0m \u001b[0mException\u001b[0m\u001b[0;34m(\u001b[0m\u001b[0;34m\"project not found\"\u001b[0m\u001b[0;34m)\u001b[0m\u001b[0;34m\u001b[0m\u001b[0m\n\u001b[1;32m      8\u001b[0m \u001b[0;34m\u001b[0m\u001b[0m\n\u001b[0;32m----> 9\u001b[0;31m     \u001b[0;32mif\u001b[0m \u001b[0mis_project_dir\u001b[0m\u001b[0;34m(\u001b[0m\u001b[0mstarting_path\u001b[0m\u001b[0;34m)\u001b[0m\u001b[0;34m:\u001b[0m\u001b[0;34m\u001b[0m\u001b[0m\n\u001b[0m\u001b[1;32m     10\u001b[0m         \u001b[0;32mreturn\u001b[0m \u001b[0mstarting_path\u001b[0m\u001b[0;34m\u001b[0m\u001b[0m\n\u001b[1;32m     11\u001b[0m     \u001b[0;32melse\u001b[0m\u001b[0;34m:\u001b[0m\u001b[0;34m\u001b[0m\u001b[0m\n",
      "\u001b[0;31mNameError\u001b[0m: global name 'is_project_dir' is not defined"
     ]
    }
   ],
   "source": [
    "import os\n",
    "def find_project_dir(starting_path=os.getcwd()):\n",
    "    if starting_path == \"/\":\n",
    "        raise Exception(\"project not found\")\n",
    "\n",
    "    if os.path.expanduser(\"~\") == starting_path:\n",
    "        raise Exception(\"project not found\")\n",
    "\n",
    "    if is_project_dir(starting_path):\n",
    "        return starting_path\n",
    "    else:\n",
    "        # Remove last dir, walking down the tree, testing each dir\n",
    "        # os.path.split creates a tuple of the basepath and last directory\n",
    "        # take the first part\n",
    "        return find_project_dir(os.path.split(starting_path)[0])\n",
    "\n",
    "print find_project_dir()"
   ]
  },
  {
   "cell_type": "code",
   "execution_count": null,
   "metadata": {},
   "outputs": [],
   "source": []
  },
  {
   "cell_type": "code",
   "execution_count": 19,
   "metadata": {},
   "outputs": [],
   "source": [
    "import sys\n",
    "def get_funcname(backstep=0):\n",
    "    \"\"\"\n",
    "    get funcname of the current code line\n",
    "    :param backstep:\n",
    "        will go backward (one layer) from the current function call stack\n",
    "    \"\"\"\n",
    "    # pylint: disable=W0212\n",
    "    return sys._getframe(\n",
    "        backstep + 1).f_code.co_name\n",
    "\n",
    "def string_multiply(text, times):\n",
    "    print get_funcname()\n",
    "    return text * times"
   ]
  },
  {
   "cell_type": "code",
   "execution_count": 20,
   "metadata": {},
   "outputs": [
    {
     "name": "stdout",
     "output_type": "stream",
     "text": [
      "string_multiply\n"
     ]
    },
    {
     "data": {
      "text/plain": [
       "'hellohellohello'"
      ]
     },
     "execution_count": 20,
     "metadata": {},
     "output_type": "execute_result"
    }
   ],
   "source": [
    "string_multiply('hello', 3)"
   ]
  },
  {
   "cell_type": "code",
   "execution_count": null,
   "metadata": {},
   "outputs": [],
   "source": []
  },
  {
   "cell_type": "code",
   "execution_count": 51,
   "metadata": {},
   "outputs": [],
   "source": [
    "import json\n",
    "settings_dict={\"start_time\":'2019-02-01','d':10}\n",
    "str_ = json.dumps(\n",
    "                settings_dict,\n",
    "                indent=4,\n",
    "                sort_keys=True,\n",
    "                separators=(',', ': '),\n",
    "ensure_ascii=False)"
   ]
  },
  {
   "cell_type": "code",
   "execution_count": 52,
   "metadata": {},
   "outputs": [
    {
     "data": {
      "text/plain": [
       "'{\\n    \"d\": 10,\\n    \"start_time\": \"2019-02-01\"\\n}'"
      ]
     },
     "execution_count": 52,
     "metadata": {},
     "output_type": "execute_result"
    }
   ],
   "source": [
    "str_"
   ]
  },
  {
   "cell_type": "code",
   "execution_count": null,
   "metadata": {},
   "outputs": [],
   "source": []
  },
  {
   "cell_type": "code",
   "execution_count": 3,
   "metadata": {},
   "outputs": [],
   "source": [
    "# pylint:disable=R0903\n",
    "from Arthur.core.entities.base.bs_log import Log\n",
    "import time\n",
    "from datetime import datetime as datetime_in\n",
    "from functools import wraps\n",
    "class TraceUsedTime(object):\n",
    "    \"\"\"\n",
    "    Trace used time inside a function.\n",
    "    Will print to LOGFILE if you initialized logging with cup.log.init_comlog.\n",
    "    example::\n",
    "        import time\n",
    "        from cup import decorators\n",
    "        @decorators.TraceUsedTime(True)\n",
    "        def test():\n",
    "            print 'test'\n",
    "            time.sleep(4)\n",
    "        # trace something with context. E.g. event_id\n",
    "        def _test_trace_time_map(sleep_time):\n",
    "            print \"ready to work\"\n",
    "            time.sleep(sleep_time)\n",
    "        traced_test_trace_time_map = decorators.TraceUsedTime(\n",
    "            b_print_stdout=False,\n",
    "            enter_msg='event_id: 0x12345',\n",
    "            leave_msg='event_id: 0x12345'\n",
    "        )(_test_trace_time_map)\n",
    "        traced_test_trace_time_map(sleep_time=5)\n",
    "    \"\"\"\n",
    "    def __init__(self, b_print_stdout=False, enter_msg='', leave_msg=''):\n",
    "        \"\"\"\n",
    "        :param b_print_stdout:\n",
    "            When b_print_stdout is True, CUP will print to both LOGFILE\n",
    "            that passed to cup.log.init_comlog and stdout\n",
    "        :param enter_msg:\n",
    "            entrance msg before invoking the function\n",
    "        :param leave_msg:\n",
    "            exist msg after leaving the function\n",
    "        If you never use cup.log.init_comlog, make sure b_print_stdout == True\n",
    "        \"\"\"\n",
    "        self._b_print_stdout = b_print_stdout\n",
    "        self._enter_msg = enter_msg\n",
    "        self._leave_msg = leave_msg\n",
    "\n",
    "    def __call__(self, function):\n",
    "        @wraps(function)\n",
    "        def _wrapper_log(*args, **kwargs):\n",
    "            now = time.time()\n",
    "            if self._b_print_stdout:\n",
    "                print '**enter func:%s,time:%s, msg:%s' % (\n",
    "                    function, datetime_in.now(), self._enter_msg\n",
    "                )\n",
    "            Log.info(\n",
    "                '**enter func:%s, msg:%s' % (function, self._enter_msg)\n",
    "            )\n",
    "            function(*args, **kwargs)\n",
    "            then = time.time()\n",
    "            used_time = then - now\n",
    "            Log.info(\n",
    "                '**leave func:%s, used_time:%f, msg:%s' % (\n",
    "                    function, used_time, self._enter_msg\n",
    "                )\n",
    "            )\n",
    "            if self._b_print_stdout:\n",
    "                print '**leave func:%s, time:%s, used_time:%f, msg:%s' % (\n",
    "                    function, datetime_in.now(), used_time, self._leave_msg\n",
    "                )\n",
    "        return _wrapper_log\n",
    "\n",
    "\n",
    "# Things below for unittest"
   ]
  },
  {
   "cell_type": "code",
   "execution_count": 4,
   "metadata": {},
   "outputs": [
    {
     "name": "stderr",
     "output_type": "stream",
     "text": [
      "[21/02/2019 09:06:26][INFO]<ipython-input-3-506c31e706e4>::_wrapper_log(52): **enter func:<function test at 0x10c4bf488>, msg:\n"
     ]
    },
    {
     "name": "stdout",
     "output_type": "stream",
     "text": [
      "**enter func:<function test at 0x10c4bf488>,time:2019-02-21 09:06:26.016351, msg:\n"
     ]
    },
    {
     "name": "stderr",
     "output_type": "stream",
     "text": [
      "[21/02/2019 09:06:29][INFO]<ipython-input-3-506c31e706e4>::_wrapper_log(59): **leave func:<function test at 0x10c4bf488>, used_time:3.046389, msg:\n"
     ]
    },
    {
     "name": "stdout",
     "output_type": "stream",
     "text": [
      "**leave func:<function test at 0x10c4bf488>, time:2019-02-21 09:06:29.074545, used_time:3.046389, msg:\n"
     ]
    }
   ],
   "source": [
    "@TraceUsedTime(True)\n",
    "def test():\n",
    "    time.sleep(3)\n",
    "test()    "
   ]
  },
  {
   "cell_type": "code",
   "execution_count": null,
   "metadata": {},
   "outputs": [],
   "source": []
  },
  {
   "cell_type": "code",
   "execution_count": 66,
   "metadata": {},
   "outputs": [
    {
     "name": "stdout",
     "output_type": "stream",
     "text": [
      "2\n"
     ]
    }
   ],
   "source": [
    "other(test.func2)"
   ]
  },
  {
   "cell_type": "code",
   "execution_count": 86,
   "metadata": {},
   "outputs": [],
   "source": [
    "from redis_api import storage,CountApi\n",
    "class data_api(object):\n",
    "    def __init__(self,redis_host='127.0.0.1',\n",
    "                 redis_port=6379,redis_db=5,\n",
    "                 directory=\".\"):\n",
    "\n",
    "        self.redis_host=redis_host\n",
    "        self.redis_port=redis_port\n",
    "        self.redis_db=redis_db\n",
    "    def countvisit(self,prefix='arthurService:'):\n",
    "        store=storage('redis', flush_db=False, host=self.redis_host, port=self.redis_port, db= self.redis_db)\n",
    "        return CountApi(store,prefix)"
   ]
  },
  {
   "cell_type": "code",
   "execution_count": 87,
   "metadata": {},
   "outputs": [],
   "source": [
    "x=data_api().countvisit()"
   ]
  },
  {
   "cell_type": "code",
   "execution_count": 94,
   "metadata": {},
   "outputs": [
    {
     "data": {
      "text/plain": [
       "3"
      ]
     },
     "execution_count": 94,
     "metadata": {},
     "output_type": "execute_result"
    }
   ],
   "source": [
    "#x['cont']=0\n",
    "x['completed_requests:fib:None:None']"
   ]
  },
  {
   "cell_type": "code",
   "execution_count": 100,
   "metadata": {},
   "outputs": [
    {
     "data": {
      "text/plain": [
       "5"
      ]
     },
     "execution_count": 100,
     "metadata": {},
     "output_type": "execute_result"
    }
   ],
   "source": [
    "x['completed_requests:fib:127.0.0.1:5006']"
   ]
  },
  {
   "cell_type": "code",
   "execution_count": 98,
   "metadata": {},
   "outputs": [
    {
     "data": {
      "text/plain": [
       "4"
      ]
     },
     "execution_count": 98,
     "metadata": {},
     "output_type": "execute_result"
    }
   ],
   "source": [
    "x['completed_requests:fib:127.0.0.1:5004']"
   ]
  },
  {
   "cell_type": "code",
   "execution_count": 105,
   "metadata": {},
   "outputs": [
    {
     "data": {
      "text/plain": [
       "datetime.datetime(2019, 2, 21, 0, 27, 6, 277535)"
      ]
     },
     "execution_count": 105,
     "metadata": {},
     "output_type": "execute_result"
    }
   ],
   "source": [
    "dictionary={}\n",
    "import datetime\n",
    "dictionary.get('created_at', datetime.datetime.utcnow())"
   ]
  },
  {
   "cell_type": "code",
   "execution_count": 106,
   "metadata": {},
   "outputs": [
    {
     "data": {
      "text/plain": [
       "{'created_at': datetime.datetime(2019, 2, 21, 0, 29, 0, 533620),\n",
       " 'description': None,\n",
       " 'id': None,\n",
       " 'name': None,\n",
       " 'updated_at': datetime.datetime(2019, 2, 21, 0, 29, 0, 533620)}"
      ]
     },
     "execution_count": 106,
     "metadata": {},
     "output_type": "execute_result"
    }
   ],
   "source": []
  },
  {
   "cell_type": "code",
   "execution_count": 187,
   "metadata": {},
   "outputs": [
    {
     "name": "stdout",
     "output_type": "stream",
     "text": [
      "{u'message': u'OK', u'code': 201, u'result': {u'body': 121393, u'status_code': 200}}\n"
     ]
    },
    {
     "data": {
      "text/plain": [
       "<Response [200]>"
      ]
     },
     "execution_count": 187,
     "metadata": {},
     "output_type": "execute_result"
    }
   ],
   "source": [
    "import requests\n",
    "import json\n",
    "d={\"servicename\":\"new_year_exp\",\"algoname\":\"fib\"}\n",
    "data={\"modelInfo\":d}\n",
    "headers = {'content-type': \"application/json\"}\n",
    "data={\"servicename\":\"new_year_exp\",\"algoname\":\"fib\",'token': '20bf7679146eaef99136cde84ccc1eba',\"request_type\":\"cnt3\",\"req_data\":json.dumps({\"n\":25})}\n",
    "r = requests.post('http://127.0.0.1:9001/api/service/predict', data=data)#json.dumps(data)\n",
    "print(r.json())\n",
    "r"
   ]
  },
  {
   "cell_type": "code",
   "execution_count": 14,
   "metadata": {},
   "outputs": [
    {
     "data": {
      "text/plain": [
       "dict"
      ]
     },
     "execution_count": 14,
     "metadata": {},
     "output_type": "execute_result"
    }
   ],
   "source": [
    "type(r.json())"
   ]
  },
  {
   "cell_type": "code",
   "execution_count": 23,
   "metadata": {},
   "outputs": [
    {
     "data": {
      "text/plain": [
       "96"
      ]
     },
     "execution_count": 23,
     "metadata": {},
     "output_type": "execute_result"
    }
   ],
   "source": [
    "from Arthur.core.recomeng.recommender.recommender import Recommender\n",
    "\n",
    "settings = {\n",
    "    'expire': 3600 * 24 * 100,\n",
    "    # redis\n",
    "    'redis': {\n",
    "        'host': 'localhost',\n",
    "        'port': 6379,\n",
    "        'db': 17\n",
    "    },\n",
    "}\n",
    "\n",
    "#_MAX = 10 * 10000\n",
    "_MAX=100\n",
    "# register new goods\n",
    "rr = Recommender(settings=settings)\n",
    "len(rr.get_all_goods_ids())"
   ]
  },
  {
   "cell_type": "code",
   "execution_count": 25,
   "metadata": {},
   "outputs": [
    {
     "name": "stdout",
     "output_type": "stream",
     "text": [
      "{u'message': u'OK', u'code': 201, u'result': {u'status_code': 500}}\n"
     ]
    },
    {
     "data": {
      "text/plain": [
       "<Response [200]>"
      ]
     },
     "execution_count": 25,
     "metadata": {},
     "output_type": "execute_result"
    }
   ],
   "source": [
    "import numpy\n",
    "import requests\n",
    "import json\n",
    "input_data={\"model_id\":17,\"coupon_id\":\"39984\",\"topk\":10}\n",
    "data={\"servicename\":\"couponRecommendation\",\"algoname\":\"recom_predict\",'token': '20bf7679146eaef99136cde84ccc1eba',\"request_type\":\"cnt2\",\"req_data\":json.dumps(input_data)}\n",
    "r = requests.post('http://127.0.0.1:9001/api/service/predict', data=data)#json.dumps(data)\n",
    "print(r.json())\n",
    "r"
   ]
  },
  {
   "cell_type": "code",
   "execution_count": 139,
   "metadata": {},
   "outputs": [
    {
     "name": "stdout",
     "output_type": "stream",
     "text": [
      "uu1 [u'm1', u'm9', u'm3']\n",
      "uu3 [u'm1', u'mo', u'p8']\n",
      "uu2 [u'm1', u'm4', u'm8']\n"
     ]
    }
   ],
   "source": [
    "#rr.get_all_goods_ids()\n",
    "#from cf_recommender.recommender import Recommender\n",
    "import random\n",
    "\n",
    "\n",
    "# register all goods\n",
    "tags = ['default', 'book', 'computer', 'dvd', 'camera', 'clothes', 'tag7', 'tag8', 'tag9', 'tag10']\n",
    "settings = {'redis': {\n",
    "        'host': 'localhost',\n",
    "        'port': 6379,\n",
    "        'db': 3\n",
    "    },'recommendation': {\n",
    "        'update_interval_sec': 1,\n",
    "        'search_depth': 100,\n",
    "        'max_history': 10000,\n",
    "    },\n",
    "           }\n",
    "r = Recommender(settings=settings)\n",
    "#goods_ids = range(1, 1000)\n",
    "#for goods_id in goods_ids:\n",
    "#    r.register(goods_id, tag=random.choice(tags))\n",
    "\n",
    "# register all users history\n",
    "users = {\n",
    "    'uu1': ['m1', 'm9', 'm3'],\n",
    "    'uu2': ['m1', 'm4', 'm8'],\n",
    "    'uu3': ['m1', 'mo', 'p8'],\n",
    "    #'u4': [9, 10, 11],\n",
    "    #'u5': [12, 13, 14],\n",
    "}\n",
    "\n",
    "ct = 0\n",
    "for user_id in users:\n",
    "    \n",
    "    like_goods_ids = users.get(user_id)\n",
    "    for g in like_goods_ids:\n",
    "        r.register(g, tag='test1')\n",
    "    print user_id,like_goods_ids\n",
    "    # register by not updating recommendation\n",
    "    r.like(user_id, like_goods_ids, realtime_update=True)\n",
    "    #if ct % 100 == 0:\n",
    "    #    print \"{}/{}\".format(str(ct), str(len(users)))\n",
    "    #ct += 1\n",
    "\n",
    "# create index heavy memory use\n",
    "#r.recreate_all_index()\n",
    "\n",
    "# create all recommendation about [100-500ms x item count]\n",
    "#r.update_all()"
   ]
  },
  {
   "cell_type": "code",
   "execution_count": 141,
   "metadata": {},
   "outputs": [],
   "source": [
    "r.update_all()"
   ]
  },
  {
   "cell_type": "code",
   "execution_count": 142,
   "metadata": {},
   "outputs": [
    {
     "data": {
      "text/plain": [
       "['p8', 'mo', 'm9', 'm8', 'm4', 'm3']"
      ]
     },
     "execution_count": 142,
     "metadata": {},
     "output_type": "execute_result"
    }
   ],
   "source": [
    "#r = Recommender(settings=settings)\n",
    "r.get('m1',12)"
   ]
  },
  {
   "cell_type": "code",
   "execution_count": 144,
   "metadata": {},
   "outputs": [
    {
     "data": {
      "text/plain": [
       "[]"
      ]
     },
     "execution_count": 144,
     "metadata": {},
     "output_type": "execute_result"
    }
   ],
   "source": [
    "cf_settings = {\n",
    "    # redis\n",
    "    'expire': 3600 * 24 * 30,\n",
    "    'redis': {\n",
    "        'host': 'localhost',\n",
    "        'port': 6379,\n",
    "        'db': 1\n",
    "    },\n",
    "    # recommendation engine settings\n",
    "    'recommendation_count': 10,\n",
    "    'recommendation': {\n",
    "        'update_interval_sec': 600,\n",
    "        'search_depth': 100,\n",
    "        'max_history': 1000,\n",
    "    },\n",
    "}\n",
    "\n",
    "\n",
    "# Get recommendation list\n",
    "item_id = 'I1'\n",
    "recommendation = Recommender(cf_settings)\n",
    "recommendation.get(item_id, count=3)\n",
    "\n"
   ]
  },
  {
   "cell_type": "code",
   "execution_count": 152,
   "metadata": {},
   "outputs": [],
   "source": [
    "# register history\n",
    "user_id = 'user-001'\n",
    "buy_items = ['I10', 'I10', 'I10', 'I3', 'I3', 'I1']\n",
    "for item_id in buy_items:\n",
    "    recommendation.register(item_id)\n",
    "recommendation.like(user_id, buy_items)"
   ]
  },
  {
   "cell_type": "code",
   "execution_count": 146,
   "metadata": {},
   "outputs": [
    {
     "data": {
      "text/plain": [
       "['I10', 'I3']"
      ]
     },
     "execution_count": 146,
     "metadata": {},
     "output_type": "execute_result"
    }
   ],
   "source": [
    "recommendation.get(item_id, count=3)\n"
   ]
  },
  {
   "cell_type": "code",
   "execution_count": 180,
   "metadata": {},
   "outputs": [
    {
     "data": {
      "text/plain": [
       "['Iy10', 'Iry10', 'I10', 'Iy3', 'Iry3', 'I3']"
      ]
     },
     "execution_count": 180,
     "metadata": {},
     "output_type": "execute_result"
    }
   ],
   "source": [
    "#recommendation.recreate_all_index()\n",
    "#recommendation.update_all()\n",
    "recommendation.get('I1', count=13)\n"
   ]
  },
  {
   "cell_type": "code",
   "execution_count": 184,
   "metadata": {},
   "outputs": [
    {
     "data": {
      "text/plain": [
       "['I3', 'I1']"
      ]
     },
     "execution_count": 184,
     "metadata": {},
     "output_type": "execute_result"
    }
   ],
   "source": [
    "#recommendation.update_all()\n",
    "recommendation.get('I10', count=13)\n"
   ]
  },
  {
   "cell_type": "code",
   "execution_count": 174,
   "metadata": {},
   "outputs": [],
   "source": [
    "tt='Iry10' in recommendation.get_all_goods_ids()\n",
    "tt\n",
    "f=recommendation.get_all_users_like_history()\n",
    "f.get('player2')"
   ]
  },
  {
   "cell_type": "code",
   "execution_count": 153,
   "metadata": {},
   "outputs": [],
   "source": [
    "# register history\n",
    "user_id = 'user-002'\n",
    "buy_items = ['Iy10', 'Iy10', 'Iy10', 'Iy3', 'Iy3', 'I1']\n",
    "for item_id in buy_items:\n",
    "    recommendation.register(item_id)\n",
    "recommendation.like(user_id, buy_items)"
   ]
  },
  {
   "cell_type": "code",
   "execution_count": null,
   "metadata": {},
   "outputs": [],
   "source": [
    "# register history\n",
    "user_id = 'user-002'\n",
    "buy_items = ['Iy10', 'Iy10', 'Iy10', 'Iy3', 'Iy3', 'I1']\n",
    "for item_id in buy_items:\n",
    "    recommendation.register(item_id)\n",
    "recommendation.like(user_id, buy_items)"
   ]
  },
  {
   "cell_type": "code",
   "execution_count": 176,
   "metadata": {},
   "outputs": [],
   "source": [
    "# register history\n",
    "user_id = 'user-003'\n",
    "buy_items = ['Iry10', 'Iry10', 'Iry10', 'Iry3', 'Iry3', 'I1']\n",
    "for item_id in buy_items:\n",
    "    recommendation.register(item_id)\n",
    "    recommendation.update(item_id)\n",
    "recommendation.like(user_id, buy_items,enable_update_interval=False)\n"
   ]
  },
  {
   "cell_type": "code",
   "execution_count": 182,
   "metadata": {},
   "outputs": [
    {
     "data": {
      "text/plain": [
       "['Iy10', 'Iry10', 'I10', 'Iy3', 'Iry3', 'I3', 'Iry510', 'Iry53']"
      ]
     },
     "execution_count": 182,
     "metadata": {},
     "output_type": "execute_result"
    }
   ],
   "source": [
    "# register history\n",
    "user_id = 'user-004'\n",
    "buy_items = ['Iry510', 'Iry510', 'Iry510', 'Iry53', 'Iry53', 'I1']\n",
    "for item_id in buy_items:\n",
    "    recommendation.register(item_id)\n",
    "    #recommendation.update(item_id)\n",
    "recommendation.like(user_id, buy_items,enable_update_interval=False)\n",
    "recommendation.get('I1', count=13)\n"
   ]
  },
  {
   "cell_type": "code",
   "execution_count": 29,
   "metadata": {},
   "outputs": [
    {
     "data": {
      "text/plain": [
       "['61067',\n",
       " '67770',\n",
       " '84290',\n",
       " '61048',\n",
       " '59604',\n",
       " '43624',\n",
       " '64095',\n",
       " '43622',\n",
       " '81377',\n",
       " '67284',\n",
       " '61071',\n",
       " '47309',\n",
       " '45959',\n",
       " '84751',\n",
       " '80558',\n",
       " '74062',\n",
       " '60934',\n",
       " '45862',\n",
       " '40047',\n",
       " '85357']"
      ]
     },
     "execution_count": 29,
     "metadata": {},
     "output_type": "execute_result"
    }
   ],
   "source": [
    "# -*- coding: utf-8 -*-\n",
    "from __future__ import absolute_import, unicode_literals\n",
    "from Arthur.core.recomeng.recommender.recommender import Recommender\n",
    "# Service - Model\n",
    "\n",
    "class couponRecommendation(object):\n",
    "    \"\"\"Real time updating recommendation profile\n",
    "    \"\"\"\n",
    "    cf = None\n",
    "    cf_settings = {\n",
    "    # redis\n",
    "    'expire': 3600 * 24 * 30,\n",
    "    'redis': {\n",
    "        'host': 'localhost',\n",
    "        'port': 6379,\n",
    "        'db': 0\n",
    "    },\n",
    "    # recommendation engine settings\n",
    "    'recommendation_count': 10,\n",
    "    'recommendation': {\n",
    "        'update_interval_sec': 600,\n",
    "        'search_depth': 100,\n",
    "        'max_history': 10000,\n",
    "    },\n",
    "    }\n",
    "    def __init__(self,model_db=None):\n",
    "        if model_db is not None:\n",
    "            self.cf_settings['redis']['db']=model_db\n",
    "        self.cf = Recommender(self.cf_settings)\n",
    "\n",
    "    def like(self, user_id, coupon_ids):\n",
    "        \"\"\"\n",
    "        :param player_id: str\n",
    "        :param guild_ids: list of int\n",
    "        \"\"\"\n",
    "        for coupon_id in coupon_ids:\n",
    "            self.cf.register(coupon_id)\n",
    "        self.cf.like(user_id, coupon_ids)\n",
    "\n",
    "    def gets(self, coupon_id, topk=5):\n",
    "        return self.cf.get(coupon_id, count=topk)\n",
    "def recom_train(model_id,user_id,coupon_ids):\n",
    "    cf=couponRecommendation(model_db=model_id)\n",
    "    cf.like(user_id,coupon_ids)\n",
    "    return {\"status_code\": 200}\n",
    "\n",
    "def recom_predict(model_id,coupon_id,topk):\n",
    "    cf=couponRecommendation(model_db=model_id)\n",
    "    return cf.gets(coupon_id,topk)\n",
    "recom_predict(17,61067,20)"
   ]
  },
  {
   "cell_type": "code",
   "execution_count": null,
   "metadata": {},
   "outputs": [],
   "source": []
  },
  {
   "cell_type": "code",
   "execution_count": null,
   "metadata": {},
   "outputs": [],
   "source": []
  },
  {
   "cell_type": "code",
   "execution_count": null,
   "metadata": {},
   "outputs": [],
   "source": []
  }
 ],
 "metadata": {
  "kernelspec": {
   "display_name": "Python 2",
   "language": "python",
   "name": "python2"
  },
  "language_info": {
   "codemirror_mode": {
    "name": "ipython",
    "version": 2
   },
   "file_extension": ".py",
   "mimetype": "text/x-python",
   "name": "python",
   "nbconvert_exporter": "python",
   "pygments_lexer": "ipython2",
   "version": "2.7.13"
  }
 },
 "nbformat": 4,
 "nbformat_minor": 2
}
