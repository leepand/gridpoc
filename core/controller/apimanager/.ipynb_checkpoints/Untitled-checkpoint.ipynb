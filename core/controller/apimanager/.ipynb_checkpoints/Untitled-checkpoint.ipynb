{
 "cells": [
  {
   "cell_type": "code",
   "execution_count": 14,
   "metadata": {},
   "outputs": [
    {
     "name": "stdout",
     "output_type": "stream",
     "text": [
      "Writing apiproxy.py\n"
     ]
    }
   ],
   "source": [
    "%%file apiproxy.py\n",
    "from Arthur.core.controller.base import BaseController\n",
    "from Arthur.core.entities.base.bs_log import Log\n",
    "from Arthur.core.utils.exceptions import (RemoteApiInitError)\n",
    "\n",
    "\n",
    "class RemoteAPIController(BaseController):\n",
    "    \"\"\"CodeController inherits from BaseController and manages business logic related to the\n",
    "    code.\n",
    "    Methods\n",
    "    -------\n",
    "    create(code_id=None)\n",
    "        create a code object within the project\n",
    "    list()\n",
    "        list all code objects within the project\n",
    "    delete(id)\n",
    "        delete the specified code object from the project\n",
    "    \"\"\"\n",
    "\n",
    "    def __init__(self):\n",
    "        try:\n",
    "            super(RemoteAPIController, self).__init__()\n",
    "        except RemoteApiInitError:\n",
    "            Log.warning(\"warn\", \"controller.apicontrol.init.failed\")\n",
    "    def post_data(self,input_data,address='127.0.0.1:5006',function='fib',token=''):\n",
    "        \"\"\"Run post request and gather result and return to user\n",
    "        Returns\n",
    "        -------\n",
    "        prediction\n",
    "            prediction result\n",
    "        \n",
    "        \"\"\"\n",
    "        response = self.remote_api_driver.handle(address, function,input_data,token)\n",
    "        #self.check_unstaged_changes()\n",
    "        # Return the code object with this hash id\n",
    "        return response\n",
    "    def get_completed_requests(self,function,address):\n",
    "        \"\"\"Get the request counts of service/project\n",
    "        Returns\n",
    "        -------\n",
    "        requests\n",
    "            post requests of service\n",
    "        \"\"\"\n",
    "        response = {\"status_code\": 200}\n",
    "        try:\n",
    "            response = {\"status_code\": 200, \"body\": self.remote_api_driver.get_completed_requests(function,address)}\n",
    "        except:\n",
    "            response['status_code'] = 500\n",
    "        # Return the code object with this hash id\n",
    "        return response"
   ]
  },
  {
   "cell_type": "code",
   "execution_count": 12,
   "metadata": {},
   "outputs": [
    {
     "name": "stderr",
     "output_type": "stream",
     "text": [
      "[21/02/2019 10:56:43][INFO]/Users/leepand/anaconda2/lib/python2.7/site-packages/Arthur-2.0.1.dev1-py2.7.egg/Arthur/config.py::__init__(29): initializing\n",
      "[21/02/2019 10:56:43][INFO]/Users/leepand/anaconda2/lib/python2.7/site-packages/Arthur-2.0.1.dev1-py2.7.egg/Arthur/config.py::__init__(29): initializing\n",
      "[21/02/2019 10:56:43][INFO]/Users/leepand/anaconda2/lib/python2.7/site-packages/Arthur-2.0.1.dev1-py2.7.egg/Arthur/core/controller/apimanager/driver/remote_api_depend.py::get_service_key(67): get_service_key: completed_requests:fib:127.0.0.1:5006\n"
     ]
    },
    {
     "data": {
      "text/plain": [
       "{'body': 10946, 'status_code': 200}"
      ]
     },
     "execution_count": 12,
     "metadata": {},
     "output_type": "execute_result"
    }
   ],
   "source": [
    "x=RemoteAPIController()\n",
    "x.post_data({\"n\":20})"
   ]
  },
  {
   "cell_type": "code",
   "execution_count": 13,
   "metadata": {},
   "outputs": [
    {
     "name": "stderr",
     "output_type": "stream",
     "text": [
      "[21/02/2019 10:57:11][INFO]/Users/leepand/anaconda2/lib/python2.7/site-packages/Arthur-2.0.1.dev1-py2.7.egg/Arthur/core/controller/apimanager/driver/remote_api_depend.py::get_service_key(67): get_service_key: completed_requests:fib:127.0.0.1:5006\n"
     ]
    },
    {
     "data": {
      "text/plain": [
       "{'body': 14, 'status_code': 200}"
      ]
     },
     "execution_count": 13,
     "metadata": {},
     "output_type": "execute_result"
    }
   ],
   "source": [
    "x.get_completed_requests('fib','127.0.0.1:5006')"
   ]
  },
  {
   "cell_type": "code",
   "execution_count": 119,
   "metadata": {},
   "outputs": [
    {
     "name": "stdout",
     "output_type": "stream",
     "text": [
      "{u'message': u'OK', u'code': 201, u'result': {u'body': 6765, u'status_code': 200}}\n"
     ]
    },
    {
     "data": {
      "text/plain": [
       "<Response [200]>"
      ]
     },
     "execution_count": 119,
     "metadata": {},
     "output_type": "execute_result"
    }
   ],
   "source": [
    "import requests\n",
    "import json\n",
    "d={\"servicename\":\"new_year_exp\",\"algoname\":\"fib\"}\n",
    "data={\"modelInfo\":d}\n",
    "headers = {'content-type': \"application/json\"}\n",
    "data={\"servicename\":\"new_year_exp\",\"algoname\":\"fib\",'token': '20bf7679146eaef99136cde84ccc1eba',\"request_type\":\"cnt2\",\"req_data\":json.dumps({\"n\":19})}\n",
    "r = requests.post('http://127.0.0.1:9001/api/service/predict', data=data)#json.dumps(data)\n",
    "print(r.json())\n",
    "r"
   ]
  },
  {
   "cell_type": "code",
   "execution_count": 120,
   "metadata": {},
   "outputs": [
    {
     "name": "stdout",
     "output_type": "stream",
     "text": [
      "{u'message': u'OK', u'code': 201, u'result': {u'body': 6765, u'status_code': 200}}\n"
     ]
    },
    {
     "data": {
      "text/plain": [
       "<Response [200]>"
      ]
     },
     "execution_count": 120,
     "metadata": {},
     "output_type": "execute_result"
    }
   ],
   "source": [
    "import requests\n",
    "import json\n",
    "d={\"servicename\":\"new_year_exp\",\"algoname\":\"fib\"}\n",
    "data={\"modelInfo\":d}\n",
    "headers = {'content-type': \"application/json\"}\n",
    "data={\"servicename\":\"new_year_exp\",\"algoname\":\"fib\",'token': '20bf7679146eaef99136cde84ccc1eba',\"request_type\":\"cnt2\",\"req_data\":json.dumps({\"n\":19})}\n",
    "r = requests.post('http://127.0.0.1:9001/api/service/predict', data=data)#json.dumps(data)\n",
    "print(r.json())\n",
    "r"
   ]
  },
  {
   "cell_type": "code",
   "execution_count": 51,
   "metadata": {},
   "outputs": [
    {
     "data": {
      "text/plain": [
       "u'89'"
      ]
     },
     "execution_count": 51,
     "metadata": {},
     "output_type": "execute_result"
    }
   ],
   "source": [
    "from Arthur.core.apiserver.client import Client\n",
    "client2=Client('http://127.0.0.1:9001')\n",
    "client2.fff(x=10)"
   ]
  },
  {
   "cell_type": "code",
   "execution_count": 4,
   "metadata": {},
   "outputs": [
    {
     "ename": "ApiflyError",
     "evalue": "Apifly functions only accept named arguments",
     "output_type": "error",
     "traceback": [
      "\u001b[0;31m---------------------------------------------------------------------------\u001b[0m",
      "\u001b[0;31mApiflyError\u001b[0m                               Traceback (most recent call last)",
      "\u001b[0;32m<ipython-input-4-0963ea946edc>\u001b[0m in \u001b[0;36m<module>\u001b[0;34m()\u001b[0m\n\u001b[1;32m     18\u001b[0m \u001b[0mclient2\u001b[0m\u001b[0;34m.\u001b[0m\u001b[0mfib\u001b[0m\u001b[0;34m(\u001b[0m\u001b[0mn\u001b[0m\u001b[0;34m=\u001b[0m\u001b[0;36m10\u001b[0m\u001b[0;34m)\u001b[0m\u001b[0;34m\u001b[0m\u001b[0m\n\u001b[1;32m     19\u001b[0m \u001b[0mt\u001b[0m\u001b[0;34m=\u001b[0m\u001b[0mIndexCallable\u001b[0m\u001b[0;34m(\u001b[0m\u001b[0mclient2\u001b[0m\u001b[0;34m)\u001b[0m\u001b[0;34m\u001b[0m\u001b[0m\n\u001b[0;32m---> 20\u001b[0;31m \u001b[0mt\u001b[0m\u001b[0;34m[\u001b[0m\u001b[0;36m10\u001b[0m\u001b[0;34m]\u001b[0m\u001b[0;34m\u001b[0m\u001b[0m\n\u001b[0m",
      "\u001b[0;32m<ipython-input-4-0963ea946edc>\u001b[0m in \u001b[0;36m__getitem__\u001b[0;34m(self, key)\u001b[0m\n\u001b[1;32m     13\u001b[0m \u001b[0;34m\u001b[0m\u001b[0m\n\u001b[1;32m     14\u001b[0m     \u001b[0;32mdef\u001b[0m \u001b[0m__getitem__\u001b[0m\u001b[0;34m(\u001b[0m\u001b[0mself\u001b[0m\u001b[0;34m,\u001b[0m \u001b[0mkey\u001b[0m\u001b[0;34m)\u001b[0m\u001b[0;34m:\u001b[0m\u001b[0;34m\u001b[0m\u001b[0m\n\u001b[0;32m---> 15\u001b[0;31m         \u001b[0;32mreturn\u001b[0m \u001b[0mself\u001b[0m\u001b[0;34m.\u001b[0m\u001b[0mfn\u001b[0m\u001b[0;34m(\u001b[0m\u001b[0mkey\u001b[0m\u001b[0;34m)\u001b[0m\u001b[0;34m\u001b[0m\u001b[0m\n\u001b[0m\u001b[1;32m     16\u001b[0m \u001b[0;32mfrom\u001b[0m \u001b[0mArthur\u001b[0m\u001b[0;34m.\u001b[0m\u001b[0mcore\u001b[0m\u001b[0;34m.\u001b[0m\u001b[0mapiserver\u001b[0m\u001b[0;34m.\u001b[0m\u001b[0mclient\u001b[0m \u001b[0;32mimport\u001b[0m \u001b[0mClient\u001b[0m\u001b[0;34m\u001b[0m\u001b[0m\n\u001b[1;32m     17\u001b[0m \u001b[0mclient2\u001b[0m\u001b[0;34m=\u001b[0m\u001b[0mClient\u001b[0m\u001b[0;34m(\u001b[0m\u001b[0;34m'http://127.0.0.1:5006'\u001b[0m\u001b[0;34m)\u001b[0m\u001b[0;34m\u001b[0m\u001b[0m\n",
      "\u001b[0;32m/Users/leepand/anaconda2/lib/python2.7/site-packages/Arthur-2.0.1.dev1-py2.7.egg/Arthur/core/apiserver/client.pyc\u001b[0m in \u001b[0;36mwrapped\u001b[0;34m(*args, **kwargs)\u001b[0m\n\u001b[1;32m    113\u001b[0m     \u001b[0;32mdef\u001b[0m \u001b[0mwrapped\u001b[0m\u001b[0;34m(\u001b[0m\u001b[0;34m*\u001b[0m\u001b[0margs\u001b[0m\u001b[0;34m,\u001b[0m \u001b[0;34m**\u001b[0m\u001b[0mkwargs\u001b[0m\u001b[0;34m)\u001b[0m\u001b[0;34m:\u001b[0m\u001b[0;34m\u001b[0m\u001b[0m\n\u001b[1;32m    114\u001b[0m         \u001b[0;32mif\u001b[0m \u001b[0margs\u001b[0m\u001b[0;34m:\u001b[0m\u001b[0;34m\u001b[0m\u001b[0m\n\u001b[0;32m--> 115\u001b[0;31m             \u001b[0;32mraise\u001b[0m \u001b[0mApiflyError\u001b[0m\u001b[0;34m(\u001b[0m\u001b[0;34m'Apifly functions only accept named arguments'\u001b[0m\u001b[0;34m)\u001b[0m\u001b[0;34m\u001b[0m\u001b[0m\n\u001b[0m\u001b[1;32m    116\u001b[0m         \u001b[0;32mreturn\u001b[0m \u001b[0mclient\u001b[0m\u001b[0;34m.\u001b[0m\u001b[0mcall_func\u001b[0m\u001b[0;34m(\u001b[0m\u001b[0mfunc_name\u001b[0m\u001b[0;34m,\u001b[0m \u001b[0;34m**\u001b[0m\u001b[0mkwargs\u001b[0m\u001b[0;34m)\u001b[0m\u001b[0;34m\u001b[0m\u001b[0m\n\u001b[1;32m    117\u001b[0m     \u001b[0mwrapped\u001b[0m\u001b[0;34m.\u001b[0m\u001b[0m__name__\u001b[0m \u001b[0;34m=\u001b[0m \u001b[0mfunc_name\u001b[0m\u001b[0;34m\u001b[0m\u001b[0m\n",
      "\u001b[0;31mApiflyError\u001b[0m: Apifly functions only accept named arguments"
     ]
    }
   ],
   "source": [
    "class IndexCallable(object):\n",
    "    \"\"\" Provide getitem syntax for functions\n",
    "    >>> def inc(x):\n",
    "    ...     return x + 1\n",
    "    >>> I = IndexCallable(inc)\n",
    "    >>> I[3]\n",
    "    4\n",
    "    \"\"\"\n",
    "    __slots__ = 'fn',\n",
    "\n",
    "    def __init__(self, fn):\n",
    "        self.fn = fn\n",
    "\n",
    "    def __getitem__(self, key):\n",
    "        return self.fn(key)\n",
    "from Arthur.core.apiserver.client import Client\n",
    "client2=Client('http://127.0.0.1:5006')\n",
    "client2.fib(n=10)\n",
    "t=IndexCallable(client2)\n",
    "t[10]"
   ]
  },
  {
   "cell_type": "code",
   "execution_count": 118,
   "metadata": {},
   "outputs": [
    {
     "ename": "JSONDecodeError",
     "evalue": "Expecting value: line 1 column 1 (char 0)",
     "output_type": "error",
     "traceback": [
      "\u001b[0;31m---------------------------------------------------------------------------\u001b[0m",
      "\u001b[0;31mJSONDecodeError\u001b[0m                           Traceback (most recent call last)",
      "\u001b[0;32m<ipython-input-118-1fd3e4dae612>\u001b[0m in \u001b[0;36m<module>\u001b[0;34m()\u001b[0m\n\u001b[1;32m      5\u001b[0m \u001b[0mheaders\u001b[0m \u001b[0;34m=\u001b[0m \u001b[0;34m{\u001b[0m\u001b[0;34m'content-type'\u001b[0m\u001b[0;34m:\u001b[0m \u001b[0;34m\"application/json\"\u001b[0m\u001b[0;34m}\u001b[0m\u001b[0;34m\u001b[0m\u001b[0m\n\u001b[1;32m      6\u001b[0m \u001b[0mr\u001b[0m \u001b[0;34m=\u001b[0m \u001b[0mrequests\u001b[0m\u001b[0;34m.\u001b[0m\u001b[0mpost\u001b[0m\u001b[0;34m(\u001b[0m\u001b[0;34m'http://127.0.0.1:9001/api/service/predict'\u001b[0m\u001b[0;34m,\u001b[0m \u001b[0mdata\u001b[0m\u001b[0;34m=\u001b[0m\u001b[0mdata\u001b[0m\u001b[0;34m)\u001b[0m\u001b[0;34m\u001b[0m\u001b[0m\n\u001b[0;32m----> 7\u001b[0;31m \u001b[0;32mprint\u001b[0m\u001b[0;34m(\u001b[0m\u001b[0mr\u001b[0m\u001b[0;34m.\u001b[0m\u001b[0mjson\u001b[0m\u001b[0;34m(\u001b[0m\u001b[0;34m)\u001b[0m\u001b[0;34m)\u001b[0m\u001b[0;34m\u001b[0m\u001b[0m\n\u001b[0m\u001b[1;32m      8\u001b[0m \u001b[0mr\u001b[0m\u001b[0;34m\u001b[0m\u001b[0m\n",
      "\u001b[0;32m/Users/leepand/anaconda2/lib/python2.7/site-packages/requests/models.pyc\u001b[0m in \u001b[0;36mjson\u001b[0;34m(self, **kwargs)\u001b[0m\n\u001b[1;32m    817\u001b[0m                     \u001b[0;31m# used.\u001b[0m\u001b[0;34m\u001b[0m\u001b[0;34m\u001b[0m\u001b[0m\n\u001b[1;32m    818\u001b[0m                     \u001b[0;32mpass\u001b[0m\u001b[0;34m\u001b[0m\u001b[0m\n\u001b[0;32m--> 819\u001b[0;31m         \u001b[0;32mreturn\u001b[0m \u001b[0mjson\u001b[0m\u001b[0;34m.\u001b[0m\u001b[0mloads\u001b[0m\u001b[0;34m(\u001b[0m\u001b[0mself\u001b[0m\u001b[0;34m.\u001b[0m\u001b[0mtext\u001b[0m\u001b[0;34m,\u001b[0m \u001b[0;34m**\u001b[0m\u001b[0mkwargs\u001b[0m\u001b[0;34m)\u001b[0m\u001b[0;34m\u001b[0m\u001b[0m\n\u001b[0m\u001b[1;32m    820\u001b[0m \u001b[0;34m\u001b[0m\u001b[0m\n\u001b[1;32m    821\u001b[0m     \u001b[0;34m@\u001b[0m\u001b[0mproperty\u001b[0m\u001b[0;34m\u001b[0m\u001b[0m\n",
      "\u001b[0;32m/Users/leepand/anaconda2/lib/python2.7/site-packages/simplejson/__init__.pyc\u001b[0m in \u001b[0;36mloads\u001b[0;34m(s, encoding, cls, object_hook, parse_float, parse_int, parse_constant, object_pairs_hook, use_decimal, **kw)\u001b[0m\n\u001b[1;32m    514\u001b[0m             \u001b[0mparse_constant\u001b[0m \u001b[0;32mis\u001b[0m \u001b[0mNone\u001b[0m \u001b[0;32mand\u001b[0m \u001b[0mobject_pairs_hook\u001b[0m \u001b[0;32mis\u001b[0m \u001b[0mNone\u001b[0m\u001b[0;34m\u001b[0m\u001b[0m\n\u001b[1;32m    515\u001b[0m             and not use_decimal and not kw):\n\u001b[0;32m--> 516\u001b[0;31m         \u001b[0;32mreturn\u001b[0m \u001b[0m_default_decoder\u001b[0m\u001b[0;34m.\u001b[0m\u001b[0mdecode\u001b[0m\u001b[0;34m(\u001b[0m\u001b[0ms\u001b[0m\u001b[0;34m)\u001b[0m\u001b[0;34m\u001b[0m\u001b[0m\n\u001b[0m\u001b[1;32m    517\u001b[0m     \u001b[0;32mif\u001b[0m \u001b[0mcls\u001b[0m \u001b[0;32mis\u001b[0m \u001b[0mNone\u001b[0m\u001b[0;34m:\u001b[0m\u001b[0;34m\u001b[0m\u001b[0m\n\u001b[1;32m    518\u001b[0m         \u001b[0mcls\u001b[0m \u001b[0;34m=\u001b[0m \u001b[0mJSONDecoder\u001b[0m\u001b[0;34m\u001b[0m\u001b[0m\n",
      "\u001b[0;32m/Users/leepand/anaconda2/lib/python2.7/site-packages/simplejson/decoder.pyc\u001b[0m in \u001b[0;36mdecode\u001b[0;34m(self, s, _w, _PY3)\u001b[0m\n\u001b[1;32m    372\u001b[0m         \u001b[0;32mif\u001b[0m \u001b[0m_PY3\u001b[0m \u001b[0;32mand\u001b[0m \u001b[0misinstance\u001b[0m\u001b[0;34m(\u001b[0m\u001b[0ms\u001b[0m\u001b[0;34m,\u001b[0m \u001b[0mbinary_type\u001b[0m\u001b[0;34m)\u001b[0m\u001b[0;34m:\u001b[0m\u001b[0;34m\u001b[0m\u001b[0m\n\u001b[1;32m    373\u001b[0m             \u001b[0ms\u001b[0m \u001b[0;34m=\u001b[0m \u001b[0ms\u001b[0m\u001b[0;34m.\u001b[0m\u001b[0mdecode\u001b[0m\u001b[0;34m(\u001b[0m\u001b[0mself\u001b[0m\u001b[0;34m.\u001b[0m\u001b[0mencoding\u001b[0m\u001b[0;34m)\u001b[0m\u001b[0;34m\u001b[0m\u001b[0m\n\u001b[0;32m--> 374\u001b[0;31m         \u001b[0mobj\u001b[0m\u001b[0;34m,\u001b[0m \u001b[0mend\u001b[0m \u001b[0;34m=\u001b[0m \u001b[0mself\u001b[0m\u001b[0;34m.\u001b[0m\u001b[0mraw_decode\u001b[0m\u001b[0;34m(\u001b[0m\u001b[0ms\u001b[0m\u001b[0;34m)\u001b[0m\u001b[0;34m\u001b[0m\u001b[0m\n\u001b[0m\u001b[1;32m    375\u001b[0m         \u001b[0mend\u001b[0m \u001b[0;34m=\u001b[0m \u001b[0m_w\u001b[0m\u001b[0;34m(\u001b[0m\u001b[0ms\u001b[0m\u001b[0;34m,\u001b[0m \u001b[0mend\u001b[0m\u001b[0;34m)\u001b[0m\u001b[0;34m.\u001b[0m\u001b[0mend\u001b[0m\u001b[0;34m(\u001b[0m\u001b[0;34m)\u001b[0m\u001b[0;34m\u001b[0m\u001b[0m\n\u001b[1;32m    376\u001b[0m         \u001b[0;32mif\u001b[0m \u001b[0mend\u001b[0m \u001b[0;34m!=\u001b[0m \u001b[0mlen\u001b[0m\u001b[0;34m(\u001b[0m\u001b[0ms\u001b[0m\u001b[0;34m)\u001b[0m\u001b[0;34m:\u001b[0m\u001b[0;34m\u001b[0m\u001b[0m\n",
      "\u001b[0;32m/Users/leepand/anaconda2/lib/python2.7/site-packages/simplejson/decoder.pyc\u001b[0m in \u001b[0;36mraw_decode\u001b[0;34m(self, s, idx, _w, _PY3)\u001b[0m\n\u001b[1;32m    402\u001b[0m             \u001b[0;32melif\u001b[0m \u001b[0mord0\u001b[0m \u001b[0;34m==\u001b[0m \u001b[0;36m0xef\u001b[0m \u001b[0;32mand\u001b[0m \u001b[0ms\u001b[0m\u001b[0;34m[\u001b[0m\u001b[0midx\u001b[0m\u001b[0;34m:\u001b[0m\u001b[0midx\u001b[0m \u001b[0;34m+\u001b[0m \u001b[0;36m3\u001b[0m\u001b[0;34m]\u001b[0m \u001b[0;34m==\u001b[0m \u001b[0;34m'\\xef\\xbb\\xbf'\u001b[0m\u001b[0;34m:\u001b[0m\u001b[0;34m\u001b[0m\u001b[0m\n\u001b[1;32m    403\u001b[0m                 \u001b[0midx\u001b[0m \u001b[0;34m+=\u001b[0m \u001b[0;36m3\u001b[0m\u001b[0;34m\u001b[0m\u001b[0m\n\u001b[0;32m--> 404\u001b[0;31m         \u001b[0;32mreturn\u001b[0m \u001b[0mself\u001b[0m\u001b[0;34m.\u001b[0m\u001b[0mscan_once\u001b[0m\u001b[0;34m(\u001b[0m\u001b[0ms\u001b[0m\u001b[0;34m,\u001b[0m \u001b[0midx\u001b[0m\u001b[0;34m=\u001b[0m\u001b[0m_w\u001b[0m\u001b[0;34m(\u001b[0m\u001b[0ms\u001b[0m\u001b[0;34m,\u001b[0m \u001b[0midx\u001b[0m\u001b[0;34m)\u001b[0m\u001b[0;34m.\u001b[0m\u001b[0mend\u001b[0m\u001b[0;34m(\u001b[0m\u001b[0;34m)\u001b[0m\u001b[0;34m)\u001b[0m\u001b[0;34m\u001b[0m\u001b[0m\n\u001b[0m",
      "\u001b[0;31mJSONDecodeError\u001b[0m: Expecting value: line 1 column 1 (char 0)"
     ]
    }
   ],
   "source": [
    "import requests\n",
    "import json\n",
    "model={\"servicename\":\"new_year_exp\",\"algoname\":\"fib\"}\n",
    "data={\"modelInfo\":json.dumps(model)}\n",
    "headers = {'content-type': \"application/json\"}\n",
    "r = requests.post('http://127.0.0.1:9001/api/service/predict', data=data)\n",
    "print(r.json())\n",
    "r"
   ]
  },
  {
   "cell_type": "code",
   "execution_count": 1,
   "metadata": {},
   "outputs": [
    {
     "data": {
      "text/plain": [
       "'d'"
      ]
     },
     "execution_count": 1,
     "metadata": {},
     "output_type": "execute_result"
    }
   ],
   "source": [
    "def helloworld(hello):\n",
    "    return str(hello)\n",
    "helloworld('d')"
   ]
  },
  {
   "cell_type": "code",
   "execution_count": null,
   "metadata": {},
   "outputs": [],
   "source": [
    "gunicorn api_main:application --chdir /Users/leepand/Downloads/recom/python_web/Arthur.io/Arthur/core/servicecli  -b localhost:5000 -n arthur_api_cli -w 5 --timeout 120 --access-logfile /Users/leepand/Downloads/recom/python_web/Arthur.io/Arthur/core/servicecli/log/arthur_api_cli_access.log --error-logfile /Users/leepand/Downloads/recom/python_web/Arthur.io/Arthur/core/servicecli/log/arthur_api_cli_error.log"
   ]
  },
  {
   "cell_type": "code",
   "execution_count": null,
   "metadata": {},
   "outputs": [],
   "source": [
    "{\"servicename\":\"new_year_exp\",\"algoname\":\"fib\",'token': '20bf7679146eaef99136cde84ccc1eba',\"request_type\":\"cnt2\",\"req_data\":'{\"n\":19}'}"
   ]
  },
  {
   "cell_type": "code",
   "execution_count": 25,
   "metadata": {},
   "outputs": [
    {
     "name": "stderr",
     "output_type": "stream",
     "text": [
      "[27/02/2019 09:10:01][WARNING]<ipython-input-25-abdb7a316bcc>::_logger(8): Calling pri\n",
      "[27/02/2019 09:10:01][INFO]<ipython-input-25-abdb7a316bcc>::_logger(11): Leaving pri\n"
     ]
    },
    {
     "name": "stdout",
     "output_type": "stream",
     "text": [
      "dddd\n"
     ]
    }
   ],
   "source": [
    "from Arthur.core.entities.base.bs_log import Log\n",
    "from functools import wraps\n",
    "def _logging(func):\n",
    "    @wraps(func)\n",
    "    def _logger(*args, **kwargs):\n",
    "        logger = Log\n",
    "        try:\n",
    "            logger.warning(\"Calling %s\" % func.__name__)\n",
    "            ret = func(*args, **kwargs)\n",
    "        finally:\n",
    "            logger.info(\"Leaving %s\" % func.__name__)\n",
    "        return ret\n",
    "    return _logger\n",
    "@_logging\n",
    "def pri(x):\n",
    "    return x\n",
    "print pri('dddd')"
   ]
  },
  {
   "cell_type": "code",
   "execution_count": 40,
   "metadata": {},
   "outputs": [
    {
     "data": {
      "text/plain": [
       "'/Users/leepand/Downloads/recom/python_web/Arthur.io/ttttttt/8d1dc3c660433f289282debc4dba780a/2019-02-27 01:26:36.219247'"
      ]
     },
     "execution_count": 40,
     "metadata": {},
     "output_type": "execute_result"
    }
   ],
   "source": [
    "from hashlib import md5\n",
    "import os\n",
    "import datetime\n",
    "def expr_md5(expr):\n",
    "    \"\"\"Returns the md5 hash of the str of the expression.\n",
    "    Parameters\n",
    "    ----------\n",
    "    expr : Expr\n",
    "        The expression to hash.\n",
    "    Returns\n",
    "    -------\n",
    "    hexdigest : str\n",
    "        The hexdigest of the md5 of the str of ``expr``.\n",
    "    \"\"\"\n",
    "    exprstr = str(expr)\n",
    "    if not isinstance(exprstr, bytes):\n",
    "        exprstr = exprstr.encode('utf-8')\n",
    "    return md5(exprstr).hexdigest()\n",
    "    \n",
    "expr_md5('dddsta')\n",
    "def _prof_path(profiler_output, expr):\n",
    "    \"\"\"Get the path to write the data for a profile run of ``expr``.\n",
    "    Parameters\n",
    "    ----------\n",
    "    profiler_output : str\n",
    "        The director to write into.\n",
    "    expr : Expr\n",
    "        The expression that was run.\n",
    "    Returns\n",
    "    -------\n",
    "    prof_path : str\n",
    "        The filepath to write the new profiler data.\n",
    "    Notes\n",
    "    -----\n",
    "    This function ensures that the dirname of the returned path exists.\n",
    "    \"\"\"\n",
    "    dir_ = os.path.join(profiler_output,\n",
    "                        expr_md5(expr))  # Use md5 so the client knows where to look.\n",
    "    ensure_dir(dir_)\n",
    "    return os.path.join(dir_,\n",
    "                        str((datetime.datetime.utcnow())))\n",
    "def ensure_dir(path):\n",
    "    try:\n",
    "        os.makedirs(path)\n",
    "    except OSError as e:\n",
    "        if e.errno != errno.EEXIST:\n",
    "            raise\n",
    "\n",
    "_prof_path('/Users/leepand/Downloads/recom/python_web/Arthur.io/ttttttt', 'expr')"
   ]
  },
  {
   "cell_type": "code",
   "execution_count": 37,
   "metadata": {},
   "outputs": [
    {
     "data": {
      "text/plain": [
       "datetime.datetime(2019, 2, 27, 1, 26, 2, 129469)"
      ]
     },
     "execution_count": 37,
     "metadata": {},
     "output_type": "execute_result"
    }
   ],
   "source": [
    "datetime.datetime.utcnow()"
   ]
  },
  {
   "cell_type": "code",
   "execution_count": 45,
   "metadata": {},
   "outputs": [],
   "source": [
    "import threading\n",
    "class Graph:\n",
    "    \"\"\"\n",
    "    Data flow graph constituting a directed acyclic graph of operations.\n",
    "    \"\"\"\n",
    "    def __init__(self):\n",
    "        self.operations = {}\n",
    "        self.dependencies = []\n",
    "\n",
    "    _globals = threading.local()\n",
    "\n",
    "    def __enter__(self):\n",
    "        assert getattr(self._globals, 'default_graph', None) is  None, \\\n",
    "            \"cannot have more than one default graph\"\n",
    "        Graph._globals.default_graph = self\n",
    "        return self\n",
    "\n",
    "    def __exit__(self, *args):\n",
    "        assert self._globals.default_graph is self\n",
    "        Graph._globals.default_graph = None\n",
    "\n",
    "    def normalize_operation(self, operation):  # pylint:disable=W0621\n",
    "        \"\"\"\n",
    "        Normalize an operation by resolving its name if necessary.\n",
    "        Parameters\n",
    "        ----------\n",
    "        operation : Operation or str\n",
    "            Operation instance or name of an operation.\n",
    "        Returns\n",
    "        -------\n",
    "        normalized_operation : Operation\n",
    "            Operation instance.\n",
    "        Raises\n",
    "        ------\n",
    "        ValueError\n",
    "            If `operation` is not an `Operation` instance or an operation name.\n",
    "        RuntimeError\n",
    "            If `operation` is an `Operation` instance but does not belong to this graph.\n",
    "        KeyError\n",
    "            If `operation` is an operation name that does not match any operation of this graph.\n",
    "        \"\"\"\n",
    "        if isinstance(operation, Operation):\n",
    "            if operation.graph is not self:\n",
    "                raise RuntimeError(\"operation '{operation}' does not belong to this graph\")\n",
    "            return operation\n",
    "        if isinstance(operation, str):\n",
    "            return self.operations[operation]\n",
    "        raise ValueError(\"'{operation}' is not an `Operation` instance or operation name\")\n",
    "\n",
    "    def normalize_context(self, context, **kwargs):\n",
    "        \"\"\"\n",
    "        Normalize a context by replacing all operation names with operation instances.\n",
    "        Parameters\n",
    "        ----------\n",
    "        context : dict[Operation or str, object]\n",
    "            Context whose keys are operation instances or names.\n",
    "        kwargs : dict[str, object]\n",
    "            Additional context information keyed by variable name.\n",
    "        Returns\n",
    "        -------\n",
    "        normalized_context : dict[Operation, object]\n",
    "            Normalized context whose keys are operation instances.\n",
    "        Raises\n",
    "        ------\n",
    "        ValueError\n",
    "            If the context specifies more than one value for any operation.\n",
    "        ValueError\n",
    "            If `context` is not a mapping.\n",
    "        \"\"\"\n",
    "        if context is None:\n",
    "            context = {}\n",
    "        elif not isinstance(context, collections.Mapping):\n",
    "            raise ValueError(\"`context` must be a mapping.\")\n",
    "\n",
    "        operations = list(context)\n",
    "        for operation in operations:  # pylint:disable=W0621\n",
    "            value = context.pop(operation)\n",
    "            operation = self.normalize_operation(operation)\n",
    "            if operation in context:\n",
    "                raise ValueError(\"duplicate value for operation '{operation}'\")\n",
    "            context[operation] = value\n",
    "\n",
    "        # Add the keyword arguments\n",
    "        for name, value in kwargs.items():\n",
    "            operation = self.operations[name]\n",
    "            if operation in context:\n",
    "                raise ValueError(\"duplicate value for operation '{operation}'\")\n",
    "            context[operation] = value\n",
    "\n",
    "        return context\n",
    "\n",
    "    def apply(self, fetches, context=None,  callback=None, **kwargs):\n",
    "        \"\"\"\n",
    "        Evaluate one or more operations given a context.\n",
    "        Parameters\n",
    "        ----------\n",
    "        fetches : list[str or Operation] or str or Operation\n",
    "            One or more `Operation` instances or names to evaluate.\n",
    "        context : dict or None\n",
    "            Context in which to evaluate the operations.\n",
    "        callback : callable or None\n",
    "            Callback to be evaluated when an operation is evaluated.\n",
    "        kwargs : dict\n",
    "            Additional context information keyed by variable name.\n",
    "        Returns\n",
    "        -------\n",
    "        values : tuple[object]\n",
    "            Output of the operations given the context.\n",
    "        Raises\n",
    "        ------\n",
    "        ValueError\n",
    "            If `fetches` is not an `Operation` instance, operation name, or a sequence thereof.\n",
    "        ValueError\n",
    "            If `context` is not a mapping.\n",
    "        \"\"\"\n",
    "        if isinstance(fetches, (str, Operation)):\n",
    "            fetches = [fetches]\n",
    "            single = True\n",
    "        elif isinstance(fetches, collections.Sequence):\n",
    "            single = False\n",
    "        else:\n",
    "            raise ValueError(\"`fetches` must be an `Operation` instance, operation name, or a \"\n",
    "                             \"sequence thereof.\")\n",
    "\n",
    "        fetches = [self.normalize_operation(operation) for operation in fetches]\n",
    "        context = self.normalize_context(context, **kwargs)\n",
    "        values = [fetch.evaluate_operation(fetch, context, callback=callback) for fetch in fetches]\n",
    "        return values[0] if single else tuple(values)\n",
    "\n",
    "    __call__ = apply\n",
    "\n",
    "    def __getitem__(self, name):\n",
    "        return self.operations[name]\n",
    "\n",
    "    @staticmethod\n",
    "    def get_active_graph(graph=None):\n",
    "        \"\"\"\n",
    "        Obtain the currently active graph instance by returning the explicitly given graph or using\n",
    "        the default graph.\n",
    "        Parameters\n",
    "        ----------\n",
    "        graph : Graph or None\n",
    "            Graph to return or `None` to use the default graph.\n",
    "        Raises\n",
    "        ------\n",
    "        ValueError\n",
    "            If no `Graph` instance can be obtained.\n",
    "        \"\"\"\n",
    "        graph = graph or Graph._globals.default_graph\n",
    "        if not graph:\n",
    "            raise ValueError(\"`graph` must be given explicitly or a default graph must be set\")\n",
    "        return graph"
   ]
  },
  {
   "cell_type": "code",
   "execution_count": 59,
   "metadata": {},
   "outputs": [
    {
     "ename": "AttributeError",
     "evalue": "'str' object has no attribute 'evaluate'",
     "output_type": "error",
     "traceback": [
      "\u001b[0;31m---------------------------------------------------------------------------\u001b[0m",
      "\u001b[0;31mAttributeError\u001b[0m                            Traceback (most recent call last)",
      "\u001b[0;32m<ipython-input-59-683b3baff907>\u001b[0m in \u001b[0;36m<module>\u001b[0;34m()\u001b[0m\n\u001b[1;32m    119\u001b[0m         \u001b[0;32mraise\u001b[0m \u001b[0mNotImplementedError\u001b[0m\u001b[0;34m\u001b[0m\u001b[0m\n\u001b[1;32m    120\u001b[0m \u001b[0;32mimport\u001b[0m \u001b[0mtraceback\u001b[0m\u001b[0;34m\u001b[0m\u001b[0m\n\u001b[0;32m--> 121\u001b[0;31m \u001b[0mOperation\u001b[0m\u001b[0;34m(\u001b[0m\u001b[0mdependencies\u001b[0m\u001b[0;34m=\u001b[0m\u001b[0;34m[\u001b[0m\u001b[0;34m'model2'\u001b[0m\u001b[0;34m]\u001b[0m\u001b[0;34m)\u001b[0m\u001b[0;34m.\u001b[0m\u001b[0mevaluate_dependencies\u001b[0m\u001b[0;34m(\u001b[0m\u001b[0;34m'model1'\u001b[0m\u001b[0;34m)\u001b[0m\u001b[0;34m\u001b[0m\u001b[0m\n\u001b[0m",
      "\u001b[0;32m<ipython-input-59-683b3baff907>\u001b[0m in \u001b[0;36mevaluate_dependencies\u001b[0;34m(self, context, callback)\u001b[0m\n\u001b[1;32m     83\u001b[0m         \"\"\"\n\u001b[1;32m     84\u001b[0m         \u001b[0;32mfor\u001b[0m \u001b[0moperation\u001b[0m \u001b[0;32min\u001b[0m \u001b[0mself\u001b[0m\u001b[0;34m.\u001b[0m\u001b[0mdependencies\u001b[0m\u001b[0;34m:\u001b[0m\u001b[0;34m\u001b[0m\u001b[0m\n\u001b[0;32m---> 85\u001b[0;31m             \u001b[0moperation\u001b[0m\u001b[0;34m.\u001b[0m\u001b[0mevaluate\u001b[0m\u001b[0;34m(\u001b[0m\u001b[0mcontext\u001b[0m\u001b[0;34m,\u001b[0m \u001b[0mcallback\u001b[0m\u001b[0;34m)\u001b[0m\u001b[0;34m\u001b[0m\u001b[0m\n\u001b[0m\u001b[1;32m     86\u001b[0m     \u001b[0;32mdef\u001b[0m \u001b[0mevaluate\u001b[0m\u001b[0;34m(\u001b[0m\u001b[0mself\u001b[0m\u001b[0;34m,\u001b[0m \u001b[0mcontext\u001b[0m\u001b[0;34m,\u001b[0m \u001b[0mcallback\u001b[0m\u001b[0;34m=\u001b[0m\u001b[0mNone\u001b[0m\u001b[0;34m)\u001b[0m\u001b[0;34m:\u001b[0m\u001b[0;34m\u001b[0m\u001b[0m\n\u001b[1;32m     87\u001b[0m         \"\"\"\n",
      "\u001b[0;31mAttributeError\u001b[0m: 'str' object has no attribute 'evaluate'"
     ]
    }
   ],
   "source": [
    "import uuid\n",
    "class Operation:  # pylint:disable=too-few-public-methods,too-many-instance-attributes\n",
    "    \"\"\"\n",
    "    Base class for operations.\n",
    "    Parameters\n",
    "    ----------\n",
    "    args : tuple\n",
    "        Positional arguments passed to the `_evaluate` method.\n",
    "    kwargs : dict\n",
    "        Keyword arguments passed to the `_evaluate` method.\n",
    "    length : int or None\n",
    "        Optional number of values returned by the operation. The length only needs to be specified\n",
    "        if the operation should support iterable\n",
    "        [unpacking](https://www.python.org/dev/peps/pep-3132/).\n",
    "    graph : Graph or None\n",
    "        Data flow graph for this operation or `None` to use the default graph.\n",
    "    name : str or None\n",
    "        Name of the operation or `None` to use a random, unique identifier.\n",
    "    dependencies : list\n",
    "        Explicit sequence of operations to evaluate before evaluating this operation.\n",
    "    \"\"\"\n",
    "    def __init__(self, length=None, graph=None, name=None, dependencies=None, **kwargs):\n",
    "        self.kwargs = kwargs\n",
    "        self.length = length\n",
    "        # Choose a name for the operation and add the operation to the graph\n",
    "        self._name = None\n",
    "        self.name = name or uuid.uuid4().hex\n",
    "        # Get a list of all dependencies relevant to this operation\n",
    "        self.dependencies = [] if dependencies is None else dependencies\n",
    "        self.fn={}\n",
    "        #self.dependencies.extend(self.graph.dependencies)\n",
    "        # Get the stack context so we can report where the operation was defined\n",
    "        self._stack = traceback.extract_stack()\n",
    "\n",
    "    def __getstate__(self):\n",
    "        return self.__dict__\n",
    "\n",
    "    def __setstate__(self, data):\n",
    "        self.__dict__.update(data)\n",
    "\n",
    "    @property\n",
    "    def name(self):\n",
    "        \"\"\"str : Unique name of the operation\"\"\"\n",
    "        return self._name\n",
    "\n",
    "    @name.setter\n",
    "    def name(self, name):\n",
    "        self.set_name(name)\n",
    "\n",
    "    def set_name(self, name):\n",
    "        \"\"\"\n",
    "        Set the name of the operation and update the graph.\n",
    "        Parameters\n",
    "        ----------\n",
    "        value : str\n",
    "            Unique name of the operation.\n",
    "        Returns\n",
    "        -------\n",
    "        self : Operation\n",
    "            This operation.\n",
    "        Raises\n",
    "        ------\n",
    "        ValueError\n",
    "            If an operation with `value` already exists in the associated graph.\n",
    "        KeyError\n",
    "            If the current name of the operation cannot be found in the associated graph.\n",
    "        \"\"\"\n",
    "        if name in self.graph.operations:\n",
    "            raise ValueError(\"duplicate name '{name}'\")\n",
    "        if self._name is not None:\n",
    "            self.graph.operations.pop(self._name)\n",
    "        self.graph.operations[name] = self\n",
    "        self._name = name\n",
    "        return self\n",
    "    def evaluate_dependencies(self, context, callback=None):\n",
    "        \"\"\"\n",
    "        Evaluate the dependencies of this operation and discard the values.\n",
    "        Parameters\n",
    "        ----------\n",
    "        context : dict\n",
    "            Normalised context in which to evaluate the operation.\n",
    "        callback : callable or None\n",
    "            Callback to be evaluated when an operation is evaluated.\n",
    "        \"\"\"\n",
    "        for operation in self.dependencies:\n",
    "            self.fn \n",
    "            operation.evaluate(context, callback)\n",
    "    def evaluate(self, context, callback=None):\n",
    "        \"\"\"\n",
    "        Evaluate the operation given a context.\n",
    "        Parameters\n",
    "        ----------\n",
    "        context : dict\n",
    "            Normalised context in which to evaluate the operation.\n",
    "        callback : callable or None\n",
    "            Callback to be evaluated when an operation is evaluated.\n",
    "        Returns\n",
    "        -------\n",
    "        value : object\n",
    "            Output of the operation given the context.\n",
    "        \"\"\"\n",
    "        # Evaluate all explicit dependencies first\n",
    "        self.evaluate_dependencies(context, callback)\n",
    "\n",
    "        if self in context:\n",
    "            return context[self]\n",
    "        # Evaluate the parents\n",
    "        partial = functools.partial(self.evaluate_operation, context=context, callback=callback)\n",
    "        args = [partial(arg) for arg in self.args]\n",
    "        kwargs = {key: partial(value) for key, value in self.kwargs.items()}\n",
    "        # Evaluate the operation\n",
    "        callback = callback or _noop_callback\n",
    "        with callback(self, context):\n",
    "            context[self] = value = self._evaluate(*args, **kwargs)\n",
    "        return value\n",
    "\n",
    "    def _evaluate(self, *args, **kwargs):\n",
    "        \"\"\"\n",
    "        Inheriting operations should implement this function to evaluate the operation.\n",
    "        \"\"\"\n",
    "        raise NotImplementedError\n",
    "import traceback\n",
    "Operation(dependencies=['model2','model1']).evaluate_dependencies('model1')"
   ]
  },
  {
   "cell_type": "code",
   "execution_count": 75,
   "metadata": {},
   "outputs": [],
   "source": [
    "class A(object):\n",
    "    def bar(self,x):\n",
    "        bar = 1\n",
    "        return x\n",
    "a = A()\n",
    "getattr(a, 'bar')\n",
    "\n",
    "#dict((k, getattr(d, k)) for k in keys if hasattr(d, k))\n",
    "d=a\n",
    "k='bar'\n",
    "#dict(k:)\n",
    "\n"
   ]
  },
  {
   "cell_type": "code",
   "execution_count": 73,
   "metadata": {},
   "outputs": [],
   "source": [
    "fn=getattr(d, k)"
   ]
  },
  {
   "cell_type": "code",
   "execution_count": 74,
   "metadata": {},
   "outputs": [
    {
     "data": {
      "text/plain": [
       "3"
      ]
     },
     "execution_count": 74,
     "metadata": {},
     "output_type": "execute_result"
    }
   ],
   "source": [
    "fn(3)"
   ]
  },
  {
   "cell_type": "code",
   "execution_count": 76,
   "metadata": {},
   "outputs": [],
   "source": [
    "tt={}\n",
    "tt[k]=getattr(d, k)"
   ]
  },
  {
   "cell_type": "code",
   "execution_count": 78,
   "metadata": {},
   "outputs": [
    {
     "data": {
      "text/plain": [
       "5"
      ]
     },
     "execution_count": 78,
     "metadata": {},
     "output_type": "execute_result"
    }
   ],
   "source": [
    "tt['bar'](5)"
   ]
  },
  {
   "cell_type": "code",
   "execution_count": 79,
   "metadata": {},
   "outputs": [
    {
     "data": {
      "text/plain": [
       "True"
      ]
     },
     "execution_count": 79,
     "metadata": {},
     "output_type": "execute_result"
    }
   ],
   "source": [
    "hasattr(d, k)"
   ]
  },
  {
   "cell_type": "code",
   "execution_count": 122,
   "metadata": {},
   "outputs": [
    {
     "data": {
      "text/plain": [
       "{u'alternative': {u'name': u'alternative-2'},\n",
       " u'client_id': u'705c942c-c9cd-421f-83c9-293827d104cc',\n",
       " u'experiment': {u'name': u'ab_recom_join'},\n",
       " u'status': u'ok'}"
      ]
     },
     "execution_count": 122,
     "metadata": {},
     "output_type": "execute_result"
    }
   ],
   "source": [
    "from Arthur.core.controller.abtesting.driver.abtesting_client import SessionDriver\n",
    "\n",
    "class ABexpDispatcher(object):\n",
    "    def __init__(self, client_id=None,options=None):\n",
    "        self.options = options\n",
    "        self.session = SessionDriver(client_id=client_id, options=self.options)\n",
    "\n",
    "    def get_model(self,exp_name, model_list,force=None, traffic_fraction=1, prefetch=False):\n",
    "        return self.session.participate(exp_name, model_list)#[\"alternative\"]\n",
    "\n",
    "    def model_convert(self, exp_name, kpi=None):\n",
    "        return self.session.convert(exp_name,kpi)\n",
    "\n",
    "\n",
    "\n",
    "\n",
    "\n",
    "options ={'host': 'http://0.0.0.0:8002'}\n",
    "\n",
    "recom=ABexpDispatcher(options=options)\n",
    "recom.get_model(\"ab_recom_join\", [\"alternative-2\", \"alternative-1\"])\n",
    "recom.model_convert('ab_recom_join',kpi='cvt')"
   ]
  },
  {
   "cell_type": "code",
   "execution_count": 121,
   "metadata": {},
   "outputs": [
    {
     "data": {
      "text/plain": [
       "{u'alternative': {u'name': u'alternative-1'},\n",
       " u'client_id': u'cafef99e-ed87-44ce-830c-c0ae05a6e5c4',\n",
       " u'conversion': {u'kpi': u'cvt', u'value': None},\n",
       " u'experiment': {u'name': u'ab_recom_join'},\n",
       " u'status': u'ok'}"
      ]
     },
     "execution_count": 121,
     "metadata": {},
     "output_type": "execute_result"
    }
   ],
   "source": [
    "recom.model_convert('ab_recom_join',kpi='cvt')"
   ]
  },
  {
   "cell_type": "code",
   "execution_count": 125,
   "metadata": {},
   "outputs": [
    {
     "name": "stdout",
     "output_type": "stream",
     "text": [
      "{u'status': u'ok', u'alternative': {u'name': u'alternative-1'}, u'experiment': {u'name': u'ab_recom_join'}, u'conversion': {u'kpi': u'cvr', u'value': None}, u'client_id': u'123'}\n"
     ]
    }
   ],
   "source": [
    "options ={'host': 'http://0.0.0.0:8002'}\n",
    "session = SessionDriver(client_id=\"123\", options=options)\n",
    "session.participate(\"ab_recom_join\", [\"alternative-2\", \"alternative-1\"])\n",
    "print session.convert(\"ab_recom_join\", 'cvr')\n"
   ]
  },
  {
   "cell_type": "code",
   "execution_count": 115,
   "metadata": {},
   "outputs": [],
   "source": [
    "import re\n",
    "VALID_NAME_RE = re.compile(r\"^[a-z0-9][a-z0-9\\-_ ]*$\", re.I)\n",
    "if VALID_NAME_RE.match('d-') is None: \n",
    "    print 'fff'"
   ]
  },
  {
   "cell_type": "code",
   "execution_count": null,
   "metadata": {},
   "outputs": [],
   "source": []
  }
 ],
 "metadata": {
  "kernelspec": {
   "display_name": "Python 2",
   "language": "python",
   "name": "python2"
  },
  "language_info": {
   "codemirror_mode": {
    "name": "ipython",
    "version": 2
   },
   "file_extension": ".py",
   "mimetype": "text/x-python",
   "name": "python",
   "nbconvert_exporter": "python",
   "pygments_lexer": "ipython2",
   "version": "2.7.13"
  }
 },
 "nbformat": 4,
 "nbformat_minor": 2
}
