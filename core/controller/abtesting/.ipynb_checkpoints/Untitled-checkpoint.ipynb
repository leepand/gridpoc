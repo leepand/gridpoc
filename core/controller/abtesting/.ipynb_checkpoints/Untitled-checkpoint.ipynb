{
 "cells": [
  {
   "cell_type": "code",
   "execution_count": 1,
   "metadata": {},
   "outputs": [
    {
     "name": "stdout",
     "output_type": "stream",
     "text": [
      "Writing abdispatcher.py\n"
     ]
    }
   ],
   "source": [
    "%%file abdispatcher.py\n",
    "# -*- coding: UTF-8 -*-\n",
    "# author: leepand\n",
    "# time: 2019-02-27\n",
    "# desc: abtesting dispatcher\n",
    "from Arthur.core.controller.abtesting.driver.abtesting_client import SessionDriver\n",
    "\n",
    "class ABexpDispatcher(object):\n",
    "    def __init__(self, client_id=None,options=None):\n",
    "        self.options = options\n",
    "        self.session = SessionDriver(client_id=client_id, options=self.options)\n",
    "\n",
    "    def get_model(self,exp_name, model_list,force=None, traffic_fraction=1, prefetch=False):\n",
    "        return self.session.participate(exp_name, model_list)#[\"alternative\"]\n",
    "\n",
    "    def model_convert(self, exp_name, kpi=None):\n",
    "        return self.session.convert(exp_name,kpi)\n",
    "\n",
    "\"\"\"\n",
    "options ={'host': 'http://0.0.0.0:8002'}\n",
    "\n",
    "recom=ABexpDispatcher(options=options)\n",
    "recom.get_model(\"ab_recom_join\", [\"alternative-2\", \"alternative-1\"])\n",
    "recom.model_convert('ab_recom_join',kpi='cvt')\n",
    "\"\"\""
   ]
  },
  {
   "cell_type": "code",
   "execution_count": null,
   "metadata": {},
   "outputs": [],
   "source": []
  }
 ],
 "metadata": {
  "kernelspec": {
   "display_name": "Python 2",
   "language": "python",
   "name": "python2"
  },
  "language_info": {
   "codemirror_mode": {
    "name": "ipython",
    "version": 2
   },
   "file_extension": ".py",
   "mimetype": "text/x-python",
   "name": "python",
   "nbconvert_exporter": "python",
   "pygments_lexer": "ipython2",
   "version": "2.7.13"
  }
 },
 "nbformat": 4,
 "nbformat_minor": 2
}
