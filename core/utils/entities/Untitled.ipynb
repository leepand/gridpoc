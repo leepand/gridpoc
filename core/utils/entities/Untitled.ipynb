{
 "cells": [
  {
   "cell_type": "code",
   "execution_count": 2,
   "metadata": {},
   "outputs": [
    {
     "name": "stdout",
     "output_type": "stream",
     "text": [
      "Writing model.py\n"
     ]
    }
   ],
   "source": [
    "%%file model.py\n",
    "from datetime import datetime\n",
    "\n",
    "\n",
    "class Model():\n",
    "    \"\"\"Model is an entity object that encapsulates other entities\n",
    "    Note\n",
    "    ----\n",
    "    All attributes of the class in the ``Attributes`` section must be serializable by the DB\n",
    "    Parameters\n",
    "    ----------\n",
    "    dictionary : dict\n",
    "        id : str, optional\n",
    "            the id of the entity\n",
    "            (default is None; storage driver has not assigned an id yet)\n",
    "        name : str, optional\n",
    "            name given by the user at creation\n",
    "            (default is None, which means no name set)\n",
    "        description : str, optional\n",
    "            description given by the user at creation\n",
    "            (default is None, which means no description set)\n",
    "        created_at : datetime.datetime, optional\n",
    "            (default is datetime.utcnow(), at time of instantiation)\n",
    "        updated_at : datetime.datetime, optional\n",
    "            (default is same as created_at, at time of instantiation)\n",
    "    Attributes\n",
    "    ----------\n",
    "    id : str or None\n",
    "        the id of the entity\n",
    "    name : str or None\n",
    "        name given by the user at creation\n",
    "    description : str or None\n",
    "        description given by the user at creation\n",
    "    created_at : datetime.datetime\n",
    "    updated_at : datetime.datetime\n",
    "    \"\"\"\n",
    "\n",
    "    def __init__(self, dictionary):\n",
    "        self.id = dictionary.get('id', None)\n",
    "        self.name = dictionary.get('name', None)\n",
    "        # TODO: figure out User object and handling of owner in Project\n",
    "        # self.owner_id = dictionary['owner_id']\n",
    "\n",
    "        self.description = dictionary.get('description', None)\n",
    "        self.created_at = dictionary.get('created_at', datetime.utcnow())\n",
    "        self.updated_at = dictionary.get('updated_at', self.created_at)\n",
    "\n",
    "        # self.best_snapshot_id = best_snapshot_id\n",
    "        # self.owner_id = owner_id\n",
    "        # self.base_model_id = base_model_id\n",
    "        # self.family_id = family_id\n",
    "\n",
    "    def __eq__(self, other):\n",
    "        return self.id == other.id if other else False\n",
    "\n",
    "    def to_dictionary(self):\n",
    "        attr_dict = self.__dict__\n",
    "        pruned_attr_dict = {\n",
    "            attr: val\n",
    "            for attr, val in attr_dict.items()\n",
    "            if not callable(getattr(self, attr)) and not attr.startswith(\"__\")\n",
    "        }\n",
    "        return pruned_attr_dict\n",
    "\n",
    "\"\"\"\n",
    "dictionary={}\n",
    "x=Model(dictionary)\n",
    "x.to_dictionary()\n",
    "\"\"\"    \n"
   ]
  },
  {
   "cell_type": "code",
   "execution_count": null,
   "metadata": {},
   "outputs": [],
   "source": []
  }
 ],
 "metadata": {
  "kernelspec": {
   "display_name": "Python 2",
   "language": "python",
   "name": "python2"
  },
  "language_info": {
   "codemirror_mode": {
    "name": "ipython",
    "version": 2
   },
   "file_extension": ".py",
   "mimetype": "text/x-python",
   "name": "python",
   "nbconvert_exporter": "python",
   "pygments_lexer": "ipython2",
   "version": "2.7.13"
  }
 },
 "nbformat": 4,
 "nbformat_minor": 2
}
