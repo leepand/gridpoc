{
 "cells": [
  {
   "cell_type": "code",
   "execution_count": 1,
   "metadata": {},
   "outputs": [
    {
     "name": "stdout",
     "output_type": "stream",
     "text": [
      "Writing login.js\n"
     ]
    }
   ],
   "source": [
    "%%file login.js\n",
    " $(document).ready(function(){\n",
    "            $(\".show-signup-form, .show-signin-form\").click(function(){\n",
    "                $(\"#signin-card\").fadeToggle(0);\n",
    "                $(\"#signup-card\").fadeToggle(0);\n",
    "            });\n",
    "            $('#signup-birth-date').datepicker({\n",
    "                maxDate : 'now',\n",
    "                startDate : new Date('1900-08-08'),\n",
    "                endDate : new Date(),\n",
    "                autoclose: true,\n",
    "                todayHighlight: true});\n",
    "            function login(email, password) {\n",
    "                User.login(email, password, {\n",
    "                    success: function(){\n",
    "                        location.href=\"timeline.html\";\n",
    "                    },\n",
    "                    error: function() {\n",
    "                        toastr.error(\"login failed\")\n",
    "                    }\n",
    "                });\n",
    "            }\n",
    "            $(\"#login-form\").submit(function(e){\n",
    "                e.preventDefault();\n",
    "                var email = $(\"#login-email\").val();\n",
    "                var password = $(\"#login-password\").val();\n",
    "                var that = this;\n",
    "                login(email, password);\n",
    "            });\n",
    "            $(\"#signup-card form\").submit(function(e){\n",
    "                e.preventDefault();\n",
    "                var data = {\n",
    "                    \"first_name\": $(\"#signup-firstname\").val(),\n",
    "                    \"last_name\": $(\"#signup-lastname\").val(),\n",
    "                    \"email\": $(\"#signup-email\").val(),\n",
    "                    \"username\": $(\"#signup-email\").val(),\n",
    "                    \"password\": $(\"#signup-password\").val(),\n",
    "                    \"userprofile\": {\n",
    "                        \"gender\": $(\"input[name='signup-gender']:checked\").val(),\n",
    "                        \"birth_date\": $(\"#signup-birth-date\").data('datepicker').getFormattedDate('yyyy-mm-dd'),\n",
    "                        \"height\": $(\"#signup-height\").val(),\n",
    "                    }\n",
    "                };\n",
    "                $(\"#signup-error-message\").hide()\n",
    "                User.register(data, {\n",
    "                    success: function(res){\n",
    "                        Weights.insertWeight(moment().format('YYYY-MM-DD'), $(\"#signup-weight\").val(), {\n",
    "                            success: function(){\n",
    "                                login(data.email, data.password);\n",
    "                            },\n",
    "                            error: function() {\n",
    "                                login(data.email, data.password);\n",
    "                            }\n",
    "                        })\n",
    "                    },\n",
    "                    error: function(res){\n",
    "                        var errors = JSON.parse(res.responseText);\n",
    "                        $(\"#signup-error-message\").show()\n",
    "                        for(var i in errors) {\n",
    "                            $(\"#signup-error-message span\").html(i + \": \" + errors[i]);\n",
    "                            break;\n",
    "                        }\n",
    "                        console.log(res)\n",
    "                    }\n",
    "                })\n",
    "            });\n",
    "        });"
   ]
  },
  {
   "cell_type": "code",
   "execution_count": 1,
   "metadata": {},
   "outputs": [
    {
     "name": "stdout",
     "output_type": "stream",
     "text": [
      "Writing nav_change.js\n"
     ]
    }
   ],
   "source": [
    "%%file nav_change.js\n",
    "//实现单选\n",
    "$(function () {\n",
    "\t\t    $('#recommendtype div:first-child div').addClass('active');\n",
    "\t\t    $('#recommendtype div div').click(function () {\n",
    "\t\t        $(this).addClass('active');\n",
    "\t\t        $(this).parent().siblings().find('div').removeClass('active');\n",
    "                \n",
    "\t\t    });\n",
    "\t\t});"
   ]
  },
  {
   "cell_type": "code",
   "execution_count": null,
   "metadata": {},
   "outputs": [],
   "source": [
    "%%file remind.js\n",
    "(function () {\n",
    "    window.amGloble = {\n",
    "        Remind: function (d, text, key, dom) {    // d:数据，text：数据中的文本，key：数据中的唯一标识（id），dom：插入DOM节点的id名\n",
    "            var checkData = JSON.parse(localStorage.getItem('checkData'));\n",
    "            if (JSON.stringify(checkData) == 'null') {\n",
    "                checkData = {};\n",
    "            };\n",
    "            var html = '';\n",
    "            for (i = 0, l = d.length; i < l; i++) {\n",
    "                var isChecked = false;\n",
    "                var isOwn = checkData.hasOwnProperty(d[i][key]);   // 判断是否包含这个属性\n",
    "                if (isOwn) {       // 如果包含这个订单属性，则取localStorage中的值\n",
    "                    isChecked = checkData[d[i][key]];\n",
    "                } else {           // 初始化都为false\n",
    "                    checkData[d[i][key]] = false;    // localStorage没有此订单查看状态，则赋值fasle未查看\n",
    "                    localStorage.setItem('checkData', JSON.stringify(checkData));       // 转为JSON字符串，存储localStorage  \n",
    "                };\n",
    "\n",
    "                var point = isChecked ? '' : '<div class=\"point\"></div>';   // 已查看不显示红点，未查看就显示红点\n",
    "                html += '<li><a href=\"./detail.html?key=' + d[i][key] + '&text=' + d[i].text + '\"><span>' + d[i].text + point + '</span></a></li>';\n",
    "            };\n",
    "            $('#' + dom).html(html);\n",
    "        },\n",
    "        Updata: function (key) {\n",
    "            if (key) {\n",
    "                var checkData = JSON.parse(localStorage.getItem('checkData'));\n",
    "                if (JSON.stringify(checkData) != 'null') {\n",
    "                    checkData[key] = true;\n",
    "                    localStorage.setItem('checkData', JSON.stringify(checkData));\n",
    "                }\n",
    "            };\n",
    "        },\n",
    "        GetQueryString: function (name) {\n",
    "            // 获取地址栏参数\n",
    "            var reg = new RegExp(\"(^|&)\" + name + \"=([^&]*)(&|$)\");\n",
    "            var r = window.location.search.substr(1).match(reg);\n",
    "            if (r != null) return decodeURIComponent(r[2]); return null;\n",
    "        }\n",
    "    }\n",
    "})();"
   ]
  }
 ],
 "metadata": {
  "kernelspec": {
   "display_name": "Python 2",
   "language": "python",
   "name": "python2"
  },
  "language_info": {
   "codemirror_mode": {
    "name": "ipython",
    "version": 2
   },
   "file_extension": ".py",
   "mimetype": "text/x-python",
   "name": "python",
   "nbconvert_exporter": "python",
   "pygments_lexer": "ipython2",
   "version": "2.7.13"
  }
 },
 "nbformat": 4,
 "nbformat_minor": 2
}
