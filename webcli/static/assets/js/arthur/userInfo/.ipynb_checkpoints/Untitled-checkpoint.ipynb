{
 "cells": [
  {
   "cell_type": "code",
   "execution_count": 2,
   "metadata": {},
   "outputs": [
    {
     "name": "stdout",
     "output_type": "stream",
     "text": [
      "Writing userProfile.js\n"
     ]
    }
   ],
   "source": [
    "%%file userProfile.js\n",
    "function initProfile()"
   ]
  },
  {
   "cell_type": "code",
   "execution_count": null,
   "metadata": {},
   "outputs": [],
   "source": [
    "%%file userInfoGetInsert.js\n",
    "Weights = {\n",
    "\n",
    "}\n",
    "\n",
    "\n",
    "Weights.getHistory = function(options) {\n",
    "    User.ajax({\n",
    "        url: \"/api/weights/\",\n",
    "        method: \"GET\",\n",
    "    }).success(function(res){\n",
    "        if (options && options.success)\n",
    "            options.success(res)\n",
    "    }).error(function(res){\n",
    "        if (options && options.error)\n",
    "            options.error(res)\n",
    "    });\n",
    "}\n",
    "\n",
    "Weights.insertWeight = function(date, weight, options) {\n",
    "    User.ajax({\n",
    "        url: \"/api/weights/\",\n",
    "        method: \"POST\",\n",
    "        data: {\"date\": date, \"weight\": weight}\n",
    "    }).success(function(res){\n",
    "        if (options && options.success)\n",
    "            options.success(res)\n",
    "    }).error(function(res){\n",
    "        if (options && options.error)\n",
    "            options.error(res)\n",
    "    });\n",
    "}\n"
   ]
  },
  {
   "cell_type": "code",
   "execution_count": 4,
   "metadata": {},
   "outputs": [
    {
     "name": "stdout",
     "output_type": "stream",
     "text": [
      "Writing userListAdd.js\n"
     ]
    }
   ],
   "source": [
    "%%file userListAdd.js\n",
    "dd"
   ]
  },
  {
   "cell_type": "code",
   "execution_count": null,
   "metadata": {},
   "outputs": [],
   "source": []
  }
 ],
 "metadata": {
  "kernelspec": {
   "display_name": "Python 2",
   "language": "python",
   "name": "python2"
  },
  "language_info": {
   "codemirror_mode": {
    "name": "ipython",
    "version": 2
   },
   "file_extension": ".py",
   "mimetype": "text/x-python",
   "name": "python",
   "nbconvert_exporter": "python",
   "pygments_lexer": "ipython2",
   "version": "2.7.13"
  }
 },
 "nbformat": 4,
 "nbformat_minor": 2
}
