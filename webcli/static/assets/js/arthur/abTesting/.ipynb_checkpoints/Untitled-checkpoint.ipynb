{
 "cells": [
  {
   "cell_type": "code",
   "execution_count": 1,
   "metadata": {},
   "outputs": [
    {
     "name": "stdout",
     "output_type": "stream",
     "text": [
      "Writing zooabList.js\n"
     ]
    }
   ],
   "source": [
    "%%file zooabList.js\n",
    "/*\n",
    " *\n",
    " * Zoo-abtestList\n",
    " * Autor: Leepand\n",
    " * Date: 2019-02-18\n",
    " * \n",
    " */\n",
    "function fetch_entries(callback) {\n",
    "        User.ajax({\n",
    "            url: '/api/recipes/',\n",
    "            type: 'GET',\n",
    "            error: callback.onError,\n",
    "            success: callback.onSuccess,\n",
    "        });\n",
    "    }"
   ]
  },
  {
   "cell_type": "code",
   "execution_count": null,
   "metadata": {},
   "outputs": [],
   "source": []
  }
 ],
 "metadata": {
  "kernelspec": {
   "display_name": "Python 2",
   "language": "python",
   "name": "python2"
  },
  "language_info": {
   "codemirror_mode": {
    "name": "ipython",
    "version": 2
   },
   "file_extension": ".py",
   "mimetype": "text/x-python",
   "name": "python",
   "nbconvert_exporter": "python",
   "pygments_lexer": "ipython2",
   "version": "2.7.13"
  }
 },
 "nbformat": 4,
 "nbformat_minor": 2
}
