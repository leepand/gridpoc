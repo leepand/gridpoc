{
 "cells": [
  {
   "cell_type": "code",
   "execution_count": 1,
   "metadata": {},
   "outputs": [
    {
     "name": "stdout",
     "output_type": "stream",
     "text": [
      "Writing service_create_new.js\n"
     ]
    }
   ],
   "source": [
    "%%file service_create_new.js\n",
    "layui.use(['form','layer','layedit','laydate','upload'],function(){\n",
    "    var form = layui.form\n",
    "        layer = parent.layer === undefined ? layui.layer : top.layer,\n",
    "        laypage = layui.laypage,\n",
    "        upload = layui.upload,\n",
    "        layedit = layui.layedit,\n",
    "        laydate = layui.laydate,\n",
    "        $ = layui.jquery;\n",
    "    //更新实验描述\n",
    "    $(\"body\").on(\"click\",\".edit_desc\",function(){\n",
    "     var abName = get_request_args(\"name\"); \n",
    "      var index =  layer.open({\n",
    "        id:1,\n",
    "        type: 1,\n",
    "        title:'Update Description',\n",
    "        skin:'layui-layer-rim',\n",
    "        area:['450px', 'auto'],\n",
    "            \n",
    "        content: ' <div class=\"row\" style=\"width: 420px;  margin-left:7px; margin-top:10px;\">'\n",
    "            +'<div class=\"col-sm-12\">'\n",
    "            +'<div class=\"input-group\">'\n",
    "            //+'<span class=\"input-group-addon\"> 新 密 码   :</span>'\n",
    "            +'<textarea name=\"desc\" placeholder=\"请输入实验描述内容\" class=\"layui-textarea\" id=\"form_edit_desc\" style=\"width: 390px;\"></textarea>'\n",
    "            +'</div>'\n",
    "            +'</div>'\n",
    "              +'</div>'\n",
    "        ,\n",
    "        btn:['保存描述','取消'],\n",
    "        btn1: function (index,layero) {\n",
    "        //console.log('edit_desc',$(\"#form_edit_desc\").val())  \n",
    "        abexp_actions(abName,$(\"#form_edit_desc\").val(),\"update_desc\");\n",
    "        },\n",
    "        btn2:function (index,layero) {\n",
    "             layer.close(index);\n",
    "        }\n",
    " \n",
    "    });    \n",
    "        \n",
    "    })\n",
    "    \n",
    "    \n",
    "})"
   ]
  },
  {
   "cell_type": "code",
   "execution_count": null,
   "metadata": {},
   "outputs": [],
   "source": []
  }
 ],
 "metadata": {
  "kernelspec": {
   "display_name": "Python 2",
   "language": "python",
   "name": "python2"
  },
  "language_info": {
   "codemirror_mode": {
    "name": "ipython",
    "version": 2
   },
   "file_extension": ".py",
   "mimetype": "text/x-python",
   "name": "python",
   "nbconvert_exporter": "python",
   "pygments_lexer": "ipython2",
   "version": "2.7.13"
  }
 },
 "nbformat": 4,
 "nbformat_minor": 2
}
