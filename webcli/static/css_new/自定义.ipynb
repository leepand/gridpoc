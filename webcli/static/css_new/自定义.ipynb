{
 "cells": [
  {
   "cell_type": "code",
   "execution_count": 1,
   "metadata": {},
   "outputs": [
    {
     "name": "stdout",
     "output_type": "stream",
     "text": [
      "Writing Arthur.css\n"
     ]
    }
   ],
   "source": [
    "%%file Arthur.css\n",
    "address{ background-color:#FFF; padding:20px 0px; text-align:center; font-style:normal; line-height:1.8em;}\n"
   ]
  },
  {
   "cell_type": "code",
   "execution_count": null,
   "metadata": {},
   "outputs": [],
   "source": [
    "            <!-- /footer -->\n",
    "            <div class=\"row border-bottom\">\n",
    "                <footer>\n",
    "                    <nav class=\"navbar navbar-static-top\" role=\"navigation\" style=\"margin-bottom: 0\">\n",
    "                       <div text-align=\"center\"> 上海丙晟科技有限公司 Copyright &copy; 2018<br>邮箱：pandeng.li@163.com  技术支持：Arthur技术部</div>\n",
    "                    </nav>\n",
    "                </footer>\n",
    "                <!-- /footer -->\n",
    "            </div>"
   ]
  },
  {
   "cell_type": "code",
   "execution_count": null,
   "metadata": {},
   "outputs": [],
   "source": [
    "                               <tr>\n",
    "                                        <td class=\"project-status\">\n",
    "                                            <span class=\"label label-primary\">进行中</span>\n",
    "                                        </td>\n",
    "                                        <td class=\"project-title\">\n",
    "                                            <a href=\"project_detail.html\">米莫说｜MiMO Show</a>\n",
    "                                            <br/>\n",
    "                                            <small>创建于 2014.08.15</small>\n",
    "                                        </td>\n",
    "                                        <td class=\"project-completion\">\n",
    "                                            <small>当前进度： 28%</small>\n",
    "                                            <div class=\"progress progress-mini\">\n",
    "                                                <div style=\"width: 28%;\" class=\"progress-bar\"></div>\n",
    "                                            </div>\n",
    "                                        </td>\n",
    "                                        <td class=\"project-people\">\n",
    "                                            <a href=\"projects.html\"><img alt=\"image\" class=\"img-circle\" src=\"img/a7.jpg\"></a>\n",
    "                                            <a href=\"projects.html\"><img alt=\"image\" class=\"img-circle\" src=\"img/a6.jpg\"></a>\n",
    "                                            <a href=\"projects.html\"><img alt=\"image\" class=\"img-circle\" src=\"img/a3.jpg\"></a>\n",
    "                                        </td>\n",
    "                                        <td class=\"project-actions\">\n",
    "                                            <a href=\"projects.html#\" class=\"btn btn-white btn-sm\"><i class=\"fa fa-folder\"></i> 查看 </a>\n",
    "                                            <a href=\"projects.html#\" class=\"btn btn-white btn-sm\"><i class=\"fa fa-pencil\"></i> 编辑 </a>\n",
    "                                        </td>\n",
    "                                    </tr>\n",
    "                                    <tr>\n",
    "                                        <td class=\"project-status\">\n",
    "                                            <span class=\"label label-default\">已取消</span>\n",
    "                                        </td>\n",
    "                                        <td class=\"project-title\">\n",
    "                                            <a href=\"project_detail.html\">商家与购物用户的交互试衣应用</a>\n",
    "                                            <br/>\n",
    "                                            <small>创建于 2014.08.15</small>\n",
    "                                        </td>\n",
    "                                        <td class=\"project-completion\">\n",
    "                                            <small>当前进度： 8%</small>\n",
    "                                            <div class=\"progress progress-mini\">\n",
    "                                                <div style=\"width: 8%;\" class=\"progress-bar\"></div>\n",
    "                                            </div>\n",
    "                                        </td>\n",
    "                                        <td class=\"project-people\">\n",
    "                                            <a href=\"projects.html\"><img alt=\"image\" class=\"img-circle\" src=\"img/a5.jpg\"></a>\n",
    "                                            <a href=\"projects.html\"><img alt=\"image\" class=\"img-circle\" src=\"img/a3.jpg\"></a>\n",
    "                                        </td>\n",
    "                                        <td class=\"project-actions\">\n",
    "                                            <a href=\"projects.html#\" class=\"btn btn-white btn-sm\"><i class=\"fa fa-folder\"></i> 查看 </a>\n",
    "                                            <a href=\"projects.html#\" class=\"btn btn-white btn-sm\"><i class=\"fa fa-pencil\"></i> 编辑 </a>\n",
    "                                        </td>\n",
    "                                    </tr>"
   ]
  }
 ],
 "metadata": {
  "kernelspec": {
   "display_name": "Python 2",
   "language": "python",
   "name": "python2"
  },
  "language_info": {
   "codemirror_mode": {
    "name": "ipython",
    "version": 2
   },
   "file_extension": ".py",
   "mimetype": "text/x-python",
   "name": "python",
   "nbconvert_exporter": "python",
   "pygments_lexer": "ipython2",
   "version": "2.7.13"
  }
 },
 "nbformat": 4,
 "nbformat_minor": 2
}
