{
 "cells": [
  {
   "cell_type": "code",
   "execution_count": null,
   "metadata": {},
   "outputs": [],
   "source": [
    "SCORE_SRC = \"\"\"\n",
    "import pandas as pd\n",
    "from azureml.core.model import Model\n",
    "from mlflow.pyfunc import load_pyfunc\n",
    "from mlflow.pyfunc.scoring_server import parse_json_input\n",
    "from mlflow.utils import get_jsonable_obj\n",
    "def init():\n",
    "    global model\n",
    "    model_path = Model.get_model_path(model_name=\"{model_name}\", version={model_version})\n",
    "    model = load_pyfunc(model_path)\n",
    "def run(json_input):\n",
    "    input_df = parse_json_input(json_input=json_input, orient=\"split\")\n",
    "    return get_jsonable_obj(model.predict(input_df), pandas_orient=\"records\")\n",
    "\"\"\"\n",
    "\n",
    "print SCORE_SRC.format(model_name='zure_model.name', model_version='azure_model.version')"
   ]
  },
  {
   "cell_type": "code",
   "execution_count": 5,
   "metadata": {},
   "outputs": [],
   "source": [
    "import urllib2\n",
    "import re\n",
    "import urllib\n",
    "def get_myip():\n",
    "    url = urllib2.urlopen(\"http://txt.go.sohu.com/ip/soip\")\n",
    "    text = url.read()\n",
    "    ip = re.findall(r'\\d+.\\d+.\\d+.\\d+',text)\n",
    "    return ip[0]\n",
    "SCORE_SRC = '''\n",
    "# coding:utf-8\n",
    "\"\"\"\n",
    "Compatible for python2.x and python3.x\n",
    "requirement: pip install requests Arthur\n",
    "\"\"\"\n",
    "from __future__ import print_function\n",
    "from Arthur.api_server.client import Client\n",
    "client =Client('{ip}:{port}',auth_token='该项目的apikey')\n",
    "input = {data}\n",
    "# 结果 \n",
    "print(client.{function_name}(**input))\n",
    "'''\n",
    "xx=SCORE_SRC.format(ip=get_myip(), port=5000,data={'n':10},function_name='pred')\n",
    "  "
   ]
  },
  {
   "cell_type": "code",
   "execution_count": 6,
   "metadata": {},
   "outputs": [
    {
     "name": "stdout",
     "output_type": "stream",
     "text": [
      "<type 'str'>\n"
     ]
    }
   ],
   "source": [
    "print(type(xx))"
   ]
  },
  {
   "cell_type": "code",
   "execution_count": 13,
   "metadata": {},
   "outputs": [
    {
     "data": {
      "text/plain": [
       "('fib.fib,fib', 'pred')"
      ]
     },
     "execution_count": 13,
     "metadata": {},
     "output_type": "execute_result"
    }
   ],
   "source": [
    "apifly_function='fib.fib,fib.pred'\n",
    "mod_name, func_name=function_spec.rsplit(\".\", 1)\n",
    "mod_name, func_name"
   ]
  },
  {
   "cell_type": "code",
   "execution_count": 19,
   "metadata": {},
   "outputs": [
    {
     "name": "stdout",
     "output_type": "stream",
     "text": [
      "\n",
      "# coding:utf-8\n",
      "\"\"\"\n",
      "Compatible for python2.x and python3.x\n",
      "requirement: pip install requests Arthur\n",
      "\"\"\"\n",
      "from __future__ import print_function\n",
      "from Arthur.api_server.client import Client\n",
      "client =Client('1.203.175.22:5000',auth_token='该项目的apikey')\n",
      "input = {'n': 10}\n",
      "# 结果 \n",
      "print(client.fib(**input))\n",
      "\n",
      "\n",
      "# coding:utf-8\n",
      "\"\"\"\n",
      "Compatible for python2.x and python3.x\n",
      "requirement: pip install requests Arthur\n",
      "\"\"\"\n",
      "from __future__ import print_function\n",
      "from Arthur.api_server.client import Client\n",
      "client =Client('1.203.175.22:5000',auth_token='该项目的apikey')\n",
      "input = {'n': 10}\n",
      "# 结果 \n",
      "print(client.pred(**input))\n",
      "\n"
     ]
    }
   ],
   "source": [
    "def load_function(function_spec, path=None, name=None):\n",
    "    if \".\" not in function_spec:\n",
    "        raise Exception(\"Invalid function: {}, please specify it as module.function\".format(function_spec))\n",
    "\n",
    "    mod_name, func_name = function_spec.rsplit(\".\", 1)\n",
    "    path = path or \"/\"+func_name\n",
    "    name = name or func_name\n",
    "    return name\n",
    "\n",
    "def load_functions(function_specs):\n",
    "    return [load_function(function_spec) for function_spec in function_specs]\n",
    "data='{\"x\":1},{\"y\":10}'\n",
    "apifly_function='fib.fib,fib.pred'\n",
    "funcs_info=load_functions(apifly_function.split(\",\"))\n",
    "for i in funcs_info:\n",
    "    print SCORE_SRC.format(ip=get_myip(), port=5000,data={'n':10},function_name=i)"
   ]
  },
  {
   "cell_type": "code",
   "execution_count": 51,
   "metadata": {},
   "outputs": [],
   "source": [
    "data='d'\n",
    "if ',' in data:\n",
    "    datalist=data.split(\",\")\n",
    "else:\n",
    "    datalist=[data]\n",
    "\n",
    "infer_info_list=[]\n",
    "for inter in range(len(funcs_info)):\n",
    "    try:\n",
    "        datainfo=datalist[inter]\n",
    "        if len(datainfo)<1:\n",
    "            datainfo=None\n",
    "    except:\n",
    "        datainfo=None\n",
    "    infer=INFER_INFO.format(data=datainfo,function_name=funcs_info[inter])\n",
    "    infer_info_list.append(infer)\n"
   ]
  },
  {
   "cell_type": "code",
   "execution_count": 52,
   "metadata": {},
   "outputs": [
    {
     "name": "stdout",
     "output_type": "stream",
     "text": [
      "\n",
      "\n",
      "\"\"\"\n",
      "Compatible for python2.x and python3.x\n",
      "requirement: pip install requests Arthur\n",
      "\"\"\"\n",
      "from __future__ import print_function\n",
      "from Arthur.api_server.client import Client\n",
      "client =Client('1.203.175.22:5000',auth_token='该项目的apikey')\n",
      "\n",
      "input = d\n",
      "# 结果 \n",
      "print(client.fib(**input))\n",
      "\n",
      "\n",
      "input = None\n",
      "# 结果 \n",
      "print(client.pred(**input))\n",
      "\n"
     ]
    }
   ],
   "source": [
    "BASE_INFO = '''\n",
    "# coding:utf-8\n",
    "\"\"\"\n",
    "Compatible for python2.x and python3.x\n",
    "requirement: pip install requests Arthur\n",
    "\"\"\"\n",
    "from __future__ import print_function\n",
    "from Arthur.api_server.client import Client\n",
    "client =Client('{ip}:{port}',auth_token='该项目的apikey')\n",
    "'''\n",
    "x=BASE_INFO.format(ip=get_myip(), port=5000)\n",
    "INFER_INFO = '''\n",
    "input = {data}\n",
    "# 结果 \n",
    "print(client.{function_name}(**input))\n",
    "'''\n",
    "y=INFER_INFO.format(data={'n':10},function_name='pred')\n",
    "print x+'\\n'.join(infer_info_list)"
   ]
  },
  {
   "cell_type": "code",
   "execution_count": 56,
   "metadata": {},
   "outputs": [
    {
     "data": {
      "text/plain": [
       "'multi-class-classifier'"
      ]
     },
     "execution_count": 56,
     "metadata": {},
     "output_type": "execute_result"
    }
   ],
   "source": [
    "'multi class classifier'.replace(' ','-')"
   ]
  },
  {
   "cell_type": "code",
   "execution_count": 66,
   "metadata": {},
   "outputs": [
    {
     "data": {
      "text/plain": [
       "'multi-class-classifier,machine-learning'"
      ]
     },
     "execution_count": 66,
     "metadata": {},
     "output_type": "execute_result"
    }
   ],
   "source": [
    "s='multi class  classifier,machine learning'\n",
    "taglist=s.split(',')\n",
    "\"-\".join(s.split())\n"
   ]
  },
  {
   "cell_type": "code",
   "execution_count": 60,
   "metadata": {},
   "outputs": [
    {
     "data": {
      "text/plain": [
       "['multi class  classifier', 'machine learning']"
      ]
     },
     "execution_count": 60,
     "metadata": {},
     "output_type": "execute_result"
    }
   ],
   "source": [
    "taglist"
   ]
  },
  {
   "cell_type": "code",
   "execution_count": 67,
   "metadata": {},
   "outputs": [],
   "source": [
    "tag_ul_list=\"-\".join(s.split()).split(',')"
   ]
  },
  {
   "cell_type": "code",
   "execution_count": 62,
   "metadata": {},
   "outputs": [
    {
     "data": {
      "text/plain": [
       "['multi-class-classifier', 'machine-learning']"
      ]
     },
     "execution_count": 62,
     "metadata": {},
     "output_type": "execute_result"
    }
   ],
   "source": [
    "tag_ul_list"
   ]
  },
  {
   "cell_type": "code",
   "execution_count": 63,
   "metadata": {},
   "outputs": [
    {
     "data": {
      "text/plain": [
       "''"
      ]
     },
     "execution_count": 63,
     "metadata": {},
     "output_type": "execute_result"
    }
   ],
   "source": [
    "s=''\n",
    "taglist=s.split(',')\n",
    "\"-\".join(s.split())"
   ]
  },
  {
   "cell_type": "code",
   "execution_count": 64,
   "metadata": {},
   "outputs": [
    {
     "data": {
      "text/plain": [
       "['']"
      ]
     },
     "execution_count": 64,
     "metadata": {},
     "output_type": "execute_result"
    }
   ],
   "source": [
    "taglist"
   ]
  },
  {
   "cell_type": "code",
   "execution_count": 68,
   "metadata": {},
   "outputs": [
    {
     "name": "stdout",
     "output_type": "stream",
     "text": [
      "{'multi-class-classifier': 'multi class  classifier', 'machine-learning': 'machine learning'}\n"
     ]
    }
   ],
   "source": [
    "print(dict(zip(tag_ul_list,taglist)))"
   ]
  },
  {
   "cell_type": "code",
   "execution_count": 69,
   "metadata": {},
   "outputs": [
    {
     "data": {
      "text/plain": [
       "''"
      ]
     },
     "execution_count": 69,
     "metadata": {},
     "output_type": "execute_result"
    }
   ],
   "source": [
    "taglistddd=['']\n",
    "taglistddd[0]"
   ]
  },
  {
   "cell_type": "code",
   "execution_count": null,
   "metadata": {},
   "outputs": [],
   "source": []
  }
 ],
 "metadata": {
  "kernelspec": {
   "display_name": "Python 2",
   "language": "python",
   "name": "python2"
  },
  "language_info": {
   "codemirror_mode": {
    "name": "ipython",
    "version": 2
   },
   "file_extension": ".py",
   "mimetype": "text/x-python",
   "name": "python",
   "nbconvert_exporter": "python",
   "pygments_lexer": "ipython2",
   "version": "2.7.13"
  }
 },
 "nbformat": 4,
 "nbformat_minor": 2
}
