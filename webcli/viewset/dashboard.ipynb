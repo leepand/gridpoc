{
 "cells": [
  {
   "cell_type": "code",
   "execution_count": 2,
   "metadata": {},
   "outputs": [
    {
     "name": "stdout",
     "output_type": "stream",
     "text": [
      "Writing view_dashboard.py\n"
     ]
    }
   ],
   "source": [
    "%%file view_dashboard.py\n",
    "# -*- coding: UTF-8 -*-\n",
    "\n",
    "# author: leepand\n",
    "# time: 2019-01-07\n",
    "# desc: Arthur Dashboard\n",
    "\n",
    "from view_base import *\n",
    "from Arthur_dashboard import ArthurDashboard\n",
    "\n",
    "class ViewApiDashboardIndex(ViewBase):\n",
    "    def _deal_data_show(self):\n",
    "        return ArthurDashboard.data_show(self.get_user_name())\n",
    "\n",
    "\n",
    "    def GET(self):\n",
    "        if not self.check_login():\n",
    "            return self.make_error(\"user not login\")\n",
    "\n",
    "        bRet, sRet = self.process(self._deal_data_show)\n",
    "        if not bRet:\n",
    "            Log.err(\"deal_data_show: %s\" % (str(sRet)))\n",
    "            return self.make_error(sRet)\n",
    "\n",
    "        return self.make_response(sRet)\n"
   ]
  },
  {
   "cell_type": "code",
   "execution_count": null,
   "metadata": {},
   "outputs": [],
   "source": []
  }
 ],
 "metadata": {
  "kernelspec": {
   "display_name": "Python 2",
   "language": "python",
   "name": "python2"
  },
  "language_info": {
   "codemirror_mode": {
    "name": "ipython",
    "version": 2
   },
   "file_extension": ".py",
   "mimetype": "text/x-python",
   "name": "python",
   "nbconvert_exporter": "python",
   "pygments_lexer": "ipython2",
   "version": "2.7.13"
  }
 },
 "nbformat": 4,
 "nbformat_minor": 2
}
