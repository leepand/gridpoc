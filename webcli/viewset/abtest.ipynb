{
 "cells": [
  {
   "cell_type": "code",
   "execution_count": 30,
   "metadata": {},
   "outputs": [
    {
     "name": "stdout",
     "output_type": "stream",
     "text": [
      "Overwriting view_abtest.py\n"
     ]
    }
   ],
   "source": [
    "%%file view_abtest.py\n",
    "# -*- coding: UTF-8 -*-\n",
    "\n",
    "# author: leepand\n",
    "# time: 2018-12-01\n",
    "# desc: abtesting view and api\n",
    "from view_base import *\n",
    "from Arthur.ABtesting.utils.models import Experiment\n",
    "import Arthur.ABtesting.utils.db as db\n",
    "from markdown import markdown\n",
    "\n",
    "def determine_period():\n",
    "    per={'period':'day'}\n",
    "    period = per.get('period', 'day')\n",
    "    if period not in ['day', 'week', 'month', 'year']:\n",
    "        err = {'error': 'invalid argument: {0}'.format(period), 'status': 400}\n",
    "        abort(400, jsonify(err))\n",
    "    return period\n",
    "def simple_markdown(experiment):\n",
    "    description = experiment['description']\n",
    "    if description and description != '':\n",
    "        experiment['pretty_description'] = markdown(description)\n",
    "    return experiment\n",
    "def experiment_list():\n",
    "    experiments = Experiment.all(redis=db.REDIS)\n",
    "    period = determine_period()\n",
    "    experiments = [simple_markdown(exp.objectify_by_period(period)) for exp in experiments]\n",
    "    return experiments\n",
    "def archived():\n",
    "    experiments = Experiment.archived(redis=db.REDIS)\n",
    "    period = determine_period()\n",
    "    experiments = [simple_markdown(exp.objectify_by_period(period)) for exp in experiments]\n",
    "    return experiments\n",
    "\n",
    "def paused():\n",
    "    experiments = Experiment.paused(redis=db.REDIS)\n",
    "    period = determine_period()\n",
    "    experiments = [simple_markdown(exp.objectify_by_period(period)) for exp in experiments]#[exp.name for exp in experiments]\n",
    "    return experiments\n",
    "\n",
    "class ViewAbtest(ViewBase):\n",
    "    def GET(self):\n",
    "        bRet, sRet = self.check_login()\n",
    "        if not bRet:\n",
    "            Log.err(\"user not login!\")\n",
    "            return web.seeother(\"/login\")\n",
    "        exp_list=experiment_list()+archived()+paused()\n",
    "        if len(exp_list)>0:\n",
    "            for exp_num in range(len(exp_list)):\n",
    "                exp_list[exp_num]['id']=exp_num\n",
    "                if exp_list[exp_num]['is_paused']:#如果实验结束，但未决胜负，则状态黑色2，否则绿色1\n",
    "                    if exp_list[exp_num]['has_winner']:\n",
    "                        exp_list[exp_num]['is_paused']={'result':u'已结束','status':1}\n",
    "                        #exp_list[exp_num]['has_winner']={'result':u'已决','status':1}\n",
    "                    else:\n",
    "                        exp_list[exp_num]['is_paused']={'result':u'已结束','status':2}\n",
    "                        #exp_list[exp_num]['has_winner']={'result':u'决战中','status':0}\n",
    "                else:\n",
    "                    exp_list[exp_num]['is_paused']={'result':u'进行中','status':0}\n",
    "                if exp_list[exp_num]['has_winner']:\n",
    "                    exp_list[exp_num]['has_winner']={'result':u'已决','status':1}\n",
    "                else:\n",
    "                    exp_list[exp_num]['has_winner']={'result':u'决战中','status':0}\n",
    "                if len(exp_list[exp_num]['winner'])<1:\n",
    "                    exp_list[exp_num]['winner']=u'暂无'\n",
    "\n",
    "        return render.abtest(exp_list)\n",
    "\n",
    "    def POST(self):\n",
    "        return self.GET()\n",
    "class ViewExpdetails(ViewBase):\n",
    "    def GET(self,name):\n",
    "        bRet, sRet = self.check_login()\n",
    "        if not bRet:\n",
    "            Log.err(\"user not login!\")\n",
    "            return web.seeother(\"/login\")\n",
    "        exp_list=experiment_list()+archived()+paused()\n",
    "        if len(exp_list)>0:\n",
    "            for exp_num in range(len(exp_list)):\n",
    "                if exp_list[exp_num]['name']==name:\n",
    "                    exp_out=exp_list[exp_num]['alternatives']\n",
    "        \n",
    "        print exp_out,'exp_outexp_outexp_out',name\n",
    "        return render.expdetails(exp_out,name)\n",
    "\n",
    "    def POST(self):\n",
    "        return self.GET(name)  \n",
    "    \n",
    "class indexeeee:\n",
    "    def GET(self):\n",
    "        conn = sqlite3.connect(db.DB)\n",
    "        cur = conn.cursor()\n",
    "        cur.execute(db.SELECT_JOB)\n",
    "        jobs = []\n",
    "        for job in cur:\n",
    "            state = job[0]\n",
    "            state_text = setting.STATUS[int(job[0])]\n",
    "            name = job[1]\n",
    "            url = job[2]\n",
    "            exe_time = job[3]\n",
    "            id = job[4]\n",
    "            dic_job = {'state': state, 'state_text': state_text, 'name': name, 'url': url,\n",
    "                       'exe_time': exe_time, 'id': id}\n",
    "            jobs.append(dic_job)\n",
    "        return render.index(jobs)\n"
   ]
  },
  {
   "cell_type": "code",
   "execution_count": 25,
   "metadata": {},
   "outputs": [],
   "source": [
    "tt={'total_participants': 1, 'description': None, 'traffic_fraction': 1.0, 'is_archived': False, 'alternatives': [{'is_control': True, 'conversion_rate': 0.0, 'confidence_interval': 0, 'name': 'recom_annoy', 'participant_count': 0, 'completed_count': 0, 'is_winner': True, 'data': [{'conversions': 0.0, 'date': '2018-10-23', 'participants': 0.0}], 'test_statistic': 'N/A', 'confidence_level': 'N/A'}, {'is_control': False, 'conversion_rate': 100.0, 'confidence_interval': 0.0, 'name': 'recom_random', 'participant_count': 1, 'completed_count': 1, 'is_winner': False, 'data': [{'conversions': 1.0, 'date': '2018-10-23', 'participants': 1.0}], 'test_statistic': 'N/A', 'confidence_level': 'N/A'}], 'period': 'day', 'excluded_clients': 0, 'kpis': [], 'is_paused': False, 'name': 'recom_new1', 'created_at': '2018-10-23 12:13', 'winner': 'recom_annoy', 'has_winner': True, 'kpi': None, 'total_conversions': 1}"
   ]
  },
  {
   "cell_type": "code",
   "execution_count": 26,
   "metadata": {},
   "outputs": [
    {
     "data": {
      "text/plain": [
       "[{'completed_count': 0,\n",
       "  'confidence_interval': 0,\n",
       "  'confidence_level': 'N/A',\n",
       "  'conversion_rate': 0.0,\n",
       "  'data': [{'conversions': 0.0, 'date': '2018-10-23', 'participants': 0.0}],\n",
       "  'is_control': True,\n",
       "  'is_winner': True,\n",
       "  'name': 'recom_annoy',\n",
       "  'participant_count': 0,\n",
       "  'test_statistic': 'N/A'},\n",
       " {'completed_count': 1,\n",
       "  'confidence_interval': 0.0,\n",
       "  'confidence_level': 'N/A',\n",
       "  'conversion_rate': 100.0,\n",
       "  'data': [{'conversions': 1.0, 'date': '2018-10-23', 'participants': 1.0}],\n",
       "  'is_control': False,\n",
       "  'is_winner': False,\n",
       "  'name': 'recom_random',\n",
       "  'participant_count': 1,\n",
       "  'test_statistic': 'N/A'}]"
      ]
     },
     "execution_count": 26,
     "metadata": {},
     "output_type": "execute_result"
    }
   ],
   "source": [
    "tt['alternatives']"
   ]
  },
  {
   "cell_type": "code",
   "execution_count": 5,
   "metadata": {},
   "outputs": [],
   "source": [
    "from Arthur.ABtesting.utils.models import Experiment\n",
    "import Arthur.ABtesting.utils.db as db\n",
    "from markdown import markdown\n",
    "\n",
    "def determine_period():\n",
    "    per={'period':'day'}\n",
    "    period = per.get('period', 'day')\n",
    "    if period not in ['day', 'week', 'month', 'year']:\n",
    "        err = {'error': 'invalid argument: {0}'.format(period), 'status': 400}\n",
    "        abort(400, jsonify(err))\n",
    "    return period\n",
    "def simple_markdown(experiment):\n",
    "    description = experiment['description']\n",
    "    if description and description != '':\n",
    "        experiment['pretty_description'] = markdown(description)\n",
    "    return experiment\n",
    "def experiment_list():\n",
    "    experiments = Experiment.all(redis=db.REDIS)\n",
    "    period = determine_period()\n",
    "    experiments = [simple_markdown(exp.objectify_by_period(period)) for exp in experiments]\n",
    "    return experiments\n",
    "def archived():\n",
    "    experiments = Experiment.archived(redis=db.REDIS)\n",
    "    period = determine_period()\n",
    "    experiments = [simple_markdown(exp.objectify_by_period(period)) for exp in experiments]\n",
    "    return experiments\n",
    "\n",
    "def paused():\n",
    "    experiments = Experiment.paused(redis=db.REDIS)\n",
    "    period = determine_period()\n",
    "    experiments = [simple_markdown(exp.objectify_by_period(period)) for exp in experiments]#[exp.name for exp in experiments]\n",
    "    return experiments\n",
    "\n",
    "exp_list=experiment_list()+archived()+paused()\n",
    "is_win_list=[]\n",
    "is_pause_list=[]\n",
    "is_end_list = []\n",
    "if len(exp_list)>0:\n",
    "    for exp_num in range(len(exp_list)):\n",
    "        exp_list[exp_num]['id']=exp_num\n",
    "        if exp_list[exp_num]['is_paused']:#如果实验结束，但未决胜负，则状态黑色2，否则绿色1\n",
    "            is_pause_list.append(exp_list[exp_num])\n",
    "        if exp_list[exp_num]['is_paused'] or exp_list[exp_num]['has_winner']:\n",
    "            is_end_list.append(exp_list[exp_num])\n",
    "        if exp_list[exp_num]['has_winner']:\n",
    "            is_win_list.append(exp_list[exp_num])"
   ]
  },
  {
   "cell_type": "code",
   "execution_count": 4,
   "metadata": {},
   "outputs": [
    {
     "data": {
      "text/plain": [
       "20"
      ]
     },
     "execution_count": 4,
     "metadata": {},
     "output_type": "execute_result"
    }
   ],
   "source": [
    "len(exp_list)"
   ]
  },
  {
   "cell_type": "code",
   "execution_count": 7,
   "metadata": {},
   "outputs": [
    {
     "data": {
      "text/plain": [
       "3"
      ]
     },
     "execution_count": 7,
     "metadata": {},
     "output_type": "execute_result"
    }
   ],
   "source": [
    "len(is_win_list)"
   ]
  },
  {
   "cell_type": "code",
   "execution_count": 8,
   "metadata": {},
   "outputs": [
    {
     "data": {
      "text/plain": [
       "2"
      ]
     },
     "execution_count": 8,
     "metadata": {},
     "output_type": "execute_result"
    }
   ],
   "source": [
    "len(is_pause_list)"
   ]
  },
  {
   "cell_type": "code",
   "execution_count": 9,
   "metadata": {},
   "outputs": [
    {
     "data": {
      "text/plain": [
       "4"
      ]
     },
     "execution_count": 9,
     "metadata": {},
     "output_type": "execute_result"
    }
   ],
   "source": [
    "len(is_end_list)"
   ]
  },
  {
   "cell_type": "code",
   "execution_count": 10,
   "metadata": {},
   "outputs": [
    {
     "data": {
      "text/plain": [
       "[{'alternatives': [{'completed_count': 284,\n",
       "    'confidence_interval': 0.8045201473460292,\n",
       "    'confidence_level': 'N/A',\n",
       "    'conversion_rate': 11.24,\n",
       "    'data': [{'conversions': 284.0,\n",
       "      'date': '2018-10-14',\n",
       "      'participants': 2526.0}],\n",
       "    'is_control': True,\n",
       "    'is_winner': False,\n",
       "    'name': 'default',\n",
       "    'participant_count': 2526,\n",
       "    'test_statistic': 'N/A'},\n",
       "   {'completed_count': 338,\n",
       "    'confidence_interval': 0.875036244078158,\n",
       "    'confidence_level': '95% Confidence',\n",
       "    'conversion_rate': 13.51,\n",
       "    'data': [{'conversions': 338.0,\n",
       "      'date': '2018-10-14',\n",
       "      'participants': 2501.0}],\n",
       "    'is_control': False,\n",
       "    'is_winner': True,\n",
       "    'name': 'alt1',\n",
       "    'participant_count': 2501,\n",
       "    'test_statistic': 5.99},\n",
       "   {'completed_count': 208,\n",
       "    'confidence_interval': 0.7102863957077065,\n",
       "    'confidence_level': '99.9% Confidence',\n",
       "    'conversion_rate': 8.36,\n",
       "    'data': [{'conversions': 208.0,\n",
       "      'date': '2018-10-14',\n",
       "      'participants': 2488.0}],\n",
       "    'is_control': False,\n",
       "    'is_winner': False,\n",
       "    'name': 'alt2',\n",
       "    'participant_count': 2488,\n",
       "    'test_statistic': 11.82},\n",
       "   {'completed_count': 20,\n",
       "    'confidence_interval': 0.22942663727807708,\n",
       "    'confidence_level': '99.9% Confidence',\n",
       "    'conversion_rate': 0.8,\n",
       "    'data': [{'conversions': 20.0,\n",
       "      'date': '2018-10-14',\n",
       "      'participants': 2485.0}],\n",
       "    'is_control': False,\n",
       "    'is_winner': False,\n",
       "    'name': 'alt3',\n",
       "    'participant_count': 2485,\n",
       "    'test_statistic': 284.16}],\n",
       "  'created_at': '2018-10-14 15:00',\n",
       "  'description': None,\n",
       "  'excluded_clients': 0,\n",
       "  'has_winner': True,\n",
       "  'id': 8,\n",
       "  'is_archived': False,\n",
       "  'is_paused': False,\n",
       "  'kpi': None,\n",
       "  'kpis': [],\n",
       "  'name': 'benchmark-test4',\n",
       "  'period': 'day',\n",
       "  'total_conversions': 850,\n",
       "  'total_participants': 10000,\n",
       "  'traffic_fraction': 1.0,\n",
       "  'winner': 'alt1'},\n",
       " {'alternatives': [{'completed_count': 0,\n",
       "    'confidence_interval': 0,\n",
       "    'confidence_level': 'N/A',\n",
       "    'conversion_rate': 0.0,\n",
       "    'data': [{'conversions': 0.0, 'date': '2018-10-23', 'participants': 0.0}],\n",
       "    'is_control': True,\n",
       "    'is_winner': True,\n",
       "    'name': 'recom_annoy',\n",
       "    'participant_count': 0,\n",
       "    'test_statistic': 'N/A'},\n",
       "   {'completed_count': 1,\n",
       "    'confidence_interval': 0.0,\n",
       "    'confidence_level': 'N/A',\n",
       "    'conversion_rate': 100.0,\n",
       "    'data': [{'conversions': 1.0, 'date': '2018-10-23', 'participants': 1.0}],\n",
       "    'is_control': False,\n",
       "    'is_winner': False,\n",
       "    'name': 'recom_random',\n",
       "    'participant_count': 1,\n",
       "    'test_statistic': 'N/A'}],\n",
       "  'created_at': '2018-10-23 12:13',\n",
       "  'description': None,\n",
       "  'excluded_clients': 0,\n",
       "  'has_winner': True,\n",
       "  'id': 12,\n",
       "  'is_archived': False,\n",
       "  'is_paused': False,\n",
       "  'kpi': None,\n",
       "  'kpis': [],\n",
       "  'name': 'recom_new1',\n",
       "  'period': 'day',\n",
       "  'total_conversions': 1,\n",
       "  'total_participants': 1,\n",
       "  'traffic_fraction': 1.0,\n",
       "  'winner': 'recom_annoy'},\n",
       " {'alternatives': [{'completed_count': 519,\n",
       "    'confidence_interval': 0.5503477845972529,\n",
       "    'confidence_level': 'N/A',\n",
       "    'conversion_rate': 10.34,\n",
       "    'data': [{'conversions': 519.0,\n",
       "      'date': '2018-10-14',\n",
       "      'participants': 5017.0}],\n",
       "    'is_control': True,\n",
       "    'is_winner': False,\n",
       "    'name': 'default',\n",
       "    'participant_count': 5017,\n",
       "    'test_statistic': 'N/A'},\n",
       "   {'completed_count': 599,\n",
       "    'confidence_interval': 0.5934605142886294,\n",
       "    'confidence_level': '99% Confidence',\n",
       "    'conversion_rate': 12.1,\n",
       "    'data': [{'conversions': 599.0,\n",
       "      'date': '2018-10-14',\n",
       "      'participants': 4949.0}],\n",
       "    'is_control': False,\n",
       "    'is_winner': False,\n",
       "    'name': 'alt1',\n",
       "    'participant_count': 4949,\n",
       "    'test_statistic': 7.74},\n",
       "   {'completed_count': 459,\n",
       "    'confidence_interval': 0.5164051730981423,\n",
       "    'confidence_level': '95% Confidence',\n",
       "    'conversion_rate': 9.06,\n",
       "    'data': [{'conversions': 459.0,\n",
       "      'date': '2018-10-14',\n",
       "      'participants': 5064.0}],\n",
       "    'is_control': False,\n",
       "    'is_winner': True,\n",
       "    'name': 'alt2',\n",
       "    'participant_count': 5064,\n",
       "    'test_statistic': 4.72},\n",
       "   {'completed_count': 51,\n",
       "    'confidence_interval': 0.18297800402372688,\n",
       "    'confidence_level': '99.9% Confidence',\n",
       "    'conversion_rate': 1.03,\n",
       "    'data': [{'conversions': 51.0,\n",
       "      'date': '2018-10-14',\n",
       "      'participants': 4970.0}],\n",
       "    'is_control': False,\n",
       "    'is_winner': False,\n",
       "    'name': 'alt3',\n",
       "    'participant_count': 4970,\n",
       "    'test_statistic': 465.29}],\n",
       "  'created_at': '2018-10-14 14:59',\n",
       "  'description': u'\\u5bf9\\u6bd4\\u6d4b\\u8bd5',\n",
       "  'excluded_clients': 0,\n",
       "  'has_winner': True,\n",
       "  'id': 18,\n",
       "  'is_archived': False,\n",
       "  'is_paused': True,\n",
       "  'kpi': None,\n",
       "  'kpis': [],\n",
       "  'name': 'benchmark-test3',\n",
       "  'period': 'day',\n",
       "  'pretty_description': u'<p>\\u5bf9\\u6bd4\\u6d4b\\u8bd5</p>',\n",
       "  'total_conversions': 1628,\n",
       "  'total_participants': 20000,\n",
       "  'traffic_fraction': 1.0,\n",
       "  'winner': 'alt2'},\n",
       " {'alternatives': [{'completed_count': 2,\n",
       "    'confidence_interval': 24.633611485424034,\n",
       "    'confidence_level': 'N/A',\n",
       "    'conversion_rate': 33.33,\n",
       "    'data': [{'conversions': 1.0, 'date': '2018-10-14', 'participants': 4.0},\n",
       "     {'conversions': 1.0, 'date': '2018-10-15', 'participants': 2.0}],\n",
       "    'is_control': True,\n",
       "    'is_winner': None,\n",
       "    'name': 'model1',\n",
       "    'participant_count': 6,\n",
       "    'test_statistic': 'N/A'},\n",
       "   {'completed_count': 2,\n",
       "    'confidence_interval': 28.043394944264506,\n",
       "    'confidence_level': 'N/A',\n",
       "    'conversion_rate': 40.0,\n",
       "    'data': [{'conversions': 2.0, 'date': '2018-10-14', 'participants': 4.0},\n",
       "     {'conversions': 0.0, 'date': '2018-10-15', 'participants': 1.0}],\n",
       "    'is_control': False,\n",
       "    'is_winner': None,\n",
       "    'name': 'model2',\n",
       "    'participant_count': 5,\n",
       "    'test_statistic': 'N/A'}],\n",
       "  'created_at': '2018-10-14 16:59',\n",
       "  'description': None,\n",
       "  'excluded_clients': 0,\n",
       "  'has_winner': False,\n",
       "  'id': 19,\n",
       "  'is_archived': False,\n",
       "  'is_paused': True,\n",
       "  'kpi': None,\n",
       "  'kpis': [],\n",
       "  'name': 'thrift_recom_eng_abtesing2',\n",
       "  'period': 'day',\n",
       "  'total_conversions': 4,\n",
       "  'total_participants': 11,\n",
       "  'traffic_fraction': 1.0,\n",
       "  'winner': ''}]"
      ]
     },
     "execution_count": 10,
     "metadata": {},
     "output_type": "execute_result"
    }
   ],
   "source": [
    "is_end_list"
   ]
  },
  {
   "cell_type": "code",
   "execution_count": 19,
   "metadata": {},
   "outputs": [
    {
     "data": {
      "text/plain": [
       "'width: 15%;'"
      ]
     },
     "execution_count": 19,
     "metadata": {},
     "output_type": "execute_result"
    }
   ],
   "source": [
    "\"width: {data}%;\".format(data=int(round((len(is_win_list)/(len(exp_list)+0.0000001)),2)*100))"
   ]
  },
  {
   "cell_type": "code",
   "execution_count": 22,
   "metadata": {},
   "outputs": [
    {
     "data": {
      "text/plain": [
       "True"
      ]
     },
     "execution_count": 22,
     "metadata": {},
     "output_type": "execute_result"
    }
   ],
   "source": [
    "Experiment.validate_kpi('hello-jose')"
   ]
  },
  {
   "cell_type": "code",
   "execution_count": 23,
   "metadata": {},
   "outputs": [
    {
     "data": {
      "text/plain": [
       "Arthur.ABtesting.utils.models.Experiment"
      ]
     },
     "execution_count": 23,
     "metadata": {},
     "output_type": "execute_result"
    }
   ],
   "source": [
    "Experiment"
   ]
  },
  {
   "cell_type": "code",
   "execution_count": 24,
   "metadata": {},
   "outputs": [
    {
     "ename": "AttributeError",
     "evalue": "type object 'Experiment' has no attribute 'kpi'",
     "output_type": "error",
     "traceback": [
      "\u001b[0;31m----------------------------------------------------------------\u001b[0m",
      "\u001b[0;31mAttributeError\u001b[0m                 Traceback (most recent call last)",
      "\u001b[0;32m<ipython-input-24-cc19ad479cce>\u001b[0m in \u001b[0;36m<module>\u001b[0;34m()\u001b[0m\n\u001b[0;32m----> 1\u001b[0;31m \u001b[0mExperiment\u001b[0m\u001b[0;34m.\u001b[0m\u001b[0mkpi\u001b[0m\u001b[0;34m\u001b[0m\u001b[0m\n\u001b[0m",
      "\u001b[0;31mAttributeError\u001b[0m: type object 'Experiment' has no attribute 'kpi'"
     ]
    }
   ],
   "source": [
    "Experiment.['kpi', '123']"
   ]
  },
  {
   "cell_type": "code",
   "execution_count": 38,
   "metadata": {},
   "outputs": [
    {
     "data": {
      "text/plain": [
       "<Alternative 'kpi' (Experiment 'multi-kpi2')>"
      ]
     },
     "execution_count": 38,
     "metadata": {},
     "output_type": "execute_result"
    }
   ],
   "source": [
    "\n",
    "from Arthur.ABtesting.utils.models import Experiment,Client\n",
    "client = Client(100, redis=db.REDIS)\n",
    "exp.get_alternative(client)\n",
    "exp.convert(client, None, 'bananza')"
   ]
  },
  {
   "cell_type": "code",
   "execution_count": 17,
   "metadata": {},
   "outputs": [
    {
     "data": {
      "text/plain": [
       "[<Experiment: layerui)>,\n",
       " <Experiment: ddddd)>,\n",
       " <Experiment: leepand)>,\n",
       " <Experiment: wwa)>,\n",
       " <Experiment: benchmark-test5)>,\n",
       " <Experiment: dew)>,\n",
       " <Experiment: nwi)>,\n",
       " <Experiment: multi-kpi2)>,\n",
       " <Experiment: multi-kpi3)>,\n",
       " <Experiment: new2222)>,\n",
       " <Experiment: test)>,\n",
       " <Experiment: ddd)>,\n",
       " <Experiment: benchmark-test2)>,\n",
       " <Experiment: mhnee)>,\n",
       " <Experiment: lyyyy)>,\n",
       " <Experiment: benchmark-test6)>,\n",
       " <Experiment: dd)>,\n",
       " <Experiment: de)>,\n",
       " <Experiment: ajax)>,\n",
       " <Experiment: nnnnn)>,\n",
       " <Experiment: leepand3)>,\n",
       " <Experiment: fres)>,\n",
       " <Experiment: exp_id)>,\n",
       " <Experiment: now)>,\n",
       " <Experiment: tag-it-test)>,\n",
       " <Experiment: thrift_recom_eng_abtesing3)>,\n",
       " <Experiment: thrift_recom_eng_abtesing2)>,\n",
       " <Experiment: beyonds)>,\n",
       " <Experiment: recom_new1)>,\n",
       " <Experiment: exp_id3)>,\n",
       " <Experiment: multi-kpi)>,\n",
       " <Experiment: nnnn)>,\n",
       " <Experiment: benchmark-test4)>,\n",
       " <Experiment: exp_id5)>,\n",
       " <Experiment: arthur)>,\n",
       " <Experiment: moeee)>,\n",
       " <Experiment: wanda_test_leepand)>,\n",
       " <Experiment: inde )>]"
      ]
     },
     "execution_count": 17,
     "metadata": {},
     "output_type": "execute_result"
    }
   ],
   "source": [
    "all_of_them = Experiment.all(redis=db.REDIS)\n",
    "all_of_them"
   ]
  },
  {
   "cell_type": "code",
   "execution_count": 48,
   "metadata": {},
   "outputs": [
    {
     "data": {
      "text/plain": [
       "<Alternative '123' (Experiment 'multi-kpi3')>"
      ]
     },
     "execution_count": 48,
     "metadata": {},
     "output_type": "execute_result"
    }
   ],
   "source": [
    "exp=Experiment.find_or_create('multi-kpi3', ['kpi', '123'],redis=db.REDIS)\n",
    "client = Client(100, redis=db.REDIS)\n",
    "exp.get_alternative(client)\n",
    "exp.convert(client, None)"
   ]
  },
  {
   "cell_type": "code",
   "execution_count": 41,
   "metadata": {},
   "outputs": [],
   "source": [
    "exp.set_kpi('bananza')\n",
    "exp.convert(client, None, 'bananza2')\n",
    "exp.set_kpi('bananza2')"
   ]
  },
  {
   "cell_type": "code",
   "execution_count": 30,
   "metadata": {},
   "outputs": [
    {
     "data": {
      "text/plain": [
       "True"
      ]
     },
     "execution_count": 30,
     "metadata": {},
     "output_type": "execute_result"
    }
   ],
   "source": [
    "Experiment.validate_kpi('bananza')"
   ]
  },
  {
   "cell_type": "code",
   "execution_count": 33,
   "metadata": {},
   "outputs": [
    {
     "data": {
      "text/plain": [
       "<Arthur.ABtesting.utils.models.Client at 0x10d962510>"
      ]
     },
     "execution_count": 33,
     "metadata": {},
     "output_type": "execute_result"
    }
   ],
   "source": [
    "client"
   ]
  },
  {
   "cell_type": "code",
   "execution_count": 65,
   "metadata": {},
   "outputs": [
    {
     "ename": "AttributeError",
     "evalue": "'Experiment' object has no attribute 'participants_by_week'",
     "output_type": "error",
     "traceback": [
      "\u001b[0;31m----------------------------------------------------------------\u001b[0m",
      "\u001b[0;31mAttributeError\u001b[0m                 Traceback (most recent call last)",
      "\u001b[0;32m<ipython-input-65-5336b6121a47>\u001b[0m in \u001b[0;36m<module>\u001b[0;34m()\u001b[0m\n\u001b[1;32m      1\u001b[0m \u001b[0mexp\u001b[0m\u001b[0;34m=\u001b[0m\u001b[0mExperiment\u001b[0m\u001b[0;34m.\u001b[0m\u001b[0mfind_or_create\u001b[0m\u001b[0;34m(\u001b[0m\u001b[0;34m'benchmark-test5'\u001b[0m\u001b[0;34m,\u001b[0m\u001b[0;34m[\u001b[0m\u001b[0;34m'default'\u001b[0m\u001b[0;34m,\u001b[0m\u001b[0;34m'alt1'\u001b[0m\u001b[0;34m,\u001b[0m\u001b[0;34m'alt2'\u001b[0m\u001b[0;34m,\u001b[0m\u001b[0;34m'alt3'\u001b[0m\u001b[0;34m]\u001b[0m\u001b[0;34m,\u001b[0m\u001b[0mredis\u001b[0m\u001b[0;34m=\u001b[0m\u001b[0mdb\u001b[0m\u001b[0;34m.\u001b[0m\u001b[0mREDIS\u001b[0m\u001b[0;34m)\u001b[0m\u001b[0;34m\u001b[0m\u001b[0m\n\u001b[0;32m----> 2\u001b[0;31m \u001b[0mexp\u001b[0m\u001b[0;34m.\u001b[0m\u001b[0mparticipants_by_week\u001b[0m\u001b[0;34m(\u001b[0m\u001b[0;34m)\u001b[0m\u001b[0;34m\u001b[0m\u001b[0m\n\u001b[0m\u001b[1;32m      3\u001b[0m \u001b[0;31m#exp.set_kpi('dddd')\u001b[0m\u001b[0;34m\u001b[0m\u001b[0;34m\u001b[0m\u001b[0m\n",
      "\u001b[0;31mAttributeError\u001b[0m: 'Experiment' object has no attribute 'participants_by_week'"
     ]
    }
   ],
   "source": [
    "exp=Experiment.find_or_create('benchmark-test5',['default','alt1','alt2','alt3'],redis=db.REDIS)\n",
    "exp.participants_by_week()\n",
    "#exp.set_kpi('dddd')"
   ]
  },
  {
   "cell_type": "code",
   "execution_count": null,
   "metadata": {},
   "outputs": [],
   "source": [
    "def find_or_404(experiment_name):\n",
    "    try:\n",
    "        #experiment_name = url=urllib.unquote(experiment_name).decode('utf8')\n",
    "        exp = Experiment.find(experiment_name, db.REDIS)\n",
    "        if request.args.get('kpi'):\n",
    "            exp.set_kpi(request.args.get('kpi'))\n",
    "        return exp\n",
    "    except ValueError:\n",
    "        abort(404)"
   ]
  },
  {
   "cell_type": "code",
   "execution_count": 66,
   "metadata": {},
   "outputs": [
    {
     "name": "stdout",
     "output_type": "stream",
     "text": [
      "lookup up: <module 'Arthur.ABtesting.diversion.abtesting_thrift.Abtesting_thrift' from '/Users/leepand/anaconda2/lib/python2.7/site-packages/Arthur-0.0.8-py2.7.egg/Arthur/ABtesting/diversion/abtesting_thrift/Abtesting_thrift.pyc'>\n",
      "wrong exp create\n"
     ]
    }
   ],
   "source": [
    "from Arthur.common.rpc import thrifty\n",
    "from Arthur.ABtesting.diversion.abtesting_thrift import Abtesting_thrift\n",
    "def abtest_add(exp_id,alt,client_id):\n",
    "    try:\n",
    "        with thrifty.Client(Abtesting_thrift) as c:\n",
    "            return c.diversion(exp_id,alt,client_id)\n",
    "    except:\n",
    "        print 'wrong exp create'\n",
    "abtest_add('exp_id',['alt','qs'],'client_id')"
   ]
  },
  {
   "cell_type": "code",
   "execution_count": 68,
   "metadata": {},
   "outputs": [
    {
     "name": "stdout",
     "output_type": "stream",
     "text": [
      "lookup up: <module 'Arthur.ABtesting.diversion.abtesting_thrift.Abtesting_thrift' from '/Users/leepand/anaconda2/lib/python2.7/site-packages/Arthur-0.0.8-py2.7.egg/Arthur/ABtesting/diversion/abtesting_thrift/Abtesting_thrift.pyc'>\n",
      "Diversion(status='OK', alternative='qs', experiment='exp_id', client_id='client_id')\n"
     ]
    }
   ],
   "source": [
    "with thrifty.Client(Abtesting_thrift) as c:\n",
    "    print c.diversion('exp_id',['alt','qs'],'client_id')"
   ]
  },
  {
   "cell_type": "code",
   "execution_count": 73,
   "metadata": {},
   "outputs": [],
   "source": [
    "from Arthur.ABtesting.utils.models import Experiment,Client\n",
    "import Arthur.ABtesting.utils.db as db\n",
    "\n",
    "exp=Experiment.find_or_create('multi-kpi3', ['kpi', '123'],redis=db.REDIS)\n",
    "\n",
    "exp.total_participants()\n",
    "exp.update_description()"
   ]
  },
  {
   "cell_type": "code",
   "execution_count": null,
   "metadata": {},
   "outputs": [],
   "source": []
  },
  {
   "cell_type": "code",
   "execution_count": 29,
   "metadata": {},
   "outputs": [
    {
     "data": {
      "text/plain": [
       "1"
      ]
     },
     "execution_count": 29,
     "metadata": {},
     "output_type": "execute_result"
    }
   ],
   "source": [
    "exp.total_conversions()"
   ]
  },
  {
   "cell_type": "code",
   "execution_count": 6,
   "metadata": {},
   "outputs": [
    {
     "data": {
      "text/plain": [
       "['kpi', '123']"
      ]
     },
     "execution_count": 6,
     "metadata": {},
     "output_type": "execute_result"
    }
   ],
   "source": [
    "exp.get_alternative_names()"
   ]
  },
  {
   "cell_type": "code",
   "execution_count": 9,
   "metadata": {},
   "outputs": [
    {
     "data": {
      "text/plain": [
       "'2019-01-14 14:59'"
      ]
     },
     "execution_count": 9,
     "metadata": {},
     "output_type": "execute_result"
    }
   ],
   "source": [
    "exp.created_at"
   ]
  },
  {
   "cell_type": "code",
   "execution_count": 10,
   "metadata": {},
   "outputs": [
    {
     "data": {
      "text/plain": [
       "<Alternative 'kpi' (Experiment 'multi-kpi3')>"
      ]
     },
     "execution_count": 10,
     "metadata": {},
     "output_type": "execute_result"
    }
   ],
   "source": [
    "exp.control"
   ]
  },
  {
   "cell_type": "code",
   "execution_count": 15,
   "metadata": {},
   "outputs": [],
   "source": [
    "exp.objectify_by_period('day')['description']"
   ]
  },
  {
   "cell_type": "code",
   "execution_count": 13,
   "metadata": {},
   "outputs": [
    {
     "ename": "AttributeError",
     "evalue": "'Experiment' object has no attribute 'pretty_description'",
     "output_type": "error",
     "traceback": [
      "\u001b[0;31m----------------------------------------------------------------\u001b[0m",
      "\u001b[0;31mAttributeError\u001b[0m                 Traceback (most recent call last)",
      "\u001b[0;32m<ipython-input-13-ec62c1a32cc8>\u001b[0m in \u001b[0;36m<module>\u001b[0;34m()\u001b[0m\n\u001b[0;32m----> 1\u001b[0;31m \u001b[0mexp\u001b[0m\u001b[0;34m.\u001b[0m\u001b[0mpretty_description\u001b[0m\u001b[0;34m(\u001b[0m\u001b[0;34m)\u001b[0m\u001b[0;34m\u001b[0m\u001b[0m\n\u001b[0m",
      "\u001b[0;31mAttributeError\u001b[0m: 'Experiment' object has no attribute 'pretty_description'"
     ]
    }
   ],
   "source": [
    "exp.pretty_description()"
   ]
  },
  {
   "cell_type": "code",
   "execution_count": 26,
   "metadata": {},
   "outputs": [
    {
     "data": {
      "text/plain": [
       "<Experiment: layerui)>"
      ]
     },
     "execution_count": 26,
     "metadata": {},
     "output_type": "execute_result"
    }
   ],
   "source": [
    "all_of_them[0]"
   ]
  },
  {
   "cell_type": "code",
   "execution_count": 87,
   "metadata": {},
   "outputs": [],
   "source": [
    "from markdown import markdown\n",
    "from flask import abort,jsonify\n",
    "def determine_period():\n",
    "    period = 'day'#request.args.get('period', 'day')\n",
    "    if period not in ['day', 'week', 'month', 'year']:\n",
    "        err = {'error': 'invalid argument: {0}'.format(period), 'status': 400}\n",
    "        abort(400, jsonify(err))\n",
    "    return period\n",
    "\n",
    "def simple_markdown(experiment):\n",
    "    description = experiment['description']\n",
    "    if description and description != '':\n",
    "        experiment['pretty_description'] = markdown(description)\n",
    "    return experiment\n",
    "def find_or_404(experiment_name):\n",
    "    try:\n",
    "        experiment_name = experiment_name\n",
    "        exp = Experiment.find(experiment_name, db.REDIS)\n",
    "        #if request.args.get('kpi'):\n",
    "        #   exp.set_kpi(request.args.get('kpi'))\n",
    "        return exp\n",
    "    except ValueError:\n",
    "        return False\n",
    "experiment= find_or_404('multi-kpi2')#benchmark-test3 \n",
    "period = determine_period()\n",
    "obj = simple_markdown(experiment.objectify_by_period(period))"
   ]
  },
  {
   "cell_type": "code",
   "execution_count": 83,
   "metadata": {},
   "outputs": [],
   "source": [
    "experiment= find_or_404('my_exp')\n",
    "period = determine_period()\n",
    "obj = simple_markdown(experiment.objectify_by_period(period))\n",
    "#obj"
   ]
  },
  {
   "cell_type": "code",
   "execution_count": 102,
   "metadata": {},
   "outputs": [
    {
     "data": {
      "text/plain": [
       "False"
      ]
     },
     "execution_count": 102,
     "metadata": {},
     "output_type": "execute_result"
    }
   ],
   "source": [
    "find_or_404('my_的exp')"
   ]
  },
  {
   "cell_type": "code",
   "execution_count": 86,
   "metadata": {},
   "outputs": [
    {
     "name": "stdout",
     "output_type": "stream",
     "text": [
      "ff\n"
     ]
    },
    {
     "data": {
      "text/plain": [
       "[]"
      ]
     },
     "execution_count": 86,
     "metadata": {},
     "output_type": "execute_result"
    }
   ],
   "source": [
    "if experiment:\n",
    "    print 'ff'\n",
    "obj['kpis']"
   ]
  },
  {
   "cell_type": "code",
   "execution_count": 94,
   "metadata": {},
   "outputs": [],
   "source": [
    "experiment.set_kpi('bananza2')"
   ]
  },
  {
   "cell_type": "code",
   "execution_count": 95,
   "metadata": {},
   "outputs": [
    {
     "data": {
      "text/plain": [
       "{'alternatives': [{'completed_count': 1,\n",
       "   'confidence_interval': 0.0,\n",
       "   'confidence_level': 'N/A',\n",
       "   'conversion_rate': 100.0,\n",
       "   'data': [{'conversions': 1.0, 'date': '2019-01-14', 'participants': 1.0}],\n",
       "   'is_control': True,\n",
       "   'is_winner': True,\n",
       "   'name': 'kpi',\n",
       "   'participant_count': 1,\n",
       "   'test_statistic': 'N/A'},\n",
       "  {'completed_count': 0,\n",
       "   'confidence_interval': 0,\n",
       "   'confidence_level': 'N/A',\n",
       "   'conversion_rate': 0.0,\n",
       "   'data': [{'conversions': 0.0, 'date': '2019-01-14', 'participants': 0.0}],\n",
       "   'is_control': False,\n",
       "   'is_winner': False,\n",
       "   'name': '123',\n",
       "   'participant_count': 0,\n",
       "   'test_statistic': 'N/A'}],\n",
       " 'created_at': None,\n",
       " 'description': None,\n",
       " 'excluded_clients': 0,\n",
       " 'has_winner': True,\n",
       " 'is_archived': False,\n",
       " 'is_paused': False,\n",
       " 'kpi': 'bananza2',\n",
       " 'kpis': ['bananza2', 'bananza'],\n",
       " 'name': 'multi-kpi2',\n",
       " 'period': 'day',\n",
       " 'total_conversions': 1,\n",
       " 'total_participants': 1,\n",
       " 'traffic_fraction': 1.0,\n",
       " 'winner': 'kpi'}"
      ]
     },
     "execution_count": 95,
     "metadata": {},
     "output_type": "execute_result"
    }
   ],
   "source": [
    "obj = simple_markdown(experiment.objectify_by_period(period))\n",
    "obj"
   ]
  },
  {
   "cell_type": "code",
   "execution_count": 96,
   "metadata": {},
   "outputs": [
    {
     "data": {
      "text/plain": [
       "['bananza2', 'bananza']"
      ]
     },
     "execution_count": 96,
     "metadata": {},
     "output_type": "execute_result"
    }
   ],
   "source": [
    "obj['kpis']"
   ]
  },
  {
   "cell_type": "code",
   "execution_count": 35,
   "metadata": {},
   "outputs": [
    {
     "data": {
      "text/plain": [
       "'2019-01-15 13:05'"
      ]
     },
     "execution_count": 35,
     "metadata": {},
     "output_type": "execute_result"
    }
   ],
   "source": [
    "experiment.created_at"
   ]
  },
  {
   "cell_type": "code",
   "execution_count": 59,
   "metadata": {},
   "outputs": [
    {
     "data": {
      "text/plain": [
       "bool"
      ]
     },
     "execution_count": 59,
     "metadata": {},
     "output_type": "execute_result"
    }
   ],
   "source": [
    "type(experiment.is_archived())"
   ]
  },
  {
   "cell_type": "code",
   "execution_count": 36,
   "metadata": {},
   "outputs": [],
   "source": [
    "experiment.update_description('jaahah')"
   ]
  },
  {
   "cell_type": "code",
   "execution_count": 42,
   "metadata": {},
   "outputs": [
    {
     "data": {
      "text/plain": [
       "{'alternatives': [{'completed_count': 0,\n",
       "   'confidence_interval': 0,\n",
       "   'confidence_level': 'N/A',\n",
       "   'conversion_rate': 0.0,\n",
       "   'data': [],\n",
       "   'is_control': True,\n",
       "   'is_winner': None,\n",
       "   'name': 'dd',\n",
       "   'participant_count': 0,\n",
       "   'test_statistic': 'N/A'},\n",
       "  {'completed_count': 0,\n",
       "   'confidence_interval': 0,\n",
       "   'confidence_level': 'N/A',\n",
       "   'conversion_rate': 0.0,\n",
       "   'data': [],\n",
       "   'is_control': False,\n",
       "   'is_winner': None,\n",
       "   'name': 'ddf',\n",
       "   'participant_count': 0,\n",
       "   'test_statistic': 'N/A'}],\n",
       " 'created_at': '2019-01-15 13:05',\n",
       " 'description': u'jaahah',\n",
       " 'excluded_clients': 0,\n",
       " 'has_winner': False,\n",
       " 'is_archived': False,\n",
       " 'is_paused': False,\n",
       " 'kpi': None,\n",
       " 'kpis': [],\n",
       " 'name': 'dd',\n",
       " 'period': 'day',\n",
       " 'pretty_description': u'<p>jaahah</p>',\n",
       " 'total_conversions': 0,\n",
       " 'total_participants': 0,\n",
       " 'traffic_fraction': 1.0,\n",
       " 'winner': ''}"
      ]
     },
     "execution_count": 42,
     "metadata": {},
     "output_type": "execute_result"
    }
   ],
   "source": [
    "obj = simple_markdown(experiment.objectify_by_period(period))\n",
    "obj"
   ]
  },
  {
   "cell_type": "code",
   "execution_count": 44,
   "metadata": {},
   "outputs": [
    {
     "data": {
      "text/plain": [
       "'2019-01-15 13:05'"
      ]
     },
     "execution_count": 44,
     "metadata": {},
     "output_type": "execute_result"
    }
   ],
   "source": [
    "experiment.created_at"
   ]
  },
  {
   "cell_type": "code",
   "execution_count": 62,
   "metadata": {},
   "outputs": [
    {
     "data": {
      "text/plain": [
       "True"
      ]
     },
     "execution_count": 62,
     "metadata": {},
     "output_type": "execute_result"
    }
   ],
   "source": [
    "obj.get('has_winner')"
   ]
  },
  {
   "cell_type": "code",
   "execution_count": 68,
   "metadata": {},
   "outputs": [
    {
     "name": "stdout",
     "output_type": "stream",
     "text": [
      "['bananza2', 'bananza']\n"
     ]
    }
   ],
   "source": [
    "print obj['kpis']"
   ]
  },
  {
   "cell_type": "code",
   "execution_count": 69,
   "metadata": {},
   "outputs": [],
   "source": [
    "experiment= find_or_404('benchmark-test3')\n",
    "period = determine_period()\n",
    "obj = simple_markdown(experiment.objectify_by_period(period))"
   ]
  },
  {
   "cell_type": "code",
   "execution_count": 70,
   "metadata": {},
   "outputs": [
    {
     "data": {
      "text/plain": [
       "{'alternatives': [{'completed_count': 519,\n",
       "   'confidence_interval': 0.5503477845972529,\n",
       "   'confidence_level': 'N/A',\n",
       "   'conversion_rate': 10.34,\n",
       "   'data': [{'conversions': 519.0,\n",
       "     'date': '2018-10-14',\n",
       "     'participants': 5017.0}],\n",
       "   'is_control': True,\n",
       "   'is_winner': False,\n",
       "   'name': 'default',\n",
       "   'participant_count': 5017,\n",
       "   'test_statistic': 'N/A'},\n",
       "  {'completed_count': 599,\n",
       "   'confidence_interval': 0.5934605142886294,\n",
       "   'confidence_level': '99% Confidence',\n",
       "   'conversion_rate': 12.1,\n",
       "   'data': [{'conversions': 599.0,\n",
       "     'date': '2018-10-14',\n",
       "     'participants': 4949.0}],\n",
       "   'is_control': False,\n",
       "   'is_winner': False,\n",
       "   'name': 'alt1',\n",
       "   'participant_count': 4949,\n",
       "   'test_statistic': 7.74},\n",
       "  {'completed_count': 459,\n",
       "   'confidence_interval': 0.5164051730981423,\n",
       "   'confidence_level': '95% Confidence',\n",
       "   'conversion_rate': 9.06,\n",
       "   'data': [{'conversions': 459.0,\n",
       "     'date': '2018-10-14',\n",
       "     'participants': 5064.0}],\n",
       "   'is_control': False,\n",
       "   'is_winner': True,\n",
       "   'name': 'alt2',\n",
       "   'participant_count': 5064,\n",
       "   'test_statistic': 4.72},\n",
       "  {'completed_count': 51,\n",
       "   'confidence_interval': 0.18297800402372688,\n",
       "   'confidence_level': '99.9% Confidence',\n",
       "   'conversion_rate': 1.03,\n",
       "   'data': [{'conversions': 51.0,\n",
       "     'date': '2018-10-14',\n",
       "     'participants': 4970.0}],\n",
       "   'is_control': False,\n",
       "   'is_winner': False,\n",
       "   'name': 'alt3',\n",
       "   'participant_count': 4970,\n",
       "   'test_statistic': 465.29}],\n",
       " 'created_at': '2018-10-14 14:59',\n",
       " 'description': u'\\u5bf9\\u6bd4\\u6d4b\\u8bd5',\n",
       " 'excluded_clients': 0,\n",
       " 'has_winner': True,\n",
       " 'is_archived': False,\n",
       " 'is_paused': True,\n",
       " 'kpi': None,\n",
       " 'kpis': [],\n",
       " 'name': 'benchmark-test3',\n",
       " 'period': 'day',\n",
       " 'pretty_description': u'<p>\\u5bf9\\u6bd4\\u6d4b\\u8bd5</p>',\n",
       " 'total_conversions': 1628,\n",
       " 'total_participants': 20000,\n",
       " 'traffic_fraction': 1.0,\n",
       " 'winner': 'alt2'}"
      ]
     },
     "execution_count": 70,
     "metadata": {},
     "output_type": "execute_result"
    }
   ],
   "source": [
    "obj"
   ]
  },
  {
   "cell_type": "code",
   "execution_count": null,
   "metadata": {},
   "outputs": [],
   "source": []
  }
 ],
 "metadata": {
  "kernelspec": {
   "display_name": "Python 2",
   "language": "python",
   "name": "python2"
  },
  "language_info": {
   "codemirror_mode": {
    "name": "ipython",
    "version": 2
   },
   "file_extension": ".py",
   "mimetype": "text/x-python",
   "name": "python",
   "nbconvert_exporter": "python",
   "pygments_lexer": "ipython2",
   "version": "2.7.13"
  }
 },
 "nbformat": 4,
 "nbformat_minor": 2
}
