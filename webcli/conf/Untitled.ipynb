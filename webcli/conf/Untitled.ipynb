{
 "cells": [
  {
   "cell_type": "code",
   "execution_count": 1,
   "metadata": {},
   "outputs": [
    {
     "name": "stdout",
     "output_type": "stream",
     "text": [
      "Writing arthur_nginx.conf\n"
     ]
    }
   ],
   "source": [
    "%%file arthur_nginx.conf\n",
    "server {\n",
    "    listen       80;\n",
    "    server_name  hjs.s0nnet.com;\n",
    "\n",
    "    location / {\n",
    "        root   /home/project/hjs_cms/src/web/;\n",
    "        proxy_pass       http://127.0.0.1:8080;\n",
    "        proxy_set_header X-Real-IP $remote_addr;\n",
    "        proxy_set_header Host $host;\n",
    "        # proxy_set_header X-Forwarded-For $proxy_add_x_forwarded_for;\n",
    "        proxy_set_header X-Forwarded-For $remote_addr;\n",
    "    }\n",
    "\n",
    "    location /static {\n",
    "        root /home/project/hjs_cms/src/web/;\n",
    "    }\n",
    "\n",
    "    location /templates {\n",
    "        root /home/project/hjs_cms/src/web/templates/;\n",
    "    }\n",
    "\n",
    "    error_page   500 502 503 504  /50x.html;\n",
    "    location = /50x.html {\n",
    "        root   /usr/share/nginx/html;\n",
    "    }\n",
    "\n",
    "    charset utf-8;\n",
    "    access_log  /var/log/nginx/hjs.s0nnet.com.access.log;\n",
    "    error_log  /var/log/nginx/hjs.s0nnet.com.error.log;\n",
    "}"
   ]
  },
  {
   "cell_type": "code",
   "execution_count": null,
   "metadata": {},
   "outputs": [],
   "source": [
    "gunicorn web_main:application --chdir /Users/leepand/Downloads/recom/python_web/Arthur.io/Arthur/webcli/ -b localhost:5010 -n hjs_cms -w 10 --timeout 120 --access-logfile /Users/leepand/Downloads/recom/python_web/Arthur.io/Arthur/webcli/conf/logs/hjs_cms_web_access.log --error-logfile /Users/leepand/Downloads/recom/python_web/Arthur.io/Arthur/webcli/conf/logs/hjs_cms_web_error.log"
   ]
  }
 ],
 "metadata": {
  "kernelspec": {
   "display_name": "Python 2",
   "language": "python",
   "name": "python2"
  },
  "language_info": {
   "codemirror_mode": {
    "name": "ipython",
    "version": 2
   },
   "file_extension": ".py",
   "mimetype": "text/x-python",
   "name": "python",
   "nbconvert_exporter": "python",
   "pygments_lexer": "ipython2",
   "version": "2.7.13"
  }
 },
 "nbformat": 4,
 "nbformat_minor": 2
}
