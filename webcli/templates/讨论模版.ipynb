{
 "cells": [
  {
   "cell_type": "code",
   "execution_count": null,
   "metadata": {},
   "outputs": [],
   "source": [
    "                                    <div class=\"chat-message\">\n",
    "                                        <img class=\"message-avatar\" src=\"../static/images/p1.png\" alt=\"\">\n",
    "                                        <div class=\"message\">\n",
    "                                            <a class=\"message-author\" href=\"#\"> 张志勇博士</a>\n",
    "                                            <span class=\"message-date\"> 2018-12-02 18:39:23 </span>\n",
    "                                            <span class=\"message-content\">\n",
    "\t\t\t\t\t\t\t\t\t\t\tTensorflow 是个好框架\n",
    "                                            </span>\n",
    "                                        </div>\n",
    "                                    </div>\n",
    "                                    <div class=\"chat-message\">\n",
    "                                        <img class=\"message-avatar\" src=\"../static/images/p1.png\" alt=\"\">\n",
    "                                        <div class=\"message\">\n",
    "                                            <a class=\"message-author\" href=\"#\"> 李攀登学士 </a>\n",
    "                                            <span class=\"message-date\">  2018-12-12 11:12:36 </span>\n",
    "                                            <span class=\"message-content\">\n",
    "\t\t\t\t\t\t\t\t\t\t\t是么\n",
    "                                            </span>\n",
    "                                        </div>\n",
    "                                    </div>\n",
    "                                    <div class=\"chat-message\">\n",
    "                                        <img class=\"message-avatar\" src=\"../static/images/p1.png\" alt=\"\">\n",
    "                                        <div class=\"message\">\n",
    "                                            <a class=\"message-author\" href=\"#\"> 姜CTO </a>\n",
    "                                            <span class=\"message-date\">  2018-12-13 11:12:36 </span>\n",
    "                                            <span class=\"message-content\">\n",
    "\t\t\t\t\t\t\t\t\t\t\t是的\n",
    "                                            </span>\n",
    "                                        </div>\n",
    "                                    </div>\n",
    "                                  <div class=\"chat-message\">\n",
    "                                        <img class=\"message-avatar\" src=\"../static/images/p1.png\" alt=\"\">\n",
    "                                        <div class=\"message\">\n",
    "                                            <a class=\"message-author\" href=\"#\"> 姜CTO </a>\n",
    "                                            <span class=\"message-date\">  2018-12-13 11:12:36 </span>\n",
    "                                            <span class=\"message-content\">\n",
    "\t\t\t\t\t\t\t\t\t\t\t是的\n",
    "                                            </span>\n",
    "                                        </div>\n",
    "                                    </div>\n",
    "\n",
    "                                </div>\n"
   ]
  }
 ],
 "metadata": {
  "kernelspec": {
   "display_name": "Python 2",
   "language": "python",
   "name": "python2"
  },
  "language_info": {
   "codemirror_mode": {
    "name": "ipython",
    "version": 2
   },
   "file_extension": ".py",
   "mimetype": "text/x-python",
   "name": "python",
   "nbconvert_exporter": "python",
   "pygments_lexer": "ipython2",
   "version": "2.7.13"
  }
 },
 "nbformat": 4,
 "nbformat_minor": 2
}
