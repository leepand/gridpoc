{
 "cells": [
  {
   "cell_type": "code",
   "execution_count": 1,
   "metadata": {},
   "outputs": [
    {
     "name": "stdout",
     "output_type": "stream",
     "text": [
      "Writing service_add_init.html\n"
     ]
    }
   ],
   "source": [
    "%%file service_add_init.html\n",
    "<form class=\"layui-form linksAdd\">\n",
    "\t<div class=\"layui-form-item\">\n",
    "\t\t<div class=\"layui-upload-list linkLogo\">\n",
    "\t\t\t<img class=\"layui-upload-img linkLogoImg\">\n",
    "\t\t</div>\n",
    "\t</div>\n",
    "\t<div class=\"layui-form-item\">\n",
    "\t\t<label class=\"layui-form-label\">网站名称</label>\n",
    "\t\t<div class=\"layui-input-block\">\n",
    "\t\t\t<input type=\"text\" class=\"layui-input linkName\" lay-verify=\"required\" placeholder=\"请输入网站名称\" />\n",
    "\t\t</div>\n",
    "\t</div>\n",
    "\t<div class=\"layui-form-item\">\n",
    "\t\t<label class=\"layui-form-label\">网站地址</label>\n",
    "\t\t<div class=\"layui-input-block\">\n",
    "\t\t\t<input type=\"text\" class=\"layui-input linkUrl\" lay-verify=\"required|url\" placeholder=\"请输入网站地址\" />\n",
    "\t\t</div>\n",
    "\t</div>\n",
    "\t<div class=\"layui-form-item\">\n",
    "\t\t<label class=\"layui-form-label\">站长邮箱</label>\n",
    "\t\t<div class=\"layui-input-block\">\n",
    "\t\t\t<input type=\"text\" class=\"layui-input masterEmail\" lay-verify=\"required|email\" placeholder=\"请输入站长邮箱\" />\n",
    "\t\t</div>\n",
    "\t</div>\n",
    "\t<div class=\"layui-form-item\">\n",
    "\t\t<label class=\"layui-form-label\">展示位置</label>\n",
    "\t\t<div class=\"layui-input-block\">\n",
    "\t\t\t<input type=\"checkbox\" class=\"layui-input showAddress\" lay-text=\"首页|子页\" lay-skin=\"switch\" />\n",
    "\t\t</div>\n",
    "\t</div>\n",
    "\t<div class=\"layui-form-item\">\n",
    "\t\t<button class=\"layui-btn layui-block\" lay-filter=\"addLink\" lay-submit>提交</button>\n",
    "\t</div>\n",
    "</form>"
   ]
  },
  {
   "cell_type": "code",
   "execution_count": null,
   "metadata": {},
   "outputs": [],
   "source": []
  }
 ],
 "metadata": {
  "kernelspec": {
   "display_name": "Python 2",
   "language": "python",
   "name": "python2"
  },
  "language_info": {
   "codemirror_mode": {
    "name": "ipython",
    "version": 2
   },
   "file_extension": ".py",
   "mimetype": "text/x-python",
   "name": "python",
   "nbconvert_exporter": "python",
   "pygments_lexer": "ipython2",
   "version": "2.7.13"
  }
 },
 "nbformat": 4,
 "nbformat_minor": 2
}
