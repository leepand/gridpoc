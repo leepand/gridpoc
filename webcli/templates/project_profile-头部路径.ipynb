{
 "cells": [
  {
   "cell_type": "code",
   "execution_count": null,
   "metadata": {},
   "outputs": [],
   "source": [
    "<div class=\"wrapper wrapper-content\">\n",
    "            <div class=\"ibox\">\n",
    "            <br>\n",
    "            <div class=\"ibox-content\">\n",
    "            <div class=\"banner--uri\">\n",
    "                <img src=\"../static/images/p2.png\" alt=\"deeplearning\" class=\"banner-user-img noselect\"> \n",
    "                <span id=\"project_url\">\n",
    "                <span><a href=\"/services/username=$username\" class=\"a2\"> $username</a></span>\n",
    "                <span>/</span>\n",
    "                <span class=\"font-weight-bold\" data-v-0ebb1413=\"\">$projectname</span>\n",
    "                <span data-v-0ebb1413=\"\">/</span>0.1.0</span>\n",
    "                <a class=\"btn copy-btn btn-inline-action noselect copyMe dropdown-toggle count-info label label-primary\" data-clipboard-action=\"copy\" data-clipboard-target=\"#project_url\" data-toggle=\"dropdown\" href=\"#\">\n",
    "                    \n",
    "                    <i class=\"fa fa-copy mr-4\"></i> Copy</a>\n",
    "            </div>"
   ]
  },
  {
   "cell_type": "code",
   "execution_count": null,
   "metadata": {},
   "outputs": [],
   "source": [
    "# coding:utf-8\n",
    "\t\t\t                                                    \"\"\"\n",
    "\t\t\t                                                    Compatible for python2.x and python3.x\n",
    "\t\t\t                                                    requirement: pip install requests six\n",
    "\t\t\t                                                    \"\"\"\n",
    "\t\t\t\t\t\t\t\t\t\t\t\t\t\t\t\tfrom __future__ import print_function\n",
    "\t\t\t\t\t\t\t\t\t\t\t\t\t\t\t\timport requests\n",
    "\t\t\t                                                    \t\t\t\t\t\t\t\t\t\t\t\t\t\t\t\tfrom six.moves.urllib.parse import urlencode\n",
    "\t\t\t\t\t\t\t\t\t\t\t\t\t\t\t\tfrom six.moves import input\n",
    "\t\t\t                                                    \t\t\t\t\t\t\t\t\t\t\t\t\t\t\t\t# 请求示例 url \n",
    "\t\t\t\t\t\t\t\t\t\t\t\t\t\t\t\turl = \"http://api01.idataapi.cn:8000/nlp/text2kw/idataapi?apikey={您自己的apikey}\"\n",
    "\t\t\t\t\t\t\t\t\t\t\t\t\t\t\t\theaders = {\n",
    "\t\t\t\t\t\t\t\t\t\t\t\t\t\t\t\t\t\"Accept-Encoding\": \"gzip\",\n",
    "\t\t\t\t\t\t\t\t\t\t\t\t\t\t\t\t\t\"Connection\": \"close\"\n",
    "\t\t\t\t\t\t\t\t\t\t\t\t\t\t\t\t}\n",
    "\t\t\t\t\t\t\t\t\t\t\t\t\t\t\t\t\t\t\t\t\t\t\t\t\t\t\t\t\t\t\t\t\t# body 参数填这里\n",
    "\t\t\t\t\t\t\t\t\t\t\t\t\t\t\t\t\tpost_param = {\n",
    "\t\t\t\t\t\t\t\t\t\t\t\t\t\t\t        \t\t\t\t\t\t\t\t\t\t\t\t\t\t\t\t\t}\n",
    "\t\t\t\t\t\t\t\t\t\t\t\t\t\t\t\t\tif __name__ == \"__main__\":\n",
    "\t\t\t\t\t\t\t\t\t\t\t\t\t\t\t\t\tr = requests.post(url, data=urlencode(post_param), headers=headers)\n",
    "\t\t\t\t\t\t\t\t\t\t\t\t\t\t\t\t\tjson_obj = r.json()\n",
    "\t\t\t\t\t\t\t\t\t\t\t\t\t\t\t\t\tprint(json_obj)  "
   ]
  }
 ],
 "metadata": {
  "kernelspec": {
   "display_name": "Python 2",
   "language": "python",
   "name": "python2"
  },
  "language_info": {
   "codemirror_mode": {
    "name": "ipython",
    "version": 2
   },
   "file_extension": ".py",
   "mimetype": "text/x-python",
   "name": "python",
   "nbconvert_exporter": "python",
   "pygments_lexer": "ipython2",
   "version": "2.7.13"
  }
 },
 "nbformat": 4,
 "nbformat_minor": 2
}
